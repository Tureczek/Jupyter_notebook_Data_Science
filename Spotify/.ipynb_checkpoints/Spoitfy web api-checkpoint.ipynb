{
 "cells": [
  {
   "cell_type": "markdown",
   "id": "37913668",
   "metadata": {},
   "source": [
    "# Spotify data api application"
   ]
  },
  {
   "cell_type": "markdown",
   "id": "ed125c5c",
   "metadata": {},
   "source": [
    "## Imports"
   ]
  },
  {
   "cell_type": "code",
   "execution_count": null,
   "id": "0802f133",
   "metadata": {},
   "outputs": [],
   "source": [
    "#!pip install spotipy\n",
    "!pip install bs4\n",
    "import pandas as pd\n",
    "import spotipy\n",
    "from spotipy.oauth2 import SpotifyClientCredentials\n",
    "#from bs4 import BeautifulSoup\n",
    "import requests"
   ]
  },
  {
   "cell_type": "markdown",
   "id": "11176fab",
   "metadata": {},
   "source": [
    "## Spotify api credentials"
   ]
  },
  {
   "cell_type": "code",
   "execution_count": 5,
   "id": "ab350082",
   "metadata": {},
   "outputs": [],
   "source": [
    "#Authentication - without user\n",
    "client_credentials_manager = SpotifyClientCredentials(client_id=\"3a2f65eb20164b24b59b7fdd6876bb51\", client_secret=\"9f6d3a070cdf4eb8adda14a794d60469\")\n",
    "sp = spotipy.Spotify(client_credentials_manager = client_credentials_manager)"
   ]
  },
  {
   "cell_type": "markdown",
   "id": "bca207ae",
   "metadata": {},
   "source": [
    "## Fetch data from playlist or single song"
   ]
  },
  {
   "cell_type": "code",
   "execution_count": 6,
   "id": "a0fc0054",
   "metadata": {},
   "outputs": [],
   "source": [
    "playlist_link = \"https://open.spotify.com/playlist/2GxgTnPCRkKl6sTX1INdAw?si=74fe4ed6868b408a\"\n",
    "playlist_URI = playlist_link.split(\"/\")[-1].split(\"?\")[0]\n",
    "track_uris = [x[\"track\"][\"uri\"] for x in sp.playlist_tracks(playlist_URI)[\"items\"]]"
   ]
  },
  {
   "cell_type": "code",
   "execution_count": 7,
   "id": "441b597c",
   "metadata": {},
   "outputs": [
    {
     "name": "stdout",
     "output_type": "stream",
     "text": [
      "{'album': {'album_type': 'single', 'artists': [{'external_urls': {'spotify': 'https://open.spotify.com/artist/53XhwfbYqKCa1cC15pYq2q'}, 'href': 'https://api.spotify.com/v1/artists/53XhwfbYqKCa1cC15pYq2q', 'id': '53XhwfbYqKCa1cC15pYq2q', 'name': 'Imagine Dragons', 'type': 'artist', 'uri': 'spotify:artist:53XhwfbYqKCa1cC15pYq2q'}, {'external_urls': {'spotify': 'https://open.spotify.com/artist/57nPqD7z62gDdq37US9XJR'}, 'href': 'https://api.spotify.com/v1/artists/57nPqD7z62gDdq37US9XJR', 'id': '57nPqD7z62gDdq37US9XJR', 'name': 'Arcane', 'type': 'artist', 'uri': 'spotify:artist:57nPqD7z62gDdq37US9XJR'}, {'external_urls': {'spotify': 'https://open.spotify.com/artist/47mIJdHORyRerp4os813jD'}, 'href': 'https://api.spotify.com/v1/artists/47mIJdHORyRerp4os813jD', 'id': '47mIJdHORyRerp4os813jD', 'name': 'League of Legends', 'type': 'artist', 'uri': 'spotify:artist:47mIJdHORyRerp4os813jD'}], 'available_markets': ['AD', 'AE', 'AG', 'AL', 'AM', 'AO', 'AR', 'AT', 'AU', 'AZ', 'BA', 'BB', 'BD', 'BE', 'BF', 'BG', 'BH', 'BI', 'BJ', 'BN', 'BO', 'BR', 'BS', 'BT', 'BW', 'BY', 'BZ', 'CA', 'CD', 'CG', 'CH', 'CI', 'CL', 'CM', 'CO', 'CR', 'CV', 'CW', 'CY', 'CZ', 'DE', 'DJ', 'DK', 'DM', 'DO', 'DZ', 'EC', 'EE', 'EG', 'ES', 'FI', 'FJ', 'FM', 'FR', 'GA', 'GB', 'GD', 'GE', 'GH', 'GM', 'GN', 'GQ', 'GR', 'GT', 'GW', 'GY', 'HK', 'HN', 'HR', 'HT', 'HU', 'ID', 'IE', 'IL', 'IN', 'IQ', 'IS', 'IT', 'JM', 'JO', 'JP', 'KE', 'KG', 'KH', 'KI', 'KM', 'KN', 'KR', 'KW', 'KZ', 'LA', 'LB', 'LC', 'LI', 'LK', 'LR', 'LS', 'LT', 'LU', 'LV', 'LY', 'MA', 'MC', 'MD', 'ME', 'MG', 'MH', 'MK', 'ML', 'MN', 'MO', 'MR', 'MT', 'MU', 'MV', 'MW', 'MX', 'MY', 'MZ', 'NA', 'NE', 'NG', 'NI', 'NL', 'NO', 'NP', 'NR', 'NZ', 'OM', 'PA', 'PE', 'PG', 'PH', 'PK', 'PL', 'PS', 'PT', 'PW', 'PY', 'QA', 'RO', 'RS', 'RW', 'SA', 'SB', 'SC', 'SE', 'SG', 'SI', 'SK', 'SL', 'SM', 'SN', 'SR', 'ST', 'SV', 'SZ', 'TD', 'TG', 'TH', 'TJ', 'TL', 'TN', 'TO', 'TR', 'TT', 'TV', 'TW', 'TZ', 'UA', 'UG', 'US', 'UY', 'UZ', 'VC', 'VE', 'VN', 'VU', 'WS', 'XK', 'ZA', 'ZM', 'ZW'], 'external_urls': {'spotify': 'https://open.spotify.com/album/2Y9Kal9IDz6JphsCfY6GzG'}, 'href': 'https://api.spotify.com/v1/albums/2Y9Kal9IDz6JphsCfY6GzG', 'id': '2Y9Kal9IDz6JphsCfY6GzG', 'images': [{'height': 640, 'url': 'https://i.scdn.co/image/ab67616d0000b27337706d3b594fa52d5a1ef026', 'width': 640}, {'height': 300, 'url': 'https://i.scdn.co/image/ab67616d00001e0237706d3b594fa52d5a1ef026', 'width': 300}, {'height': 64, 'url': 'https://i.scdn.co/image/ab67616d0000485137706d3b594fa52d5a1ef026', 'width': 64}], 'name': 'Enemy (from the series Arcane League of Legends)', 'release_date': '2021-10-27', 'release_date_precision': 'day', 'total_tracks': 1, 'type': 'album', 'uri': 'spotify:album:2Y9Kal9IDz6JphsCfY6GzG'}, 'artists': [{'external_urls': {'spotify': 'https://open.spotify.com/artist/53XhwfbYqKCa1cC15pYq2q'}, 'href': 'https://api.spotify.com/v1/artists/53XhwfbYqKCa1cC15pYq2q', 'id': '53XhwfbYqKCa1cC15pYq2q', 'name': 'Imagine Dragons', 'type': 'artist', 'uri': 'spotify:artist:53XhwfbYqKCa1cC15pYq2q'}, {'external_urls': {'spotify': 'https://open.spotify.com/artist/57nPqD7z62gDdq37US9XJR'}, 'href': 'https://api.spotify.com/v1/artists/57nPqD7z62gDdq37US9XJR', 'id': '57nPqD7z62gDdq37US9XJR', 'name': 'Arcane', 'type': 'artist', 'uri': 'spotify:artist:57nPqD7z62gDdq37US9XJR'}, {'external_urls': {'spotify': 'https://open.spotify.com/artist/47mIJdHORyRerp4os813jD'}, 'href': 'https://api.spotify.com/v1/artists/47mIJdHORyRerp4os813jD', 'id': '47mIJdHORyRerp4os813jD', 'name': 'League of Legends', 'type': 'artist', 'uri': 'spotify:artist:47mIJdHORyRerp4os813jD'}], 'available_markets': ['AD', 'AE', 'AG', 'AL', 'AM', 'AO', 'AR', 'AT', 'AU', 'AZ', 'BA', 'BB', 'BD', 'BE', 'BF', 'BG', 'BH', 'BI', 'BJ', 'BN', 'BO', 'BR', 'BS', 'BT', 'BW', 'BY', 'BZ', 'CA', 'CD', 'CG', 'CH', 'CI', 'CL', 'CM', 'CO', 'CR', 'CV', 'CW', 'CY', 'CZ', 'DE', 'DJ', 'DK', 'DM', 'DO', 'DZ', 'EC', 'EE', 'EG', 'ES', 'FI', 'FJ', 'FM', 'FR', 'GA', 'GB', 'GD', 'GE', 'GH', 'GM', 'GN', 'GQ', 'GR', 'GT', 'GW', 'GY', 'HK', 'HN', 'HR', 'HT', 'HU', 'ID', 'IE', 'IL', 'IN', 'IQ', 'IS', 'IT', 'JM', 'JO', 'JP', 'KE', 'KG', 'KH', 'KI', 'KM', 'KN', 'KR', 'KW', 'KZ', 'LA', 'LB', 'LC', 'LI', 'LK', 'LR', 'LS', 'LT', 'LU', 'LV', 'LY', 'MA', 'MC', 'MD', 'ME', 'MG', 'MH', 'MK', 'ML', 'MN', 'MO', 'MR', 'MT', 'MU', 'MV', 'MW', 'MX', 'MY', 'MZ', 'NA', 'NE', 'NG', 'NI', 'NL', 'NO', 'NP', 'NR', 'NZ', 'OM', 'PA', 'PE', 'PG', 'PH', 'PK', 'PL', 'PS', 'PT', 'PW', 'PY', 'QA', 'RO', 'RS', 'RW', 'SA', 'SB', 'SC', 'SE', 'SG', 'SI', 'SK', 'SL', 'SM', 'SN', 'SR', 'ST', 'SV', 'SZ', 'TD', 'TG', 'TH', 'TJ', 'TL', 'TN', 'TO', 'TR', 'TT', 'TV', 'TW', 'TZ', 'UA', 'UG', 'US', 'UY', 'UZ', 'VC', 'VE', 'VN', 'VU', 'WS', 'XK', 'ZA', 'ZM', 'ZW'], 'disc_number': 1, 'duration_ms': 173381, 'episode': False, 'explicit': False, 'external_ids': {'isrc': 'USUM72120989'}, 'external_urls': {'spotify': 'https://open.spotify.com/track/5UlnuulVAVmmesw4VzqHdG'}, 'href': 'https://api.spotify.com/v1/tracks/5UlnuulVAVmmesw4VzqHdG', 'id': '5UlnuulVAVmmesw4VzqHdG', 'is_local': False, 'name': 'Enemy - From the series Arcane League of Legends', 'popularity': 81, 'preview_url': None, 'track': True, 'track_number': 1, 'type': 'track', 'uri': 'spotify:track:5UlnuulVAVmmesw4VzqHdG'}\n"
     ]
    }
   ],
   "source": [
    "for track in sp.playlist_tracks(playlist_URI)[\"items\"]:\n",
    "    \n",
    "    #URI\n",
    "    track_uri = track[\"track\"][\"uri\"]\n",
    "    \n",
    "    #Track name\n",
    "    track_name = track[\"track\"][\"name\"]\n",
    "    \n",
    "    #Main Artist\n",
    "    artist_uri = track[\"track\"][\"artists\"][0][\"uri\"]\n",
    "    artist_info = sp.artist(artist_uri)\n",
    "    \n",
    "    #Name, popularity, genre\n",
    "    artist_name = track[\"track\"][\"artists\"][0][\"name\"]\n",
    "    artist_pop = artist_info[\"popularity\"]\n",
    "    artist_genres = artist_info[\"genres\"]\n",
    "    \n",
    "    #Album\n",
    "    album = track[\"track\"][\"album\"][\"name\"]\n",
    "    \n",
    "    \n",
    "    \n",
    "    #Popularity of the track\n",
    "    track_pop = track[\"track\"][\"popularity\"]\n",
    "    \n",
    "    print(track[\"track\"])\n",
    "    #Printin details\n",
    "    #print(track_name,\"\\n\", \n",
    "    #      artist_name,\"\\n\",\n",
    "    #      #sp.audio_features(track_uri)[0], \"\\n\", \n",
    "    #      track_uri\n",
    "    #     )\n",
    "    "
   ]
  },
  {
   "cell_type": "markdown",
   "id": "fc695ba0",
   "metadata": {},
   "source": [
    "## Fetching song metrics"
   ]
  },
  {
   "cell_type": "code",
   "execution_count": 8,
   "id": "0cdb1126",
   "metadata": {},
   "outputs": [
    {
     "data": {
      "text/plain": [
       "{'danceability': 0.722,\n",
       " 'energy': 0.745,\n",
       " 'key': 7,\n",
       " 'loudness': -4.164,\n",
       " 'mode': 1,\n",
       " 'speechiness': 0.256,\n",
       " 'acousticness': 0.247,\n",
       " 'instrumentalness': 0,\n",
       " 'liveness': 0.419,\n",
       " 'valence': 0.52,\n",
       " 'tempo': 77.029,\n",
       " 'type': 'audio_features',\n",
       " 'id': '5UlnuulVAVmmesw4VzqHdG',\n",
       " 'uri': 'spotify:track:5UlnuulVAVmmesw4VzqHdG',\n",
       " 'track_href': 'https://api.spotify.com/v1/tracks/5UlnuulVAVmmesw4VzqHdG',\n",
       " 'analysis_url': 'https://api.spotify.com/v1/audio-analysis/5UlnuulVAVmmesw4VzqHdG',\n",
       " 'duration_ms': 173381,\n",
       " 'time_signature': 4}"
      ]
     },
     "execution_count": 8,
     "metadata": {},
     "output_type": "execute_result"
    }
   ],
   "source": [
    "sp.audio_features(track_uri)[0]"
   ]
  },
  {
   "cell_type": "markdown",
   "id": "09dfd5a1",
   "metadata": {},
   "source": [
    "## Connecting Spotify API with Genius Lyrics"
   ]
  },
  {
   "cell_type": "code",
   "execution_count": 9,
   "id": "1c4cb7a6",
   "metadata": {},
   "outputs": [],
   "source": [
    "def get_album_tracks(uri_info):\n",
    "    uri = []\n",
    "    track = []\n",
    "    duration = []\n",
    "    explicit = []\n",
    "    track_number = []\n",
    "    one = sp.album_tracks(uri_info, limit=50, offset=0, market='US')\n",
    "    df1 = pd.DataFrame(one)\n",
    "    \n",
    "    for i, x in df1['items'].items():\n",
    "        uri.append(x['uri'])\n",
    "        track.append(x['name'])\n",
    "        duration.append(x['duration_ms'])\n",
    "        explicit.append(x['explicit'])\n",
    "        track_number.append(x['track_number'])\n",
    "    \n",
    "    df2 = pd.DataFrame({\n",
    "    'uri':uri,\n",
    "    'track':track,\n",
    "    'duration_ms':duration,\n",
    "    'explicit':explicit,\n",
    "    'track_number':track_number})\n",
    "    \n",
    "    return df2"
   ]
  },
  {
   "cell_type": "code",
   "execution_count": 10,
   "id": "93c03dbc",
   "metadata": {},
   "outputs": [],
   "source": [
    "def get_track_info(df):\n",
    "    danceability = []\n",
    "    energy = []\n",
    "    key = []\n",
    "    loudness = []\n",
    "    speechiness = []\n",
    "    acousticness = []\n",
    "    instrumentalness = []\n",
    "    liveness = []\n",
    "    valence = []\n",
    "    tempo = []\n",
    "    for i in df['uri']:\n",
    "        for x in sp.audio_features(tracks=[i]):\n",
    "            danceability.append(x['danceability'])\n",
    "            energy.append(x['energy'])\n",
    "            key.append(x['key'])\n",
    "            loudness.append(x['loudness'])\n",
    "            speechiness.append(x['speechiness'])\n",
    "            acousticness.append(x['acousticness'])\n",
    "            instrumentalness.append(x['instrumentalness'])\n",
    "            liveness.append(x['liveness'])\n",
    "            valence.append(x['valence'])\n",
    "            tempo.append(x['tempo'])\n",
    "            \n",
    "    df2 = pd.DataFrame({\n",
    "    'danceability':danceability,\n",
    "    'energy':energy,\n",
    "    'key':key,\n",
    "    'loudness':loudness,\n",
    "    'speechiness':speechiness,\n",
    "    'acousticness':acousticness,\n",
    "    'instrumentalness':instrumentalness,\n",
    "    'liveness':liveness,\n",
    "    'valence':valence,\n",
    "    'tempo':tempo})\n",
    "    \n",
    "    return df2"
   ]
  },
  {
   "cell_type": "code",
   "execution_count": 11,
   "id": "3185da11",
   "metadata": {},
   "outputs": [],
   "source": [
    "def merge_frames(df1, df2):\n",
    "    df3 = df1.merge(df2, left_index= True, right_index= True)\n",
    "    return df3"
   ]
  },
  {
   "cell_type": "code",
   "execution_count": 12,
   "id": "aa46b87b",
   "metadata": {},
   "outputs": [
    {
     "name": "stdout",
     "output_type": "stream",
     "text": [
      "                                     uri           track  duration_ms  \\\n",
      "0   spotify:track:19YKaevk2bce4odJkP5L22           Nikes       314075   \n",
      "1   spotify:track:2ZWlPOoWh0626oTaHrnl2a             Ivy       249191   \n",
      "2   spotify:track:3xKsf9qdS1CyvXSMEid6g8    Pink + White       184516   \n",
      "3   spotify:track:1IdZvb2XK8NmsovQlV6CPn     Be Yourself        86943   \n",
      "4   spotify:track:35xSkNIXi504fcEwz9USRB            Solo       257380   \n",
      "5   spotify:track:4xR3MAscflQ262kMeiKshQ      Skyline To       184600   \n",
      "6   spotify:track:5GUYJTQap5F3RDQiCOJhrS    Self Control       249667   \n",
      "7   spotify:track:2JUqYobT8NvARdPmc4ES2x        Good Guy        66786   \n",
      "8   spotify:track:7eqoqGkKwgOaWNNHx90uEZ          Nights       307151   \n",
      "9   spotify:track:2qtoRFCOEL1gRn5q9DJC7F  Solo (Reprise)        78742   \n",
      "10  spotify:track:17yrCsl1Ai6CZLBmGj6d6p    Pretty Sweet       158478   \n",
      "11  spotify:track:73D5hBkiVZkopZrmBZTBWf  Facebook Story        68588   \n",
      "12  spotify:track:1VZLEW5ZfcAbKZ94XQiSZF    Close To You        85754   \n",
      "13  spotify:track:2LMkwUfqC6S6s6qDVlEuzV   White Ferrari       248807   \n",
      "14  spotify:track:1BViPjTT585XAhkUUrkts0       Seigfried       334570   \n",
      "15  spotify:track:34xTFwjPQ1dC6uJmleno7x        Godspeed       177922   \n",
      "16  spotify:track:5k8LB57xOq8UUNVaKWSqrf     Futura Free       564165   \n",
      "\n",
      "    explicit  track_number  \n",
      "0       True             1  \n",
      "1       True             2  \n",
      "2      False             3  \n",
      "3      False             4  \n",
      "4       True             5  \n",
      "5       True             6  \n",
      "6      False             7  \n",
      "7      False             8  \n",
      "8       True             9  \n",
      "9      False            10  \n",
      "10      True            11  \n",
      "11     False            12  \n",
      "12     False            13  \n",
      "13     False            14  \n",
      "14     False            15  \n",
      "15     False            16  \n",
      "16      True            17  \n"
     ]
    }
   ],
   "source": [
    "print (get_album_tracks(\"https://open.spotify.com/album/3mH6qwIy9crq0I9YQbOuDf?si=R7e_EQ8eS5-oRRljQuR9lw\"))"
   ]
  },
  {
   "cell_type": "code",
   "execution_count": 13,
   "id": "7610821f",
   "metadata": {},
   "outputs": [],
   "source": [
    "#function to scrape lyrics from genius\n",
    "def scrape_lyrics(artistname, songname):\n",
    "    artistname2 = str(artistname.replace(' ','-')) if ' ' in artistname else str(artistname)\n",
    "    songname2 = str(songname.replace(' ','-')) if ' ' in songname else str(songname)\n",
    "    page = requests.get('https://genius.com/'+ artistname2 + '-' + songname2 + '-' + 'lyrics')\n",
    "    html = BeautifulSoup(page.text, 'html.parser')\n",
    "    lyrics1 = html.find(\"div\", class_=\"lyrics\")\n",
    "    lyrics2 = html.find(\"div\", class_=\"Lyrics__Container-sc-1ynbvzw-2 jgQsqn\")\n",
    "    if lyrics1:\n",
    "        lyrics = lyrics1.get_text()\n",
    "    elif lyrics2:\n",
    "        lyrics = lyrics2.get_text()\n",
    "    elif lyrics1 == lyrics2 == None:\n",
    "        lyrics = None\n",
    "    return lyrics\n",
    "\n",
    "#function to attach lyrics onto data frame\n",
    "#artist_name should be inserted as a string\n",
    "def lyrics_onto_frame(df1, artist_name):\n",
    "    for i,x in enumerate(df1['track']):\n",
    "        test = scrape_lyrics(artist_name, x)\n",
    "        df1.loc[i, 'lyrics'] = test\n",
    "    return df1"
   ]
  },
  {
   "cell_type": "code",
   "execution_count": 14,
   "id": "7ff1a27e",
   "metadata": {},
   "outputs": [
    {
     "ename": "NameError",
     "evalue": "name 'BeautifulSoup' is not defined",
     "output_type": "error",
     "traceback": [
      "\u001b[1;31m---------------------------------------------------------------------------\u001b[0m",
      "\u001b[1;31mNameError\u001b[0m                                 Traceback (most recent call last)",
      "Input \u001b[1;32mIn [14]\u001b[0m, in \u001b[0;36m<module>\u001b[1;34m\u001b[0m\n\u001b[1;32m----> 1\u001b[0m \u001b[38;5;28mprint\u001b[39m(\u001b[43mscrape_lyrics\u001b[49m\u001b[43m(\u001b[49m\u001b[38;5;124;43m'\u001b[39;49m\u001b[38;5;124;43mfrank ocean\u001b[39;49m\u001b[38;5;124;43m'\u001b[39;49m\u001b[43m,\u001b[49m\u001b[43m \u001b[49m\u001b[38;5;124;43m'\u001b[39;49m\u001b[38;5;124;43mNikes\u001b[39;49m\u001b[38;5;124;43m'\u001b[39;49m\u001b[43m)\u001b[49m)\n",
      "Input \u001b[1;32mIn [13]\u001b[0m, in \u001b[0;36mscrape_lyrics\u001b[1;34m(artistname, songname)\u001b[0m\n\u001b[0;32m      4\u001b[0m songname2 \u001b[38;5;241m=\u001b[39m \u001b[38;5;28mstr\u001b[39m(songname\u001b[38;5;241m.\u001b[39mreplace(\u001b[38;5;124m'\u001b[39m\u001b[38;5;124m \u001b[39m\u001b[38;5;124m'\u001b[39m,\u001b[38;5;124m'\u001b[39m\u001b[38;5;124m-\u001b[39m\u001b[38;5;124m'\u001b[39m)) \u001b[38;5;28;01mif\u001b[39;00m \u001b[38;5;124m'\u001b[39m\u001b[38;5;124m \u001b[39m\u001b[38;5;124m'\u001b[39m \u001b[38;5;129;01min\u001b[39;00m songname \u001b[38;5;28;01melse\u001b[39;00m \u001b[38;5;28mstr\u001b[39m(songname)\n\u001b[0;32m      5\u001b[0m page \u001b[38;5;241m=\u001b[39m requests\u001b[38;5;241m.\u001b[39mget(\u001b[38;5;124m'\u001b[39m\u001b[38;5;124mhttps://genius.com/\u001b[39m\u001b[38;5;124m'\u001b[39m\u001b[38;5;241m+\u001b[39m artistname2 \u001b[38;5;241m+\u001b[39m \u001b[38;5;124m'\u001b[39m\u001b[38;5;124m-\u001b[39m\u001b[38;5;124m'\u001b[39m \u001b[38;5;241m+\u001b[39m songname2 \u001b[38;5;241m+\u001b[39m \u001b[38;5;124m'\u001b[39m\u001b[38;5;124m-\u001b[39m\u001b[38;5;124m'\u001b[39m \u001b[38;5;241m+\u001b[39m \u001b[38;5;124m'\u001b[39m\u001b[38;5;124mlyrics\u001b[39m\u001b[38;5;124m'\u001b[39m)\n\u001b[1;32m----> 6\u001b[0m html \u001b[38;5;241m=\u001b[39m \u001b[43mBeautifulSoup\u001b[49m(page\u001b[38;5;241m.\u001b[39mtext, \u001b[38;5;124m'\u001b[39m\u001b[38;5;124mhtml.parser\u001b[39m\u001b[38;5;124m'\u001b[39m)\n\u001b[0;32m      7\u001b[0m lyrics1 \u001b[38;5;241m=\u001b[39m html\u001b[38;5;241m.\u001b[39mfind(\u001b[38;5;124m\"\u001b[39m\u001b[38;5;124mdiv\u001b[39m\u001b[38;5;124m\"\u001b[39m, class_\u001b[38;5;241m=\u001b[39m\u001b[38;5;124m\"\u001b[39m\u001b[38;5;124mlyrics\u001b[39m\u001b[38;5;124m\"\u001b[39m)\n\u001b[0;32m      8\u001b[0m lyrics2 \u001b[38;5;241m=\u001b[39m html\u001b[38;5;241m.\u001b[39mfind(\u001b[38;5;124m\"\u001b[39m\u001b[38;5;124mdiv\u001b[39m\u001b[38;5;124m\"\u001b[39m, class_\u001b[38;5;241m=\u001b[39m\u001b[38;5;124m\"\u001b[39m\u001b[38;5;124mLyrics__Container-sc-1ynbvzw-2 jgQsqn\u001b[39m\u001b[38;5;124m\"\u001b[39m)\n",
      "\u001b[1;31mNameError\u001b[0m: name 'BeautifulSoup' is not defined"
     ]
    }
   ],
   "source": [
    "print(scrape_lyrics('frank ocean', 'Nikes'))"
   ]
  },
  {
   "cell_type": "code",
   "execution_count": 15,
   "id": "228109b6",
   "metadata": {},
   "outputs": [
    {
     "ename": "NameError",
     "evalue": "name 'BeautifulSoup' is not defined",
     "output_type": "error",
     "traceback": [
      "\u001b[1;31m---------------------------------------------------------------------------\u001b[0m",
      "\u001b[1;31mNameError\u001b[0m                                 Traceback (most recent call last)",
      "Input \u001b[1;32mIn [15]\u001b[0m, in \u001b[0;36m<module>\u001b[1;34m\u001b[0m\n\u001b[0;32m      2\u001b[0m blonde_df2_metadata \u001b[38;5;241m=\u001b[39m get_track_info(blonde_df1_tracks)\n\u001b[0;32m      3\u001b[0m df1 \u001b[38;5;241m=\u001b[39m merge_frames(blonde_df1_tracks, blonde_df2_metadata)\n\u001b[1;32m----> 4\u001b[0m \u001b[43mlyrics_onto_frame\u001b[49m\u001b[43m(\u001b[49m\u001b[43mdf1\u001b[49m\u001b[43m,\u001b[49m\u001b[43m \u001b[49m\u001b[38;5;124;43m'\u001b[39;49m\u001b[38;5;124;43mfrank ocean\u001b[39;49m\u001b[38;5;124;43m'\u001b[39;49m\u001b[43m)\u001b[49m\n",
      "Input \u001b[1;32mIn [13]\u001b[0m, in \u001b[0;36mlyrics_onto_frame\u001b[1;34m(df1, artist_name)\u001b[0m\n\u001b[0;32m     19\u001b[0m \u001b[38;5;28;01mdef\u001b[39;00m \u001b[38;5;21mlyrics_onto_frame\u001b[39m(df1, artist_name):\n\u001b[0;32m     20\u001b[0m     \u001b[38;5;28;01mfor\u001b[39;00m i,x \u001b[38;5;129;01min\u001b[39;00m \u001b[38;5;28menumerate\u001b[39m(df1[\u001b[38;5;124m'\u001b[39m\u001b[38;5;124mtrack\u001b[39m\u001b[38;5;124m'\u001b[39m]):\n\u001b[1;32m---> 21\u001b[0m         test \u001b[38;5;241m=\u001b[39m \u001b[43mscrape_lyrics\u001b[49m\u001b[43m(\u001b[49m\u001b[43martist_name\u001b[49m\u001b[43m,\u001b[49m\u001b[43m \u001b[49m\u001b[43mx\u001b[49m\u001b[43m)\u001b[49m\n\u001b[0;32m     22\u001b[0m         df1\u001b[38;5;241m.\u001b[39mloc[i, \u001b[38;5;124m'\u001b[39m\u001b[38;5;124mlyrics\u001b[39m\u001b[38;5;124m'\u001b[39m] \u001b[38;5;241m=\u001b[39m test\n\u001b[0;32m     23\u001b[0m     \u001b[38;5;28;01mreturn\u001b[39;00m df1\n",
      "Input \u001b[1;32mIn [13]\u001b[0m, in \u001b[0;36mscrape_lyrics\u001b[1;34m(artistname, songname)\u001b[0m\n\u001b[0;32m      4\u001b[0m songname2 \u001b[38;5;241m=\u001b[39m \u001b[38;5;28mstr\u001b[39m(songname\u001b[38;5;241m.\u001b[39mreplace(\u001b[38;5;124m'\u001b[39m\u001b[38;5;124m \u001b[39m\u001b[38;5;124m'\u001b[39m,\u001b[38;5;124m'\u001b[39m\u001b[38;5;124m-\u001b[39m\u001b[38;5;124m'\u001b[39m)) \u001b[38;5;28;01mif\u001b[39;00m \u001b[38;5;124m'\u001b[39m\u001b[38;5;124m \u001b[39m\u001b[38;5;124m'\u001b[39m \u001b[38;5;129;01min\u001b[39;00m songname \u001b[38;5;28;01melse\u001b[39;00m \u001b[38;5;28mstr\u001b[39m(songname)\n\u001b[0;32m      5\u001b[0m page \u001b[38;5;241m=\u001b[39m requests\u001b[38;5;241m.\u001b[39mget(\u001b[38;5;124m'\u001b[39m\u001b[38;5;124mhttps://genius.com/\u001b[39m\u001b[38;5;124m'\u001b[39m\u001b[38;5;241m+\u001b[39m artistname2 \u001b[38;5;241m+\u001b[39m \u001b[38;5;124m'\u001b[39m\u001b[38;5;124m-\u001b[39m\u001b[38;5;124m'\u001b[39m \u001b[38;5;241m+\u001b[39m songname2 \u001b[38;5;241m+\u001b[39m \u001b[38;5;124m'\u001b[39m\u001b[38;5;124m-\u001b[39m\u001b[38;5;124m'\u001b[39m \u001b[38;5;241m+\u001b[39m \u001b[38;5;124m'\u001b[39m\u001b[38;5;124mlyrics\u001b[39m\u001b[38;5;124m'\u001b[39m)\n\u001b[1;32m----> 6\u001b[0m html \u001b[38;5;241m=\u001b[39m \u001b[43mBeautifulSoup\u001b[49m(page\u001b[38;5;241m.\u001b[39mtext, \u001b[38;5;124m'\u001b[39m\u001b[38;5;124mhtml.parser\u001b[39m\u001b[38;5;124m'\u001b[39m)\n\u001b[0;32m      7\u001b[0m lyrics1 \u001b[38;5;241m=\u001b[39m html\u001b[38;5;241m.\u001b[39mfind(\u001b[38;5;124m\"\u001b[39m\u001b[38;5;124mdiv\u001b[39m\u001b[38;5;124m\"\u001b[39m, class_\u001b[38;5;241m=\u001b[39m\u001b[38;5;124m\"\u001b[39m\u001b[38;5;124mlyrics\u001b[39m\u001b[38;5;124m\"\u001b[39m)\n\u001b[0;32m      8\u001b[0m lyrics2 \u001b[38;5;241m=\u001b[39m html\u001b[38;5;241m.\u001b[39mfind(\u001b[38;5;124m\"\u001b[39m\u001b[38;5;124mdiv\u001b[39m\u001b[38;5;124m\"\u001b[39m, class_\u001b[38;5;241m=\u001b[39m\u001b[38;5;124m\"\u001b[39m\u001b[38;5;124mLyrics__Container-sc-1ynbvzw-2 jgQsqn\u001b[39m\u001b[38;5;124m\"\u001b[39m)\n",
      "\u001b[1;31mNameError\u001b[0m: name 'BeautifulSoup' is not defined"
     ]
    }
   ],
   "source": [
    "blonde_df1_tracks = get_album_tracks('spotify:album:3mH6qwIy9crq0I9YQbOuDf')\n",
    "blonde_df2_metadata = get_track_info(blonde_df1_tracks)\n",
    "df1 = merge_frames(blonde_df1_tracks, blonde_df2_metadata)\n",
    "lyrics_onto_frame(df1, 'frank ocean')"
   ]
  },
  {
   "cell_type": "code",
   "execution_count": null,
   "id": "4ebb179c",
   "metadata": {},
   "outputs": [],
   "source": []
  }
 ],
 "metadata": {
  "kernelspec": {
   "display_name": "Python 3 (ipykernel)",
   "language": "python",
   "name": "python3"
  },
  "language_info": {
   "codemirror_mode": {
    "name": "ipython",
    "version": 3
   },
   "file_extension": ".py",
   "mimetype": "text/x-python",
   "name": "python",
   "nbconvert_exporter": "python",
   "pygments_lexer": "ipython3",
   "version": "3.10.2"
  }
 },
 "nbformat": 4,
 "nbformat_minor": 5
}
