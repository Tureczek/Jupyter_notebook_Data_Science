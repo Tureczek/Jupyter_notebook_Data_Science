{
 "cells": [
  {
   "cell_type": "markdown",
   "id": "0ce4f687",
   "metadata": {},
   "source": [
    "## Preperation for data science examn project"
   ]
  },
  {
   "cell_type": "code",
   "execution_count": 1,
   "id": "a77e7f4e",
   "metadata": {},
   "outputs": [],
   "source": [
    "import numpy as np\n",
    "import pandas as pd\n",
    "import matplotlib.pyplot as plt\n",
    "import seaborn as sns\n",
    "\n",
    "from sklearn.linear_model import LinearRegression\n",
    "from sklearn import linear_model\n",
    "from sklearn.preprocessing import PolynomialFeatures\n",
    "import sklearn.metrics as sm\n",
    "\n",
    "\n",
    "import re\n",
    "\n",
    "import spotipy\n",
    "from spotipy.oauth2 import SpotifyClientCredentials\n",
    "\n",
    "import requests\n",
    "import json\n",
    "from pandas.io.json import json_normalize\n",
    "from urllib.request import urlopen\n",
    "from bs4 import BeautifulSoup"
   ]
  },
  {
   "cell_type": "code",
   "execution_count": 2,
   "id": "a55e2419",
   "metadata": {},
   "outputs": [],
   "source": [
    "data = pd.read_csv('charts.csv')"
   ]
  },
  {
   "cell_type": "code",
   "execution_count": 3,
   "id": "a955a8ab",
   "metadata": {},
   "outputs": [
    {
     "data": {
      "text/plain": [
       "(26173514, 9)"
      ]
     },
     "execution_count": 3,
     "metadata": {},
     "output_type": "execute_result"
    }
   ],
   "source": [
    "data.shape"
   ]
  },
  {
   "cell_type": "code",
   "execution_count": 4,
   "id": "25829c78",
   "metadata": {},
   "outputs": [
    {
     "data": {
      "text/html": [
       "<div>\n",
       "<style scoped>\n",
       "    .dataframe tbody tr th:only-of-type {\n",
       "        vertical-align: middle;\n",
       "    }\n",
       "\n",
       "    .dataframe tbody tr th {\n",
       "        vertical-align: top;\n",
       "    }\n",
       "\n",
       "    .dataframe thead th {\n",
       "        text-align: right;\n",
       "    }\n",
       "</style>\n",
       "<table border=\"1\" class=\"dataframe\">\n",
       "  <thead>\n",
       "    <tr style=\"text-align: right;\">\n",
       "      <th></th>\n",
       "      <th>title</th>\n",
       "      <th>rank</th>\n",
       "      <th>date</th>\n",
       "      <th>artist</th>\n",
       "      <th>url</th>\n",
       "      <th>region</th>\n",
       "      <th>chart</th>\n",
       "      <th>trend</th>\n",
       "      <th>streams</th>\n",
       "    </tr>\n",
       "  </thead>\n",
       "  <tbody>\n",
       "    <tr>\n",
       "      <th>0</th>\n",
       "      <td>Chantaje (feat. Maluma)</td>\n",
       "      <td>1</td>\n",
       "      <td>2017-01-01</td>\n",
       "      <td>Shakira</td>\n",
       "      <td>https://open.spotify.com/track/6mICuAdrwEjh6Y6...</td>\n",
       "      <td>Argentina</td>\n",
       "      <td>top200</td>\n",
       "      <td>SAME_POSITION</td>\n",
       "      <td>253019.0</td>\n",
       "    </tr>\n",
       "    <tr>\n",
       "      <th>1</th>\n",
       "      <td>Vente Pa' Ca (feat. Maluma)</td>\n",
       "      <td>2</td>\n",
       "      <td>2017-01-01</td>\n",
       "      <td>Ricky Martin</td>\n",
       "      <td>https://open.spotify.com/track/7DM4BPaS7uofFul...</td>\n",
       "      <td>Argentina</td>\n",
       "      <td>top200</td>\n",
       "      <td>MOVE_UP</td>\n",
       "      <td>223988.0</td>\n",
       "    </tr>\n",
       "    <tr>\n",
       "      <th>2</th>\n",
       "      <td>Reggaetón Lento (Bailemos)</td>\n",
       "      <td>3</td>\n",
       "      <td>2017-01-01</td>\n",
       "      <td>CNCO</td>\n",
       "      <td>https://open.spotify.com/track/3AEZUABDXNtecAO...</td>\n",
       "      <td>Argentina</td>\n",
       "      <td>top200</td>\n",
       "      <td>MOVE_DOWN</td>\n",
       "      <td>210943.0</td>\n",
       "    </tr>\n",
       "    <tr>\n",
       "      <th>3</th>\n",
       "      <td>Safari</td>\n",
       "      <td>4</td>\n",
       "      <td>2017-01-01</td>\n",
       "      <td>J Balvin, Pharrell Williams, BIA, Sky</td>\n",
       "      <td>https://open.spotify.com/track/6rQSrBHf7HlZjtc...</td>\n",
       "      <td>Argentina</td>\n",
       "      <td>top200</td>\n",
       "      <td>SAME_POSITION</td>\n",
       "      <td>173865.0</td>\n",
       "    </tr>\n",
       "    <tr>\n",
       "      <th>4</th>\n",
       "      <td>Shaky Shaky</td>\n",
       "      <td>5</td>\n",
       "      <td>2017-01-01</td>\n",
       "      <td>Daddy Yankee</td>\n",
       "      <td>https://open.spotify.com/track/58IL315gMSTD37D...</td>\n",
       "      <td>Argentina</td>\n",
       "      <td>top200</td>\n",
       "      <td>MOVE_UP</td>\n",
       "      <td>153956.0</td>\n",
       "    </tr>\n",
       "  </tbody>\n",
       "</table>\n",
       "</div>"
      ],
      "text/plain": [
       "                         title  rank        date  \\\n",
       "0      Chantaje (feat. Maluma)     1  2017-01-01   \n",
       "1  Vente Pa' Ca (feat. Maluma)     2  2017-01-01   \n",
       "2   Reggaetón Lento (Bailemos)     3  2017-01-01   \n",
       "3                       Safari     4  2017-01-01   \n",
       "4                  Shaky Shaky     5  2017-01-01   \n",
       "\n",
       "                                  artist  \\\n",
       "0                                Shakira   \n",
       "1                           Ricky Martin   \n",
       "2                                   CNCO   \n",
       "3  J Balvin, Pharrell Williams, BIA, Sky   \n",
       "4                           Daddy Yankee   \n",
       "\n",
       "                                                 url     region   chart  \\\n",
       "0  https://open.spotify.com/track/6mICuAdrwEjh6Y6...  Argentina  top200   \n",
       "1  https://open.spotify.com/track/7DM4BPaS7uofFul...  Argentina  top200   \n",
       "2  https://open.spotify.com/track/3AEZUABDXNtecAO...  Argentina  top200   \n",
       "3  https://open.spotify.com/track/6rQSrBHf7HlZjtc...  Argentina  top200   \n",
       "4  https://open.spotify.com/track/58IL315gMSTD37D...  Argentina  top200   \n",
       "\n",
       "           trend   streams  \n",
       "0  SAME_POSITION  253019.0  \n",
       "1        MOVE_UP  223988.0  \n",
       "2      MOVE_DOWN  210943.0  \n",
       "3  SAME_POSITION  173865.0  \n",
       "4        MOVE_UP  153956.0  "
      ]
     },
     "execution_count": 4,
     "metadata": {},
     "output_type": "execute_result"
    }
   ],
   "source": [
    "data.head()"
   ]
  },
  {
   "cell_type": "code",
   "execution_count": 5,
   "id": "f23f7a5f",
   "metadata": {},
   "outputs": [
    {
     "data": {
      "text/html": [
       "<div>\n",
       "<style scoped>\n",
       "    .dataframe tbody tr th:only-of-type {\n",
       "        vertical-align: middle;\n",
       "    }\n",
       "\n",
       "    .dataframe tbody tr th {\n",
       "        vertical-align: top;\n",
       "    }\n",
       "\n",
       "    .dataframe thead th {\n",
       "        text-align: right;\n",
       "    }\n",
       "</style>\n",
       "<table border=\"1\" class=\"dataframe\">\n",
       "  <thead>\n",
       "    <tr style=\"text-align: right;\">\n",
       "      <th></th>\n",
       "      <th>title</th>\n",
       "      <th>rank</th>\n",
       "      <th>date</th>\n",
       "      <th>artist</th>\n",
       "      <th>url</th>\n",
       "      <th>region</th>\n",
       "      <th>chart</th>\n",
       "      <th>trend</th>\n",
       "      <th>streams</th>\n",
       "    </tr>\n",
       "  </thead>\n",
       "  <tbody>\n",
       "    <tr>\n",
       "      <th>26173509</th>\n",
       "      <td>BYE</td>\n",
       "      <td>46</td>\n",
       "      <td>2021-07-31</td>\n",
       "      <td>Jaden</td>\n",
       "      <td>https://open.spotify.com/track/3OUyyDN7EZrL7i0...</td>\n",
       "      <td>Vietnam</td>\n",
       "      <td>viral50</td>\n",
       "      <td>MOVE_UP</td>\n",
       "      <td>NaN</td>\n",
       "    </tr>\n",
       "    <tr>\n",
       "      <th>26173510</th>\n",
       "      <td>Pillars</td>\n",
       "      <td>47</td>\n",
       "      <td>2021-07-31</td>\n",
       "      <td>My Anh</td>\n",
       "      <td>https://open.spotify.com/track/6eky30oFiQbHUAT...</td>\n",
       "      <td>Vietnam</td>\n",
       "      <td>viral50</td>\n",
       "      <td>NEW_ENTRY</td>\n",
       "      <td>NaN</td>\n",
       "    </tr>\n",
       "    <tr>\n",
       "      <th>26173511</th>\n",
       "      <td>Gái Độc Thân</td>\n",
       "      <td>48</td>\n",
       "      <td>2021-07-31</td>\n",
       "      <td>Tlinh</td>\n",
       "      <td>https://open.spotify.com/track/2klsSb2iTfgDh95...</td>\n",
       "      <td>Vietnam</td>\n",
       "      <td>viral50</td>\n",
       "      <td>MOVE_DOWN</td>\n",
       "      <td>NaN</td>\n",
       "    </tr>\n",
       "    <tr>\n",
       "      <th>26173512</th>\n",
       "      <td>Renegade (feat. Taylor Swift)</td>\n",
       "      <td>49</td>\n",
       "      <td>2021-07-31</td>\n",
       "      <td>Big Red Machine</td>\n",
       "      <td>https://open.spotify.com/track/1aU1wpYBSpP0M6I...</td>\n",
       "      <td>Vietnam</td>\n",
       "      <td>viral50</td>\n",
       "      <td>MOVE_DOWN</td>\n",
       "      <td>NaN</td>\n",
       "    </tr>\n",
       "    <tr>\n",
       "      <th>26173513</th>\n",
       "      <td>Letter to Jarad</td>\n",
       "      <td>50</td>\n",
       "      <td>2021-07-31</td>\n",
       "      <td>LRN Slime, Shiloh Dynasty</td>\n",
       "      <td>https://open.spotify.com/track/508QhA2SncMbh5C...</td>\n",
       "      <td>Vietnam</td>\n",
       "      <td>viral50</td>\n",
       "      <td>MOVE_DOWN</td>\n",
       "      <td>NaN</td>\n",
       "    </tr>\n",
       "  </tbody>\n",
       "</table>\n",
       "</div>"
      ],
      "text/plain": [
       "                                  title  rank        date  \\\n",
       "26173509                            BYE    46  2021-07-31   \n",
       "26173510                        Pillars    47  2021-07-31   \n",
       "26173511                   Gái Độc Thân    48  2021-07-31   \n",
       "26173512  Renegade (feat. Taylor Swift)    49  2021-07-31   \n",
       "26173513                Letter to Jarad    50  2021-07-31   \n",
       "\n",
       "                             artist  \\\n",
       "26173509                      Jaden   \n",
       "26173510                     My Anh   \n",
       "26173511                      Tlinh   \n",
       "26173512            Big Red Machine   \n",
       "26173513  LRN Slime, Shiloh Dynasty   \n",
       "\n",
       "                                                        url   region    chart  \\\n",
       "26173509  https://open.spotify.com/track/3OUyyDN7EZrL7i0...  Vietnam  viral50   \n",
       "26173510  https://open.spotify.com/track/6eky30oFiQbHUAT...  Vietnam  viral50   \n",
       "26173511  https://open.spotify.com/track/2klsSb2iTfgDh95...  Vietnam  viral50   \n",
       "26173512  https://open.spotify.com/track/1aU1wpYBSpP0M6I...  Vietnam  viral50   \n",
       "26173513  https://open.spotify.com/track/508QhA2SncMbh5C...  Vietnam  viral50   \n",
       "\n",
       "              trend  streams  \n",
       "26173509    MOVE_UP      NaN  \n",
       "26173510  NEW_ENTRY      NaN  \n",
       "26173511  MOVE_DOWN      NaN  \n",
       "26173512  MOVE_DOWN      NaN  \n",
       "26173513  MOVE_DOWN      NaN  "
      ]
     },
     "execution_count": 5,
     "metadata": {},
     "output_type": "execute_result"
    }
   ],
   "source": [
    "data.tail()"
   ]
  },
  {
   "cell_type": "code",
   "execution_count": 6,
   "id": "8e1c618d",
   "metadata": {},
   "outputs": [
    {
     "data": {
      "text/plain": [
       "Index(['title', 'rank', 'date', 'artist', 'url', 'region', 'chart', 'trend',\n",
       "       'streams'],\n",
       "      dtype='object')"
      ]
     },
     "execution_count": 6,
     "metadata": {},
     "output_type": "execute_result"
    }
   ],
   "source": [
    "data.columns"
   ]
  },
  {
   "cell_type": "code",
   "execution_count": 7,
   "id": "9662ee88",
   "metadata": {},
   "outputs": [
    {
     "data": {
      "text/plain": [
       "title           11\n",
       "rank             0\n",
       "date             0\n",
       "artist          18\n",
       "url              0\n",
       "region           0\n",
       "chart            0\n",
       "trend            0\n",
       "streams    5851610\n",
       "dtype: int64"
      ]
     },
     "execution_count": 7,
     "metadata": {},
     "output_type": "execute_result"
    }
   ],
   "source": [
    "data.isnull().sum()"
   ]
  },
  {
   "cell_type": "code",
   "execution_count": 8,
   "id": "f2f9eb74",
   "metadata": {},
   "outputs": [],
   "source": [
    "grouped = data.groupby(data[\"chart\"])"
   ]
  },
  {
   "cell_type": "code",
   "execution_count": 9,
   "id": "2587091d",
   "metadata": {},
   "outputs": [],
   "source": [
    "viral_50 = grouped.get_group('viral50')\n",
    "top200 = grouped.get_group(\"top200\")"
   ]
  },
  {
   "cell_type": "code",
   "execution_count": 10,
   "id": "d19a5937",
   "metadata": {},
   "outputs": [
    {
     "data": {
      "text/plain": [
       "(20321904, 9)"
      ]
     },
     "execution_count": 10,
     "metadata": {},
     "output_type": "execute_result"
    }
   ],
   "source": [
    "top200.shape"
   ]
  },
  {
   "cell_type": "code",
   "execution_count": 11,
   "id": "638ef647",
   "metadata": {
    "scrolled": true
   },
   "outputs": [
    {
     "data": {
      "text/html": [
       "<div>\n",
       "<style scoped>\n",
       "    .dataframe tbody tr th:only-of-type {\n",
       "        vertical-align: middle;\n",
       "    }\n",
       "\n",
       "    .dataframe tbody tr th {\n",
       "        vertical-align: top;\n",
       "    }\n",
       "\n",
       "    .dataframe thead th {\n",
       "        text-align: right;\n",
       "    }\n",
       "</style>\n",
       "<table border=\"1\" class=\"dataframe\">\n",
       "  <thead>\n",
       "    <tr style=\"text-align: right;\">\n",
       "      <th></th>\n",
       "      <th>title</th>\n",
       "      <th>rank</th>\n",
       "      <th>date</th>\n",
       "      <th>artist</th>\n",
       "      <th>url</th>\n",
       "      <th>region</th>\n",
       "      <th>chart</th>\n",
       "      <th>trend</th>\n",
       "      <th>streams</th>\n",
       "    </tr>\n",
       "  </thead>\n",
       "  <tbody>\n",
       "    <tr>\n",
       "      <th>0</th>\n",
       "      <td>Chantaje (feat. Maluma)</td>\n",
       "      <td>1</td>\n",
       "      <td>2017-01-01</td>\n",
       "      <td>Shakira</td>\n",
       "      <td>https://open.spotify.com/track/6mICuAdrwEjh6Y6...</td>\n",
       "      <td>Argentina</td>\n",
       "      <td>top200</td>\n",
       "      <td>SAME_POSITION</td>\n",
       "      <td>253019.0</td>\n",
       "    </tr>\n",
       "    <tr>\n",
       "      <th>1</th>\n",
       "      <td>Vente Pa' Ca (feat. Maluma)</td>\n",
       "      <td>2</td>\n",
       "      <td>2017-01-01</td>\n",
       "      <td>Ricky Martin</td>\n",
       "      <td>https://open.spotify.com/track/7DM4BPaS7uofFul...</td>\n",
       "      <td>Argentina</td>\n",
       "      <td>top200</td>\n",
       "      <td>MOVE_UP</td>\n",
       "      <td>223988.0</td>\n",
       "    </tr>\n",
       "    <tr>\n",
       "      <th>2</th>\n",
       "      <td>Reggaetón Lento (Bailemos)</td>\n",
       "      <td>3</td>\n",
       "      <td>2017-01-01</td>\n",
       "      <td>CNCO</td>\n",
       "      <td>https://open.spotify.com/track/3AEZUABDXNtecAO...</td>\n",
       "      <td>Argentina</td>\n",
       "      <td>top200</td>\n",
       "      <td>MOVE_DOWN</td>\n",
       "      <td>210943.0</td>\n",
       "    </tr>\n",
       "    <tr>\n",
       "      <th>3</th>\n",
       "      <td>Safari</td>\n",
       "      <td>4</td>\n",
       "      <td>2017-01-01</td>\n",
       "      <td>J Balvin, Pharrell Williams, BIA, Sky</td>\n",
       "      <td>https://open.spotify.com/track/6rQSrBHf7HlZjtc...</td>\n",
       "      <td>Argentina</td>\n",
       "      <td>top200</td>\n",
       "      <td>SAME_POSITION</td>\n",
       "      <td>173865.0</td>\n",
       "    </tr>\n",
       "    <tr>\n",
       "      <th>4</th>\n",
       "      <td>Shaky Shaky</td>\n",
       "      <td>5</td>\n",
       "      <td>2017-01-01</td>\n",
       "      <td>Daddy Yankee</td>\n",
       "      <td>https://open.spotify.com/track/58IL315gMSTD37D...</td>\n",
       "      <td>Argentina</td>\n",
       "      <td>top200</td>\n",
       "      <td>MOVE_UP</td>\n",
       "      <td>153956.0</td>\n",
       "    </tr>\n",
       "  </tbody>\n",
       "</table>\n",
       "</div>"
      ],
      "text/plain": [
       "                         title  rank        date  \\\n",
       "0      Chantaje (feat. Maluma)     1  2017-01-01   \n",
       "1  Vente Pa' Ca (feat. Maluma)     2  2017-01-01   \n",
       "2   Reggaetón Lento (Bailemos)     3  2017-01-01   \n",
       "3                       Safari     4  2017-01-01   \n",
       "4                  Shaky Shaky     5  2017-01-01   \n",
       "\n",
       "                                  artist  \\\n",
       "0                                Shakira   \n",
       "1                           Ricky Martin   \n",
       "2                                   CNCO   \n",
       "3  J Balvin, Pharrell Williams, BIA, Sky   \n",
       "4                           Daddy Yankee   \n",
       "\n",
       "                                                 url     region   chart  \\\n",
       "0  https://open.spotify.com/track/6mICuAdrwEjh6Y6...  Argentina  top200   \n",
       "1  https://open.spotify.com/track/7DM4BPaS7uofFul...  Argentina  top200   \n",
       "2  https://open.spotify.com/track/3AEZUABDXNtecAO...  Argentina  top200   \n",
       "3  https://open.spotify.com/track/6rQSrBHf7HlZjtc...  Argentina  top200   \n",
       "4  https://open.spotify.com/track/58IL315gMSTD37D...  Argentina  top200   \n",
       "\n",
       "           trend   streams  \n",
       "0  SAME_POSITION  253019.0  \n",
       "1        MOVE_UP  223988.0  \n",
       "2      MOVE_DOWN  210943.0  \n",
       "3  SAME_POSITION  173865.0  \n",
       "4        MOVE_UP  153956.0  "
      ]
     },
     "execution_count": 11,
     "metadata": {},
     "output_type": "execute_result"
    }
   ],
   "source": [
    "top200.head()"
   ]
  },
  {
   "cell_type": "code",
   "execution_count": 12,
   "id": "18a3d0b2",
   "metadata": {},
   "outputs": [
    {
     "data": {
      "text/html": [
       "<div>\n",
       "<style scoped>\n",
       "    .dataframe tbody tr th:only-of-type {\n",
       "        vertical-align: middle;\n",
       "    }\n",
       "\n",
       "    .dataframe tbody tr th {\n",
       "        vertical-align: top;\n",
       "    }\n",
       "\n",
       "    .dataframe thead th {\n",
       "        text-align: right;\n",
       "    }\n",
       "</style>\n",
       "<table border=\"1\" class=\"dataframe\">\n",
       "  <thead>\n",
       "    <tr style=\"text-align: right;\">\n",
       "      <th></th>\n",
       "      <th>title</th>\n",
       "      <th>rank</th>\n",
       "      <th>date</th>\n",
       "      <th>artist</th>\n",
       "      <th>url</th>\n",
       "      <th>region</th>\n",
       "      <th>chart</th>\n",
       "      <th>trend</th>\n",
       "      <th>streams</th>\n",
       "    </tr>\n",
       "  </thead>\n",
       "  <tbody>\n",
       "    <tr>\n",
       "      <th>25276069</th>\n",
       "      <td>Ojalá (feat. Darell)</td>\n",
       "      <td>196</td>\n",
       "      <td>2018-01-31</td>\n",
       "      <td>De La Ghetto, Almighty, Bryant Myers</td>\n",
       "      <td>https://open.spotify.com/track/3EMDvnVpQd9RZJv...</td>\n",
       "      <td>Uruguay</td>\n",
       "      <td>top200</td>\n",
       "      <td>MOVE_DOWN</td>\n",
       "      <td>1178.0</td>\n",
       "    </tr>\n",
       "    <tr>\n",
       "      <th>25276070</th>\n",
       "      <td>Lo Que Pasa en la Noche</td>\n",
       "      <td>197</td>\n",
       "      <td>2018-01-31</td>\n",
       "      <td>Mano Arriba</td>\n",
       "      <td>https://open.spotify.com/track/2eOleVJlGvBE027...</td>\n",
       "      <td>Uruguay</td>\n",
       "      <td>top200</td>\n",
       "      <td>NEW_ENTRY</td>\n",
       "      <td>1178.0</td>\n",
       "    </tr>\n",
       "    <tr>\n",
       "      <th>25276071</th>\n",
       "      <td>El Equivocado</td>\n",
       "      <td>198</td>\n",
       "      <td>2018-01-31</td>\n",
       "      <td>Mano Arriba</td>\n",
       "      <td>https://open.spotify.com/track/5vy1C7DD9xJ5fRB...</td>\n",
       "      <td>Uruguay</td>\n",
       "      <td>top200</td>\n",
       "      <td>MOVE_DOWN</td>\n",
       "      <td>1170.0</td>\n",
       "    </tr>\n",
       "    <tr>\n",
       "      <th>25276072</th>\n",
       "      <td>Que Fui Tu Amante</td>\n",
       "      <td>199</td>\n",
       "      <td>2018-01-31</td>\n",
       "      <td>El Gucci y Su Banda</td>\n",
       "      <td>https://open.spotify.com/track/1fmiCxwEbZFIszI...</td>\n",
       "      <td>Uruguay</td>\n",
       "      <td>top200</td>\n",
       "      <td>MOVE_DOWN</td>\n",
       "      <td>1165.0</td>\n",
       "    </tr>\n",
       "    <tr>\n",
       "      <th>25276073</th>\n",
       "      <td>Solo</td>\n",
       "      <td>200</td>\n",
       "      <td>2018-01-31</td>\n",
       "      <td>Amenazzy, Lary Over</td>\n",
       "      <td>https://open.spotify.com/track/2rrJfOphzn4uQCK...</td>\n",
       "      <td>Uruguay</td>\n",
       "      <td>top200</td>\n",
       "      <td>NEW_ENTRY</td>\n",
       "      <td>1162.0</td>\n",
       "    </tr>\n",
       "  </tbody>\n",
       "</table>\n",
       "</div>"
      ],
      "text/plain": [
       "                            title  rank        date  \\\n",
       "25276069     Ojalá (feat. Darell)   196  2018-01-31   \n",
       "25276070  Lo Que Pasa en la Noche   197  2018-01-31   \n",
       "25276071            El Equivocado   198  2018-01-31   \n",
       "25276072        Que Fui Tu Amante   199  2018-01-31   \n",
       "25276073                     Solo   200  2018-01-31   \n",
       "\n",
       "                                        artist  \\\n",
       "25276069  De La Ghetto, Almighty, Bryant Myers   \n",
       "25276070                           Mano Arriba   \n",
       "25276071                           Mano Arriba   \n",
       "25276072                   El Gucci y Su Banda   \n",
       "25276073                   Amenazzy, Lary Over   \n",
       "\n",
       "                                                        url   region   chart  \\\n",
       "25276069  https://open.spotify.com/track/3EMDvnVpQd9RZJv...  Uruguay  top200   \n",
       "25276070  https://open.spotify.com/track/2eOleVJlGvBE027...  Uruguay  top200   \n",
       "25276071  https://open.spotify.com/track/5vy1C7DD9xJ5fRB...  Uruguay  top200   \n",
       "25276072  https://open.spotify.com/track/1fmiCxwEbZFIszI...  Uruguay  top200   \n",
       "25276073  https://open.spotify.com/track/2rrJfOphzn4uQCK...  Uruguay  top200   \n",
       "\n",
       "              trend  streams  \n",
       "25276069  MOVE_DOWN   1178.0  \n",
       "25276070  NEW_ENTRY   1178.0  \n",
       "25276071  MOVE_DOWN   1170.0  \n",
       "25276072  MOVE_DOWN   1165.0  \n",
       "25276073  NEW_ENTRY   1162.0  "
      ]
     },
     "execution_count": 12,
     "metadata": {},
     "output_type": "execute_result"
    }
   ],
   "source": [
    "top200.tail()"
   ]
  },
  {
   "cell_type": "code",
   "execution_count": 13,
   "id": "60ca35e1",
   "metadata": {},
   "outputs": [
    {
     "data": {
      "text/plain": [
       "(5851610, 9)"
      ]
     },
     "execution_count": 13,
     "metadata": {},
     "output_type": "execute_result"
    }
   ],
   "source": [
    "viral_50.shape"
   ]
  },
  {
   "cell_type": "code",
   "execution_count": 14,
   "id": "68e4f038",
   "metadata": {},
   "outputs": [
    {
     "data": {
      "text/html": [
       "<div>\n",
       "<style scoped>\n",
       "    .dataframe tbody tr th:only-of-type {\n",
       "        vertical-align: middle;\n",
       "    }\n",
       "\n",
       "    .dataframe tbody tr th {\n",
       "        vertical-align: top;\n",
       "    }\n",
       "\n",
       "    .dataframe thead th {\n",
       "        text-align: right;\n",
       "    }\n",
       "</style>\n",
       "<table border=\"1\" class=\"dataframe\">\n",
       "  <thead>\n",
       "    <tr style=\"text-align: right;\">\n",
       "      <th></th>\n",
       "      <th>title</th>\n",
       "      <th>rank</th>\n",
       "      <th>date</th>\n",
       "      <th>artist</th>\n",
       "      <th>url</th>\n",
       "      <th>region</th>\n",
       "      <th>chart</th>\n",
       "      <th>trend</th>\n",
       "      <th>streams</th>\n",
       "    </tr>\n",
       "  </thead>\n",
       "  <tbody>\n",
       "    <tr>\n",
       "      <th>12808</th>\n",
       "      <td>Boys</td>\n",
       "      <td>13</td>\n",
       "      <td>2017-08-01</td>\n",
       "      <td>Charli XCX</td>\n",
       "      <td>https://open.spotify.com/track/5o4yGlG0PfeVUa6...</td>\n",
       "      <td>Latvia</td>\n",
       "      <td>viral50</td>\n",
       "      <td>MOVE_UP</td>\n",
       "      <td>NaN</td>\n",
       "    </tr>\n",
       "    <tr>\n",
       "      <th>12965</th>\n",
       "      <td>Hold Me</td>\n",
       "      <td>19</td>\n",
       "      <td>2017-08-01</td>\n",
       "      <td>R3HAB</td>\n",
       "      <td>https://open.spotify.com/track/2a9xGmpgNyNz9QV...</td>\n",
       "      <td>Luxembourg</td>\n",
       "      <td>viral50</td>\n",
       "      <td>MOVE_DOWN</td>\n",
       "      <td>NaN</td>\n",
       "    </tr>\n",
       "    <tr>\n",
       "      <th>13781</th>\n",
       "      <td>Hola Hola</td>\n",
       "      <td>40</td>\n",
       "      <td>2017-08-01</td>\n",
       "      <td>KARD</td>\n",
       "      <td>https://open.spotify.com/track/3VC1IEz9M1txlMS...</td>\n",
       "      <td>Peru</td>\n",
       "      <td>viral50</td>\n",
       "      <td>NEW_ENTRY</td>\n",
       "      <td>NaN</td>\n",
       "    </tr>\n",
       "    <tr>\n",
       "      <th>14042</th>\n",
       "      <td>Cuídate</td>\n",
       "      <td>4</td>\n",
       "      <td>2017-08-01</td>\n",
       "      <td>Zetazen</td>\n",
       "      <td>https://open.spotify.com/track/0WgnbqlHieZmdYa...</td>\n",
       "      <td>Spain</td>\n",
       "      <td>viral50</td>\n",
       "      <td>SAME_POSITION</td>\n",
       "      <td>NaN</td>\n",
       "    </tr>\n",
       "    <tr>\n",
       "      <th>14092</th>\n",
       "      <td>Boys</td>\n",
       "      <td>13</td>\n",
       "      <td>2017-08-01</td>\n",
       "      <td>Charli XCX</td>\n",
       "      <td>https://open.spotify.com/track/5o4yGlG0PfeVUa6...</td>\n",
       "      <td>Taiwan</td>\n",
       "      <td>viral50</td>\n",
       "      <td>MOVE_DOWN</td>\n",
       "      <td>NaN</td>\n",
       "    </tr>\n",
       "  </tbody>\n",
       "</table>\n",
       "</div>"
      ],
      "text/plain": [
       "           title  rank        date      artist  \\\n",
       "12808       Boys    13  2017-08-01  Charli XCX   \n",
       "12965    Hold Me    19  2017-08-01       R3HAB   \n",
       "13781  Hola Hola    40  2017-08-01        KARD   \n",
       "14042    Cuídate     4  2017-08-01     Zetazen   \n",
       "14092       Boys    13  2017-08-01  Charli XCX   \n",
       "\n",
       "                                                     url      region    chart  \\\n",
       "12808  https://open.spotify.com/track/5o4yGlG0PfeVUa6...      Latvia  viral50   \n",
       "12965  https://open.spotify.com/track/2a9xGmpgNyNz9QV...  Luxembourg  viral50   \n",
       "13781  https://open.spotify.com/track/3VC1IEz9M1txlMS...        Peru  viral50   \n",
       "14042  https://open.spotify.com/track/0WgnbqlHieZmdYa...       Spain  viral50   \n",
       "14092  https://open.spotify.com/track/5o4yGlG0PfeVUa6...      Taiwan  viral50   \n",
       "\n",
       "               trend  streams  \n",
       "12808        MOVE_UP      NaN  \n",
       "12965      MOVE_DOWN      NaN  \n",
       "13781      NEW_ENTRY      NaN  \n",
       "14042  SAME_POSITION      NaN  \n",
       "14092      MOVE_DOWN      NaN  "
      ]
     },
     "execution_count": 14,
     "metadata": {},
     "output_type": "execute_result"
    }
   ],
   "source": [
    "viral_50.head()"
   ]
  },
  {
   "cell_type": "code",
   "execution_count": 15,
   "id": "ec7b339e",
   "metadata": {},
   "outputs": [
    {
     "data": {
      "text/html": [
       "<div>\n",
       "<style scoped>\n",
       "    .dataframe tbody tr th:only-of-type {\n",
       "        vertical-align: middle;\n",
       "    }\n",
       "\n",
       "    .dataframe tbody tr th {\n",
       "        vertical-align: top;\n",
       "    }\n",
       "\n",
       "    .dataframe thead th {\n",
       "        text-align: right;\n",
       "    }\n",
       "</style>\n",
       "<table border=\"1\" class=\"dataframe\">\n",
       "  <thead>\n",
       "    <tr style=\"text-align: right;\">\n",
       "      <th></th>\n",
       "      <th>title</th>\n",
       "      <th>rank</th>\n",
       "      <th>date</th>\n",
       "      <th>artist</th>\n",
       "      <th>url</th>\n",
       "      <th>region</th>\n",
       "      <th>chart</th>\n",
       "      <th>trend</th>\n",
       "      <th>streams</th>\n",
       "    </tr>\n",
       "  </thead>\n",
       "  <tbody>\n",
       "    <tr>\n",
       "      <th>26173509</th>\n",
       "      <td>BYE</td>\n",
       "      <td>46</td>\n",
       "      <td>2021-07-31</td>\n",
       "      <td>Jaden</td>\n",
       "      <td>https://open.spotify.com/track/3OUyyDN7EZrL7i0...</td>\n",
       "      <td>Vietnam</td>\n",
       "      <td>viral50</td>\n",
       "      <td>MOVE_UP</td>\n",
       "      <td>NaN</td>\n",
       "    </tr>\n",
       "    <tr>\n",
       "      <th>26173510</th>\n",
       "      <td>Pillars</td>\n",
       "      <td>47</td>\n",
       "      <td>2021-07-31</td>\n",
       "      <td>My Anh</td>\n",
       "      <td>https://open.spotify.com/track/6eky30oFiQbHUAT...</td>\n",
       "      <td>Vietnam</td>\n",
       "      <td>viral50</td>\n",
       "      <td>NEW_ENTRY</td>\n",
       "      <td>NaN</td>\n",
       "    </tr>\n",
       "    <tr>\n",
       "      <th>26173511</th>\n",
       "      <td>Gái Độc Thân</td>\n",
       "      <td>48</td>\n",
       "      <td>2021-07-31</td>\n",
       "      <td>Tlinh</td>\n",
       "      <td>https://open.spotify.com/track/2klsSb2iTfgDh95...</td>\n",
       "      <td>Vietnam</td>\n",
       "      <td>viral50</td>\n",
       "      <td>MOVE_DOWN</td>\n",
       "      <td>NaN</td>\n",
       "    </tr>\n",
       "    <tr>\n",
       "      <th>26173512</th>\n",
       "      <td>Renegade (feat. Taylor Swift)</td>\n",
       "      <td>49</td>\n",
       "      <td>2021-07-31</td>\n",
       "      <td>Big Red Machine</td>\n",
       "      <td>https://open.spotify.com/track/1aU1wpYBSpP0M6I...</td>\n",
       "      <td>Vietnam</td>\n",
       "      <td>viral50</td>\n",
       "      <td>MOVE_DOWN</td>\n",
       "      <td>NaN</td>\n",
       "    </tr>\n",
       "    <tr>\n",
       "      <th>26173513</th>\n",
       "      <td>Letter to Jarad</td>\n",
       "      <td>50</td>\n",
       "      <td>2021-07-31</td>\n",
       "      <td>LRN Slime, Shiloh Dynasty</td>\n",
       "      <td>https://open.spotify.com/track/508QhA2SncMbh5C...</td>\n",
       "      <td>Vietnam</td>\n",
       "      <td>viral50</td>\n",
       "      <td>MOVE_DOWN</td>\n",
       "      <td>NaN</td>\n",
       "    </tr>\n",
       "  </tbody>\n",
       "</table>\n",
       "</div>"
      ],
      "text/plain": [
       "                                  title  rank        date  \\\n",
       "26173509                            BYE    46  2021-07-31   \n",
       "26173510                        Pillars    47  2021-07-31   \n",
       "26173511                   Gái Độc Thân    48  2021-07-31   \n",
       "26173512  Renegade (feat. Taylor Swift)    49  2021-07-31   \n",
       "26173513                Letter to Jarad    50  2021-07-31   \n",
       "\n",
       "                             artist  \\\n",
       "26173509                      Jaden   \n",
       "26173510                     My Anh   \n",
       "26173511                      Tlinh   \n",
       "26173512            Big Red Machine   \n",
       "26173513  LRN Slime, Shiloh Dynasty   \n",
       "\n",
       "                                                        url   region    chart  \\\n",
       "26173509  https://open.spotify.com/track/3OUyyDN7EZrL7i0...  Vietnam  viral50   \n",
       "26173510  https://open.spotify.com/track/6eky30oFiQbHUAT...  Vietnam  viral50   \n",
       "26173511  https://open.spotify.com/track/2klsSb2iTfgDh95...  Vietnam  viral50   \n",
       "26173512  https://open.spotify.com/track/1aU1wpYBSpP0M6I...  Vietnam  viral50   \n",
       "26173513  https://open.spotify.com/track/508QhA2SncMbh5C...  Vietnam  viral50   \n",
       "\n",
       "              trend  streams  \n",
       "26173509    MOVE_UP      NaN  \n",
       "26173510  NEW_ENTRY      NaN  \n",
       "26173511  MOVE_DOWN      NaN  \n",
       "26173512  MOVE_DOWN      NaN  \n",
       "26173513  MOVE_DOWN      NaN  "
      ]
     },
     "execution_count": 15,
     "metadata": {},
     "output_type": "execute_result"
    }
   ],
   "source": [
    "viral_50.tail()"
   ]
  },
  {
   "cell_type": "code",
   "execution_count": 16,
   "id": "92a32bb8",
   "metadata": {},
   "outputs": [
    {
     "data": {
      "text/plain": [
       "0           Argentina\n",
       "1           Argentina\n",
       "2           Argentina\n",
       "3           Argentina\n",
       "4           Argentina\n",
       "              ...    \n",
       "25276069      Uruguay\n",
       "25276070      Uruguay\n",
       "25276071      Uruguay\n",
       "25276072      Uruguay\n",
       "25276073      Uruguay\n",
       "Name: region, Length: 20321904, dtype: object"
      ]
     },
     "execution_count": 16,
     "metadata": {},
     "output_type": "execute_result"
    }
   ],
   "source": [
    "top200.region"
   ]
  },
  {
   "cell_type": "markdown",
   "id": "4832a168",
   "metadata": {},
   "source": [
    "## Genius lyrics"
   ]
  },
  {
   "cell_type": "code",
   "execution_count": 17,
   "id": "5b3c0461",
   "metadata": {
    "scrolled": true
   },
   "outputs": [
    {
     "data": {
      "text/html": [
       "<div>\n",
       "<style scoped>\n",
       "    .dataframe tbody tr th:only-of-type {\n",
       "        vertical-align: middle;\n",
       "    }\n",
       "\n",
       "    .dataframe tbody tr th {\n",
       "        vertical-align: top;\n",
       "    }\n",
       "\n",
       "    .dataframe thead th {\n",
       "        text-align: right;\n",
       "    }\n",
       "</style>\n",
       "<table border=\"1\" class=\"dataframe\">\n",
       "  <thead>\n",
       "    <tr style=\"text-align: right;\">\n",
       "      <th></th>\n",
       "      <th>title</th>\n",
       "      <th>rank</th>\n",
       "      <th>date</th>\n",
       "      <th>artist</th>\n",
       "      <th>url</th>\n",
       "      <th>region</th>\n",
       "      <th>chart</th>\n",
       "      <th>trend</th>\n",
       "      <th>streams</th>\n",
       "    </tr>\n",
       "  </thead>\n",
       "  <tbody>\n",
       "    <tr>\n",
       "      <th>0</th>\n",
       "      <td>Chantaje (feat. Maluma)</td>\n",
       "      <td>1</td>\n",
       "      <td>2017-01-01</td>\n",
       "      <td>Shakira</td>\n",
       "      <td>https://open.spotify.com/track/6mICuAdrwEjh6Y6...</td>\n",
       "      <td>Argentina</td>\n",
       "      <td>top200</td>\n",
       "      <td>SAME_POSITION</td>\n",
       "      <td>253019.0</td>\n",
       "    </tr>\n",
       "    <tr>\n",
       "      <th>1</th>\n",
       "      <td>Vente Pa' Ca (feat. Maluma)</td>\n",
       "      <td>2</td>\n",
       "      <td>2017-01-01</td>\n",
       "      <td>Ricky Martin</td>\n",
       "      <td>https://open.spotify.com/track/7DM4BPaS7uofFul...</td>\n",
       "      <td>Argentina</td>\n",
       "      <td>top200</td>\n",
       "      <td>MOVE_UP</td>\n",
       "      <td>223988.0</td>\n",
       "    </tr>\n",
       "    <tr>\n",
       "      <th>2</th>\n",
       "      <td>Reggaetón Lento (Bailemos)</td>\n",
       "      <td>3</td>\n",
       "      <td>2017-01-01</td>\n",
       "      <td>CNCO</td>\n",
       "      <td>https://open.spotify.com/track/3AEZUABDXNtecAO...</td>\n",
       "      <td>Argentina</td>\n",
       "      <td>top200</td>\n",
       "      <td>MOVE_DOWN</td>\n",
       "      <td>210943.0</td>\n",
       "    </tr>\n",
       "    <tr>\n",
       "      <th>3</th>\n",
       "      <td>Safari</td>\n",
       "      <td>4</td>\n",
       "      <td>2017-01-01</td>\n",
       "      <td>J Balvin, Pharrell Williams, BIA, Sky</td>\n",
       "      <td>https://open.spotify.com/track/6rQSrBHf7HlZjtc...</td>\n",
       "      <td>Argentina</td>\n",
       "      <td>top200</td>\n",
       "      <td>SAME_POSITION</td>\n",
       "      <td>173865.0</td>\n",
       "    </tr>\n",
       "    <tr>\n",
       "      <th>4</th>\n",
       "      <td>Shaky Shaky</td>\n",
       "      <td>5</td>\n",
       "      <td>2017-01-01</td>\n",
       "      <td>Daddy Yankee</td>\n",
       "      <td>https://open.spotify.com/track/58IL315gMSTD37D...</td>\n",
       "      <td>Argentina</td>\n",
       "      <td>top200</td>\n",
       "      <td>MOVE_UP</td>\n",
       "      <td>153956.0</td>\n",
       "    </tr>\n",
       "  </tbody>\n",
       "</table>\n",
       "</div>"
      ],
      "text/plain": [
       "                         title  rank        date  \\\n",
       "0      Chantaje (feat. Maluma)     1  2017-01-01   \n",
       "1  Vente Pa' Ca (feat. Maluma)     2  2017-01-01   \n",
       "2   Reggaetón Lento (Bailemos)     3  2017-01-01   \n",
       "3                       Safari     4  2017-01-01   \n",
       "4                  Shaky Shaky     5  2017-01-01   \n",
       "\n",
       "                                  artist  \\\n",
       "0                                Shakira   \n",
       "1                           Ricky Martin   \n",
       "2                                   CNCO   \n",
       "3  J Balvin, Pharrell Williams, BIA, Sky   \n",
       "4                           Daddy Yankee   \n",
       "\n",
       "                                                 url     region   chart  \\\n",
       "0  https://open.spotify.com/track/6mICuAdrwEjh6Y6...  Argentina  top200   \n",
       "1  https://open.spotify.com/track/7DM4BPaS7uofFul...  Argentina  top200   \n",
       "2  https://open.spotify.com/track/3AEZUABDXNtecAO...  Argentina  top200   \n",
       "3  https://open.spotify.com/track/6rQSrBHf7HlZjtc...  Argentina  top200   \n",
       "4  https://open.spotify.com/track/58IL315gMSTD37D...  Argentina  top200   \n",
       "\n",
       "           trend   streams  \n",
       "0  SAME_POSITION  253019.0  \n",
       "1        MOVE_UP  223988.0  \n",
       "2      MOVE_DOWN  210943.0  \n",
       "3  SAME_POSITION  173865.0  \n",
       "4        MOVE_UP  153956.0  "
      ]
     },
     "execution_count": 17,
     "metadata": {},
     "output_type": "execute_result"
    }
   ],
   "source": [
    "top200.head()"
   ]
  },
  {
   "cell_type": "markdown",
   "id": "d9d0169a",
   "metadata": {},
   "source": [
    "# Getting artist, track name and url"
   ]
  },
  {
   "cell_type": "code",
   "execution_count": 18,
   "id": "09cad9b0",
   "metadata": {},
   "outputs": [
    {
     "data": {
      "text/plain": [
       "\"Vente Pa' Ca (feat. Maluma)\""
      ]
     },
     "execution_count": 18,
     "metadata": {},
     "output_type": "execute_result"
    }
   ],
   "source": [
    "top200.title[1]"
   ]
  },
  {
   "cell_type": "code",
   "execution_count": 19,
   "id": "71e4f558",
   "metadata": {},
   "outputs": [],
   "source": [
    "test_string = str(top200.title[1])"
   ]
  },
  {
   "cell_type": "code",
   "execution_count": 20,
   "id": "f04f0132",
   "metadata": {},
   "outputs": [
    {
     "data": {
      "text/plain": [
       "\"Vente Pa' Ca (feat. Maluma)\""
      ]
     },
     "execution_count": 20,
     "metadata": {},
     "output_type": "execute_result"
    }
   ],
   "source": [
    "test_string"
   ]
  },
  {
   "cell_type": "code",
   "execution_count": 21,
   "id": "6bac7dab",
   "metadata": {},
   "outputs": [
    {
     "data": {
      "text/plain": [
       "13"
      ]
     },
     "execution_count": 21,
     "metadata": {},
     "output_type": "execute_result"
    }
   ],
   "source": [
    "test_string.find(\"(\")"
   ]
  },
  {
   "cell_type": "code",
   "execution_count": 22,
   "id": "173d3735",
   "metadata": {},
   "outputs": [
    {
     "data": {
      "text/plain": [
       "'(feat. Maluma)'"
      ]
     },
     "execution_count": 22,
     "metadata": {},
     "output_type": "execute_result"
    }
   ],
   "source": [
    "test_string[13:]"
   ]
  },
  {
   "cell_type": "code",
   "execution_count": 23,
   "id": "fd251fcb",
   "metadata": {
    "scrolled": true
   },
   "outputs": [],
   "source": [
    "test_string = test_string[:test_string.find(\" (\")]"
   ]
  },
  {
   "cell_type": "code",
   "execution_count": 24,
   "id": "c76110b7",
   "metadata": {},
   "outputs": [],
   "source": [
    "track_string = test_string"
   ]
  },
  {
   "cell_type": "code",
   "execution_count": 25,
   "id": "98b37be1",
   "metadata": {},
   "outputs": [
    {
     "data": {
      "text/plain": [
       "'Vente Pa Ca'"
      ]
     },
     "execution_count": 25,
     "metadata": {},
     "output_type": "execute_result"
    }
   ],
   "source": [
    "test_string = test_string.replace(\"' \", \" \")\n",
    "test_string"
   ]
  },
  {
   "cell_type": "code",
   "execution_count": 26,
   "id": "9a4fec4a",
   "metadata": {},
   "outputs": [
    {
     "data": {
      "text/plain": [
       "\"Vente Pa' Ca\""
      ]
     },
     "execution_count": 26,
     "metadata": {},
     "output_type": "execute_result"
    }
   ],
   "source": [
    "track_string"
   ]
  },
  {
   "cell_type": "code",
   "execution_count": 27,
   "id": "469278fc",
   "metadata": {},
   "outputs": [],
   "source": [
    "test_string = str(test_string.replace(\" \", \"-\"))"
   ]
  },
  {
   "cell_type": "code",
   "execution_count": 28,
   "id": "3abe42f4",
   "metadata": {},
   "outputs": [
    {
     "data": {
      "text/plain": [
       "'Vente-Pa-Ca'"
      ]
     },
     "execution_count": 28,
     "metadata": {},
     "output_type": "execute_result"
    }
   ],
   "source": [
    "test_string"
   ]
  },
  {
   "cell_type": "code",
   "execution_count": 32,
   "id": "e4031ec2",
   "metadata": {},
   "outputs": [],
   "source": [
    "artist_url = str(top200.artist[1])"
   ]
  },
  {
   "cell_type": "code",
   "execution_count": 33,
   "id": "1d57469d",
   "metadata": {},
   "outputs": [],
   "source": [
    "artist_string = artist_url"
   ]
  },
  {
   "cell_type": "code",
   "execution_count": 34,
   "id": "85fd4495",
   "metadata": {},
   "outputs": [],
   "source": [
    "artist_url = str(artisu_url.replace(\" \", \"-\"))"
   ]
  },
  {
   "cell_type": "code",
   "execution_count": 35,
   "id": "c73736b7",
   "metadata": {},
   "outputs": [
    {
     "data": {
      "text/plain": [
       "'Ricky-Martin'"
      ]
     },
     "execution_count": 35,
     "metadata": {},
     "output_type": "execute_result"
    }
   ],
   "source": [
    "artist_url"
   ]
  },
  {
   "cell_type": "code",
   "execution_count": 36,
   "id": "bd78e0ee",
   "metadata": {},
   "outputs": [],
   "source": [
    "def split_string(string, delimiters):\n",
    "    pattern = r'|'.join(delimiters)\n",
    "    return split(pattern, string)"
   ]
  },
  {
   "cell_type": "code",
   "execution_count": 37,
   "id": "5a0d2664",
   "metadata": {},
   "outputs": [],
   "source": [
    "def scraper(artist, track):\n",
    "    \n",
    "    #r = requests.get('https://genius.com/' + artist + '-' + track + '-lyrics')\n",
    "    r = str('https://genius.com/' + artist + '-' + track + '-lyrics')\n",
    "\n",
    "    return str(r)"
   ]
  },
  {
   "cell_type": "code",
   "execution_count": 38,
   "id": "7ebf41d1",
   "metadata": {},
   "outputs": [
    {
     "data": {
      "text/plain": [
       "'https://genius.com/Ricky-Martin-Vente-Pa-Ca-lyrics'"
      ]
     },
     "execution_count": 38,
     "metadata": {},
     "output_type": "execute_result"
    }
   ],
   "source": [
    "scraper(artist_url, test_string)"
   ]
  },
  {
   "cell_type": "code",
   "execution_count": 39,
   "id": "7713e220",
   "metadata": {},
   "outputs": [],
   "source": [
    "def track_info(x):\n",
    "    current_artist = top200.artist[x]\n",
    "    current_title = top200.title[x]\n",
    "    \n",
    "    # Getting the artist\n",
    "    current_title.find(\"(\")\n",
    "    current_title = current_title[:current_title.find(\" (\")]\n",
    "    current_title = current_title.replace(\"' \", \" \")\n",
    "    current_title = current_title.replace(\" \", \"-\")\n",
    "    \n",
    "    #Getting the track\n",
    "    current_artist.find(\"(\")\n",
    "    current_artist = current_artist.replace(\" \", \"-\")\n",
    "    \n",
    "    return str(current_artist+\"-\"+current_title)"
   ]
  },
  {
   "cell_type": "code",
   "execution_count": 40,
   "id": "793d9558",
   "metadata": {},
   "outputs": [
    {
     "data": {
      "text/plain": [
       "'Ricky-Martin-Vente-Pa-Ca'"
      ]
     },
     "execution_count": 40,
     "metadata": {},
     "output_type": "execute_result"
    }
   ],
   "source": [
    "track_info(1)"
   ]
  },
  {
   "cell_type": "markdown",
   "id": "303d8fd0",
   "metadata": {},
   "source": [
    "# Scraper"
   ]
  },
  {
   "cell_type": "code",
   "execution_count": 131,
   "id": "2450afc0",
   "metadata": {},
   "outputs": [],
   "source": [
    "def extract_credits(URL):\n",
    "    \n",
    "    r = requests.get(URL)\n",
    "    # Parsing the HTML\n",
    "    soup = BeautifulSoup(r.content, 'html.parser')\n",
    "    s = soup.find('div', class_='SongInfo__Columns-nekw6x-2 lgBflw')\n",
    "    \n",
    "    featur = []\n",
    "    writer = []\n",
    "    label = []\n",
    "    producer = []\n",
    "    \n",
    "    for line in s:\n",
    "        div = line.find('div').text\n",
    "        an = line.find_all('a')\n",
    "\n",
    "\n",
    "        if 'Featuring' in div: \n",
    "            extract = [x.text for x in an]\n",
    "            for x in extract:\n",
    "                featur.append(x)\n",
    "            \n",
    "       \n",
    "            \n",
    "        if 'Written By' in div:\n",
    "            extract = [x.text for x in an]\n",
    "            for x in extract:\n",
    "                writer.append(x)\n",
    "\n",
    "\n",
    "         \n",
    "        if 'Label' in div:\n",
    "            extract = [x.text for x in an]\n",
    "            for x in extract:\n",
    "                label.append(x)\n",
    "         \n",
    "        if 'Produced By' in div:\n",
    "            extract = [x.text for x in an]\n",
    "            for x in extract:\n",
    "                producer.append(x)\n",
    "\n",
    "            \n",
    "            \n",
    "    collection = {\"Feature\":featur, \"Writer\":writer, \"Label\":label, \"Producer\":producer}        \n",
    "        \n",
    "        \n",
    "    return collection"
   ]
  },
  {
   "cell_type": "code",
   "execution_count": 132,
   "id": "a2f4eebc",
   "metadata": {},
   "outputs": [],
   "source": [
    "def get_url(x):  \n",
    "    search_param = track_info(x)\n",
    "    r = str('https://genius.com/'+search_param+'-lyrics')\n",
    "    return str(r)"
   ]
  },
  {
   "cell_type": "code",
   "execution_count": 133,
   "id": "48a8191e",
   "metadata": {},
   "outputs": [
    {
     "data": {
      "text/plain": [
       "\"Vente Pa' Ca\""
      ]
     },
     "execution_count": 133,
     "metadata": {},
     "output_type": "execute_result"
    }
   ],
   "source": [
    "track_string"
   ]
  },
  {
   "cell_type": "code",
   "execution_count": 134,
   "id": "98de5b1e",
   "metadata": {},
   "outputs": [
    {
     "data": {
      "text/plain": [
       "'Ricky Martin'"
      ]
     },
     "execution_count": 134,
     "metadata": {},
     "output_type": "execute_result"
    }
   ],
   "source": [
    "artist_string"
   ]
  },
  {
   "cell_type": "code",
   "execution_count": 135,
   "id": "a099bbb1",
   "metadata": {},
   "outputs": [
    {
     "data": {
      "text/plain": [
       "'https://genius.com/Ricky-Martin-Vente-Pa-Ca-lyrics'"
      ]
     },
     "execution_count": 135,
     "metadata": {},
     "output_type": "execute_result"
    }
   ],
   "source": [
    "scraper(artist_url, test_string)"
   ]
  },
  {
   "cell_type": "code",
   "execution_count": 136,
   "id": "ddf3c3d7",
   "metadata": {},
   "outputs": [],
   "source": [
    "the_list = extract_credits(scraper(artist_url, test_string))"
   ]
  },
  {
   "cell_type": "code",
   "execution_count": 137,
   "id": "b565066e",
   "metadata": {
    "scrolled": true
   },
   "outputs": [
    {
     "data": {
      "text/plain": [
       "{'Feature': ['Maluma'],\n",
       " 'Writer': ['Ronny Svendsen',\n",
       "  'Chief 1',\n",
       "  'Justin Jesso',\n",
       "  'Anne Judith Wik',\n",
       "  'Maluma',\n",
       "  'Carl Ryden',\n",
       "  'Nermin Harambašić',\n",
       "  'Ricky Martin',\n",
       "  'Mauricio Sebastián Montaner',\n",
       "  'Ricardo Andrés Montaner'],\n",
       " 'Label': [],\n",
       " 'Producer': ['Alexander “A.C.” Castillo']}"
      ]
     },
     "execution_count": 137,
     "metadata": {},
     "output_type": "execute_result"
    }
   ],
   "source": [
    "the_list"
   ]
  },
  {
   "cell_type": "code",
   "execution_count": 138,
   "id": "d052a8e4",
   "metadata": {},
   "outputs": [
    {
     "data": {
      "text/plain": [
       "dict_values([['Maluma'], ['Ronny Svendsen', 'Chief 1', 'Justin Jesso', 'Anne Judith Wik', 'Maluma', 'Carl Ryden', 'Nermin Harambašić', 'Ricky Martin', 'Mauricio Sebastián Montaner', 'Ricardo Andrés Montaner'], [], ['Alexander “A.C.” Castillo']])"
      ]
     },
     "execution_count": 138,
     "metadata": {},
     "output_type": "execute_result"
    }
   ],
   "source": [
    "the_list.values()"
   ]
  },
  {
   "cell_type": "markdown",
   "id": "8e2abc26",
   "metadata": {},
   "source": [
    "***"
   ]
  },
  {
   "cell_type": "markdown",
   "id": "7a942333",
   "metadata": {},
   "source": [
    "# Dict to csv"
   ]
  },
  {
   "cell_type": "code",
   "execution_count": 139,
   "id": "7044a409",
   "metadata": {},
   "outputs": [],
   "source": [
    "import csv"
   ]
  },
  {
   "cell_type": "code",
   "execution_count": 140,
   "id": "6ea5bd24",
   "metadata": {},
   "outputs": [],
   "source": [
    "the_list = pd.DataFrame.from_dict(the_list, orient='index').T"
   ]
  },
  {
   "cell_type": "code",
   "execution_count": 141,
   "id": "2b7114a5",
   "metadata": {
    "scrolled": true
   },
   "outputs": [
    {
     "data": {
      "text/html": [
       "<div>\n",
       "<style scoped>\n",
       "    .dataframe tbody tr th:only-of-type {\n",
       "        vertical-align: middle;\n",
       "    }\n",
       "\n",
       "    .dataframe tbody tr th {\n",
       "        vertical-align: top;\n",
       "    }\n",
       "\n",
       "    .dataframe thead th {\n",
       "        text-align: right;\n",
       "    }\n",
       "</style>\n",
       "<table border=\"1\" class=\"dataframe\">\n",
       "  <thead>\n",
       "    <tr style=\"text-align: right;\">\n",
       "      <th></th>\n",
       "      <th>Feature</th>\n",
       "      <th>Writer</th>\n",
       "      <th>Label</th>\n",
       "      <th>Producer</th>\n",
       "    </tr>\n",
       "  </thead>\n",
       "  <tbody>\n",
       "    <tr>\n",
       "      <th>0</th>\n",
       "      <td>Maluma</td>\n",
       "      <td>Ronny Svendsen</td>\n",
       "      <td>None</td>\n",
       "      <td>Alexander “A.C.” Castillo</td>\n",
       "    </tr>\n",
       "    <tr>\n",
       "      <th>1</th>\n",
       "      <td>None</td>\n",
       "      <td>Chief 1</td>\n",
       "      <td>None</td>\n",
       "      <td>None</td>\n",
       "    </tr>\n",
       "    <tr>\n",
       "      <th>2</th>\n",
       "      <td>None</td>\n",
       "      <td>Justin Jesso</td>\n",
       "      <td>None</td>\n",
       "      <td>None</td>\n",
       "    </tr>\n",
       "    <tr>\n",
       "      <th>3</th>\n",
       "      <td>None</td>\n",
       "      <td>Anne Judith Wik</td>\n",
       "      <td>None</td>\n",
       "      <td>None</td>\n",
       "    </tr>\n",
       "    <tr>\n",
       "      <th>4</th>\n",
       "      <td>None</td>\n",
       "      <td>Maluma</td>\n",
       "      <td>None</td>\n",
       "      <td>None</td>\n",
       "    </tr>\n",
       "    <tr>\n",
       "      <th>5</th>\n",
       "      <td>None</td>\n",
       "      <td>Carl Ryden</td>\n",
       "      <td>None</td>\n",
       "      <td>None</td>\n",
       "    </tr>\n",
       "    <tr>\n",
       "      <th>6</th>\n",
       "      <td>None</td>\n",
       "      <td>Nermin Harambašić</td>\n",
       "      <td>None</td>\n",
       "      <td>None</td>\n",
       "    </tr>\n",
       "    <tr>\n",
       "      <th>7</th>\n",
       "      <td>None</td>\n",
       "      <td>Ricky Martin</td>\n",
       "      <td>None</td>\n",
       "      <td>None</td>\n",
       "    </tr>\n",
       "    <tr>\n",
       "      <th>8</th>\n",
       "      <td>None</td>\n",
       "      <td>Mauricio Sebastián Montaner</td>\n",
       "      <td>None</td>\n",
       "      <td>None</td>\n",
       "    </tr>\n",
       "    <tr>\n",
       "      <th>9</th>\n",
       "      <td>None</td>\n",
       "      <td>Ricardo Andrés Montaner</td>\n",
       "      <td>None</td>\n",
       "      <td>None</td>\n",
       "    </tr>\n",
       "  </tbody>\n",
       "</table>\n",
       "</div>"
      ],
      "text/plain": [
       "  Feature                       Writer Label                   Producer\n",
       "0  Maluma               Ronny Svendsen  None  Alexander “A.C.” Castillo\n",
       "1    None                      Chief 1  None                       None\n",
       "2    None                 Justin Jesso  None                       None\n",
       "3    None              Anne Judith Wik  None                       None\n",
       "4    None                       Maluma  None                       None\n",
       "5    None                   Carl Ryden  None                       None\n",
       "6    None            Nermin Harambašić  None                       None\n",
       "7    None                 Ricky Martin  None                       None\n",
       "8    None  Mauricio Sebastián Montaner  None                       None\n",
       "9    None      Ricardo Andrés Montaner  None                       None"
      ]
     },
     "execution_count": 141,
     "metadata": {},
     "output_type": "execute_result"
    }
   ],
   "source": [
    "the_list"
   ]
  },
  {
   "cell_type": "code",
   "execution_count": 142,
   "id": "a638c92d",
   "metadata": {},
   "outputs": [],
   "source": [
    "import pandas as pd\n",
    "df = pd.DataFrame.from_dict(the_list) \n",
    "df.to_csv (r'C:\\Users\\Nmtur\\.Neo4jDesktop\\relate-data\\dbmss\\dbms-20b18527-223b-4ada-8e62-429ad982fc9b\\import\\test8.csv', index = False, header=True)"
   ]
  },
  {
   "cell_type": "code",
   "execution_count": null,
   "id": "fe29b31e",
   "metadata": {},
   "outputs": [],
   "source": []
  },
  {
   "cell_type": "code",
   "execution_count": 143,
   "id": "5ed8f96b",
   "metadata": {},
   "outputs": [
    {
     "data": {
      "text/html": [
       "<div>\n",
       "<style scoped>\n",
       "    .dataframe tbody tr th:only-of-type {\n",
       "        vertical-align: middle;\n",
       "    }\n",
       "\n",
       "    .dataframe tbody tr th {\n",
       "        vertical-align: top;\n",
       "    }\n",
       "\n",
       "    .dataframe thead th {\n",
       "        text-align: right;\n",
       "    }\n",
       "</style>\n",
       "<table border=\"1\" class=\"dataframe\">\n",
       "  <thead>\n",
       "    <tr style=\"text-align: right;\">\n",
       "      <th></th>\n",
       "      <th>Feature</th>\n",
       "      <th>Writer</th>\n",
       "      <th>Label</th>\n",
       "      <th>Producer</th>\n",
       "    </tr>\n",
       "  </thead>\n",
       "  <tbody>\n",
       "    <tr>\n",
       "      <th>0</th>\n",
       "      <td>Maluma</td>\n",
       "      <td>Ronny Svendsen</td>\n",
       "      <td>None</td>\n",
       "      <td>Alexander “A.C.” Castillo</td>\n",
       "    </tr>\n",
       "    <tr>\n",
       "      <th>1</th>\n",
       "      <td>None</td>\n",
       "      <td>Chief 1</td>\n",
       "      <td>None</td>\n",
       "      <td>None</td>\n",
       "    </tr>\n",
       "    <tr>\n",
       "      <th>2</th>\n",
       "      <td>None</td>\n",
       "      <td>Justin Jesso</td>\n",
       "      <td>None</td>\n",
       "      <td>None</td>\n",
       "    </tr>\n",
       "    <tr>\n",
       "      <th>3</th>\n",
       "      <td>None</td>\n",
       "      <td>Anne Judith Wik</td>\n",
       "      <td>None</td>\n",
       "      <td>None</td>\n",
       "    </tr>\n",
       "    <tr>\n",
       "      <th>4</th>\n",
       "      <td>None</td>\n",
       "      <td>Maluma</td>\n",
       "      <td>None</td>\n",
       "      <td>None</td>\n",
       "    </tr>\n",
       "    <tr>\n",
       "      <th>5</th>\n",
       "      <td>None</td>\n",
       "      <td>Carl Ryden</td>\n",
       "      <td>None</td>\n",
       "      <td>None</td>\n",
       "    </tr>\n",
       "    <tr>\n",
       "      <th>6</th>\n",
       "      <td>None</td>\n",
       "      <td>Nermin Harambašić</td>\n",
       "      <td>None</td>\n",
       "      <td>None</td>\n",
       "    </tr>\n",
       "    <tr>\n",
       "      <th>7</th>\n",
       "      <td>None</td>\n",
       "      <td>Ricky Martin</td>\n",
       "      <td>None</td>\n",
       "      <td>None</td>\n",
       "    </tr>\n",
       "    <tr>\n",
       "      <th>8</th>\n",
       "      <td>None</td>\n",
       "      <td>Mauricio Sebastián Montaner</td>\n",
       "      <td>None</td>\n",
       "      <td>None</td>\n",
       "    </tr>\n",
       "    <tr>\n",
       "      <th>9</th>\n",
       "      <td>None</td>\n",
       "      <td>Ricardo Andrés Montaner</td>\n",
       "      <td>None</td>\n",
       "      <td>None</td>\n",
       "    </tr>\n",
       "  </tbody>\n",
       "</table>\n",
       "</div>"
      ],
      "text/plain": [
       "  Feature                       Writer Label                   Producer\n",
       "0  Maluma               Ronny Svendsen  None  Alexander “A.C.” Castillo\n",
       "1    None                      Chief 1  None                       None\n",
       "2    None                 Justin Jesso  None                       None\n",
       "3    None              Anne Judith Wik  None                       None\n",
       "4    None                       Maluma  None                       None\n",
       "5    None                   Carl Ryden  None                       None\n",
       "6    None            Nermin Harambašić  None                       None\n",
       "7    None                 Ricky Martin  None                       None\n",
       "8    None  Mauricio Sebastián Montaner  None                       None\n",
       "9    None      Ricardo Andrés Montaner  None                       None"
      ]
     },
     "execution_count": 143,
     "metadata": {},
     "output_type": "execute_result"
    }
   ],
   "source": [
    "df"
   ]
  },
  {
   "cell_type": "code",
   "execution_count": null,
   "id": "76d4ddf5",
   "metadata": {},
   "outputs": [],
   "source": []
  },
  {
   "cell_type": "code",
   "execution_count": null,
   "id": "19a6788d",
   "metadata": {},
   "outputs": [],
   "source": []
  },
  {
   "cell_type": "code",
   "execution_count": null,
   "id": "99dc9a7e",
   "metadata": {},
   "outputs": [],
   "source": []
  },
  {
   "cell_type": "code",
   "execution_count": null,
   "id": "3e8c777e",
   "metadata": {},
   "outputs": [],
   "source": []
  },
  {
   "cell_type": "markdown",
   "id": "2a9559af",
   "metadata": {},
   "source": [
    "# Neo4j"
   ]
  },
  {
   "cell_type": "code",
   "execution_count": 144,
   "id": "3a7ad0df",
   "metadata": {},
   "outputs": [],
   "source": [
    "from neo4j import GraphDatabase \n",
    "from pandas.io.json import json_normalize\n",
    "import pandas as pd\n",
    "import matplotlib.pyplot as plt\n",
    "import seaborn as sns\n",
    "from py2neo import Graph,Node,Relationship"
   ]
  },
  {
   "cell_type": "code",
   "execution_count": 145,
   "id": "2d5100f4",
   "metadata": {},
   "outputs": [],
   "source": [
    "# Create connection to database\n",
    "\n",
    "class neo4jConnection:\n",
    "    \n",
    "    def __init__(self, uri, user, pwd):\n",
    "        self.__uri = uri\n",
    "        self.__user = user\n",
    "        self.__pwd = pwd\n",
    "        self.__driver = None\n",
    "        try:\n",
    "            self.__driver = GraphDatabase.driver(self.__uri, auth=(self.__user, self.__pwd))\n",
    "        except Exception as e:\n",
    "                print(\"Failed to create the driver: \", e)\n",
    "                \n",
    "    def query(self, query, db=None):\n",
    "        assert self.__driver is not None, \"Driver not initialized!\"\n",
    "        session = None\n",
    "        response = None\n",
    "        try:\n",
    "            session = self.__driver.session(database=db) if db is not None else self.__driver.session()\n",
    "            response = list(session.run(query))\n",
    "        except Exception as e:\n",
    "            print(\"Query failed!\", e)\n",
    "        finally:\n",
    "            if session is not None:\n",
    "                session.close()\n",
    "        return response\n",
    "    \n",
    "    def close(self):\n",
    "        if self.__driver is not None:\n",
    "            self.__driver.close()"
   ]
  },
  {
   "cell_type": "code",
   "execution_count": 158,
   "id": "e7ed5edc",
   "metadata": {},
   "outputs": [
    {
     "name": "stdout",
     "output_type": "stream",
     "text": [
      "not ok\n"
     ]
    }
   ],
   "source": [
    "conn = neo4jConnection(uri=\"bolt://localhost:7687\", user=\"neo4j\", pwd=\"test123\")\n",
    "try:\n",
    "    graph.run(\"Match () Return 1 Limit 1\")\n",
    "    print('ok')\n",
    "except Exception:\n",
    "    print('not ok')"
   ]
  },
  {
   "cell_type": "code",
   "execution_count": 159,
   "id": "b82a8e67",
   "metadata": {},
   "outputs": [
    {
     "data": {
      "text/plain": [
       "\"Vente Pa' Ca\""
      ]
     },
     "execution_count": 159,
     "metadata": {},
     "output_type": "execute_result"
    }
   ],
   "source": [
    "track_string"
   ]
  },
  {
   "cell_type": "code",
   "execution_count": 161,
   "id": "0173724e",
   "metadata": {},
   "outputs": [
    {
     "data": {
      "text/plain": [
       "[]"
      ]
     },
     "execution_count": 161,
     "metadata": {},
     "output_type": "execute_result"
    }
   ],
   "source": [
    "conn.query('''\n",
    "LOAD CSV WITH HEADERS FROM \"file:///test8.csv\" AS row\n",
    "WITH row WHERE row.Feature IS NOT NULL\n",
    "MERGE (a:Person {name:row.Feature, title:\"Artist\"})\n",
    "MERGE (a1:Person {name:\"'''+artist_string+'''\", title:\"Artist\"})\n",
    "CREATE (l:Label {name:\"Sony Music\"})\n",
    "CREATE (s:Song {name:\"'''+track_string+'''\"})\n",
    "MERGE (a)-[:COLLABORATED]-(a1)\n",
    "MERGE (a)-[:FEATURED]->(s)<-[:SANG]-(a1)\n",
    "MERGE (l)-[:RELEASED]->(s)\n",
    "''')"
   ]
  },
  {
   "cell_type": "code",
   "execution_count": 151,
   "id": "c0fea6eb",
   "metadata": {},
   "outputs": [
    {
     "data": {
      "text/plain": [
       "'Ricky Martin'"
      ]
     },
     "execution_count": 151,
     "metadata": {},
     "output_type": "execute_result"
    }
   ],
   "source": [
    "artist_string"
   ]
  },
  {
   "cell_type": "code",
   "execution_count": 157,
   "id": "16465bc8",
   "metadata": {},
   "outputs": [
    {
     "data": {
      "text/plain": [
       "[]"
      ]
     },
     "execution_count": 157,
     "metadata": {},
     "output_type": "execute_result"
    }
   ],
   "source": [
    "conn.query('''\n",
    "LOAD CSV WITH HEADERS FROM \"file:///test8.csv\" AS row WITH row WHERE row.feature IS NOT null\n",
    "MERGE (f:Feature {feature:row.`Feature`})\n",
    "''')"
   ]
  },
  {
   "cell_type": "code",
   "execution_count": null,
   "id": "8966b63c",
   "metadata": {},
   "outputs": [],
   "source": [
    " \tFeature \tWriter \tLabel \tProducer"
   ]
  }
 ],
 "metadata": {
  "kernelspec": {
   "display_name": "Python 3 (ipykernel)",
   "language": "python",
   "name": "python3"
  },
  "language_info": {
   "codemirror_mode": {
    "name": "ipython",
    "version": 3
   },
   "file_extension": ".py",
   "mimetype": "text/x-python",
   "name": "python",
   "nbconvert_exporter": "python",
   "pygments_lexer": "ipython3",
   "version": "3.9.7"
  }
 },
 "nbformat": 4,
 "nbformat_minor": 5
}
