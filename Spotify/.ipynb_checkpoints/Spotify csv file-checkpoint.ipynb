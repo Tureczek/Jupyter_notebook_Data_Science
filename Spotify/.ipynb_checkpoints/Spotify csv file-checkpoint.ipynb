{
 "cells": [
  {
   "cell_type": "markdown",
   "id": "0ce4f687",
   "metadata": {},
   "source": [
    "## Preperation for data science examn project"
   ]
  },
  {
   "cell_type": "code",
   "execution_count": 221,
   "id": "a77e7f4e",
   "metadata": {},
   "outputs": [],
   "source": [
    "import numpy as np\n",
    "import pandas as pd\n",
    "import matplotlib.pyplot as plt\n",
    "import seaborn as sns\n",
    "\n",
    "from sklearn.linear_model import LinearRegression\n",
    "from sklearn import linear_model\n",
    "from sklearn.preprocessing import PolynomialFeatures\n",
    "import sklearn.metrics as sm\n",
    "\n",
    "\n",
    "import re\n",
    "\n",
    "import spotipy\n",
    "from spotipy.oauth2 import SpotifyClientCredentials\n",
    "\n",
    "import requests\n",
    "import json\n",
    "from pandas.io.json import json_normalize\n",
    "from urllib.request import urlopen\n",
    "from bs4 import BeautifulSoup"
   ]
  },
  {
   "cell_type": "code",
   "execution_count": 2,
   "id": "a55e2419",
   "metadata": {},
   "outputs": [],
   "source": [
    "data = pd.read_csv('charts.csv')"
   ]
  },
  {
   "cell_type": "code",
   "execution_count": 3,
   "id": "a955a8ab",
   "metadata": {},
   "outputs": [
    {
     "data": {
      "text/plain": [
       "(26173514, 9)"
      ]
     },
     "execution_count": 3,
     "metadata": {},
     "output_type": "execute_result"
    }
   ],
   "source": [
    "data.shape"
   ]
  },
  {
   "cell_type": "code",
   "execution_count": 4,
   "id": "25829c78",
   "metadata": {},
   "outputs": [
    {
     "data": {
      "text/html": [
       "<div>\n",
       "<style scoped>\n",
       "    .dataframe tbody tr th:only-of-type {\n",
       "        vertical-align: middle;\n",
       "    }\n",
       "\n",
       "    .dataframe tbody tr th {\n",
       "        vertical-align: top;\n",
       "    }\n",
       "\n",
       "    .dataframe thead th {\n",
       "        text-align: right;\n",
       "    }\n",
       "</style>\n",
       "<table border=\"1\" class=\"dataframe\">\n",
       "  <thead>\n",
       "    <tr style=\"text-align: right;\">\n",
       "      <th></th>\n",
       "      <th>title</th>\n",
       "      <th>rank</th>\n",
       "      <th>date</th>\n",
       "      <th>artist</th>\n",
       "      <th>url</th>\n",
       "      <th>region</th>\n",
       "      <th>chart</th>\n",
       "      <th>trend</th>\n",
       "      <th>streams</th>\n",
       "    </tr>\n",
       "  </thead>\n",
       "  <tbody>\n",
       "    <tr>\n",
       "      <th>0</th>\n",
       "      <td>Chantaje (feat. Maluma)</td>\n",
       "      <td>1</td>\n",
       "      <td>2017-01-01</td>\n",
       "      <td>Shakira</td>\n",
       "      <td>https://open.spotify.com/track/6mICuAdrwEjh6Y6...</td>\n",
       "      <td>Argentina</td>\n",
       "      <td>top200</td>\n",
       "      <td>SAME_POSITION</td>\n",
       "      <td>253019.0</td>\n",
       "    </tr>\n",
       "    <tr>\n",
       "      <th>1</th>\n",
       "      <td>Vente Pa' Ca (feat. Maluma)</td>\n",
       "      <td>2</td>\n",
       "      <td>2017-01-01</td>\n",
       "      <td>Ricky Martin</td>\n",
       "      <td>https://open.spotify.com/track/7DM4BPaS7uofFul...</td>\n",
       "      <td>Argentina</td>\n",
       "      <td>top200</td>\n",
       "      <td>MOVE_UP</td>\n",
       "      <td>223988.0</td>\n",
       "    </tr>\n",
       "    <tr>\n",
       "      <th>2</th>\n",
       "      <td>Reggaetón Lento (Bailemos)</td>\n",
       "      <td>3</td>\n",
       "      <td>2017-01-01</td>\n",
       "      <td>CNCO</td>\n",
       "      <td>https://open.spotify.com/track/3AEZUABDXNtecAO...</td>\n",
       "      <td>Argentina</td>\n",
       "      <td>top200</td>\n",
       "      <td>MOVE_DOWN</td>\n",
       "      <td>210943.0</td>\n",
       "    </tr>\n",
       "    <tr>\n",
       "      <th>3</th>\n",
       "      <td>Safari</td>\n",
       "      <td>4</td>\n",
       "      <td>2017-01-01</td>\n",
       "      <td>J Balvin, Pharrell Williams, BIA, Sky</td>\n",
       "      <td>https://open.spotify.com/track/6rQSrBHf7HlZjtc...</td>\n",
       "      <td>Argentina</td>\n",
       "      <td>top200</td>\n",
       "      <td>SAME_POSITION</td>\n",
       "      <td>173865.0</td>\n",
       "    </tr>\n",
       "    <tr>\n",
       "      <th>4</th>\n",
       "      <td>Shaky Shaky</td>\n",
       "      <td>5</td>\n",
       "      <td>2017-01-01</td>\n",
       "      <td>Daddy Yankee</td>\n",
       "      <td>https://open.spotify.com/track/58IL315gMSTD37D...</td>\n",
       "      <td>Argentina</td>\n",
       "      <td>top200</td>\n",
       "      <td>MOVE_UP</td>\n",
       "      <td>153956.0</td>\n",
       "    </tr>\n",
       "  </tbody>\n",
       "</table>\n",
       "</div>"
      ],
      "text/plain": [
       "                         title  rank        date  \\\n",
       "0      Chantaje (feat. Maluma)     1  2017-01-01   \n",
       "1  Vente Pa' Ca (feat. Maluma)     2  2017-01-01   \n",
       "2   Reggaetón Lento (Bailemos)     3  2017-01-01   \n",
       "3                       Safari     4  2017-01-01   \n",
       "4                  Shaky Shaky     5  2017-01-01   \n",
       "\n",
       "                                  artist  \\\n",
       "0                                Shakira   \n",
       "1                           Ricky Martin   \n",
       "2                                   CNCO   \n",
       "3  J Balvin, Pharrell Williams, BIA, Sky   \n",
       "4                           Daddy Yankee   \n",
       "\n",
       "                                                 url     region   chart  \\\n",
       "0  https://open.spotify.com/track/6mICuAdrwEjh6Y6...  Argentina  top200   \n",
       "1  https://open.spotify.com/track/7DM4BPaS7uofFul...  Argentina  top200   \n",
       "2  https://open.spotify.com/track/3AEZUABDXNtecAO...  Argentina  top200   \n",
       "3  https://open.spotify.com/track/6rQSrBHf7HlZjtc...  Argentina  top200   \n",
       "4  https://open.spotify.com/track/58IL315gMSTD37D...  Argentina  top200   \n",
       "\n",
       "           trend   streams  \n",
       "0  SAME_POSITION  253019.0  \n",
       "1        MOVE_UP  223988.0  \n",
       "2      MOVE_DOWN  210943.0  \n",
       "3  SAME_POSITION  173865.0  \n",
       "4        MOVE_UP  153956.0  "
      ]
     },
     "execution_count": 4,
     "metadata": {},
     "output_type": "execute_result"
    }
   ],
   "source": [
    "data.head()"
   ]
  },
  {
   "cell_type": "code",
   "execution_count": 5,
   "id": "f23f7a5f",
   "metadata": {},
   "outputs": [
    {
     "data": {
      "text/html": [
       "<div>\n",
       "<style scoped>\n",
       "    .dataframe tbody tr th:only-of-type {\n",
       "        vertical-align: middle;\n",
       "    }\n",
       "\n",
       "    .dataframe tbody tr th {\n",
       "        vertical-align: top;\n",
       "    }\n",
       "\n",
       "    .dataframe thead th {\n",
       "        text-align: right;\n",
       "    }\n",
       "</style>\n",
       "<table border=\"1\" class=\"dataframe\">\n",
       "  <thead>\n",
       "    <tr style=\"text-align: right;\">\n",
       "      <th></th>\n",
       "      <th>title</th>\n",
       "      <th>rank</th>\n",
       "      <th>date</th>\n",
       "      <th>artist</th>\n",
       "      <th>url</th>\n",
       "      <th>region</th>\n",
       "      <th>chart</th>\n",
       "      <th>trend</th>\n",
       "      <th>streams</th>\n",
       "    </tr>\n",
       "  </thead>\n",
       "  <tbody>\n",
       "    <tr>\n",
       "      <th>26173509</th>\n",
       "      <td>BYE</td>\n",
       "      <td>46</td>\n",
       "      <td>2021-07-31</td>\n",
       "      <td>Jaden</td>\n",
       "      <td>https://open.spotify.com/track/3OUyyDN7EZrL7i0...</td>\n",
       "      <td>Vietnam</td>\n",
       "      <td>viral50</td>\n",
       "      <td>MOVE_UP</td>\n",
       "      <td>NaN</td>\n",
       "    </tr>\n",
       "    <tr>\n",
       "      <th>26173510</th>\n",
       "      <td>Pillars</td>\n",
       "      <td>47</td>\n",
       "      <td>2021-07-31</td>\n",
       "      <td>My Anh</td>\n",
       "      <td>https://open.spotify.com/track/6eky30oFiQbHUAT...</td>\n",
       "      <td>Vietnam</td>\n",
       "      <td>viral50</td>\n",
       "      <td>NEW_ENTRY</td>\n",
       "      <td>NaN</td>\n",
       "    </tr>\n",
       "    <tr>\n",
       "      <th>26173511</th>\n",
       "      <td>Gái Độc Thân</td>\n",
       "      <td>48</td>\n",
       "      <td>2021-07-31</td>\n",
       "      <td>Tlinh</td>\n",
       "      <td>https://open.spotify.com/track/2klsSb2iTfgDh95...</td>\n",
       "      <td>Vietnam</td>\n",
       "      <td>viral50</td>\n",
       "      <td>MOVE_DOWN</td>\n",
       "      <td>NaN</td>\n",
       "    </tr>\n",
       "    <tr>\n",
       "      <th>26173512</th>\n",
       "      <td>Renegade (feat. Taylor Swift)</td>\n",
       "      <td>49</td>\n",
       "      <td>2021-07-31</td>\n",
       "      <td>Big Red Machine</td>\n",
       "      <td>https://open.spotify.com/track/1aU1wpYBSpP0M6I...</td>\n",
       "      <td>Vietnam</td>\n",
       "      <td>viral50</td>\n",
       "      <td>MOVE_DOWN</td>\n",
       "      <td>NaN</td>\n",
       "    </tr>\n",
       "    <tr>\n",
       "      <th>26173513</th>\n",
       "      <td>Letter to Jarad</td>\n",
       "      <td>50</td>\n",
       "      <td>2021-07-31</td>\n",
       "      <td>LRN Slime, Shiloh Dynasty</td>\n",
       "      <td>https://open.spotify.com/track/508QhA2SncMbh5C...</td>\n",
       "      <td>Vietnam</td>\n",
       "      <td>viral50</td>\n",
       "      <td>MOVE_DOWN</td>\n",
       "      <td>NaN</td>\n",
       "    </tr>\n",
       "  </tbody>\n",
       "</table>\n",
       "</div>"
      ],
      "text/plain": [
       "                                  title  rank        date  \\\n",
       "26173509                            BYE    46  2021-07-31   \n",
       "26173510                        Pillars    47  2021-07-31   \n",
       "26173511                   Gái Độc Thân    48  2021-07-31   \n",
       "26173512  Renegade (feat. Taylor Swift)    49  2021-07-31   \n",
       "26173513                Letter to Jarad    50  2021-07-31   \n",
       "\n",
       "                             artist  \\\n",
       "26173509                      Jaden   \n",
       "26173510                     My Anh   \n",
       "26173511                      Tlinh   \n",
       "26173512            Big Red Machine   \n",
       "26173513  LRN Slime, Shiloh Dynasty   \n",
       "\n",
       "                                                        url   region    chart  \\\n",
       "26173509  https://open.spotify.com/track/3OUyyDN7EZrL7i0...  Vietnam  viral50   \n",
       "26173510  https://open.spotify.com/track/6eky30oFiQbHUAT...  Vietnam  viral50   \n",
       "26173511  https://open.spotify.com/track/2klsSb2iTfgDh95...  Vietnam  viral50   \n",
       "26173512  https://open.spotify.com/track/1aU1wpYBSpP0M6I...  Vietnam  viral50   \n",
       "26173513  https://open.spotify.com/track/508QhA2SncMbh5C...  Vietnam  viral50   \n",
       "\n",
       "              trend  streams  \n",
       "26173509    MOVE_UP      NaN  \n",
       "26173510  NEW_ENTRY      NaN  \n",
       "26173511  MOVE_DOWN      NaN  \n",
       "26173512  MOVE_DOWN      NaN  \n",
       "26173513  MOVE_DOWN      NaN  "
      ]
     },
     "execution_count": 5,
     "metadata": {},
     "output_type": "execute_result"
    }
   ],
   "source": [
    "data.tail()"
   ]
  },
  {
   "cell_type": "code",
   "execution_count": 6,
   "id": "8e1c618d",
   "metadata": {},
   "outputs": [
    {
     "data": {
      "text/plain": [
       "Index(['title', 'rank', 'date', 'artist', 'url', 'region', 'chart', 'trend',\n",
       "       'streams'],\n",
       "      dtype='object')"
      ]
     },
     "execution_count": 6,
     "metadata": {},
     "output_type": "execute_result"
    }
   ],
   "source": [
    "data.columns"
   ]
  },
  {
   "cell_type": "code",
   "execution_count": 7,
   "id": "9662ee88",
   "metadata": {},
   "outputs": [
    {
     "data": {
      "text/plain": [
       "title           11\n",
       "rank             0\n",
       "date             0\n",
       "artist          18\n",
       "url              0\n",
       "region           0\n",
       "chart            0\n",
       "trend            0\n",
       "streams    5851610\n",
       "dtype: int64"
      ]
     },
     "execution_count": 7,
     "metadata": {},
     "output_type": "execute_result"
    }
   ],
   "source": [
    "data.isnull().sum()"
   ]
  },
  {
   "cell_type": "code",
   "execution_count": 8,
   "id": "f2f9eb74",
   "metadata": {},
   "outputs": [],
   "source": [
    "grouped = data.groupby(data[\"chart\"])"
   ]
  },
  {
   "cell_type": "code",
   "execution_count": 9,
   "id": "2587091d",
   "metadata": {},
   "outputs": [],
   "source": [
    "viral_50 = grouped.get_group('viral50')\n",
    "top200 = grouped.get_group(\"top200\")"
   ]
  },
  {
   "cell_type": "code",
   "execution_count": 10,
   "id": "d19a5937",
   "metadata": {},
   "outputs": [
    {
     "data": {
      "text/plain": [
       "(20321904, 9)"
      ]
     },
     "execution_count": 10,
     "metadata": {},
     "output_type": "execute_result"
    }
   ],
   "source": [
    "top200.shape"
   ]
  },
  {
   "cell_type": "code",
   "execution_count": 11,
   "id": "638ef647",
   "metadata": {
    "scrolled": true
   },
   "outputs": [
    {
     "data": {
      "text/html": [
       "<div>\n",
       "<style scoped>\n",
       "    .dataframe tbody tr th:only-of-type {\n",
       "        vertical-align: middle;\n",
       "    }\n",
       "\n",
       "    .dataframe tbody tr th {\n",
       "        vertical-align: top;\n",
       "    }\n",
       "\n",
       "    .dataframe thead th {\n",
       "        text-align: right;\n",
       "    }\n",
       "</style>\n",
       "<table border=\"1\" class=\"dataframe\">\n",
       "  <thead>\n",
       "    <tr style=\"text-align: right;\">\n",
       "      <th></th>\n",
       "      <th>title</th>\n",
       "      <th>rank</th>\n",
       "      <th>date</th>\n",
       "      <th>artist</th>\n",
       "      <th>url</th>\n",
       "      <th>region</th>\n",
       "      <th>chart</th>\n",
       "      <th>trend</th>\n",
       "      <th>streams</th>\n",
       "    </tr>\n",
       "  </thead>\n",
       "  <tbody>\n",
       "    <tr>\n",
       "      <th>0</th>\n",
       "      <td>Chantaje (feat. Maluma)</td>\n",
       "      <td>1</td>\n",
       "      <td>2017-01-01</td>\n",
       "      <td>Shakira</td>\n",
       "      <td>https://open.spotify.com/track/6mICuAdrwEjh6Y6...</td>\n",
       "      <td>Argentina</td>\n",
       "      <td>top200</td>\n",
       "      <td>SAME_POSITION</td>\n",
       "      <td>253019.0</td>\n",
       "    </tr>\n",
       "    <tr>\n",
       "      <th>1</th>\n",
       "      <td>Vente Pa' Ca (feat. Maluma)</td>\n",
       "      <td>2</td>\n",
       "      <td>2017-01-01</td>\n",
       "      <td>Ricky Martin</td>\n",
       "      <td>https://open.spotify.com/track/7DM4BPaS7uofFul...</td>\n",
       "      <td>Argentina</td>\n",
       "      <td>top200</td>\n",
       "      <td>MOVE_UP</td>\n",
       "      <td>223988.0</td>\n",
       "    </tr>\n",
       "    <tr>\n",
       "      <th>2</th>\n",
       "      <td>Reggaetón Lento (Bailemos)</td>\n",
       "      <td>3</td>\n",
       "      <td>2017-01-01</td>\n",
       "      <td>CNCO</td>\n",
       "      <td>https://open.spotify.com/track/3AEZUABDXNtecAO...</td>\n",
       "      <td>Argentina</td>\n",
       "      <td>top200</td>\n",
       "      <td>MOVE_DOWN</td>\n",
       "      <td>210943.0</td>\n",
       "    </tr>\n",
       "    <tr>\n",
       "      <th>3</th>\n",
       "      <td>Safari</td>\n",
       "      <td>4</td>\n",
       "      <td>2017-01-01</td>\n",
       "      <td>J Balvin, Pharrell Williams, BIA, Sky</td>\n",
       "      <td>https://open.spotify.com/track/6rQSrBHf7HlZjtc...</td>\n",
       "      <td>Argentina</td>\n",
       "      <td>top200</td>\n",
       "      <td>SAME_POSITION</td>\n",
       "      <td>173865.0</td>\n",
       "    </tr>\n",
       "    <tr>\n",
       "      <th>4</th>\n",
       "      <td>Shaky Shaky</td>\n",
       "      <td>5</td>\n",
       "      <td>2017-01-01</td>\n",
       "      <td>Daddy Yankee</td>\n",
       "      <td>https://open.spotify.com/track/58IL315gMSTD37D...</td>\n",
       "      <td>Argentina</td>\n",
       "      <td>top200</td>\n",
       "      <td>MOVE_UP</td>\n",
       "      <td>153956.0</td>\n",
       "    </tr>\n",
       "  </tbody>\n",
       "</table>\n",
       "</div>"
      ],
      "text/plain": [
       "                         title  rank        date  \\\n",
       "0      Chantaje (feat. Maluma)     1  2017-01-01   \n",
       "1  Vente Pa' Ca (feat. Maluma)     2  2017-01-01   \n",
       "2   Reggaetón Lento (Bailemos)     3  2017-01-01   \n",
       "3                       Safari     4  2017-01-01   \n",
       "4                  Shaky Shaky     5  2017-01-01   \n",
       "\n",
       "                                  artist  \\\n",
       "0                                Shakira   \n",
       "1                           Ricky Martin   \n",
       "2                                   CNCO   \n",
       "3  J Balvin, Pharrell Williams, BIA, Sky   \n",
       "4                           Daddy Yankee   \n",
       "\n",
       "                                                 url     region   chart  \\\n",
       "0  https://open.spotify.com/track/6mICuAdrwEjh6Y6...  Argentina  top200   \n",
       "1  https://open.spotify.com/track/7DM4BPaS7uofFul...  Argentina  top200   \n",
       "2  https://open.spotify.com/track/3AEZUABDXNtecAO...  Argentina  top200   \n",
       "3  https://open.spotify.com/track/6rQSrBHf7HlZjtc...  Argentina  top200   \n",
       "4  https://open.spotify.com/track/58IL315gMSTD37D...  Argentina  top200   \n",
       "\n",
       "           trend   streams  \n",
       "0  SAME_POSITION  253019.0  \n",
       "1        MOVE_UP  223988.0  \n",
       "2      MOVE_DOWN  210943.0  \n",
       "3  SAME_POSITION  173865.0  \n",
       "4        MOVE_UP  153956.0  "
      ]
     },
     "execution_count": 11,
     "metadata": {},
     "output_type": "execute_result"
    }
   ],
   "source": [
    "top200.head()"
   ]
  },
  {
   "cell_type": "code",
   "execution_count": 12,
   "id": "18a3d0b2",
   "metadata": {},
   "outputs": [
    {
     "data": {
      "text/html": [
       "<div>\n",
       "<style scoped>\n",
       "    .dataframe tbody tr th:only-of-type {\n",
       "        vertical-align: middle;\n",
       "    }\n",
       "\n",
       "    .dataframe tbody tr th {\n",
       "        vertical-align: top;\n",
       "    }\n",
       "\n",
       "    .dataframe thead th {\n",
       "        text-align: right;\n",
       "    }\n",
       "</style>\n",
       "<table border=\"1\" class=\"dataframe\">\n",
       "  <thead>\n",
       "    <tr style=\"text-align: right;\">\n",
       "      <th></th>\n",
       "      <th>title</th>\n",
       "      <th>rank</th>\n",
       "      <th>date</th>\n",
       "      <th>artist</th>\n",
       "      <th>url</th>\n",
       "      <th>region</th>\n",
       "      <th>chart</th>\n",
       "      <th>trend</th>\n",
       "      <th>streams</th>\n",
       "    </tr>\n",
       "  </thead>\n",
       "  <tbody>\n",
       "    <tr>\n",
       "      <th>25276069</th>\n",
       "      <td>Ojalá (feat. Darell)</td>\n",
       "      <td>196</td>\n",
       "      <td>2018-01-31</td>\n",
       "      <td>De La Ghetto, Almighty, Bryant Myers</td>\n",
       "      <td>https://open.spotify.com/track/3EMDvnVpQd9RZJv...</td>\n",
       "      <td>Uruguay</td>\n",
       "      <td>top200</td>\n",
       "      <td>MOVE_DOWN</td>\n",
       "      <td>1178.0</td>\n",
       "    </tr>\n",
       "    <tr>\n",
       "      <th>25276070</th>\n",
       "      <td>Lo Que Pasa en la Noche</td>\n",
       "      <td>197</td>\n",
       "      <td>2018-01-31</td>\n",
       "      <td>Mano Arriba</td>\n",
       "      <td>https://open.spotify.com/track/2eOleVJlGvBE027...</td>\n",
       "      <td>Uruguay</td>\n",
       "      <td>top200</td>\n",
       "      <td>NEW_ENTRY</td>\n",
       "      <td>1178.0</td>\n",
       "    </tr>\n",
       "    <tr>\n",
       "      <th>25276071</th>\n",
       "      <td>El Equivocado</td>\n",
       "      <td>198</td>\n",
       "      <td>2018-01-31</td>\n",
       "      <td>Mano Arriba</td>\n",
       "      <td>https://open.spotify.com/track/5vy1C7DD9xJ5fRB...</td>\n",
       "      <td>Uruguay</td>\n",
       "      <td>top200</td>\n",
       "      <td>MOVE_DOWN</td>\n",
       "      <td>1170.0</td>\n",
       "    </tr>\n",
       "    <tr>\n",
       "      <th>25276072</th>\n",
       "      <td>Que Fui Tu Amante</td>\n",
       "      <td>199</td>\n",
       "      <td>2018-01-31</td>\n",
       "      <td>El Gucci y Su Banda</td>\n",
       "      <td>https://open.spotify.com/track/1fmiCxwEbZFIszI...</td>\n",
       "      <td>Uruguay</td>\n",
       "      <td>top200</td>\n",
       "      <td>MOVE_DOWN</td>\n",
       "      <td>1165.0</td>\n",
       "    </tr>\n",
       "    <tr>\n",
       "      <th>25276073</th>\n",
       "      <td>Solo</td>\n",
       "      <td>200</td>\n",
       "      <td>2018-01-31</td>\n",
       "      <td>Amenazzy, Lary Over</td>\n",
       "      <td>https://open.spotify.com/track/2rrJfOphzn4uQCK...</td>\n",
       "      <td>Uruguay</td>\n",
       "      <td>top200</td>\n",
       "      <td>NEW_ENTRY</td>\n",
       "      <td>1162.0</td>\n",
       "    </tr>\n",
       "  </tbody>\n",
       "</table>\n",
       "</div>"
      ],
      "text/plain": [
       "                            title  rank        date  \\\n",
       "25276069     Ojalá (feat. Darell)   196  2018-01-31   \n",
       "25276070  Lo Que Pasa en la Noche   197  2018-01-31   \n",
       "25276071            El Equivocado   198  2018-01-31   \n",
       "25276072        Que Fui Tu Amante   199  2018-01-31   \n",
       "25276073                     Solo   200  2018-01-31   \n",
       "\n",
       "                                        artist  \\\n",
       "25276069  De La Ghetto, Almighty, Bryant Myers   \n",
       "25276070                           Mano Arriba   \n",
       "25276071                           Mano Arriba   \n",
       "25276072                   El Gucci y Su Banda   \n",
       "25276073                   Amenazzy, Lary Over   \n",
       "\n",
       "                                                        url   region   chart  \\\n",
       "25276069  https://open.spotify.com/track/3EMDvnVpQd9RZJv...  Uruguay  top200   \n",
       "25276070  https://open.spotify.com/track/2eOleVJlGvBE027...  Uruguay  top200   \n",
       "25276071  https://open.spotify.com/track/5vy1C7DD9xJ5fRB...  Uruguay  top200   \n",
       "25276072  https://open.spotify.com/track/1fmiCxwEbZFIszI...  Uruguay  top200   \n",
       "25276073  https://open.spotify.com/track/2rrJfOphzn4uQCK...  Uruguay  top200   \n",
       "\n",
       "              trend  streams  \n",
       "25276069  MOVE_DOWN   1178.0  \n",
       "25276070  NEW_ENTRY   1178.0  \n",
       "25276071  MOVE_DOWN   1170.0  \n",
       "25276072  MOVE_DOWN   1165.0  \n",
       "25276073  NEW_ENTRY   1162.0  "
      ]
     },
     "execution_count": 12,
     "metadata": {},
     "output_type": "execute_result"
    }
   ],
   "source": [
    "top200.tail()"
   ]
  },
  {
   "cell_type": "code",
   "execution_count": 13,
   "id": "60ca35e1",
   "metadata": {},
   "outputs": [
    {
     "data": {
      "text/plain": [
       "(5851610, 9)"
      ]
     },
     "execution_count": 13,
     "metadata": {},
     "output_type": "execute_result"
    }
   ],
   "source": [
    "viral_50.shape"
   ]
  },
  {
   "cell_type": "code",
   "execution_count": 14,
   "id": "68e4f038",
   "metadata": {},
   "outputs": [
    {
     "data": {
      "text/html": [
       "<div>\n",
       "<style scoped>\n",
       "    .dataframe tbody tr th:only-of-type {\n",
       "        vertical-align: middle;\n",
       "    }\n",
       "\n",
       "    .dataframe tbody tr th {\n",
       "        vertical-align: top;\n",
       "    }\n",
       "\n",
       "    .dataframe thead th {\n",
       "        text-align: right;\n",
       "    }\n",
       "</style>\n",
       "<table border=\"1\" class=\"dataframe\">\n",
       "  <thead>\n",
       "    <tr style=\"text-align: right;\">\n",
       "      <th></th>\n",
       "      <th>title</th>\n",
       "      <th>rank</th>\n",
       "      <th>date</th>\n",
       "      <th>artist</th>\n",
       "      <th>url</th>\n",
       "      <th>region</th>\n",
       "      <th>chart</th>\n",
       "      <th>trend</th>\n",
       "      <th>streams</th>\n",
       "    </tr>\n",
       "  </thead>\n",
       "  <tbody>\n",
       "    <tr>\n",
       "      <th>12808</th>\n",
       "      <td>Boys</td>\n",
       "      <td>13</td>\n",
       "      <td>2017-08-01</td>\n",
       "      <td>Charli XCX</td>\n",
       "      <td>https://open.spotify.com/track/5o4yGlG0PfeVUa6...</td>\n",
       "      <td>Latvia</td>\n",
       "      <td>viral50</td>\n",
       "      <td>MOVE_UP</td>\n",
       "      <td>NaN</td>\n",
       "    </tr>\n",
       "    <tr>\n",
       "      <th>12965</th>\n",
       "      <td>Hold Me</td>\n",
       "      <td>19</td>\n",
       "      <td>2017-08-01</td>\n",
       "      <td>R3HAB</td>\n",
       "      <td>https://open.spotify.com/track/2a9xGmpgNyNz9QV...</td>\n",
       "      <td>Luxembourg</td>\n",
       "      <td>viral50</td>\n",
       "      <td>MOVE_DOWN</td>\n",
       "      <td>NaN</td>\n",
       "    </tr>\n",
       "    <tr>\n",
       "      <th>13781</th>\n",
       "      <td>Hola Hola</td>\n",
       "      <td>40</td>\n",
       "      <td>2017-08-01</td>\n",
       "      <td>KARD</td>\n",
       "      <td>https://open.spotify.com/track/3VC1IEz9M1txlMS...</td>\n",
       "      <td>Peru</td>\n",
       "      <td>viral50</td>\n",
       "      <td>NEW_ENTRY</td>\n",
       "      <td>NaN</td>\n",
       "    </tr>\n",
       "    <tr>\n",
       "      <th>14042</th>\n",
       "      <td>Cuídate</td>\n",
       "      <td>4</td>\n",
       "      <td>2017-08-01</td>\n",
       "      <td>Zetazen</td>\n",
       "      <td>https://open.spotify.com/track/0WgnbqlHieZmdYa...</td>\n",
       "      <td>Spain</td>\n",
       "      <td>viral50</td>\n",
       "      <td>SAME_POSITION</td>\n",
       "      <td>NaN</td>\n",
       "    </tr>\n",
       "    <tr>\n",
       "      <th>14092</th>\n",
       "      <td>Boys</td>\n",
       "      <td>13</td>\n",
       "      <td>2017-08-01</td>\n",
       "      <td>Charli XCX</td>\n",
       "      <td>https://open.spotify.com/track/5o4yGlG0PfeVUa6...</td>\n",
       "      <td>Taiwan</td>\n",
       "      <td>viral50</td>\n",
       "      <td>MOVE_DOWN</td>\n",
       "      <td>NaN</td>\n",
       "    </tr>\n",
       "  </tbody>\n",
       "</table>\n",
       "</div>"
      ],
      "text/plain": [
       "           title  rank        date      artist  \\\n",
       "12808       Boys    13  2017-08-01  Charli XCX   \n",
       "12965    Hold Me    19  2017-08-01       R3HAB   \n",
       "13781  Hola Hola    40  2017-08-01        KARD   \n",
       "14042    Cuídate     4  2017-08-01     Zetazen   \n",
       "14092       Boys    13  2017-08-01  Charli XCX   \n",
       "\n",
       "                                                     url      region    chart  \\\n",
       "12808  https://open.spotify.com/track/5o4yGlG0PfeVUa6...      Latvia  viral50   \n",
       "12965  https://open.spotify.com/track/2a9xGmpgNyNz9QV...  Luxembourg  viral50   \n",
       "13781  https://open.spotify.com/track/3VC1IEz9M1txlMS...        Peru  viral50   \n",
       "14042  https://open.spotify.com/track/0WgnbqlHieZmdYa...       Spain  viral50   \n",
       "14092  https://open.spotify.com/track/5o4yGlG0PfeVUa6...      Taiwan  viral50   \n",
       "\n",
       "               trend  streams  \n",
       "12808        MOVE_UP      NaN  \n",
       "12965      MOVE_DOWN      NaN  \n",
       "13781      NEW_ENTRY      NaN  \n",
       "14042  SAME_POSITION      NaN  \n",
       "14092      MOVE_DOWN      NaN  "
      ]
     },
     "execution_count": 14,
     "metadata": {},
     "output_type": "execute_result"
    }
   ],
   "source": [
    "viral_50.head()"
   ]
  },
  {
   "cell_type": "code",
   "execution_count": 15,
   "id": "ec7b339e",
   "metadata": {},
   "outputs": [
    {
     "data": {
      "text/html": [
       "<div>\n",
       "<style scoped>\n",
       "    .dataframe tbody tr th:only-of-type {\n",
       "        vertical-align: middle;\n",
       "    }\n",
       "\n",
       "    .dataframe tbody tr th {\n",
       "        vertical-align: top;\n",
       "    }\n",
       "\n",
       "    .dataframe thead th {\n",
       "        text-align: right;\n",
       "    }\n",
       "</style>\n",
       "<table border=\"1\" class=\"dataframe\">\n",
       "  <thead>\n",
       "    <tr style=\"text-align: right;\">\n",
       "      <th></th>\n",
       "      <th>title</th>\n",
       "      <th>rank</th>\n",
       "      <th>date</th>\n",
       "      <th>artist</th>\n",
       "      <th>url</th>\n",
       "      <th>region</th>\n",
       "      <th>chart</th>\n",
       "      <th>trend</th>\n",
       "      <th>streams</th>\n",
       "    </tr>\n",
       "  </thead>\n",
       "  <tbody>\n",
       "    <tr>\n",
       "      <th>26173509</th>\n",
       "      <td>BYE</td>\n",
       "      <td>46</td>\n",
       "      <td>2021-07-31</td>\n",
       "      <td>Jaden</td>\n",
       "      <td>https://open.spotify.com/track/3OUyyDN7EZrL7i0...</td>\n",
       "      <td>Vietnam</td>\n",
       "      <td>viral50</td>\n",
       "      <td>MOVE_UP</td>\n",
       "      <td>NaN</td>\n",
       "    </tr>\n",
       "    <tr>\n",
       "      <th>26173510</th>\n",
       "      <td>Pillars</td>\n",
       "      <td>47</td>\n",
       "      <td>2021-07-31</td>\n",
       "      <td>My Anh</td>\n",
       "      <td>https://open.spotify.com/track/6eky30oFiQbHUAT...</td>\n",
       "      <td>Vietnam</td>\n",
       "      <td>viral50</td>\n",
       "      <td>NEW_ENTRY</td>\n",
       "      <td>NaN</td>\n",
       "    </tr>\n",
       "    <tr>\n",
       "      <th>26173511</th>\n",
       "      <td>Gái Độc Thân</td>\n",
       "      <td>48</td>\n",
       "      <td>2021-07-31</td>\n",
       "      <td>Tlinh</td>\n",
       "      <td>https://open.spotify.com/track/2klsSb2iTfgDh95...</td>\n",
       "      <td>Vietnam</td>\n",
       "      <td>viral50</td>\n",
       "      <td>MOVE_DOWN</td>\n",
       "      <td>NaN</td>\n",
       "    </tr>\n",
       "    <tr>\n",
       "      <th>26173512</th>\n",
       "      <td>Renegade (feat. Taylor Swift)</td>\n",
       "      <td>49</td>\n",
       "      <td>2021-07-31</td>\n",
       "      <td>Big Red Machine</td>\n",
       "      <td>https://open.spotify.com/track/1aU1wpYBSpP0M6I...</td>\n",
       "      <td>Vietnam</td>\n",
       "      <td>viral50</td>\n",
       "      <td>MOVE_DOWN</td>\n",
       "      <td>NaN</td>\n",
       "    </tr>\n",
       "    <tr>\n",
       "      <th>26173513</th>\n",
       "      <td>Letter to Jarad</td>\n",
       "      <td>50</td>\n",
       "      <td>2021-07-31</td>\n",
       "      <td>LRN Slime, Shiloh Dynasty</td>\n",
       "      <td>https://open.spotify.com/track/508QhA2SncMbh5C...</td>\n",
       "      <td>Vietnam</td>\n",
       "      <td>viral50</td>\n",
       "      <td>MOVE_DOWN</td>\n",
       "      <td>NaN</td>\n",
       "    </tr>\n",
       "  </tbody>\n",
       "</table>\n",
       "</div>"
      ],
      "text/plain": [
       "                                  title  rank        date  \\\n",
       "26173509                            BYE    46  2021-07-31   \n",
       "26173510                        Pillars    47  2021-07-31   \n",
       "26173511                   Gái Độc Thân    48  2021-07-31   \n",
       "26173512  Renegade (feat. Taylor Swift)    49  2021-07-31   \n",
       "26173513                Letter to Jarad    50  2021-07-31   \n",
       "\n",
       "                             artist  \\\n",
       "26173509                      Jaden   \n",
       "26173510                     My Anh   \n",
       "26173511                      Tlinh   \n",
       "26173512            Big Red Machine   \n",
       "26173513  LRN Slime, Shiloh Dynasty   \n",
       "\n",
       "                                                        url   region    chart  \\\n",
       "26173509  https://open.spotify.com/track/3OUyyDN7EZrL7i0...  Vietnam  viral50   \n",
       "26173510  https://open.spotify.com/track/6eky30oFiQbHUAT...  Vietnam  viral50   \n",
       "26173511  https://open.spotify.com/track/2klsSb2iTfgDh95...  Vietnam  viral50   \n",
       "26173512  https://open.spotify.com/track/1aU1wpYBSpP0M6I...  Vietnam  viral50   \n",
       "26173513  https://open.spotify.com/track/508QhA2SncMbh5C...  Vietnam  viral50   \n",
       "\n",
       "              trend  streams  \n",
       "26173509    MOVE_UP      NaN  \n",
       "26173510  NEW_ENTRY      NaN  \n",
       "26173511  MOVE_DOWN      NaN  \n",
       "26173512  MOVE_DOWN      NaN  \n",
       "26173513  MOVE_DOWN      NaN  "
      ]
     },
     "execution_count": 15,
     "metadata": {},
     "output_type": "execute_result"
    }
   ],
   "source": [
    "viral_50.tail()"
   ]
  },
  {
   "cell_type": "code",
   "execution_count": 16,
   "id": "92a32bb8",
   "metadata": {},
   "outputs": [
    {
     "data": {
      "text/plain": [
       "0           Argentina\n",
       "1           Argentina\n",
       "2           Argentina\n",
       "3           Argentina\n",
       "4           Argentina\n",
       "              ...    \n",
       "25276069      Uruguay\n",
       "25276070      Uruguay\n",
       "25276071      Uruguay\n",
       "25276072      Uruguay\n",
       "25276073      Uruguay\n",
       "Name: region, Length: 20321904, dtype: object"
      ]
     },
     "execution_count": 16,
     "metadata": {},
     "output_type": "execute_result"
    }
   ],
   "source": [
    "top200.region"
   ]
  },
  {
   "cell_type": "markdown",
   "id": "4832a168",
   "metadata": {},
   "source": [
    "## Genius lyrics"
   ]
  },
  {
   "cell_type": "code",
   "execution_count": 17,
   "id": "5b3c0461",
   "metadata": {
    "scrolled": true
   },
   "outputs": [
    {
     "data": {
      "text/html": [
       "<div>\n",
       "<style scoped>\n",
       "    .dataframe tbody tr th:only-of-type {\n",
       "        vertical-align: middle;\n",
       "    }\n",
       "\n",
       "    .dataframe tbody tr th {\n",
       "        vertical-align: top;\n",
       "    }\n",
       "\n",
       "    .dataframe thead th {\n",
       "        text-align: right;\n",
       "    }\n",
       "</style>\n",
       "<table border=\"1\" class=\"dataframe\">\n",
       "  <thead>\n",
       "    <tr style=\"text-align: right;\">\n",
       "      <th></th>\n",
       "      <th>title</th>\n",
       "      <th>rank</th>\n",
       "      <th>date</th>\n",
       "      <th>artist</th>\n",
       "      <th>url</th>\n",
       "      <th>region</th>\n",
       "      <th>chart</th>\n",
       "      <th>trend</th>\n",
       "      <th>streams</th>\n",
       "    </tr>\n",
       "  </thead>\n",
       "  <tbody>\n",
       "    <tr>\n",
       "      <th>0</th>\n",
       "      <td>Chantaje (feat. Maluma)</td>\n",
       "      <td>1</td>\n",
       "      <td>2017-01-01</td>\n",
       "      <td>Shakira</td>\n",
       "      <td>https://open.spotify.com/track/6mICuAdrwEjh6Y6...</td>\n",
       "      <td>Argentina</td>\n",
       "      <td>top200</td>\n",
       "      <td>SAME_POSITION</td>\n",
       "      <td>253019.0</td>\n",
       "    </tr>\n",
       "    <tr>\n",
       "      <th>1</th>\n",
       "      <td>Vente Pa' Ca (feat. Maluma)</td>\n",
       "      <td>2</td>\n",
       "      <td>2017-01-01</td>\n",
       "      <td>Ricky Martin</td>\n",
       "      <td>https://open.spotify.com/track/7DM4BPaS7uofFul...</td>\n",
       "      <td>Argentina</td>\n",
       "      <td>top200</td>\n",
       "      <td>MOVE_UP</td>\n",
       "      <td>223988.0</td>\n",
       "    </tr>\n",
       "    <tr>\n",
       "      <th>2</th>\n",
       "      <td>Reggaetón Lento (Bailemos)</td>\n",
       "      <td>3</td>\n",
       "      <td>2017-01-01</td>\n",
       "      <td>CNCO</td>\n",
       "      <td>https://open.spotify.com/track/3AEZUABDXNtecAO...</td>\n",
       "      <td>Argentina</td>\n",
       "      <td>top200</td>\n",
       "      <td>MOVE_DOWN</td>\n",
       "      <td>210943.0</td>\n",
       "    </tr>\n",
       "    <tr>\n",
       "      <th>3</th>\n",
       "      <td>Safari</td>\n",
       "      <td>4</td>\n",
       "      <td>2017-01-01</td>\n",
       "      <td>J Balvin, Pharrell Williams, BIA, Sky</td>\n",
       "      <td>https://open.spotify.com/track/6rQSrBHf7HlZjtc...</td>\n",
       "      <td>Argentina</td>\n",
       "      <td>top200</td>\n",
       "      <td>SAME_POSITION</td>\n",
       "      <td>173865.0</td>\n",
       "    </tr>\n",
       "    <tr>\n",
       "      <th>4</th>\n",
       "      <td>Shaky Shaky</td>\n",
       "      <td>5</td>\n",
       "      <td>2017-01-01</td>\n",
       "      <td>Daddy Yankee</td>\n",
       "      <td>https://open.spotify.com/track/58IL315gMSTD37D...</td>\n",
       "      <td>Argentina</td>\n",
       "      <td>top200</td>\n",
       "      <td>MOVE_UP</td>\n",
       "      <td>153956.0</td>\n",
       "    </tr>\n",
       "  </tbody>\n",
       "</table>\n",
       "</div>"
      ],
      "text/plain": [
       "                         title  rank        date  \\\n",
       "0      Chantaje (feat. Maluma)     1  2017-01-01   \n",
       "1  Vente Pa' Ca (feat. Maluma)     2  2017-01-01   \n",
       "2   Reggaetón Lento (Bailemos)     3  2017-01-01   \n",
       "3                       Safari     4  2017-01-01   \n",
       "4                  Shaky Shaky     5  2017-01-01   \n",
       "\n",
       "                                  artist  \\\n",
       "0                                Shakira   \n",
       "1                           Ricky Martin   \n",
       "2                                   CNCO   \n",
       "3  J Balvin, Pharrell Williams, BIA, Sky   \n",
       "4                           Daddy Yankee   \n",
       "\n",
       "                                                 url     region   chart  \\\n",
       "0  https://open.spotify.com/track/6mICuAdrwEjh6Y6...  Argentina  top200   \n",
       "1  https://open.spotify.com/track/7DM4BPaS7uofFul...  Argentina  top200   \n",
       "2  https://open.spotify.com/track/3AEZUABDXNtecAO...  Argentina  top200   \n",
       "3  https://open.spotify.com/track/6rQSrBHf7HlZjtc...  Argentina  top200   \n",
       "4  https://open.spotify.com/track/58IL315gMSTD37D...  Argentina  top200   \n",
       "\n",
       "           trend   streams  \n",
       "0  SAME_POSITION  253019.0  \n",
       "1        MOVE_UP  223988.0  \n",
       "2      MOVE_DOWN  210943.0  \n",
       "3  SAME_POSITION  173865.0  \n",
       "4        MOVE_UP  153956.0  "
      ]
     },
     "execution_count": 17,
     "metadata": {},
     "output_type": "execute_result"
    }
   ],
   "source": [
    "top200.head()"
   ]
  },
  {
   "cell_type": "code",
   "execution_count": 187,
   "id": "09cad9b0",
   "metadata": {},
   "outputs": [
    {
     "data": {
      "text/plain": [
       "\"Vente Pa' Ca (feat. Maluma)\""
      ]
     },
     "execution_count": 187,
     "metadata": {},
     "output_type": "execute_result"
    }
   ],
   "source": [
    "top200.title[1]"
   ]
  },
  {
   "cell_type": "code",
   "execution_count": 188,
   "id": "71e4f558",
   "metadata": {},
   "outputs": [],
   "source": [
    "test_string = str(top200.title[1])"
   ]
  },
  {
   "cell_type": "code",
   "execution_count": 189,
   "id": "f04f0132",
   "metadata": {},
   "outputs": [
    {
     "data": {
      "text/plain": [
       "\"Vente Pa' Ca (feat. Maluma)\""
      ]
     },
     "execution_count": 189,
     "metadata": {},
     "output_type": "execute_result"
    }
   ],
   "source": [
    "test_string"
   ]
  },
  {
   "cell_type": "code",
   "execution_count": 190,
   "id": "6bac7dab",
   "metadata": {},
   "outputs": [
    {
     "data": {
      "text/plain": [
       "13"
      ]
     },
     "execution_count": 190,
     "metadata": {},
     "output_type": "execute_result"
    }
   ],
   "source": [
    "test_string.find(\"(\")"
   ]
  },
  {
   "cell_type": "code",
   "execution_count": 191,
   "id": "173d3735",
   "metadata": {},
   "outputs": [
    {
     "data": {
      "text/plain": [
       "'(feat. Maluma)'"
      ]
     },
     "execution_count": 191,
     "metadata": {},
     "output_type": "execute_result"
    }
   ],
   "source": [
    "test_string[13:]"
   ]
  },
  {
   "cell_type": "code",
   "execution_count": 192,
   "id": "fd251fcb",
   "metadata": {
    "scrolled": true
   },
   "outputs": [],
   "source": [
    "test_string = test_string[:test_string.find(\" (\")]"
   ]
  },
  {
   "cell_type": "code",
   "execution_count": 193,
   "id": "c76110b7",
   "metadata": {},
   "outputs": [
    {
     "data": {
      "text/plain": [
       "\"Vente Pa' Ca\""
      ]
     },
     "execution_count": 193,
     "metadata": {},
     "output_type": "execute_result"
    }
   ],
   "source": [
    "test_string"
   ]
  },
  {
   "cell_type": "code",
   "execution_count": 194,
   "id": "98b37be1",
   "metadata": {},
   "outputs": [],
   "source": [
    "test_string = test_string.replace(\"' \", \" \")"
   ]
  },
  {
   "cell_type": "code",
   "execution_count": 195,
   "id": "9a4fec4a",
   "metadata": {},
   "outputs": [
    {
     "data": {
      "text/plain": [
       "'Vente Pa Ca'"
      ]
     },
     "execution_count": 195,
     "metadata": {},
     "output_type": "execute_result"
    }
   ],
   "source": [
    "test_string"
   ]
  },
  {
   "cell_type": "code",
   "execution_count": 196,
   "id": "469278fc",
   "metadata": {},
   "outputs": [],
   "source": [
    "test_string = str(test_string.replace(\" \", \"-\"))"
   ]
  },
  {
   "cell_type": "code",
   "execution_count": 197,
   "id": "3abe42f4",
   "metadata": {},
   "outputs": [
    {
     "data": {
      "text/plain": [
       "'Vente-Pa-Ca'"
      ]
     },
     "execution_count": 197,
     "metadata": {},
     "output_type": "execute_result"
    }
   ],
   "source": [
    "test_string"
   ]
  },
  {
   "cell_type": "code",
   "execution_count": 152,
   "id": "e4031ec2",
   "metadata": {},
   "outputs": [],
   "source": [
    "track_string = str(top200.artist[1])"
   ]
  },
  {
   "cell_type": "code",
   "execution_count": 153,
   "id": "1d57469d",
   "metadata": {},
   "outputs": [
    {
     "data": {
      "text/plain": [
       "'Ricky Martin'"
      ]
     },
     "execution_count": 153,
     "metadata": {},
     "output_type": "execute_result"
    }
   ],
   "source": [
    "track_string"
   ]
  },
  {
   "cell_type": "code",
   "execution_count": 154,
   "id": "85fd4495",
   "metadata": {},
   "outputs": [],
   "source": [
    "track_string = str(track_string.replace(\" \", \"-\"))"
   ]
  },
  {
   "cell_type": "code",
   "execution_count": 155,
   "id": "c73736b7",
   "metadata": {},
   "outputs": [
    {
     "data": {
      "text/plain": [
       "'Ricky-Martin'"
      ]
     },
     "execution_count": 155,
     "metadata": {},
     "output_type": "execute_result"
    }
   ],
   "source": [
    "track_string"
   ]
  },
  {
   "cell_type": "code",
   "execution_count": 198,
   "id": "bd78e0ee",
   "metadata": {},
   "outputs": [],
   "source": [
    "def split_string(string, delimiters):\n",
    "    pattern = r'|'.join(delimiters)\n",
    "    return split(pattern, string)"
   ]
  },
  {
   "cell_type": "code",
   "execution_count": 156,
   "id": "5a0d2664",
   "metadata": {},
   "outputs": [],
   "source": [
    "def scraper(artist, track):\n",
    "    \n",
    "    #r = requests.get('https://genius.com/' + artist + '-' + track + '-lyrics')\n",
    "    r = str('https://genius.com/' + artist + '-' + track + '-lyrics')\n",
    "\n",
    "    return str(r)"
   ]
  },
  {
   "cell_type": "code",
   "execution_count": 157,
   "id": "7ebf41d1",
   "metadata": {},
   "outputs": [
    {
     "data": {
      "text/plain": [
       "'https://genius.com/Ricky-Martin-Vente-Pa-Ca-lyrics'"
      ]
     },
     "execution_count": 157,
     "metadata": {},
     "output_type": "execute_result"
    }
   ],
   "source": [
    "scraper(track_string, test_string)"
   ]
  },
  {
   "cell_type": "code",
   "execution_count": 209,
   "id": "7713e220",
   "metadata": {},
   "outputs": [],
   "source": [
    "def track_info(x):\n",
    "    current_artist = top200.artist[x]\n",
    "    current_title = top200.title[x]\n",
    "    \n",
    "    # Getting the artist\n",
    "    current_title.find(\"(\")\n",
    "    current_title = current_title[:current_title.find(\" (\")]\n",
    "    current_title = current_title.replace(\"' \", \" \")\n",
    "    current_title = current_title.replace(\" \", \"-\")\n",
    "    \n",
    "    #Getting the track\n",
    "    current_artist.find(\"(\")\n",
    "    current_artist = current_artist.replace(\" \", \"-\")\n",
    "    \n",
    "    return str(current_artist+\"-\"+current_title)"
   ]
  },
  {
   "cell_type": "code",
   "execution_count": 210,
   "id": "793d9558",
   "metadata": {},
   "outputs": [
    {
     "data": {
      "text/plain": [
       "'Ricky-Martin-Vente-Pa-Ca'"
      ]
     },
     "execution_count": 210,
     "metadata": {},
     "output_type": "execute_result"
    }
   ],
   "source": [
    "track_info(1)"
   ]
  },
  {
   "cell_type": "code",
   "execution_count": 214,
   "id": "a2f4eebc",
   "metadata": {},
   "outputs": [],
   "source": [
    "def scraper2(x):  \n",
    "    search_param = track_info(x)\n",
    "    #r = requests.get('https://genius.com/' + artist + '-' + track + '-lyrics')\n",
    "    r = str('https://genius.com/'+search_param+'-lyrics')\n",
    "    \n",
    "    # Parsing the HTML\n",
    "    #soup = BeautifulSoup(r.content, 'html.parser')\n",
    "\n",
    "    return str(r)"
   ]
  },
  {
   "cell_type": "code",
   "execution_count": 215,
   "id": "a099bbb1",
   "metadata": {},
   "outputs": [
    {
     "data": {
      "text/plain": [
       "'https://genius.com/Ricky-Martin-Vente-Pa-Ca-lyrics'"
      ]
     },
     "execution_count": 215,
     "metadata": {},
     "output_type": "execute_result"
    }
   ],
   "source": [
    "scraper(1)"
   ]
  },
  {
   "cell_type": "code",
   "execution_count": 234,
   "id": "2450afc0",
   "metadata": {},
   "outputs": [],
   "source": [
    "def scraper(x): \n",
    "    list = []\n",
    "    \n",
    "    search_param = track_info(x)\n",
    "    r = requests.get('https://genius.com/'+search_param+'-lyrics')\n",
    " \n",
    "    # Parsing the HTML\n",
    "    soup = BeautifulSoup(r.content, 'html.parser')\n",
    "    \n",
    "    s = soup.find('div', class_='SongInfo__Columns-nekw6x-2 lgBflw')\n",
    "    \n",
    "    content = s.find_all('div')\n",
    "    \n",
    "    for line in content:\n",
    "        list.append(line.text)\n",
    "    \n",
    "    splitting = str(list[0]).replace('By', 'By,')\n",
    "    \n",
    "    producer = split_string(splitting, [',','&'])\n",
    "    del producer[0]\n",
    "    \n",
    "    splitting2 = str(list[2]).replace('By', 'By,')\n",
    "    writers = split_string(splitting2, [',','&'])\n",
    "    del writers[0]\n",
    "    \n",
    "    #splitting3 = str(list[20]).replace('Label', 'Label,')\n",
    "    #label = split_string(splitting3, [',', '&'])\n",
    "    #del label[0]\n",
    "    \n",
    "    return \"Producers:\",producer, \"Writers: \", writers#, \"Label: \", label"
   ]
  },
  {
   "cell_type": "code",
   "execution_count": 235,
   "id": "ddf3c3d7",
   "metadata": {},
   "outputs": [
    {
     "data": {
      "text/plain": [
       "('Producers:', [], 'Writers: ', ['Alexander “A.C.” Castillo'])"
      ]
     },
     "execution_count": 235,
     "metadata": {},
     "output_type": "execute_result"
    }
   ],
   "source": [
    "scraper(1)"
   ]
  },
  {
   "cell_type": "code",
   "execution_count": null,
   "id": "d504b1f6",
   "metadata": {},
   "outputs": [],
   "source": []
  }
 ],
 "metadata": {
  "kernelspec": {
   "display_name": "Python 3 (ipykernel)",
   "language": "python",
   "name": "python3"
  },
  "language_info": {
   "codemirror_mode": {
    "name": "ipython",
    "version": 3
   },
   "file_extension": ".py",
   "mimetype": "text/x-python",
   "name": "python",
   "nbconvert_exporter": "python",
   "pygments_lexer": "ipython3",
   "version": "3.9.7"
  }
 },
 "nbformat": 4,
 "nbformat_minor": 5
}
