{
 "cells": [
  {
   "cell_type": "code",
   "execution_count": 2,
   "id": "7c4e605e",
   "metadata": {},
   "outputs": [
    {
     "name": "stdout",
     "output_type": "stream",
     "text": [
      "Collecting python3-discogs-client\n",
      "  Downloading python3_discogs_client-2.3.14-py3-none-any.whl (15 kB)\n",
      "Collecting oauthlib\n",
      "  Downloading oauthlib-3.2.0-py3-none-any.whl (151 kB)\n",
      "Requirement already satisfied: python-dateutil in c:\\tools\\anaconda3\\lib\\site-packages (from python3-discogs-client) (2.8.2)\n",
      "Requirement already satisfied: requests in c:\\tools\\anaconda3\\lib\\site-packages (from python3-discogs-client) (2.26.0)\n",
      "Requirement already satisfied: six>=1.5 in c:\\tools\\anaconda3\\lib\\site-packages (from python-dateutil->python3-discogs-client) (1.16.0)\n",
      "Requirement already satisfied: urllib3<1.27,>=1.21.1 in c:\\tools\\anaconda3\\lib\\site-packages (from requests->python3-discogs-client) (1.26.7)\n",
      "Requirement already satisfied: charset-normalizer~=2.0.0 in c:\\tools\\anaconda3\\lib\\site-packages (from requests->python3-discogs-client) (2.0.4)\n",
      "Requirement already satisfied: certifi>=2017.4.17 in c:\\tools\\anaconda3\\lib\\site-packages (from requests->python3-discogs-client) (2021.10.8)\n",
      "Requirement already satisfied: idna<4,>=2.5 in c:\\tools\\anaconda3\\lib\\site-packages (from requests->python3-discogs-client) (3.2)\n",
      "Installing collected packages: oauthlib, python3-discogs-client\n",
      "Successfully installed oauthlib-3.2.0 python3-discogs-client-2.3.14\n"
     ]
    }
   ],
   "source": [
    "#!pip3 install python3-discogs-client"
   ]
  },
  {
   "cell_type": "code",
   "execution_count": 20,
   "id": "b43961cf",
   "metadata": {},
   "outputs": [],
   "source": [
    "from discogs_client import Condition, Status, Sort"
   ]
  },
  {
   "cell_type": "code",
   "execution_count": 3,
   "id": "b326d313",
   "metadata": {},
   "outputs": [],
   "source": [
    "import discogs_client\n",
    "d = discogs_client.Client('ExampleApplication/0.1') "
   ]
  },
  {
   "cell_type": "code",
   "execution_count": 4,
   "id": "561ffca5",
   "metadata": {},
   "outputs": [],
   "source": [
    "d = discogs_client.Client('ExampleApplication/0.1', user_token=\"bmqhnvDqPhhZIZWbgdrcFKzMEzLddyFBCSELeEGr\")"
   ]
  },
  {
   "cell_type": "code",
   "execution_count": 27,
   "id": "f63a4e70",
   "metadata": {},
   "outputs": [
    {
     "data": {
      "text/plain": [
       "<User 14095253 'ntur'>"
      ]
     },
     "execution_count": 27,
     "metadata": {},
     "output_type": "execute_result"
    }
   ],
   "source": [
    "me = d.identity()\n",
    "me"
   ]
  },
  {
   "cell_type": "code",
   "execution_count": 76,
   "id": "0ff28179",
   "metadata": {},
   "outputs": [
    {
     "data": {
      "text/plain": [
       "36"
      ]
     },
     "execution_count": 76,
     "metadata": {},
     "output_type": "execute_result"
    }
   ],
   "source": [
    "results = d.search('Sing For The Moment', type='release')\n",
    "results.pages"
   ]
  },
  {
   "cell_type": "code",
   "execution_count": 51,
   "id": "3050eb4b",
   "metadata": {},
   "outputs": [],
   "source": [
    "releases = d.search('Bit Shifter', type='artist')[0].releases[1].labels[0].releases"
   ]
  },
  {
   "cell_type": "code",
   "execution_count": 77,
   "id": "ab0c34fb",
   "metadata": {},
   "outputs": [
    {
     "data": {
      "text/plain": [
       "<bound method BasePaginatedResponse.page of <discogs_client.models.PaginatedList object at 0x000001EF875804F0>>"
      ]
     },
     "execution_count": 77,
     "metadata": {},
     "output_type": "execute_result"
    }
   ],
   "source": [
    "releases.page"
   ]
  },
  {
   "cell_type": "code",
   "execution_count": 70,
   "id": "7897742d",
   "metadata": {},
   "outputs": [
    {
     "data": {
      "text/plain": [
       "'Eminem'"
      ]
     },
     "execution_count": 70,
     "metadata": {},
     "output_type": "execute_result"
    }
   ],
   "source": [
    "artist = results[0].artists[0]\n",
    "artist.name"
   ]
  },
  {
   "cell_type": "code",
   "execution_count": 71,
   "id": "9b6d194f",
   "metadata": {},
   "outputs": [
    {
     "data": {
      "text/plain": [
       "[<Artist 108184 'Slim Shady'>,\n",
       " <Artist 644153 'Marshall Mathers'>,\n",
       " <Artist 787714 'Ken Kaniff'>]"
      ]
     },
     "execution_count": 71,
     "metadata": {},
     "output_type": "execute_result"
    }
   ],
   "source": [
    "artist.aliases"
   ]
  },
  {
   "cell_type": "code",
   "execution_count": 72,
   "id": "579f6cb8",
   "metadata": {},
   "outputs": [
    {
     "data": {
      "text/plain": [
       "[<Master 1239635 'Soul Intent'>,\n",
       " <Master 718441 'Infinite'>,\n",
       " <Release 10878675 \"Rough Demo '97\">,\n",
       " <Release 11640547 \"Slim Shady Demo '97\">,\n",
       " <Master 1112155 'Tracks From The Slim Shady EP'>,\n",
       " <Master 1112160 \"Just Don't Give A F*ck\">,\n",
       " <Master 42207 'Slim Shady EP'>,\n",
       " <Master 548379 'Snippets From The Forthcoming Slim Shady LP'>,\n",
       " <Master 120465 \"Nuttin' To Do / Scary Movies\">,\n",
       " <Master 12021 \"Just Don't Give A F***\">,\n",
       " <Master 12114 'My Name Is'>,\n",
       " <Release 2065015 'Crushed / Bad Influence'>,\n",
       " <Release 8522645 \"I'm Shady\">,\n",
       " <Release 15698588 '2 Track Comp.'>,\n",
       " <Release 18602974 'Untitled'>,\n",
       " <Master 1744989 'Unmastered Sequence'>,\n",
       " <Master 58000 'Dead Wrong'>,\n",
       " <Master 854692 'We Shine'>,\n",
       " <Master 287521 'Any Man / WWIII'>,\n",
       " <Master 384160 'Role Model'>,\n",
       " <Master 33994 'Forgot About Dre'>,\n",
       " <Master 42235 'Any Man'>,\n",
       " <Master 357981 'Shady Vs. Stretch'>,\n",
       " <Master 12093 'Guilty Conscience'>,\n",
       " <Master 12172 'The Slim Shady LP'>,\n",
       " <Release 709657 \"Quitter / Just Rhymin' With Proof\">,\n",
       " <Release 1380405 'Bitch Please II'>,\n",
       " <Release 3060228 'Confused? You Should Be'>,\n",
       " <Release 3172597 'Rock Meets Hiphop'>,\n",
       " <Release 4041332 'Stan / Man Overboard'>,\n",
       " <Release 11782194 '14 Snippets From The New Album \"The Marshall Mathers LP\"'>,\n",
       " <Release 21400864 'Selections From: The Marshall Mathers LP'>,\n",
       " <Master 1757308 '\"The Marshall Mathers LP\" Snippet Tape'>,\n",
       " <Master 71972 'The Up In Smoke Tour'>,\n",
       " <Master 12279 'The Way I Am'>,\n",
       " <Master 815606 \"I'm Back\">,\n",
       " <Master 2151745 'Live At Brixton Academy'>,\n",
       " <Master 100121 'E'>,\n",
       " <Master 12209 'Stan'>,\n",
       " <Master 374711 'Shit On You / I Remember (Dedication To Whitey Ford)'>,\n",
       " <Master 12236 'The Marshall Mathers LP'>,\n",
       " <Master 12264 'The Real Slim Shady'>,\n",
       " <Release 4872070 'Kill You'>,\n",
       " <Release 5228317 'Blow My Buzz'>,\n",
       " <Release 8823923 'The Real Eminem (Tribe Vol 27)'>,\n",
       " <Master 469438 'Stan - Live From The 43rd Annual Grammy Awards'>,\n",
       " <Master 50283 'Rock City'>,\n",
       " <Master 50447 \"Nuttin' To Do\">,\n",
       " <Master 50462 'Scary Movies'>,\n",
       " <Release 1919019 'Music From The 8Mile Soundtrack'>]"
      ]
     },
     "execution_count": 72,
     "metadata": {},
     "output_type": "execute_result"
    }
   ],
   "source": [
    "artist.releases.page(1)"
   ]
  },
  {
   "cell_type": "code",
   "execution_count": 73,
   "id": "835ee141",
   "metadata": {},
   "outputs": [
    {
     "data": {
      "text/plain": [
       "38661"
      ]
     },
     "execution_count": 73,
     "metadata": {},
     "output_type": "execute_result"
    }
   ],
   "source": [
    "artist.id"
   ]
  },
  {
   "cell_type": "code",
   "execution_count": 74,
   "id": "41765576",
   "metadata": {},
   "outputs": [
    {
     "data": {
      "text/plain": [
       "True"
      ]
     },
     "execution_count": 74,
     "metadata": {},
     "output_type": "execute_result"
    }
   ],
   "source": [
    "artist == d.artist(38661)"
   ]
  },
  {
   "cell_type": "code",
   "execution_count": 34,
   "id": "2d850210",
   "metadata": {},
   "outputs": [],
   "source": [
    "release = d.release(221824)"
   ]
  },
  {
   "cell_type": "code",
   "execution_count": 61,
   "id": "7cd5a821",
   "metadata": {
    "scrolled": false
   },
   "outputs": [
    {
     "data": {
      "text/plain": [
       "{'id': 221824,\n",
       " 'resource_url': 'https://api.discogs.com/releases/221824',\n",
       " 'status': 'Accepted',\n",
       " 'year': 1987,\n",
       " 'uri': 'https://www.discogs.com/release/221824-Rick-Astley-Never-Gonna-Give-You-Up',\n",
       " 'artists': [{'name': 'Rick Astley',\n",
       "   'anv': '',\n",
       "   'join': '',\n",
       "   'role': '',\n",
       "   'tracks': '',\n",
       "   'id': 72872,\n",
       "   'resource_url': 'https://api.discogs.com/artists/72872',\n",
       "   'thumbnail_url': 'https://i.discogs.com/iNNrud9NpxCmVDFTmSl02zZttMuIYJr3duFfpPH1kEA/rs:fit/g:sm/q:40/h:512/w:512/czM6Ly9kaXNjb2dz/LWRhdGFiYXNlLWlt/YWdlcy9BLTcyODcy/LTE0NTg5NTg4Mjgt/OTgzMi5qcGVn.jpeg'}],\n",
       " 'artists_sort': 'Rick Astley',\n",
       " 'labels': [{'name': 'RCA',\n",
       "   'catno': 'PT 41448',\n",
       "   'entity_type': '1',\n",
       "   'entity_type_name': 'Label',\n",
       "   'id': 895,\n",
       "   'resource_url': 'https://api.discogs.com/labels/895',\n",
       "   'thumbnail_url': 'https://i.discogs.com/1NOPznALrD-ENo9dDXmLqOqxxG6y3BhxszQwKi-CIKs/rs:fit/g:sm/q:40/h:600/w:600/czM6Ly9kaXNjb2dz/LWRhdGFiYXNlLWlt/YWdlcy9MLTg5NS0x/NDA2OTAyNzA2LTY3/NDguanBlZw.jpeg'}],\n",
       " 'series': [],\n",
       " 'companies': [{'name': 'RCA Records',\n",
       "   'catno': '',\n",
       "   'entity_type': '8',\n",
       "   'entity_type_name': 'Marketed By',\n",
       "   'id': 29656,\n",
       "   'resource_url': 'https://api.discogs.com/labels/29656',\n",
       "   'thumbnail_url': 'https://i.discogs.com/W3GulhEsdMNaVXc7zCfRMjBSX7c_IvC13B8gp7KB_Iw/rs:fit/g:sm/q:40/h:600/w:600/czM6Ly9kaXNjb2dz/LWRhdGFiYXNlLWlt/YWdlcy9MLTI5NjU2/LTE0NTA4ODc0NTAt/MjQxNC5qcGVn.jpeg'},\n",
       "  {'name': 'BMG Records',\n",
       "   'catno': '',\n",
       "   'entity_type': '9',\n",
       "   'entity_type_name': 'Distributed By',\n",
       "   'id': 26385,\n",
       "   'resource_url': 'https://api.discogs.com/labels/26385',\n",
       "   'thumbnail_url': 'https://i.discogs.com/XSfZIYmQiikJMNjsRxdU2Pr96qFM_dbyAwZQoINGI2g/rs:fit/g:sm/q:40/h:66/w:212/czM6Ly9kaXNjb2dz/LWRhdGFiYXNlLWlt/YWdlcy9MLTI2Mzg1/LTE0OTAwMDY5NzUt/MjkyMy5qcGVn.jpeg'},\n",
       "  {'name': 'BMG Ariola',\n",
       "   'catno': '',\n",
       "   'entity_type': '9',\n",
       "   'entity_type_name': 'Distributed By',\n",
       "   'id': 33652,\n",
       "   'resource_url': 'https://api.discogs.com/labels/33652',\n",
       "   'thumbnail_url': 'https://i.discogs.com/i7z_0R-uarVrbpwMizTv6acNwVMyEw4l83xrMlib2wc/rs:fit/g:sm/q:40/h:128/w:213/czM6Ly9kaXNjb2dz/LWRhdGFiYXNlLWlt/YWdlcy9MLTMzNjUy/LTE1NDA4NDI3MTAt/NzE5OS5qcGVn.jpeg'},\n",
       "  {'name': 'BMG Records (UK) Ltd.',\n",
       "   'catno': '',\n",
       "   'entity_type': '13',\n",
       "   'entity_type_name': 'Phonographic Copyright (p)',\n",
       "   'id': 82835,\n",
       "   'resource_url': 'https://api.discogs.com/labels/82835',\n",
       "   'thumbnail_url': 'https://i.discogs.com/t8qUR-4feZSFmCQ1I5sDT0lhja-p7MpDiSFnMwASWLQ/rs:fit/g:sm/q:40/h:80/w:173/czM6Ly9kaXNjb2dz/LWRhdGFiYXNlLWlt/YWdlcy9MLTgyODM1/LTEyMzMxNzA2NjQu/Z2lm.jpeg'},\n",
       "  {'name': 'Pete Waterman Ltd.',\n",
       "   'catno': '',\n",
       "   'entity_type': '13',\n",
       "   'entity_type_name': 'Phonographic Copyright (p)',\n",
       "   'id': 301937,\n",
       "   'resource_url': 'https://api.discogs.com/labels/301937',\n",
       "   'thumbnail_url': ''},\n",
       "  {'name': 'BMG Records (UK) Ltd.',\n",
       "   'catno': '',\n",
       "   'entity_type': '14',\n",
       "   'entity_type_name': 'Copyright (c)',\n",
       "   'id': 82835,\n",
       "   'resource_url': 'https://api.discogs.com/labels/82835',\n",
       "   'thumbnail_url': 'https://i.discogs.com/t8qUR-4feZSFmCQ1I5sDT0lhja-p7MpDiSFnMwASWLQ/rs:fit/g:sm/q:40/h:80/w:173/czM6Ly9kaXNjb2dz/LWRhdGFiYXNlLWlt/YWdlcy9MLTgyODM1/LTEyMzMxNzA2NjQu/Z2lm.jpeg'},\n",
       "  {'name': 'All Boys Music Ltd.',\n",
       "   'catno': '',\n",
       "   'entity_type': '21',\n",
       "   'entity_type_name': 'Published By',\n",
       "   'id': 273945,\n",
       "   'resource_url': 'https://api.discogs.com/labels/273945',\n",
       "   'thumbnail_url': 'https://i.discogs.com/qb9UXjxHYBg3Kj8-ARhe4-96FSqOdMO1p5VUqkneeo4/rs:fit/g:sm/q:40/h:77/w:350/czM6Ly9kaXNjb2dz/LWRhdGFiYXNlLWlt/YWdlcy9MLTI3Mzk0/NS0xNDkwMzI3OTE5/LTcxMTkuanBlZw.jpeg'},\n",
       "  {'name': 'Utopia Studios',\n",
       "   'catno': '',\n",
       "   'entity_type': '30',\n",
       "   'entity_type_name': 'Lacquer Cut At',\n",
       "   'id': 266218,\n",
       "   'resource_url': 'https://api.discogs.com/labels/266218',\n",
       "   'thumbnail_url': 'https://i.discogs.com/zI36aYEfNiXS0sCByr7YBtnqzKVXzY0zk7HxjS-j8kI/rs:fit/g:sm/q:40/h:154/w:468/czM6Ly9kaXNjb2dz/LWRhdGFiYXNlLWlt/YWdlcy9MLTI2NjIx/OC0xMzM0MTQ0NzYy/LmpwZWc.jpeg'},\n",
       "  {'name': 'Damont',\n",
       "   'catno': '',\n",
       "   'entity_type': '17',\n",
       "   'entity_type_name': 'Pressed By',\n",
       "   'id': 141989,\n",
       "   'resource_url': 'https://api.discogs.com/labels/141989',\n",
       "   'thumbnail_url': 'https://i.discogs.com/pXTlfhbvSJ3VT2rBgHYQHUmseN9SG3KDRi9pqI99oog/rs:fit/g:sm/q:40/h:291/w:600/czM6Ly9kaXNjb2dz/LWRhdGFiYXNlLWlt/YWdlcy9MLTE0MTk4/OS0xNTE0MzA4ODg5/LTExNTIuanBlZw.jpeg'},\n",
       "  {'name': 'Lyntone Recordings Ltd.',\n",
       "   'catno': 'L 19090',\n",
       "   'entity_type': '29',\n",
       "   'entity_type_name': 'Mastered At',\n",
       "   'id': 310516,\n",
       "   'resource_url': 'https://api.discogs.com/labels/310516',\n",
       "   'thumbnail_url': 'https://i.discogs.com/gyxecDnGYl5I5DyHVqFhpmLBSOaILgv83LRzdSRbQJE/rs:fit/g:sm/q:40/h:600/w:599/czM6Ly9kaXNjb2dz/LWRhdGFiYXNlLWlt/YWdlcy9MLTMxMDUx/Ni0xMzQwNDAyNjMy/LTUzNDkuanBlZw.jpeg'},\n",
       "  {'name': 'Lyntone Recordings Ltd.',\n",
       "   'catno': 'L 19091',\n",
       "   'entity_type': '29',\n",
       "   'entity_type_name': 'Mastered At',\n",
       "   'id': 310516,\n",
       "   'resource_url': 'https://api.discogs.com/labels/310516',\n",
       "   'thumbnail_url': 'https://i.discogs.com/gyxecDnGYl5I5DyHVqFhpmLBSOaILgv83LRzdSRbQJE/rs:fit/g:sm/q:40/h:600/w:599/czM6Ly9kaXNjb2dz/LWRhdGFiYXNlLWlt/YWdlcy9MLTMxMDUx/Ni0xMzQwNDAyNjMy/LTUzNDkuanBlZw.jpeg'}],\n",
       " 'formats': [{'name': 'Vinyl',\n",
       "   'qty': '1',\n",
       "   'text': 'Lyntone/Damont',\n",
       "   'descriptions': ['12\"', '45 RPM', 'Single']}],\n",
       " 'data_quality': 'Correct',\n",
       " 'community': {'have': 2240,\n",
       "  'want': 367,\n",
       "  'rating': {'count': 175, 'average': 4.11},\n",
       "  'submitter': {'username': 'Allard-S',\n",
       "   'resource_url': 'https://api.discogs.com/users/Allard-S'},\n",
       "  'contributors': [{'username': 'Allard-S',\n",
       "    'resource_url': 'https://api.discogs.com/users/Allard-S'},\n",
       "   {'username': 'vargind',\n",
       "    'resource_url': 'https://api.discogs.com/users/vargind'},\n",
       "   {'username': 'earshot',\n",
       "    'resource_url': 'https://api.discogs.com/users/earshot'},\n",
       "   {'username': 'lostgroove',\n",
       "    'resource_url': 'https://api.discogs.com/users/lostgroove'},\n",
       "   {'username': 'lostin_music',\n",
       "    'resource_url': 'https://api.discogs.com/users/lostin_music'},\n",
       "   {'username': 'alistairk',\n",
       "    'resource_url': 'https://api.discogs.com/users/alistairk'},\n",
       "   {'username': '_80_', 'resource_url': 'https://api.discogs.com/users/_80_'},\n",
       "   {'username': 'chillyboy64',\n",
       "    'resource_url': 'https://api.discogs.com/users/chillyboy64'},\n",
       "   {'username': 'notjonty1972',\n",
       "    'resource_url': 'https://api.discogs.com/users/notjonty1972'},\n",
       "   {'username': 'petter_milde',\n",
       "    'resource_url': 'https://api.discogs.com/users/petter_milde'},\n",
       "   {'username': 'DiscoLover79',\n",
       "    'resource_url': 'https://api.discogs.com/users/DiscoLover79'},\n",
       "   {'username': 'OlaDj',\n",
       "    'resource_url': 'https://api.discogs.com/users/OlaDj'},\n",
       "   {'username': 'Herrey',\n",
       "    'resource_url': 'https://api.discogs.com/users/Herrey'},\n",
       "   {'username': 'EWPVDV',\n",
       "    'resource_url': 'https://api.discogs.com/users/EWPVDV'},\n",
       "   {'username': 'AndyP-UK',\n",
       "    'resource_url': 'https://api.discogs.com/users/AndyP-UK'},\n",
       "   {'username': 'Anakdotcom',\n",
       "    'resource_url': 'https://api.discogs.com/users/Anakdotcom'},\n",
       "   {'username': 'shangalang',\n",
       "    'resource_url': 'https://api.discogs.com/users/shangalang'},\n",
       "   {'username': 'Roby17',\n",
       "    'resource_url': 'https://api.discogs.com/users/Roby17'}],\n",
       "  'data_quality': 'Correct',\n",
       "  'status': 'Accepted'},\n",
       " 'format_quantity': 1,\n",
       " 'date_added': '2004-01-16T05:36:07-08:00',\n",
       " 'date_changed': '2022-04-11T00:53:54-07:00',\n",
       " 'num_for_sale': 62,\n",
       " 'lowest_price': 0.88,\n",
       " 'master_id': 96559,\n",
       " 'master_url': 'https://api.discogs.com/masters/96559',\n",
       " 'title': 'Never Gonna Give You Up',\n",
       " 'country': 'UK',\n",
       " 'released': '1987',\n",
       " 'notes': '℗ 1987 BMG Records (UK) Ltd.  © 1987 BMG Records (UK) Ltd.\\n℗ Pete Waterman Ltd.  Original Sound Recording made by PWL.\\n\\nDistributed in the UK by BMG Records.  Distribué en Europe par BMG/Ariola.  Vertrieb en Europa dürch BMG/Ariola.\\n\\nBMG Records (UK) Ltd. are the exclusive licensees for the world.\\n\\nManufactured in England.\\n\\nFor the CBS Pressing see: [r11948739]\\nAnother release pressed by Damont but not Mastered at Lyntone exists.',\n",
       " 'released_formatted': '1987',\n",
       " 'identifiers': [{'type': 'Barcode',\n",
       "   'value': '012394 144869',\n",
       "   'description': 'Text'},\n",
       "  {'type': 'Barcode', 'value': '5012394144869', 'description': 'Scanned'},\n",
       "  {'type': 'Label Code', 'value': 'LC 0316'},\n",
       "  {'type': 'Price Code', 'value': 'AF', 'description': 'D:'},\n",
       "  {'type': 'Price Code', 'value': 'RC120', 'description': 'F:'},\n",
       "  {'type': 'Price Code', 'value': 'BB', 'description': 'UK:'},\n",
       "  {'type': 'Matrix / Runout',\n",
       "   'value': 'PT 41448 A3 L 19090 [Lyra logo]TOPIA. M.S. DAMONT',\n",
       "   'description': 'Runout side A'},\n",
       "  {'type': 'Matrix / Runout',\n",
       "   'value': 'PT 41448 B2 L 19091 [Lyra logo]TOPIA DAMONT',\n",
       "   'description': 'Runout side B'}],\n",
       " 'videos': [{'uri': 'https://www.youtube.com/watch?v=dQw4w9WgXcQ',\n",
       "   'title': 'Rick Astley - Never Gonna Give You Up (Official Music Video)',\n",
       "   'description': 'The official video for “Never Gonna Give You Up” by Rick Astley\\n \\n“Never Gonna Give You Up” was a global smash on its release in July 1987, topping the charts in 25 countries including Rick’s native UK and the US Billboard Hot 100.  It also won ',\n",
       "   'duration': 213,\n",
       "   'embed': True},\n",
       "  {'uri': 'https://www.youtube.com/watch?v=GHMjD0Lp5DY',\n",
       "   'title': 'Rick Astley  - Never Gonna Give You Up (Pianoforte) (Official Audio)',\n",
       "   'description': \"The official audio for Never Gonna Give You Up (Pianoforte). \\nFrom the album The Best Of Me. Buy/Listen: https://RickAstley.lnk.to/BestID\\nLimited edition formats available on Rick's store: https://RickAstley.lnk.to/storeID\\n\\nSubscribe to the official Rick \",\n",
       "   'duration': 210,\n",
       "   'embed': True},\n",
       "  {'uri': 'https://www.youtube.com/watch?v=5VUzYbClDKU',\n",
       "   'title': 'Rick Astley - Never Gonna Give You Up (1987)',\n",
       "   'description': '',\n",
       "   'duration': 349,\n",
       "   'embed': True},\n",
       "  {'uri': 'https://www.youtube.com/watch?v=lYBUbBu4W08',\n",
       "   'title': 'Never Gonna Give You Up',\n",
       "   'description': 'Provided to YouTube by BMG Rights Management (UK) Limited\\n\\nNever Gonna Give You Up · Rick Astley\\n\\nWhenever You Need Somebody\\n\\n℗ 1987 BMG Rights Management (UK) Limited\\n\\nReleased on: 1987-11-12\\n\\nVocals: Rick Astley\\nProducer, Keyboards: Mike Stock\\nGuitar',\n",
       "   'duration': 214,\n",
       "   'embed': True},\n",
       "  {'uri': 'https://www.youtube.com/watch?v=jP8TW6X-Apo',\n",
       "   'title': 'Never Gonna Give You Up (Cake Mix) - Rick Astley',\n",
       "   'description': 'From the maxi single Never Gonna Give You Up (1987)',\n",
       "   'duration': 350,\n",
       "   'embed': True},\n",
       "  {'uri': 'https://www.youtube.com/watch?v=NOFlBeINOdQ',\n",
       "   'title': 'Never Gonna Give You Up (Instrumental) - Rick Astley',\n",
       "   'description': 'From the maxi single Never Gonna Give You Up (1987)',\n",
       "   'duration': 379,\n",
       "   'embed': True},\n",
       "  {'uri': 'https://www.youtube.com/watch?v=H1wVgWNpRJE',\n",
       "   'title': 'Never Gonna Give You Up (Album Version) - Rick Astley',\n",
       "   'description': 'From the maxi single Never Gonna Give You Up (1987)',\n",
       "   'duration': 214,\n",
       "   'embed': True},\n",
       "  {'uri': 'https://www.youtube.com/watch?v=_cf3fxUDZvM',\n",
       "   'title': 'Never Gonna Give You Up (Escape To New York Mix) - Rick Astley',\n",
       "   'description': 'From the maxi single Never Gonna Give You Up (1987)',\n",
       "   'duration': 423,\n",
       "   'embed': True},\n",
       "  {'uri': 'https://www.youtube.com/watch?v=SjlIuoMFPww',\n",
       "   'title': 'Never Gonna Give You Up (Escape From Newton Mix) - Rick Astley',\n",
       "   'description': 'From the maxi single Never Gonna Give You Up (1987)',\n",
       "   'duration': 387,\n",
       "   'embed': True}],\n",
       " 'genres': ['Electronic', 'Pop'],\n",
       " 'styles': ['Synth-pop'],\n",
       " 'tracklist': [{'position': 'A',\n",
       "   'type_': 'track',\n",
       "   'title': 'Never Gonna Give You Up (Cake Mix)',\n",
       "   'duration': '5:47'},\n",
       "  {'position': 'B1',\n",
       "   'type_': 'track',\n",
       "   'title': 'Never Gonna Give You Up (Instrumental)',\n",
       "   'duration': '6:21'},\n",
       "  {'position': 'B2',\n",
       "   'type_': 'track',\n",
       "   'title': 'Never Gonna Give You Up',\n",
       "   'duration': '3:32'}],\n",
       " 'extraartists': [{'name': 'Me Company',\n",
       "   'anv': 'Me Co',\n",
       "   'join': '',\n",
       "   'role': 'Design',\n",
       "   'tracks': '',\n",
       "   'id': 547352,\n",
       "   'resource_url': 'https://api.discogs.com/artists/547352',\n",
       "   'thumbnail_url': 'https://i.discogs.com/Bgu83K7eEUWtxe_NrV2NCPWNaEqJcRMUAsx3vkDaH1k/rs:fit/g:sm/q:40/h:49/w:174/czM6Ly9kaXNjb2dz/LWRhdGFiYXNlLWlt/YWdlcy9BLTU0NzM1/Mi0xMzYxMzEzMjM3/LTU0NjAucG5n.jpeg',\n",
       "   'uri': 'https://www.discogs.com/artist/547352-Me-Company',\n",
       "   'releases_url': 'https://api.discogs.com/artists/547352/releases',\n",
       "   'images': [{'type': 'primary',\n",
       "     'uri': 'https://i.discogs.com/pCkhOH-D6RxgLv3JNNnlfq7elTpnGqmGky1YivFJ0LI/rs:fit/g:sm/q:90/h:49/w:174/czM6Ly9kaXNjb2dz/LWRhdGFiYXNlLWlt/YWdlcy9BLTU0NzM1/Mi0xMzYxMzEzMjM3/LTU0NjAucG5n.jpeg',\n",
       "     'resource_url': 'https://i.discogs.com/pCkhOH-D6RxgLv3JNNnlfq7elTpnGqmGky1YivFJ0LI/rs:fit/g:sm/q:90/h:49/w:174/czM6Ly9kaXNjb2dz/LWRhdGFiYXNlLWlt/YWdlcy9BLTU0NzM1/Mi0xMzYxMzEzMjM3/LTU0NjAucG5n.jpeg',\n",
       "     'uri150': 'https://i.discogs.com/-izftterho6VmkcPB0VYCDiwnjfne9kZJ0aH3kVD74E/rs:fit/g:sm/q:40/h:150/w:150/czM6Ly9kaXNjb2dz/LWRhdGFiYXNlLWlt/YWdlcy9BLTU0NzM1/Mi0xMzYxMzEzMjM3/LTU0NjAucG5n.jpeg',\n",
       "     'width': 174,\n",
       "     'height': 49}],\n",
       "   'profile': 'English design and graphic studio, founded in 1985 by [a=Paul White].\\r\\n\\r\\nMe Company\\r\\n14 Apollo Studios\\r\\nCharlton Kings Road\\r\\nLondon NW5 2SB\\r\\nUnited Kingdom\\r\\n',\n",
       "   'urls': ['http://www.mecompany.com/#',\n",
       "    'https://www.creativebloq.com/3d/me-company-3059893'],\n",
       "   'namevariations': ['Company Me',\n",
       "    'Cömpany',\n",
       "    'ME',\n",
       "    'ME Co.',\n",
       "    'ME Company',\n",
       "    'Me',\n",
       "    \"Me 'art\",\n",
       "    'Me Co',\n",
       "    'Me Co Design',\n",
       "    'Me Co.',\n",
       "    'Me Company, London',\n",
       "    'Me Cömpany',\n",
       "    'Me Eyes',\n",
       "    'Me.',\n",
       "    'MeCo',\n",
       "    'MeCompany',\n",
       "    'Mecompany',\n",
       "    'The Me Company Time Travellers',\n",
       "    \"me 'art\",\n",
       "    'me co',\n",
       "    'me co.',\n",
       "    'meco@meco.demon.co.uk',\n",
       "    'mecompany',\n",
       "    'mecompany©2000'],\n",
       "   'members': [{'id': 347686,\n",
       "     'name': 'Paul White',\n",
       "     'resource_url': 'https://api.discogs.com/artists/347686',\n",
       "     'active': True,\n",
       "     'thumbnail_url': 'https://i.discogs.com/42ZGFM7XVnPdVwFBzRM_Gq9A5Q7VJykmspvgusIVD44/rs:fit/g:sm/q:40/h:175/w:150/czM6Ly9kaXNjb2dz/LWRhdGFiYXNlLWlt/YWdlcy9BLTM0NzY4/Ni0xMjU1NTM2NDk2/LmpwZWc.jpeg'}],\n",
       "   'data_quality': 'Needs Vote'},\n",
       "  {'name': 'Mark McGuire',\n",
       "   'anv': '',\n",
       "   'join': '',\n",
       "   'role': 'Engineer',\n",
       "   'tracks': '',\n",
       "   'id': 78275,\n",
       "   'resource_url': 'https://api.discogs.com/artists/78275',\n",
       "   'thumbnail_url': 'https://i.discogs.com/XnAFwLEnmLSmc6e-PV6n_3yiRhGvNvKRwbynbyAUgRs/rs:fit/g:sm/q:40/h:225/w:300/czM6Ly9kaXNjb2dz/LWRhdGFiYXNlLWlt/YWdlcy9BLTc4Mjc1/LTE0NDkxNzc5Njgt/OTQ1MC5qcGVn.jpeg'},\n",
       "  {'name': 'Mike Duffy',\n",
       "   'anv': '',\n",
       "   'join': '',\n",
       "   'role': 'Engineer',\n",
       "   'tracks': '',\n",
       "   'id': 95941,\n",
       "   'resource_url': 'https://api.discogs.com/artists/95941',\n",
       "   'thumbnail_url': ''},\n",
       "  {'name': 'Miles Showell',\n",
       "   'anv': 'M.S.',\n",
       "   'join': '',\n",
       "   'role': 'Mastered By',\n",
       "   'tracks': '',\n",
       "   'id': 383408,\n",
       "   'resource_url': 'https://api.discogs.com/artists/383408',\n",
       "   'thumbnail_url': 'https://i.discogs.com/dmv2tbA6VqecN092iISBlh4MULCM_W1CouqcSLjChA0/rs:fit/g:sm/q:40/h:192/w:150/czM6Ly9kaXNjb2dz/LWRhdGFiYXNlLWlt/YWdlcy9BLTM4MzQw/OC0xMTU1NDA1Njgw/LmpwZWc.jpeg'},\n",
       "  {'name': 'Pete Hammond',\n",
       "   'anv': 'Mixmaster Pete Hammond',\n",
       "   'join': '',\n",
       "   'role': 'Mixed By',\n",
       "   'tracks': '',\n",
       "   'id': 34067,\n",
       "   'resource_url': 'https://api.discogs.com/artists/34067',\n",
       "   'thumbnail_url': 'https://i.discogs.com/oshieltrKGbrxHyONnbxbnbU3Ryf47Tr7AhiN61ufrw/rs:fit/g:sm/q:40/h:191/w:201/czM6Ly9kaXNjb2dz/LWRhdGFiYXNlLWlt/YWdlcy9BLTM0MDY3/LTEwOTYyMDU0NjAu/anBn.jpeg'},\n",
       "  {'name': 'Stock, Aitken & Waterman',\n",
       "   'anv': 'Stock/Aitken/Waterman',\n",
       "   'join': '',\n",
       "   'role': 'Producer, Written-By',\n",
       "   'tracks': '',\n",
       "   'id': 20942,\n",
       "   'resource_url': 'https://api.discogs.com/artists/20942',\n",
       "   'thumbnail_url': 'https://i.discogs.com/G7MS11KYj7PXWwx-nBbqmET0NCuzaCi4glkLGIqByps/rs:fit/g:sm/q:40/h:396/w:483/czM6Ly9kaXNjb2dz/LWRhdGFiYXNlLWlt/YWdlcy9BLTIwOTQy/LTE0MTU1NTQwMDQt/ODg2Mi5qcGVn.jpeg'}],\n",
       " 'images': [{'type': 'primary',\n",
       "   'uri': 'https://i.discogs.com/eaLFSDEXcmQfGJ63UtCeLKzm0z6YSrh21rHdsvlwrlY/rs:fit/g:sm/q:90/h:594/w:600/czM6Ly9kaXNjb2dz/LWRhdGFiYXNlLWlt/YWdlcy9SLTIyMTgy/NC0xNDE5ODUwNzI1/LTIwODAuanBlZw.jpeg',\n",
       "   'resource_url': 'https://i.discogs.com/eaLFSDEXcmQfGJ63UtCeLKzm0z6YSrh21rHdsvlwrlY/rs:fit/g:sm/q:90/h:594/w:600/czM6Ly9kaXNjb2dz/LWRhdGFiYXNlLWlt/YWdlcy9SLTIyMTgy/NC0xNDE5ODUwNzI1/LTIwODAuanBlZw.jpeg',\n",
       "   'uri150': 'https://i.discogs.com/xeC_Fo991G8r2Oepcv6M2bTnkJBZnJBVQAoMCtojfuM/rs:fit/g:sm/q:40/h:150/w:150/czM6Ly9kaXNjb2dz/LWRhdGFiYXNlLWlt/YWdlcy9SLTIyMTgy/NC0xNDE5ODUwNzI1/LTIwODAuanBlZw.jpeg',\n",
       "   'width': 600,\n",
       "   'height': 594},\n",
       "  {'type': 'secondary',\n",
       "   'uri': 'https://i.discogs.com/Ct8fim8dFeCbu8GHmaslRhkRi_6KFwHcsuf9U27b0L4/rs:fit/g:sm/q:90/h:600/w:600/czM6Ly9kaXNjb2dz/LWRhdGFiYXNlLWlt/YWdlcy9SLTIyMTgy/NC0xNDE5ODUwNzI2/LTM4MjYuanBlZw.jpeg',\n",
       "   'resource_url': 'https://i.discogs.com/Ct8fim8dFeCbu8GHmaslRhkRi_6KFwHcsuf9U27b0L4/rs:fit/g:sm/q:90/h:600/w:600/czM6Ly9kaXNjb2dz/LWRhdGFiYXNlLWlt/YWdlcy9SLTIyMTgy/NC0xNDE5ODUwNzI2/LTM4MjYuanBlZw.jpeg',\n",
       "   'uri150': 'https://i.discogs.com/RKb_VbSdcz2ITCkkcI5QKno481B0XPtf84cI7dXVRUQ/rs:fit/g:sm/q:40/h:150/w:150/czM6Ly9kaXNjb2dz/LWRhdGFiYXNlLWlt/YWdlcy9SLTIyMTgy/NC0xNDE5ODUwNzI2/LTM4MjYuanBlZw.jpeg',\n",
       "   'width': 600,\n",
       "   'height': 600},\n",
       "  {'type': 'secondary',\n",
       "   'uri': 'https://i.discogs.com/198FJsHr3GoMXI9v_7LtzWspHDLs1l9eoqAQN0B0aqE/rs:fit/g:sm/q:90/h:597/w:600/czM6Ly9kaXNjb2dz/LWRhdGFiYXNlLWlt/YWdlcy9SLTIyMTgy/NC0xMTcxNjcyODY2/LmpwZWc.jpeg',\n",
       "   'resource_url': 'https://i.discogs.com/198FJsHr3GoMXI9v_7LtzWspHDLs1l9eoqAQN0B0aqE/rs:fit/g:sm/q:90/h:597/w:600/czM6Ly9kaXNjb2dz/LWRhdGFiYXNlLWlt/YWdlcy9SLTIyMTgy/NC0xMTcxNjcyODY2/LmpwZWc.jpeg',\n",
       "   'uri150': 'https://i.discogs.com/PhsIVOtU_jHgcRS3sFYbB4fACXVUcW5CfYrVEaHribc/rs:fit/g:sm/q:40/h:150/w:150/czM6Ly9kaXNjb2dz/LWRhdGFiYXNlLWlt/YWdlcy9SLTIyMTgy/NC0xMTcxNjcyODY2/LmpwZWc.jpeg',\n",
       "   'width': 600,\n",
       "   'height': 597},\n",
       "  {'type': 'secondary',\n",
       "   'uri': 'https://i.discogs.com/BQynEr26naRe2O3-PvyG1Hg5A8O1aIgriEPEPKIua7A/rs:fit/g:sm/q:90/h:600/w:592/czM6Ly9kaXNjb2dz/LWRhdGFiYXNlLWlt/YWdlcy9SLTIyMTgy/NC0xNDE5ODUwNzI3/LTM3NDcuanBlZw.jpeg',\n",
       "   'resource_url': 'https://i.discogs.com/BQynEr26naRe2O3-PvyG1Hg5A8O1aIgriEPEPKIua7A/rs:fit/g:sm/q:90/h:600/w:592/czM6Ly9kaXNjb2dz/LWRhdGFiYXNlLWlt/YWdlcy9SLTIyMTgy/NC0xNDE5ODUwNzI3/LTM3NDcuanBlZw.jpeg',\n",
       "   'uri150': 'https://i.discogs.com/a6rRnsrd3IrrJHtb6iHS1bzJssfBEdj_gNI4cS0rYJg/rs:fit/g:sm/q:40/h:150/w:150/czM6Ly9kaXNjb2dz/LWRhdGFiYXNlLWlt/YWdlcy9SLTIyMTgy/NC0xNDE5ODUwNzI3/LTM3NDcuanBlZw.jpeg',\n",
       "   'width': 592,\n",
       "   'height': 600}],\n",
       " 'thumb': 'https://i.discogs.com/xeC_Fo991G8r2Oepcv6M2bTnkJBZnJBVQAoMCtojfuM/rs:fit/g:sm/q:40/h:150/w:150/czM6Ly9kaXNjb2dz/LWRhdGFiYXNlLWlt/YWdlcy9SLTIyMTgy/NC0xNDE5ODUwNzI1/LTIwODAuanBlZw.jpeg',\n",
       " 'estimated_weight': 230,\n",
       " 'blocked_from_sale': False}"
      ]
     },
     "execution_count": 61,
     "metadata": {},
     "output_type": "execute_result"
    }
   ],
   "source": [
    "release.data"
   ]
  },
  {
   "cell_type": "code",
   "execution_count": 35,
   "id": "c9b6f4e4",
   "metadata": {},
   "outputs": [
    {
     "data": {
      "text/plain": [
       "'Never Gonna Give You Up'"
      ]
     },
     "execution_count": 35,
     "metadata": {},
     "output_type": "execute_result"
    }
   ],
   "source": [
    "release.title"
   ]
  },
  {
   "cell_type": "code",
   "execution_count": 36,
   "id": "2f78505c",
   "metadata": {},
   "outputs": [
    {
     "data": {
      "text/plain": [
       "[<Label 895 'RCA'>]"
      ]
     },
     "execution_count": 36,
     "metadata": {},
     "output_type": "execute_result"
    }
   ],
   "source": [
    "release.labels"
   ]
  },
  {
   "cell_type": "code",
   "execution_count": 37,
   "id": "acded491",
   "metadata": {},
   "outputs": [
    {
     "data": {
      "text/plain": [
       "<Master 96559 'Never Gonna Give You Up'>"
      ]
     },
     "execution_count": 37,
     "metadata": {},
     "output_type": "execute_result"
    }
   ],
   "source": [
    "release.master"
   ]
  },
  {
   "cell_type": "code",
   "execution_count": 38,
   "id": "3c8d9b7f",
   "metadata": {},
   "outputs": [],
   "source": [
    "master_release = d.master(120735)"
   ]
  },
  {
   "cell_type": "code",
   "execution_count": 56,
   "id": "2b222c8c",
   "metadata": {},
   "outputs": [
    {
     "data": {
      "text/plain": [
       "[<Release 3251727 'Monk'>,\n",
       " <Release 6084174 'Monk'>,\n",
       " <Release 14828004 'Monk.'>,\n",
       " <Release 8414724 'Monk.'>,\n",
       " <Release 18185815 'Monk'>,\n",
       " <Release 3249176 'Monk'>,\n",
       " <Release 11975866 'Monk.'>,\n",
       " <Release 9439169 'Monk.'>,\n",
       " <Release 1487676 'Monk.'>,\n",
       " <Release 9954167 'Monk.'>,\n",
       " <Release 21484282 'Monk.'>,\n",
       " <Release 3208365 'Monk.'>,\n",
       " <Release 3971555 'Monk'>,\n",
       " <Release 3486659 'Monk.'>,\n",
       " <Release 11909041 'Monk'>,\n",
       " <Release 15823039 'Monk'>,\n",
       " <Release 10246982 'Monk.'>,\n",
       " <Release 12023376 'Monk.'>,\n",
       " <Release 5368684 'Monk.'>,\n",
       " <Release 1751204 'Monk.'>,\n",
       " <Release 3426572 'Monk.'>,\n",
       " <Release 20035420 'Monk'>,\n",
       " <Release 3119606 'Monk'>,\n",
       " <Release 15247014 'Monk'>,\n",
       " <Release 14554976 'Monk.'>,\n",
       " <Release 6002445 'Monk.'>,\n",
       " <Release 2225036 'Monk.'>,\n",
       " <Release 14239193 'Monk.'>,\n",
       " <Release 715726 'Monk.'>,\n",
       " <Release 10819729 'Monk.'>,\n",
       " <Release 13940182 'Monk.'>,\n",
       " <Release 4720789 'Monk.'>,\n",
       " <Release 7347022 'Monk.'>,\n",
       " <Release 2351179 'Monk.'>,\n",
       " <Release 11893960 'Monk.'>,\n",
       " <Release 11896835 'Monk.'>,\n",
       " <Release 11272839 'Monk.'>,\n",
       " <Release 2378098 'Monk.'>,\n",
       " <Release 10567136 'Monk.'>,\n",
       " <Release 11087360 'Monk.'>,\n",
       " <Release 8529845 'Monk.'>]"
      ]
     },
     "execution_count": 56,
     "metadata": {},
     "output_type": "execute_result"
    }
   ],
   "source": [
    "master_release.versions.page(1)"
   ]
  },
  {
   "cell_type": "code",
   "execution_count": 40,
   "id": "c2a6c2f5",
   "metadata": {},
   "outputs": [
    {
     "data": {
      "text/plain": [
       "<Release 3208365 'Monk.'>"
      ]
     },
     "execution_count": 40,
     "metadata": {},
     "output_type": "execute_result"
    }
   ],
   "source": [
    "master_release.main_release"
   ]
  },
  {
   "cell_type": "code",
   "execution_count": 46,
   "id": "68ff4a55",
   "metadata": {},
   "outputs": [],
   "source": [
    "label = d.label(6170)"
   ]
  },
  {
   "cell_type": "code",
   "execution_count": 47,
   "id": "1253c7b2",
   "metadata": {},
   "outputs": [
    {
     "data": {
      "text/plain": [
       "<Label 895 'RCA'>"
      ]
     },
     "execution_count": 47,
     "metadata": {},
     "output_type": "execute_result"
    }
   ],
   "source": [
    "label"
   ]
  },
  {
   "cell_type": "code",
   "execution_count": 42,
   "id": "0c3350a0",
   "metadata": {},
   "outputs": [
    {
     "data": {
      "text/plain": [
       "[<Release 1313196 'GrooveCD21'>,\n",
       " <Release 2406957 'Groove 126 / CD 35'>,\n",
       " <Release 13646388 'Let U Know'>,\n",
       " <Release 2826949 'On A Mission'>,\n",
       " <Release 1169568 'FabricLive. 37'>,\n",
       " <Release 1709659 'The Cyberman'>,\n",
       " <Release 1237254 'Night'>,\n",
       " <Release 7539722 'Where You Should Be'>,\n",
       " <Release 3569419 'Outside The Box'>,\n",
       " <Release 3834645 'Kingstep / Damn It'>,\n",
       " <Release 4591127 'Quest For The Sonic Bounty'>,\n",
       " <Release 1801027 'Night'>,\n",
       " <Release 3436622 'Outside The Box'>,\n",
       " <Release 2890087 'Where You Should Be (Remixes)'>,\n",
       " <Release 5304710 'Outside The Box'>,\n",
       " <Release 2702487 'Night Remixes'>,\n",
       " <Release 928922 'Sleazenation Soundclash Mix CD Volume 01 Future Garage'>,\n",
       " <Release 9353401 'Inside Nomine'>,\n",
       " <Release 18922960 'Butterflies EP'>,\n",
       " <Release 3785686 'Anticipate'>,\n",
       " <Release 1287903 'Exclusive Mix For Rough Trade East'>,\n",
       " <Release 9302255 'Rollercoaster'>,\n",
       " <Release 12247952 'Skream!'>,\n",
       " <Release 2505967 'I Love Dubstep'>,\n",
       " <Release 11135608 'Skreamizm Vol: 1 - V'>,\n",
       " <Release 3285625 'Skreamizm Vol: 1 - V'>,\n",
       " <Release 2294723 \"When You Hold Me / Let's Dance\">,\n",
       " <Release 1767674 \"When You Hold Me / Let's Dance\">,\n",
       " <Release 1691200 'Gorgon Sound / Triple 7'>,\n",
       " <Release 11275641 'Gorgon Sound / Triple 7'>,\n",
       " <Release 219742 'Vigilante / What We Do (Remix)'>,\n",
       " <Release 2297962 'Vigilante / What We Do (Remix)'>,\n",
       " <Release 301378 'Murderous Style'>,\n",
       " <Release 298886 \"Fist Of Fury / To The Beat Y'all\">,\n",
       " <Release 6853553 \"Fist Of Fury / To The Beat Y'all\">,\n",
       " <Release 128034 \"Smokin' - PC Edit  / The Swindle\">,\n",
       " <Release 7428762 \"Smokin' - PC Edit  / The Swindle\">,\n",
       " <Release 96370 \"Fat Larry's Skank / Tales From The Bass Side\">,\n",
       " <Release 5969040 'Special 4 Track E.P.'>,\n",
       " <Release 4507653 'Tempa Allstars Vol. 1'>,\n",
       " <Release 171797 'Tempa Allstars Vol. 1'>,\n",
       " <Release 2436817 'Tempa Allstars Vol. 1'>,\n",
       " <Release 3116017 'Deluxe Edition Double A Side 12\"'>,\n",
       " <Release 3116050 'Tempa Allstars Vol. 2'>,\n",
       " <Release 2613055 'Midnight Request Line / I'>,\n",
       " <Release 3150955 'Late Night Request Line / I'>,\n",
       " <Release 2497941 'Midnight Request Line / I'>,\n",
       " <Release 1851834 'Degrees'>,\n",
       " <Release 3116073 'Skreamizm Vol: 1'>,\n",
       " <Release 1918826 'Skreamizm Vol: 1'>]"
      ]
     },
     "execution_count": 42,
     "metadata": {},
     "output_type": "execute_result"
    }
   ],
   "source": [
    "label.releases.page(1)"
   ]
  },
  {
   "cell_type": "code",
   "execution_count": 43,
   "id": "02218c4c",
   "metadata": {},
   "outputs": [
    {
     "data": {
      "text/plain": [
       "[<Label 403411 'Dubstep Allstars'>,\n",
       " <Label 8048 'Sounds Of Da Future'>,\n",
       " <Label 756874 'Tempa Allstars'>,\n",
       " <Label 720855 'Tempa Recordings'>]"
      ]
     },
     "execution_count": 43,
     "metadata": {},
     "output_type": "execute_result"
    }
   ],
   "source": [
    "label.sublabels"
   ]
  },
  {
   "cell_type": "code",
   "execution_count": 44,
   "id": "fa24866f",
   "metadata": {},
   "outputs": [
    {
     "data": {
      "text/plain": [
       "<Label 309132 'Ammunition Promotions Ltd.'>"
      ]
     },
     "execution_count": 44,
     "metadata": {},
     "output_type": "execute_result"
    }
   ],
   "source": [
    "label.parent_label"
   ]
  },
  {
   "cell_type": "code",
   "execution_count": null,
   "id": "81f28232",
   "metadata": {},
   "outputs": [],
   "source": []
  }
 ],
 "metadata": {
  "kernelspec": {
   "display_name": "Python 3 (ipykernel)",
   "language": "python",
   "name": "python3"
  },
  "language_info": {
   "codemirror_mode": {
    "name": "ipython",
    "version": 3
   },
   "file_extension": ".py",
   "mimetype": "text/x-python",
   "name": "python",
   "nbconvert_exporter": "python",
   "pygments_lexer": "ipython3",
   "version": "3.9.7"
  }
 },
 "nbformat": 4,
 "nbformat_minor": 5
}
