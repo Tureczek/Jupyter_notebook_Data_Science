{
 "cells": [
  {
   "cell_type": "markdown",
   "metadata": {},
   "source": [
    "# Exercise 4: Mean Shift Algorithm for Face Recognition"
   ]
  },
  {
   "cell_type": "markdown",
   "metadata": {},
   "source": [
    "This is an example of implementation of Mean-Shift algorithm for segmentation of images. The algorithms aims at recognizing faces (light pixels) from the background (darker pixels).\n",
    "Mean-Shift algorithm determines the number of clusters and formes the clusters."
   ]
  },
  {
   "cell_type": "markdown",
   "metadata": {},
   "source": [
    "## 1. Developing Environment"
   ]
  },
  {
   "cell_type": "code",
   "execution_count": null,
   "metadata": {},
   "outputs": [],
   "source": [
    "import numpy as np\n",
    "import pandas as pd\n",
    "\n",
    "from sklearn.cluster import KMeans, MeanShift\n",
    "\n",
    "from sklearn import metrics\n",
    "import matplotlib.pyplot as plt\n",
    "\n",
    "# Python Imaging Library\n",
    "from PIL import Image\n",
    "\n",
    "from scipy.spatial.distance import cdist\n"
   ]
  },
  {
   "cell_type": "markdown",
   "metadata": {},
   "source": [
    "## 2. Loading Data"
   ]
  },
  {
   "cell_type": "code",
   "execution_count": null,
   "metadata": {},
   "outputs": [],
   "source": [
    "# Read the image file\n",
    "OUR_IMAGE = '../images/Destructuring.jpg'\n",
    "#OUR_IMAGE = '../images/TechBBQ.jpg'\n",
    "image = Image.open(OUR_IMAGE)\n",
    "image"
   ]
  },
  {
   "cell_type": "markdown",
   "metadata": {},
   "source": [
    "The algorithm expects the data stored into a data frame. Each pixel is presented by two coordinates and three colors in the RGB schema: red, green, and Blue, each measured with a value between 0 and 255."
   ]
  },
  {
   "cell_type": "code",
   "execution_count": null,
   "metadata": {},
   "outputs": [],
   "source": [
    "image.size"
   ]
  },
  {
   "cell_type": "code",
   "execution_count": null,
   "metadata": {},
   "outputs": [],
   "source": [
    "# Convert image pixels to numpy array\n",
    "pix_array = np.array(image)\n",
    "pix_array"
   ]
  },
  {
   "cell_type": "code",
   "execution_count": null,
   "metadata": {},
   "outputs": [],
   "source": [
    "# For test, get the values of pixel[0][0]\n",
    "pix_array[10][20]"
   ]
  },
  {
   "cell_type": "code",
   "execution_count": null,
   "metadata": {},
   "outputs": [],
   "source": [
    "# Alternativ way to get the pixel color values\n",
    "pixels = image.load()\n",
    "pixels[20,10]"
   ]
  },
  {
   "cell_type": "code",
   "execution_count": null,
   "metadata": {},
   "outputs": [],
   "source": [
    "# Convert the pixels into pandas dataframe, add the coordinates and the RGB values together\n",
    "df = pd.DataFrame(\n",
    "    [[x, y, pixels[x, y][0], pixels[x, y][1], pixels[x, y][2]]\n",
    "        for x in range(image.size[0])\n",
    "        for y in range(image.size[1])\n",
    "     ],\n",
    "    columns=['x', 'y', 'r', 'g', 'b']\n",
    ")"
   ]
  },
  {
   "cell_type": "code",
   "execution_count": null,
   "metadata": {},
   "outputs": [],
   "source": [
    "df.head()"
   ]
  },
  {
   "cell_type": "markdown",
   "metadata": {},
   "source": [
    "## 3. Training a Model"
   ]
  },
  {
   "cell_type": "code",
   "execution_count": null,
   "metadata": {},
   "outputs": [],
   "source": [
    "# Train mean-shift model with the data frame\n",
    "ms_model = MeanShift()\n",
    "ms_model.fit(df)"
   ]
  },
  {
   "cell_type": "code",
   "execution_count": null,
   "metadata": {},
   "outputs": [],
   "source": [
    "# See the clusters and cluster centres\n",
    "ms_model.cluster_centers_"
   ]
  },
  {
   "cell_type": "code",
   "execution_count": null,
   "metadata": {},
   "outputs": [],
   "source": [
    "len(ms_model.labels_)"
   ]
  },
  {
   "cell_type": "code",
   "execution_count": null,
   "metadata": {},
   "outputs": [],
   "source": [
    "# Create a function to iterate through the data and create clusters\n",
    "# Remember the variables cluster_centers_ and labels_ from last time?\n",
    "def image_clusters(model, output, MY_IMAGE):\n",
    "    # for each cluster\n",
    "    for i in range(len(model.cluster_centers_)):\n",
    "        image = Image.open(MY_IMAGE)\n",
    "        pixels = image.load()\n",
    "        # for each pixel\n",
    "        for j in range(len(df)):\n",
    "            if (model.labels_[j] != i):\n",
    "                # make the rest white\n",
    "                pixels[int(df['x'][j]), int(df['y'][j])] = (255, 255, 255)\n",
    "        image.save(output + str(i) + '.jpg')       "
   ]
  },
  {
   "cell_type": "code",
   "execution_count": null,
   "metadata": {},
   "outputs": [],
   "source": [
    "image_clusters(ms_model, 'meanshift_cluster', OUR_IMAGE)"
   ]
  },
  {
   "cell_type": "code",
   "execution_count": null,
   "metadata": {},
   "outputs": [],
   "source": [
    "clustered_image0 = Image.open('meanshift_cluster0.jpg')\n",
    "clustered_image0"
   ]
  },
  {
   "cell_type": "code",
   "execution_count": null,
   "metadata": {},
   "outputs": [],
   "source": [
    "clustered_image1 = Image.open('meanshift_cluster1.jpg')\n",
    "clustered_image1"
   ]
  },
  {
   "cell_type": "markdown",
   "metadata": {},
   "source": [
    "## 4. Validating the Model with K-Means"
   ]
  },
  {
   "cell_type": "code",
   "execution_count": null,
   "metadata": {},
   "outputs": [],
   "source": [
    "# Determine k by minimizing the distortion - \n",
    "# the sum of the squared distances between each observation vector and its centroid\n",
    "distortions = []\n",
    "K = range(2,10)\n",
    "for k in K:\n",
    "    model = KMeans(n_clusters=k).fit(df)\n",
    "    model.fit(df)\n",
    "    distortions.append(sum(np.min(cdist(df, model.cluster_centers_, 'euclidean'), axis=1)) / df.shape[0]) \n",
    "print(\"Distortion: \", distortions)"
   ]
  },
  {
   "cell_type": "code",
   "execution_count": null,
   "metadata": {},
   "outputs": [],
   "source": [
    "# Plot the elbow\n",
    "plt.title('Elbow Method for optimal K')\n",
    "plt.plot(K, distortions, 'bx-')\n",
    "plt.xlabel('K')\n",
    "plt.ylabel('Distortion')\n",
    "plt.show()"
   ]
  },
  {
   "cell_type": "code",
   "execution_count": null,
   "metadata": {},
   "outputs": [],
   "source": [
    "# K-means model fitting with specified number of clusters\n",
    "k_means_model = KMeans(n_clusters=7)\n",
    "k_means_model.fit(df)"
   ]
  },
  {
   "cell_type": "code",
   "execution_count": null,
   "metadata": {},
   "outputs": [],
   "source": [
    "# Create image clusters\n",
    "image_clusters(k_means_model, 'kmeans_cluster', OUR_IMAGE)"
   ]
  },
  {
   "cell_type": "code",
   "execution_count": null,
   "metadata": {},
   "outputs": [],
   "source": [
    "clustered_image0 = Image.open('kmeans_cluster0.jpg')\n",
    "clustered_image0"
   ]
  },
  {
   "cell_type": "code",
   "execution_count": null,
   "metadata": {},
   "outputs": [],
   "source": [
    "clustered_image1 = Image.open('kmeans_cluster1.jpg')\n",
    "clustered_image1"
   ]
  },
  {
   "cell_type": "code",
   "execution_count": null,
   "metadata": {},
   "outputs": [],
   "source": [
    "clustered_image2 = Image.open('kmeans_cluster2.jpg')\n",
    "clustered_image2"
   ]
  },
  {
   "cell_type": "code",
   "execution_count": null,
   "metadata": {},
   "outputs": [],
   "source": [
    "clustered_image3 = Image.open('kmeans_cluster3.jpg')\n",
    "clustered_image3"
   ]
  },
  {
   "cell_type": "code",
   "execution_count": null,
   "metadata": {},
   "outputs": [],
   "source": [
    "clustered_image4 = Image.open('kmeans_cluster4.jpg')\n",
    "clustered_image4"
   ]
  },
  {
   "cell_type": "code",
   "execution_count": null,
   "metadata": {},
   "outputs": [],
   "source": [
    "clustered_image5 = Image.open('kmeans_cluster5.jpg')\n",
    "clustered_image5"
   ]
  },
  {
   "cell_type": "code",
   "execution_count": null,
   "metadata": {},
   "outputs": [],
   "source": [
    "clustered_image6 = Image.open('kmeans_cluster6.jpg')\n",
    "clustered_image6"
   ]
  },
  {
   "cell_type": "code",
   "execution_count": null,
   "metadata": {},
   "outputs": [],
   "source": [
    "clustered_image7 = Image.open('kmeans_cluster7.jpg')\n",
    "clustered_image7"
   ]
  },
  {
   "cell_type": "code",
   "execution_count": null,
   "metadata": {},
   "outputs": [],
   "source": []
  },
  {
   "cell_type": "code",
   "execution_count": null,
   "metadata": {},
   "outputs": [],
   "source": []
  }
 ],
 "metadata": {
  "kernelspec": {
   "display_name": "Python 3 (ipykernel)",
   "language": "python",
   "name": "python3"
  },
  "language_info": {
   "codemirror_mode": {
    "name": "ipython",
    "version": 3
   },
   "file_extension": ".py",
   "mimetype": "text/x-python",
   "name": "python",
   "nbconvert_exporter": "python",
   "pygments_lexer": "ipython3",
   "version": "3.9.7"
  }
 },
 "nbformat": 4,
 "nbformat_minor": 2
}
