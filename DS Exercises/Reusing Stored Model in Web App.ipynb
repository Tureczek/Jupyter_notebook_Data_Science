{
 "cells": [
  {
   "cell_type": "markdown",
   "id": "157f594b",
   "metadata": {},
   "source": [
    "# Reusing Stored Model in Web App"
   ]
  },
  {
   "cell_type": "markdown",
   "id": "87c56f08",
   "metadata": {},
   "source": [
    "### Install Flask"
   ]
  },
  {
   "cell_type": "code",
   "execution_count": 1,
   "id": "8e7a70d3",
   "metadata": {},
   "outputs": [],
   "source": [
    "#!pip install flask-bootstrap"
   ]
  },
  {
   "cell_type": "code",
   "execution_count": 2,
   "id": "e129699a",
   "metadata": {},
   "outputs": [],
   "source": [
    "#!pip install wtforms"
   ]
  },
  {
   "cell_type": "markdown",
   "id": "52583182",
   "metadata": {},
   "source": [
    "## Load and Test the Model from a File"
   ]
  },
  {
   "cell_type": "code",
   "execution_count": 3,
   "id": "2fceb3ac",
   "metadata": {},
   "outputs": [],
   "source": [
    "# For serialization and deserialization of data from/to file\n",
    "# from sklearn.externals \n",
    "import joblib\n",
    "msmodel = joblib.load('./msmodel.pkl')"
   ]
  },
  {
   "cell_type": "code",
   "execution_count": 4,
   "id": "7e343523",
   "metadata": {},
   "outputs": [
    {
     "data": {
      "text/plain": [
       "array([1], dtype=int64)"
      ]
     },
     "execution_count": 4,
     "metadata": {},
     "output_type": "execute_result"
    }
   ],
   "source": [
    "# Test reading from the file\n",
    "my_prediction = msmodel.predict([[137,  83]])\n",
    "my_prediction"
   ]
  },
  {
   "cell_type": "markdown",
   "id": "83b871e5",
   "metadata": {},
   "source": [
    "## Create Flask Web Server"
   ]
  },
  {
   "cell_type": "code",
   "execution_count": 5,
   "id": "a0f37995",
   "metadata": {},
   "outputs": [
    {
     "name": "stdout",
     "output_type": "stream",
     "text": [
      "Overwriting mswebapp.py\n"
     ]
    }
   ],
   "source": [
    "%%writefile mswebapp.py\n",
    "\n",
    "# Import libraries\n",
    "import numpy as np\n",
    "\n",
    "# from sklearn.externals \n",
    "import joblib\n",
    "import pickle\n",
    "from flask import Flask, request, jsonify, render_template\n",
    "\n",
    "# create an instance (our app)\n",
    "#app = Flask(__name__)\n",
    "app = Flask(__name__, template_folder='./templates/templates')\n",
    "\n",
    "msmodel = joblib.load('./msmodel.pkl')\n",
    "\n",
    "@app.route('/', methods=['GET', 'POST'])\n",
    "\n",
    "@app.route('/hi/<name>')\n",
    "def hello(name = None):\n",
    "    return render_template('start.html', name=name)\n",
    "# name is parameter in the template: {{name}}\n",
    "\n",
    "@app.route('/predict')\n",
    "def predict():\n",
    "    return render_template('prediction.html')\n",
    "\n",
    "@app.route('/predicted', methods=['GET', 'POST'])\n",
    "def predicted():\n",
    "    if request.method == 'POST':\n",
    "        x1 = request.form['x1']\n",
    "        x2 = request.form['x2']\n",
    "        X = [[x1, x2]]\n",
    "        predicted = msmodel.predict(X)\n",
    "          \n",
    "        return render_template(\"predicted.html\", content=X, prediction=predicted)\n",
    "    \n",
    "@app.route('/bye')\n",
    "def bye():\n",
    "    return render_template('bye.html')\n",
    "\n",
    "if __name__ == '__main__':\n",
    "    app.run(debug=True)"
   ]
  },
  {
   "cell_type": "code",
   "execution_count": 6,
   "id": "49a6f182",
   "metadata": {},
   "outputs": [
    {
     "name": "stdout",
     "output_type": "stream",
     "text": [
      "^C\n"
     ]
    }
   ],
   "source": [
    "!python mswebapp.py"
   ]
  },
  {
   "cell_type": "code",
   "execution_count": 7,
   "id": "e2bb2d2b",
   "metadata": {},
   "outputs": [
    {
     "ename": "NameError",
     "evalue": "name '__init__' is not defined",
     "output_type": "error",
     "traceback": [
      "\u001b[1;31m---------------------------------------------------------------------------\u001b[0m",
      "\u001b[1;31mNameError\u001b[0m                                 Traceback (most recent call last)",
      "Input \u001b[1;32mIn [7]\u001b[0m, in \u001b[0;36m<module>\u001b[1;34m\u001b[0m\n\u001b[1;32m----> 1\u001b[0m \u001b[38;5;21;43m__init__\u001b[39;49m\u001b[38;5;241m.\u001b[39mpy\n",
      "\u001b[1;31mNameError\u001b[0m: name '__init__' is not defined"
     ]
    }
   ],
   "source": [
    "__init__.py"
   ]
  },
  {
   "cell_type": "code",
   "execution_count": null,
   "id": "01669857",
   "metadata": {},
   "outputs": [],
   "source": []
  }
 ],
 "metadata": {
  "kernelspec": {
   "display_name": "Python 3 (ipykernel)",
   "language": "python",
   "name": "python3"
  },
  "language_info": {
   "codemirror_mode": {
    "name": "ipython",
    "version": 3
   },
   "file_extension": ".py",
   "mimetype": "text/x-python",
   "name": "python",
   "nbconvert_exporter": "python",
   "pygments_lexer": "ipython3",
   "version": "3.10.2"
  }
 },
 "nbformat": 4,
 "nbformat_minor": 5
}
