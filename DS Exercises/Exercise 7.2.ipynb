{
 "cells": [
  {
   "cell_type": "markdown",
   "id": "b609fa2c",
   "metadata": {},
   "source": [
    "# E7-2 Linear Regression Demo\n",
    "This code demonstrates the use of linear regression methods for machine learning."
   ]
  },
  {
   "cell_type": "markdown",
   "id": "fa09b963",
   "metadata": {},
   "source": [
    "## Step 1: Problem Analysis and Framing"
   ]
  },
  {
   "cell_type": "code",
   "execution_count": 1,
   "id": "ee876891",
   "metadata": {},
   "outputs": [],
   "source": [
    "# For data manipulation\n",
    "import pandas as pd\n",
    "\n",
    "# for scientific computation\n",
    "import numpy as np\n",
    "\n",
    "# for data analysis\n",
    "from sklearn import linear_model\n",
    "import sklearn.metrics as sm\n",
    "\n",
    "# for diagramming \n",
    "import matplotlib.pyplot as plt\n",
    "\n",
    "# For serialization and deserialization of data from/to file\n",
    "import pickle"
   ]
  },
  {
   "cell_type": "markdown",
   "id": "fe13d9b1",
   "metadata": {},
   "source": [
    "## Step 2: Data Preparation\n",
    "\n",
    "### Input Data"
   ]
  },
  {
   "cell_type": "code",
   "execution_count": 9,
   "id": "019a98d9",
   "metadata": {},
   "outputs": [
    {
     "data": {
      "text/html": [
       "<div>\n",
       "<style scoped>\n",
       "    .dataframe tbody tr th:only-of-type {\n",
       "        vertical-align: middle;\n",
       "    }\n",
       "\n",
       "    .dataframe tbody tr th {\n",
       "        vertical-align: top;\n",
       "    }\n",
       "\n",
       "    .dataframe thead th {\n",
       "        text-align: right;\n",
       "    }\n",
       "</style>\n",
       "<table border=\"1\" class=\"dataframe\">\n",
       "  <thead>\n",
       "    <tr style=\"text-align: right;\">\n",
       "      <th></th>\n",
       "      <th>Hours</th>\n",
       "      <th>Scores</th>\n",
       "    </tr>\n",
       "  </thead>\n",
       "  <tbody>\n",
       "    <tr>\n",
       "      <th>0</th>\n",
       "      <td>2.5</td>\n",
       "      <td>21</td>\n",
       "    </tr>\n",
       "    <tr>\n",
       "      <th>1</th>\n",
       "      <td>5.1</td>\n",
       "      <td>47</td>\n",
       "    </tr>\n",
       "    <tr>\n",
       "      <th>2</th>\n",
       "      <td>3.2</td>\n",
       "      <td>27</td>\n",
       "    </tr>\n",
       "    <tr>\n",
       "      <th>3</th>\n",
       "      <td>8.5</td>\n",
       "      <td>75</td>\n",
       "    </tr>\n",
       "    <tr>\n",
       "      <th>4</th>\n",
       "      <td>3.5</td>\n",
       "      <td>30</td>\n",
       "    </tr>\n",
       "  </tbody>\n",
       "</table>\n",
       "</div>"
      ],
      "text/plain": [
       "   Hours  Scores\n",
       "0    2.5      21\n",
       "1    5.1      47\n",
       "2    3.2      27\n",
       "3    8.5      75\n",
       "4    3.5      30"
      ]
     },
     "execution_count": 9,
     "metadata": {},
     "output_type": "execute_result"
    }
   ],
   "source": [
    "# read CSV file from the 'data' subdirectory using a relative path\n",
    "data = pd.read_csv('student_scores.csv')\n",
    "\n",
    "# display the first 5 rows\n",
    "data.head()"
   ]
  },
  {
   "cell_type": "code",
   "execution_count": 10,
   "id": "538ee44d",
   "metadata": {},
   "outputs": [
    {
     "data": {
      "text/plain": [
       "(25, 2)"
      ]
     },
     "execution_count": 10,
     "metadata": {},
     "output_type": "execute_result"
    }
   ],
   "source": [
    "# See the shape (number of rows) and size (number of columns)\n",
    "data.shape"
   ]
  },
  {
   "cell_type": "code",
   "execution_count": 13,
   "id": "a34ea980",
   "metadata": {},
   "outputs": [
    {
     "data": {
      "text/html": [
       "<div>\n",
       "<style scoped>\n",
       "    .dataframe tbody tr th:only-of-type {\n",
       "        vertical-align: middle;\n",
       "    }\n",
       "\n",
       "    .dataframe tbody tr th {\n",
       "        vertical-align: top;\n",
       "    }\n",
       "\n",
       "    .dataframe thead th {\n",
       "        text-align: right;\n",
       "    }\n",
       "</style>\n",
       "<table border=\"1\" class=\"dataframe\">\n",
       "  <thead>\n",
       "    <tr style=\"text-align: right;\">\n",
       "      <th></th>\n",
       "      <th>Hours</th>\n",
       "      <th>Scores</th>\n",
       "    </tr>\n",
       "  </thead>\n",
       "  <tbody>\n",
       "    <tr>\n",
       "      <th>0</th>\n",
       "      <td>2.5</td>\n",
       "      <td>21</td>\n",
       "    </tr>\n",
       "    <tr>\n",
       "      <th>1</th>\n",
       "      <td>5.1</td>\n",
       "      <td>47</td>\n",
       "    </tr>\n",
       "    <tr>\n",
       "      <th>2</th>\n",
       "      <td>3.2</td>\n",
       "      <td>27</td>\n",
       "    </tr>\n",
       "    <tr>\n",
       "      <th>3</th>\n",
       "      <td>8.5</td>\n",
       "      <td>75</td>\n",
       "    </tr>\n",
       "    <tr>\n",
       "      <th>4</th>\n",
       "      <td>3.5</td>\n",
       "      <td>30</td>\n",
       "    </tr>\n",
       "  </tbody>\n",
       "</table>\n",
       "</div>"
      ],
      "text/plain": [
       "   Hours  Scores\n",
       "0    2.5      21\n",
       "1    5.1      47\n",
       "2    3.2      27\n",
       "3    8.5      75\n",
       "4    3.5      30"
      ]
     },
     "execution_count": 13,
     "metadata": {},
     "output_type": "execute_result"
    }
   ],
   "source": [
    "# See how it looks \n",
    "data.head()"
   ]
  },
  {
   "cell_type": "markdown",
   "id": "e442f535",
   "metadata": {},
   "source": [
    "### Study the Data"
   ]
  },
  {
   "cell_type": "code",
   "execution_count": 15,
   "id": "e01ed151",
   "metadata": {},
   "outputs": [
    {
     "data": {
      "text/html": [
       "<div>\n",
       "<style scoped>\n",
       "    .dataframe tbody tr th:only-of-type {\n",
       "        vertical-align: middle;\n",
       "    }\n",
       "\n",
       "    .dataframe tbody tr th {\n",
       "        vertical-align: top;\n",
       "    }\n",
       "\n",
       "    .dataframe thead th {\n",
       "        text-align: right;\n",
       "    }\n",
       "</style>\n",
       "<table border=\"1\" class=\"dataframe\">\n",
       "  <thead>\n",
       "    <tr style=\"text-align: right;\">\n",
       "      <th></th>\n",
       "      <th>Hours</th>\n",
       "      <th>Scores</th>\n",
       "    </tr>\n",
       "  </thead>\n",
       "  <tbody>\n",
       "    <tr>\n",
       "      <th>count</th>\n",
       "      <td>25.000000</td>\n",
       "      <td>25.000000</td>\n",
       "    </tr>\n",
       "    <tr>\n",
       "      <th>mean</th>\n",
       "      <td>5.012000</td>\n",
       "      <td>51.480000</td>\n",
       "    </tr>\n",
       "    <tr>\n",
       "      <th>std</th>\n",
       "      <td>2.525094</td>\n",
       "      <td>25.286887</td>\n",
       "    </tr>\n",
       "    <tr>\n",
       "      <th>min</th>\n",
       "      <td>1.100000</td>\n",
       "      <td>17.000000</td>\n",
       "    </tr>\n",
       "    <tr>\n",
       "      <th>25%</th>\n",
       "      <td>2.700000</td>\n",
       "      <td>30.000000</td>\n",
       "    </tr>\n",
       "    <tr>\n",
       "      <th>50%</th>\n",
       "      <td>4.800000</td>\n",
       "      <td>47.000000</td>\n",
       "    </tr>\n",
       "    <tr>\n",
       "      <th>75%</th>\n",
       "      <td>7.400000</td>\n",
       "      <td>75.000000</td>\n",
       "    </tr>\n",
       "    <tr>\n",
       "      <th>max</th>\n",
       "      <td>9.200000</td>\n",
       "      <td>95.000000</td>\n",
       "    </tr>\n",
       "  </tbody>\n",
       "</table>\n",
       "</div>"
      ],
      "text/plain": [
       "           Hours     Scores\n",
       "count  25.000000  25.000000\n",
       "mean    5.012000  51.480000\n",
       "std     2.525094  25.286887\n",
       "min     1.100000  17.000000\n",
       "25%     2.700000  30.000000\n",
       "50%     4.800000  47.000000\n",
       "75%     7.400000  75.000000\n",
       "max     9.200000  95.000000"
      ]
     },
     "execution_count": 15,
     "metadata": {},
     "output_type": "execute_result"
    }
   ],
   "source": [
    "data.describe()"
   ]
  },
  {
   "cell_type": "code",
   "execution_count": 73,
   "id": "78944893",
   "metadata": {},
   "outputs": [],
   "source": [
    "# Split X and y\n",
    "X, y = data[\"Hours\"], data[\"Scores\"]\n",
    "X1, y1 = data.iloc[0:,0:1], data.iloc[0:,1:]"
   ]
  },
  {
   "cell_type": "markdown",
   "id": "5c27baa0",
   "metadata": {},
   "source": [
    "### Preprocessing Data"
   ]
  },
  {
   "cell_type": "code",
   "execution_count": 77,
   "id": "b9fb86c3",
   "metadata": {},
   "outputs": [
    {
     "data": {
      "image/png": "[encoded data removed]",
      "text/plain": [
       "<Figure size 432x288 with 1 Axes>"
      ]
     },
     "metadata": {
      "needs_background": "light"
     },
     "output_type": "display_data"
    }
   ],
   "source": [
    "# Plot all\n",
    "plt.xlabel('Hours')\n",
    "plt.ylabel('Scores')\n",
    "plt.scatter(X, y, color='green') # Works on X1 and y1 too\n",
    "plt.show()"
   ]
  },
  {
   "cell_type": "markdown",
   "id": "8d36fd9a",
   "metadata": {},
   "source": [
    "# Step 3: Train Model\n",
    "## Train a Model with Polyfit"
   ]
  },
  {
   "cell_type": "code",
   "execution_count": 29,
   "id": "450a239b",
   "metadata": {},
   "outputs": [
    {
     "name": "stdout",
     "output_type": "stream",
     "text": [
      "9.775803390787472 2.48367340537318\n"
     ]
    }
   ],
   "source": [
    "# The last parameter is the degree of the polynomial\n",
    "# x = X.reshape(X.shape[0])\n",
    "[a, b] = np.polyfit(X, y, 1)\n",
    "print(a, b)"
   ]
  },
  {
   "cell_type": "code",
   "execution_count": 30,
   "id": "e48d4ce7",
   "metadata": {},
   "outputs": [
    {
     "data": {
      "text/plain": [
       "[<matplotlib.lines.Line2D at 0x2981b3252d0>]"
      ]
     },
     "execution_count": 30,
     "metadata": {},
     "output_type": "execute_result"
    },
    {
     "data": {
      "image/png": "[encoded data removed]",
      "text/plain": [
       "<Figure size 432x288 with 1 Axes>"
      ]
     },
     "metadata": {
      "needs_background": "light"
     },
     "output_type": "display_data"
    }
   ],
   "source": [
    "# plot the line\n",
    "plt.scatter(X, y)\n",
    "plt.plot([0, 15], [b, a*15+b])"
   ]
  },
  {
   "cell_type": "markdown",
   "id": "b71c85ba",
   "metadata": {},
   "source": [
    "### Train a Model with scikit-learn"
   ]
  },
  {
   "cell_type": "code",
   "execution_count": 35,
   "id": "eee8d901",
   "metadata": {},
   "outputs": [],
   "source": [
    "# Split in train and test\n",
    "ntr = int(0.8 * len(X1))\n",
    "nts = len(X1) - ntr\n",
    "\n",
    "# Training data\n",
    "X_train, y_train = X1[:ntr], y1[:ntr]\n",
    "\n",
    "# Test data\n",
    "X_test, y_test = X1[ntr:], y1[ntr:]"
   ]
  },
  {
   "cell_type": "code",
   "execution_count": 36,
   "id": "1a323a50",
   "metadata": {},
   "outputs": [
    {
     "data": {
      "image/png": "[encoded data removed]",
      "text/plain": [
       "<Figure size 432x288 with 1 Axes>"
      ]
     },
     "metadata": {
      "needs_background": "light"
     },
     "output_type": "display_data"
    }
   ],
   "source": [
    "# Plot train data\n",
    "plt.scatter(X_train, y_train, color='blue')\n",
    "plt.xlabel('X')\n",
    "plt.ylabel('y')\n",
    "plt.show()"
   ]
  },
  {
   "cell_type": "code",
   "execution_count": 37,
   "id": "3f2a4c01",
   "metadata": {},
   "outputs": [
    {
     "data": {
      "image/png": "[encoded data removed]",
      "text/plain": [
       "<Figure size 432x288 with 1 Axes>"
      ]
     },
     "metadata": {
      "needs_background": "light"
     },
     "output_type": "display_data"
    }
   ],
   "source": [
    "# Plot test data - randomly selected\n",
    "plt.scatter(X_test, y_test, color='green')\n",
    "plt.xlabel('X')\n",
    "plt.ylabel('y')\n",
    "plt.show()"
   ]
  },
  {
   "cell_type": "code",
   "execution_count": 38,
   "id": "a6a4e054",
   "metadata": {},
   "outputs": [
    {
     "data": {
      "text/plain": [
       "LinearRegression()"
      ]
     },
     "execution_count": 38,
     "metadata": {},
     "output_type": "execute_result"
    }
   ],
   "source": [
    "# Create linear regressor object\n",
    "regressor = linear_model.LinearRegression()\n",
    "\n",
    "# Train the model using the training sets\n",
    "regressor.fit(X_train, y_train)"
   ]
  },
  {
   "cell_type": "markdown",
   "id": "c310477c",
   "metadata": {},
   "source": [
    "# Step 4: Test the Model"
   ]
  },
  {
   "cell_type": "code",
   "execution_count": 39,
   "id": "730ccc16",
   "metadata": {},
   "outputs": [
    {
     "data": {
      "text/plain": [
       "array([[28.73632549],\n",
       "       [48.72913629],\n",
       "       [39.2087502 ],\n",
       "       [68.72194709],\n",
       "       [77.29029458]])"
      ]
     },
     "execution_count": 39,
     "metadata": {},
     "output_type": "execute_result"
    }
   ],
   "source": [
    "# Predict the output\n",
    "y_predicted = regressor.predict(X_test)\n",
    "y_predicted"
   ]
  },
  {
   "cell_type": "code",
   "execution_count": 40,
   "id": "47edd1db",
   "metadata": {},
   "outputs": [
    {
     "data": {
      "text/plain": [
       "0.9273291976521455"
      ]
     },
     "execution_count": 40,
     "metadata": {},
     "output_type": "execute_result"
    }
   ],
   "source": [
    "# Calculate a score associated with this model\n",
    "regressor.score(X_test, y_test)"
   ]
  },
  {
   "cell_type": "code",
   "execution_count": 57,
   "id": "4556a015",
   "metadata": {},
   "outputs": [],
   "source": [
    "x_converted = X_test.iloc[: , 0:].values\n",
    "y_converted = y_test.iloc[: , 0:].values"
   ]
  },
  {
   "cell_type": "code",
   "execution_count": 46,
   "id": "fb82e97f",
   "metadata": {},
   "outputs": [
    {
     "data": {
      "text/plain": [
       "array([[2.7],\n",
       "       [4.8],\n",
       "       [3.8],\n",
       "       [6.9],\n",
       "       [7.8]])"
      ]
     },
     "execution_count": 46,
     "metadata": {},
     "output_type": "execute_result"
    }
   ],
   "source": [
    "x_converted"
   ]
  },
  {
   "cell_type": "code",
   "execution_count": 58,
   "id": "16a363b2",
   "metadata": {},
   "outputs": [
    {
     "data": {
      "text/plain": [
       "array([[30],\n",
       "       [54],\n",
       "       [35],\n",
       "       [76],\n",
       "       [86]], dtype=int64)"
      ]
     },
     "execution_count": 58,
     "metadata": {},
     "output_type": "execute_result"
    }
   ],
   "source": [
    "y_converted"
   ]
  },
  {
   "cell_type": "code",
   "execution_count": 47,
   "id": "c3a311b9",
   "metadata": {},
   "outputs": [
    {
     "data": {
      "image/png": "[encoded data removed]",
      "text/plain": [
       "<Figure size 432x288 with 1 Axes>"
      ]
     },
     "metadata": {
      "needs_background": "light"
     },
     "output_type": "display_data"
    }
   ],
   "source": [
    "# Plot output\n",
    "plt.scatter(X_test, y_test, color='green')\n",
    "plt.plot(x_converted, y_predicted, color='magenta', linewidth=1)\n",
    "plt.xlabel('X')\n",
    "plt.ylabel('y')\n",
    "plt.show()"
   ]
  },
  {
   "cell_type": "markdown",
   "id": "2b3e0473",
   "metadata": {},
   "source": [
    "# Step 5: Validate the Accuracy"
   ]
  },
  {
   "cell_type": "code",
   "execution_count": 48,
   "id": "3245acc8",
   "metadata": {},
   "outputs": [
    {
     "name": "stdout",
     "output_type": "stream",
     "text": [
      "Linear regressor performance:\n",
      "Mean absolute error = 5.35\n",
      "Mean squared error = 35.18\n",
      "Median absolute error = 5.27\n",
      "Explain variance score = 0.96\n",
      "R2 score = 0.93\n"
     ]
    }
   ],
   "source": [
    "# Compute performance metrics\n",
    "print(\"Linear regressor performance:\")\n",
    "print(\"Mean absolute error =\", round(sm.mean_absolute_error(y_test, y_predicted), 2))\n",
    "print(\"Mean squared error =\", round(sm.mean_squared_error(y_test, y_predicted), 2)) \n",
    "print(\"Median absolute error =\", round(sm.median_absolute_error(y_test, y_predicted), 2)) \n",
    "print(\"Explain variance score =\", round(sm.explained_variance_score(y_test, y_predicted), 2))\n",
    "print(\"R2 score =\", round(sm.r2_score(y_test, y_predicted), 2))"
   ]
  },
  {
   "cell_type": "code",
   "execution_count": 63,
   "id": "d01c6381",
   "metadata": {},
   "outputs": [
    {
     "data": {
      "text/plain": [
       "array([[28.73632549],\n",
       "       [48.72913629],\n",
       "       [39.2087502 ],\n",
       "       [68.72194709],\n",
       "       [77.29029458]])"
      ]
     },
     "execution_count": 63,
     "metadata": {},
     "output_type": "execute_result"
    }
   ],
   "source": [
    "# Perform prediction on train data, reuse\n",
    "y_new_prediction = regressor.predict(X_test)\n",
    "y_new_prediction"
   ]
  },
  {
   "cell_type": "code",
   "execution_count": 66,
   "id": "4a2c53eb",
   "metadata": {},
   "outputs": [
    {
     "name": "stdout",
     "output_type": "stream",
     "text": [
      "New R2 score =  0.93\n"
     ]
    }
   ],
   "source": [
    "print(\"New R2 score = \", round(sm.r2_score(y_test, y_new_prediction), 2))"
   ]
  },
  {
   "cell_type": "markdown",
   "id": "f62e0e5c",
   "metadata": {},
   "source": [
    "# Step 6: Implement the Model for Prediction of New Data"
   ]
  },
  {
   "cell_type": "code",
   "execution_count": 60,
   "id": "ae08dc61",
   "metadata": {},
   "outputs": [
    {
     "name": "stdout",
     "output_type": "stream",
     "text": [
      "[[-52.75817948]]\n",
      "Mean squared error =  2693.42\n"
     ]
    },
    {
     "name": "stderr",
     "output_type": "stream",
     "text": [
      "C:\\Python310\\lib\\site-packages\\sklearn\\base.py:450: UserWarning: X does not have valid feature names, but LinearRegression was fitted with feature names\n",
      "  warnings.warn(\n"
     ]
    }
   ],
   "source": [
    "my_prediction = regressor.predict([[-5.86]])\n",
    "print(my_prediction)\n",
    "print(\"Mean squared error = \", round(sm.mean_squared_error([-0.86], my_prediction), 2))\n",
    "# [-0.86  1.11]"
   ]
  },
  {
   "cell_type": "code",
   "execution_count": 67,
   "id": "3cd4f551",
   "metadata": {},
   "outputs": [
    {
     "name": "stdout",
     "output_type": "stream",
     "text": [
      "[[54.63177567]]\n"
     ]
    },
    {
     "name": "stderr",
     "output_type": "stream",
     "text": [
      "C:\\Python310\\lib\\site-packages\\sklearn\\base.py:450: UserWarning: X does not have valid feature names, but LinearRegression was fitted with feature names\n",
      "  warnings.warn(\n"
     ]
    }
   ],
   "source": [
    "my_prediction = regressor.predict([[5.42]])\n",
    "print(my_prediction)\n",
    "# [0.42 4.92]"
   ]
  },
  {
   "cell_type": "markdown",
   "id": "ac37fd52",
   "metadata": {},
   "source": [
    "# Step 7: Store the Model in a File"
   ]
  },
  {
   "cell_type": "code",
   "execution_count": 69,
   "id": "e5a062ce",
   "metadata": {},
   "outputs": [],
   "source": [
    "# Store the model in a file\n",
    "reg_model_file = 'deploy/regressor.pkl'\n",
    "\n",
    "# Save now\n",
    "with open(reg_model_file, 'wb') as f:\n",
    "    pickle.dump(regressor, f)"
   ]
  },
  {
   "cell_type": "code",
   "execution_count": 71,
   "id": "42715e64",
   "metadata": {},
   "outputs": [],
   "source": [
    "# To load it later for reuse\n",
    "with open(reg_model_file, 'rb') as f:\n",
    "    regressor_model = pickle.load(f)"
   ]
  },
  {
   "cell_type": "code",
   "execution_count": 72,
   "id": "b3ec7e20",
   "metadata": {},
   "outputs": [
    {
     "name": "stdout",
     "output_type": "stream",
     "text": [
      "[[7.0298452]]\n"
     ]
    },
    {
     "name": "stderr",
     "output_type": "stream",
     "text": [
      "C:\\Python310\\lib\\site-packages\\sklearn\\base.py:450: UserWarning: X does not have valid feature names, but LinearRegression was fitted with feature names\n",
      "  warnings.warn(\n"
     ]
    }
   ],
   "source": [
    "# Test reading from the file\n",
    "my_prediction = regressor_model.predict([[0.42]])\n",
    "print(my_prediction)"
   ]
  },
  {
   "cell_type": "code",
   "execution_count": null,
   "id": "ea15ee19",
   "metadata": {},
   "outputs": [],
   "source": []
  }
 ],
 "metadata": {
  "kernelspec": {
   "display_name": "Python 3 (ipykernel)",
   "language": "python",
   "name": "python3"
  },
  "language_info": {
   "codemirror_mode": {
    "name": "ipython",
    "version": 3
   },
   "file_extension": ".py",
   "mimetype": "text/x-python",
   "name": "python",
   "nbconvert_exporter": "python",
   "pygments_lexer": "ipython3",
   "version": "3.9.7"
  }
 },
 "nbformat": 4,
 "nbformat_minor": 5
}
