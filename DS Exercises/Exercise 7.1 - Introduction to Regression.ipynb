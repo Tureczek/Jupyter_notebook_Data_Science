{
 "cells": [
  {
   "cell_type": "markdown",
   "id": "4d099a57",
   "metadata": {},
   "source": [
    "# Exercise 1: Introduction to Regression"
   ]
  },
  {
   "cell_type": "code",
   "execution_count": 2,
   "id": "9e54722e",
   "metadata": {},
   "outputs": [],
   "source": [
    "import pandas as pd\n",
    "import numpy as np\n",
    "import matplotlib.pyplot as plt"
   ]
  },
  {
   "cell_type": "markdown",
   "id": "8b96db0e",
   "metadata": {},
   "source": [
    "## Enter Data"
   ]
  },
  {
   "cell_type": "code",
   "execution_count": 3,
   "id": "67ee92ff",
   "metadata": {},
   "outputs": [
    {
     "data": {
      "text/html": [
       "<div>\n",
       "<style scoped>\n",
       "    .dataframe tbody tr th:only-of-type {\n",
       "        vertical-align: middle;\n",
       "    }\n",
       "\n",
       "    .dataframe tbody tr th {\n",
       "        vertical-align: top;\n",
       "    }\n",
       "\n",
       "    .dataframe thead th {\n",
       "        text-align: right;\n",
       "    }\n",
       "</style>\n",
       "<table border=\"1\" class=\"dataframe\">\n",
       "  <thead>\n",
       "    <tr style=\"text-align: right;\">\n",
       "      <th></th>\n",
       "      <th>price</th>\n",
       "      <th>sqft_living</th>\n",
       "    </tr>\n",
       "  </thead>\n",
       "  <tbody>\n",
       "    <tr>\n",
       "      <th>0</th>\n",
       "      <td>221900</td>\n",
       "      <td>1180</td>\n",
       "    </tr>\n",
       "    <tr>\n",
       "      <th>1</th>\n",
       "      <td>538000</td>\n",
       "      <td>2570</td>\n",
       "    </tr>\n",
       "    <tr>\n",
       "      <th>2</th>\n",
       "      <td>180000</td>\n",
       "      <td>770</td>\n",
       "    </tr>\n",
       "    <tr>\n",
       "      <th>3</th>\n",
       "      <td>604000</td>\n",
       "      <td>1960</td>\n",
       "    </tr>\n",
       "    <tr>\n",
       "      <th>4</th>\n",
       "      <td>510000</td>\n",
       "      <td>1680</td>\n",
       "    </tr>\n",
       "  </tbody>\n",
       "</table>\n",
       "</div>"
      ],
      "text/plain": [
       "    price  sqft_living\n",
       "0  221900         1180\n",
       "1  538000         2570\n",
       "2  180000          770\n",
       "3  604000         1960\n",
       "4  510000         1680"
      ]
     },
     "execution_count": 3,
     "metadata": {},
     "output_type": "execute_result"
    }
   ],
   "source": [
    "# Enter the data\n",
    "df = pd.read_excel('small-house-data.xlsx')\n",
    "df.head()"
   ]
  },
  {
   "cell_type": "code",
   "execution_count": 34,
   "id": "6f4552ad",
   "metadata": {},
   "outputs": [],
   "source": [
    "# Split into x (and turn it into m2) and y\n",
    "x, y = df['sqft_living']/10.764, df['price']"
   ]
  },
  {
   "cell_type": "code",
   "execution_count": 35,
   "id": "85afe22b",
   "metadata": {},
   "outputs": [
    {
     "data": {
      "text/plain": [
       "(0    109.624675\n",
       " 1    238.758826\n",
       " 2     71.534745\n",
       " Name: sqft_living, dtype: float64,\n",
       " 0    221900\n",
       " 1    538000\n",
       " 2    180000\n",
       " Name: price, dtype: int64)"
      ]
     },
     "execution_count": 35,
     "metadata": {},
     "output_type": "execute_result"
    }
   ],
   "source": [
    "x[0:3], y[0:3]"
   ]
  },
  {
   "cell_type": "code",
   "execution_count": 36,
   "id": "be0f69e1",
   "metadata": {},
   "outputs": [
    {
     "data": {
      "image/png": "[encoded data removed]",
      "text/plain": [
       "<Figure size 432x288 with 1 Axes>"
      ]
     },
     "metadata": {
      "needs_background": "light"
     },
     "output_type": "display_data"
    }
   ],
   "source": [
    "# Plot output of new observations\n",
    "plt.scatter(x[0:3], y[0:3], color='green')\n",
    "plt.xlabel('m2')\n",
    "plt.ylabel('Price in $')\n",
    "plt.show()"
   ]
  },
  {
   "cell_type": "code",
   "execution_count": 37,
   "id": "afa4617c",
   "metadata": {},
   "outputs": [],
   "source": [
    "from typing import Tuple, List\n",
    "\n",
    "Vector = List[float]"
   ]
  },
  {
   "cell_type": "markdown",
   "id": "ef97d193",
   "metadata": {},
   "source": [
    " "
   ]
  },
  {
   "cell_type": "markdown",
   "id": "a9582647",
   "metadata": {},
   "source": [
    "## Prepare Regression Parameters"
   ]
  },
  {
   "cell_type": "code",
   "execution_count": 10,
   "id": "48d7aaec",
   "metadata": {},
   "outputs": [],
   "source": [
    "# predicted price\n",
    "\n",
    "def pprice(a: float, b: float, x:float) -> float:\n",
    "    return(b*x + a)"
   ]
  },
  {
   "cell_type": "code",
   "execution_count": 12,
   "id": "0d67a403",
   "metadata": {},
   "outputs": [],
   "source": [
    "# The error\n",
    "def error(a: float, b: float, x: float, y: float) -> float:\n",
    "    return y - pprice(a,b,x)"
   ]
  },
  {
   "cell_type": "code",
   "execution_count": 13,
   "id": "627e6733",
   "metadata": {},
   "outputs": [
    {
     "data": {
      "text/plain": [
       "112786.77333452803"
      ]
     },
     "execution_count": 13,
     "metadata": {},
     "output_type": "execute_result"
    }
   ],
   "source": [
    "pprice(-4.47515219e+05, 5.11109376e+03, 109.624675)"
   ]
  },
  {
   "cell_type": "code",
   "execution_count": 18,
   "id": "7afeab23",
   "metadata": {},
   "outputs": [
    {
     "data": {
      "text/plain": [
       "109113.22666547197"
      ]
     },
     "execution_count": 18,
     "metadata": {},
     "output_type": "execute_result"
    }
   ],
   "source": [
    "# Test\n",
    "err = error(-4.47515219e+05, 5.11109376e+03, 109.624675, 221900)\n",
    "err"
   ]
  },
  {
   "cell_type": "markdown",
   "id": "efeb6e37",
   "metadata": {},
   "source": [
    "Single observation and error are far from sufficient, and can be both positive and negative."
   ]
  },
  {
   "cell_type": "code",
   "execution_count": 19,
   "id": "aa347cc8",
   "metadata": {},
   "outputs": [],
   "source": [
    "# Sum of squared errors (RSS - Residual Sum of Squares)\n",
    "def sum_err(a:float, b:float, x:Vector, y:Vector) -> float:\n",
    "    return sum(error(a, b, xi, yi)**2\n",
    "              for xi, yi in zip(x, y))"
   ]
  },
  {
   "cell_type": "code",
   "execution_count": 28,
   "id": "c4bb4a04",
   "metadata": {},
   "outputs": [
    {
     "data": {
      "text/plain": [
       "2164874083613790.5"
      ]
     },
     "execution_count": 28,
     "metadata": {},
     "output_type": "execute_result"
    }
   ],
   "source": [
    "sum_err(-4.47515219e+05, 5.11109376e+03, x, y)"
   ]
  },
  {
   "cell_type": "markdown",
   "id": "451def37",
   "metadata": {},
   "source": [
    " "
   ]
  },
  {
   "cell_type": "markdown",
   "id": "d7871d91",
   "metadata": {},
   "source": [
    "## Least Squares"
   ]
  },
  {
   "cell_type": "markdown",
   "id": "8d5118e3",
   "metadata": {},
   "source": [
    "The ordinary least squares solution (OLS) is this that makes the sum of squared errors minimal. "
   ]
  },
  {
   "cell_type": "code",
   "execution_count": 38,
   "id": "eb23e3f8",
   "metadata": {},
   "outputs": [],
   "source": [
    "# a, b - a tuple[a, b]\n",
    "from numpy import mean\n",
    "from numpy import std\n",
    "from numpy import cov\n",
    "from scipy.stats import pearsonr\n",
    "\n",
    "def least_sq(x:Vector, y:Vector)-> Tuple[float, float]:\n",
    "    r = cov(x, y)/std(x)*std(y)\n",
    "    # b = cov(x, y)/(std(x)*std(x))\n",
    "    # r = pearsonr(x, y)\n",
    "    b = r * (std(y)/std(x))\n",
    "    a = mean(y)-b*mean(x)\n",
    "    return a, b"
   ]
  },
  {
   "cell_type": "code",
   "execution_count": 39,
   "id": "8cebe82d",
   "metadata": {},
   "outputs": [
    {
     "data": {
      "text/plain": [
       "(array([[-2.60436480e+13, -7.86682805e+16],\n",
       "        [-7.86682805e+16, -4.82147470e+20]]),\n",
       " array([[1.34782378e+11, 4.07127977e+14],\n",
       "        [4.07127977e+14, 2.49523344e+18]]))"
      ]
     },
     "execution_count": 39,
     "metadata": {},
     "output_type": "execute_result"
    }
   ],
   "source": [
    "least_sq(x,y)"
   ]
  },
  {
   "cell_type": "code",
   "execution_count": 41,
   "id": "228e7e08",
   "metadata": {},
   "outputs": [
    {
     "data": {
      "image/png": "[encoded data removed]",
      "text/plain": [
       "<Figure size 432x288 with 1 Axes>"
      ]
     },
     "metadata": {
      "needs_background": "light"
     },
     "output_type": "display_data"
    }
   ],
   "source": [
    "# Plot output\n",
    "\n",
    "plt.scatter(x, y, color='green')\n",
    "plt.xlabel('m2')\n",
    "plt.ylabel(\"Price\")\n",
    "plt.show()"
   ]
  },
  {
   "cell_type": "code",
   "execution_count": 46,
   "id": "81bbab26",
   "metadata": {},
   "outputs": [
    {
     "data": {
      "image/png": "[encoded data removed]",
      "text/plain": [
       "<Figure size 432x288 with 1 Axes>"
      ]
     },
     "metadata": {
      "needs_background": "light"
     },
     "output_type": "display_data"
    }
   ],
   "source": [
    "# plot the prediction\n",
    "plt.xlabel('area')\n",
    "plt.ylabel('price')\n",
    "# plt.legend()\n",
    "\n",
    "plt.scatter(x, y, color='green', label = 'test data')\n",
    "plt.plot(x, pprice(-4.36077498e+04, 3.02077185e+03, x), color='red', linewidth=2, label= 'predicted regression line')\n",
    "\n",
    "plt.show()"
   ]
  },
  {
   "cell_type": "code",
   "execution_count": null,
   "id": "37abdddf",
   "metadata": {},
   "outputs": [],
   "source": []
  }
 ],
 "metadata": {
  "kernelspec": {
   "display_name": "Python 3 (ipykernel)",
   "language": "python",
   "name": "python3"
  },
  "language_info": {
   "codemirror_mode": {
    "name": "ipython",
    "version": 3
   },
   "file_extension": ".py",
   "mimetype": "text/x-python",
   "name": "python",
   "nbconvert_exporter": "python",
   "pygments_lexer": "ipython3",
   "version": "3.9.7"
  }
 },
 "nbformat": 4,
 "nbformat_minor": 5
}
