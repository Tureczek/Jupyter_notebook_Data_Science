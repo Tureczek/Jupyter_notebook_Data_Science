{
 "cells": [
  {
   "cell_type": "markdown",
   "id": "fa380394",
   "metadata": {},
   "source": [
    "# Bulding a web scraper"
   ]
  },
  {
   "cell_type": "code",
   "execution_count": 1,
   "id": "ddc4c79c",
   "metadata": {},
   "outputs": [],
   "source": [
    "#!pip install requests\n",
    "#!pip install beautifulsoup4\n",
    "#!pip install selenium\n"
   ]
  },
  {
   "cell_type": "code",
   "execution_count": 2,
   "id": "9becd063",
   "metadata": {},
   "outputs": [],
   "source": [
    "import pandas as pd\n",
    "import numpy as np\n",
    "import matplotlib.pyplot as plt\n",
    "import seaborn as sns\n",
    "%matplotlib inline\n",
    "import requests\n",
    "import re\n"
   ]
  },
  {
   "cell_type": "code",
   "execution_count": 3,
   "id": "2a1e7a10",
   "metadata": {},
   "outputs": [],
   "source": [
    "from urllib.request import urlopen\n",
    "from bs4 import BeautifulSoup\n",
    "from selenium import webdriver"
   ]
  },
  {
   "cell_type": "code",
   "execution_count": 4,
   "id": "155e194f",
   "metadata": {},
   "outputs": [],
   "source": [
    "#URL =  'https://genius.com/Eminem-killshot-lyrics'\n",
    "URL =  'https://genius.com/Rammstein-sonne-lyrics'\n",
    "#URL = 'https://genius.com/Ricky-martin-vente-pa-ca-lyrics'\n",
    "\n",
    "\n",
    "r = requests.get(URL)\n",
    "# Parsing the HTML\n",
    "soup = BeautifulSoup(r.content, 'html.parser')"
   ]
  },
  {
   "cell_type": "code",
   "execution_count": 5,
   "id": "0bd2382d",
   "metadata": {},
   "outputs": [
    {
     "name": "stdout",
     "output_type": "stream",
     "text": [
      "https://genius.com/Rammstein-sonne-lyrics\n",
      "200\n"
     ]
    }
   ],
   "source": [
    "# print request object\n",
    "print(r.url)\n",
    "   \n",
    "# print status code\n",
    "print(r.status_code)"
   ]
  },
  {
   "cell_type": "code",
   "execution_count": 6,
   "id": "8736a7ee",
   "metadata": {},
   "outputs": [],
   "source": [
    "s = soup.find('div', class_='SongInfo__Columns-nekw6x-2 lgBflw')"
   ]
  },
  {
   "cell_type": "code",
   "execution_count": 7,
   "id": "96deb4f0",
   "metadata": {},
   "outputs": [],
   "source": [
    "content = s.find_all('div')"
   ]
  },
  {
   "cell_type": "code",
   "execution_count": 8,
   "id": "49328b06",
   "metadata": {
    "scrolled": false
   },
   "outputs": [],
   "source": [
    "#content"
   ]
  },
  {
   "cell_type": "code",
   "execution_count": 9,
   "id": "0c3221a6",
   "metadata": {},
   "outputs": [],
   "source": [
    "from re import split\n",
    "\n",
    "def split_string(string, delimiters):\n",
    "    pattern = r'|'.join(delimiters)\n",
    "    return split(pattern, string)"
   ]
  },
  {
   "cell_type": "code",
   "execution_count": 10,
   "id": "2f6e4c1a",
   "metadata": {},
   "outputs": [],
   "source": [
    "collection = {\"Feature\":[], \"Writer\":[], \"Label\":[], \"Producer\":[]}"
   ]
  },
  {
   "cell_type": "code",
   "execution_count": 11,
   "id": "0d77dd3c",
   "metadata": {
    "scrolled": false
   },
   "outputs": [],
   "source": [
    "def extract_credits(URL):\n",
    "    \n",
    "\n",
    "    r = requests.get(URL)\n",
    "    # Parsing the HTML\n",
    "    soup = BeautifulSoup(r.content, 'html.parser')\n",
    "    s = soup.find('div', class_='SongInfo__Columns-nekw6x-2 lgBflw')\n",
    "    \n",
    "    featur = []\n",
    "    writer = []\n",
    "    label = []\n",
    "    producer = []\n",
    "    \n",
    "    \n",
    "\n",
    "    for line in s:\n",
    "        div = line.find('div').text\n",
    "        an = line.find_all('a')\n",
    "\n",
    "        # -- list_of_inner_text = [x.text for x in an]\n",
    "\n",
    "        # If you want to print the text as a comma separated string\n",
    "        # text = div + \":\" + ', '.join(list_of_inner_text)+\";\"\n",
    "        #text = list_of_inner_text\n",
    "\n",
    "        if 'Featuring' in div: \n",
    "            #featur.append(text)\n",
    "            extract = [x.text for x in an]\n",
    "            for x in extract:\n",
    "                featur.append(x)\n",
    "            \n",
    "       \n",
    "            \n",
    "        if 'Written By' in div:\n",
    "            #writer.append(text)\n",
    "            extract = [x.text for x in an]\n",
    "            for x in extract:\n",
    "                writer.append(x)\n",
    "\n",
    "\n",
    "         \n",
    "        if 'Label' in div:\n",
    "            #label.append(text)\n",
    "            extract = [x.text for x in an]\n",
    "            for x in extract:\n",
    "                label.append(x)\n",
    "         \n",
    "        if 'Produced By' in div:\n",
    "            extract = [x.text for x in an]\n",
    "            for x in extract:\n",
    "                producer.append(x)\n",
    "            #producer.append(text) \n",
    "            \n",
    "            \n",
    "    collection = {\"Feature\":featur, \"Writer\":writer, \"Label\":label, \"Producer\":producer}        \n",
    "        \n",
    "        \n",
    "    return collection\n",
    "    #return writer, featur, producer#, label\n",
    "\n",
    "\n",
    "#        print(type(text))\n",
    "#        print(text)\n",
    "#        print(list)\n",
    "#        print(\"\\n\")\n"
   ]
  },
  {
   "cell_type": "code",
   "execution_count": 15,
   "id": "05cbd84f",
   "metadata": {},
   "outputs": [],
   "source": [
    "#URL =  'https://genius.com/Eminem-killshot-lyrics'\n",
    "#URL =  'https://genius.com/Rammstein-sonne-lyrics'\n",
    "URL = 'https://genius.com/Ricky-martin-vente-pa-ca-lyrics'\n",
    "\n",
    "\n",
    "list_ext = extract_credits(URL)"
   ]
  },
  {
   "cell_type": "code",
   "execution_count": 16,
   "id": "a20e8a94",
   "metadata": {},
   "outputs": [
    {
     "name": "stdout",
     "output_type": "stream",
     "text": [
      "{'Feature': ['Maluma'], 'Writer': ['Ronny Svendsen', 'Chief 1', 'Justin Jesso', 'Anne Judith Wik', 'Maluma', 'Carl Ryden', 'Nermin Harambašić', 'Ricky Martin', 'Mauricio Sebastián Montaner', 'Ricardo Andrés Montaner'], 'Label': [], 'Producer': ['Alexander “A.C.” Castillo']}\n"
     ]
    }
   ],
   "source": [
    "print(list_ext)"
   ]
  },
  {
   "cell_type": "markdown",
   "id": "3423bbca",
   "metadata": {},
   "source": [
    "***"
   ]
  },
  {
   "cell_type": "code",
   "execution_count": null,
   "id": "693c0902",
   "metadata": {},
   "outputs": [],
   "source": []
  },
  {
   "cell_type": "code",
   "execution_count": 14,
   "id": "647e23f0",
   "metadata": {},
   "outputs": [
    {
     "ename": "KeyError",
     "evalue": "2",
     "output_type": "error",
     "traceback": [
      "\u001b[1;31m---------------------------------------------------------------------------\u001b[0m",
      "\u001b[1;31mKeyError\u001b[0m                                  Traceback (most recent call last)",
      "\u001b[1;32m~\\AppData\\Local\\Temp/ipykernel_17812/9171200.py\u001b[0m in \u001b[0;36m<module>\u001b[1;34m\u001b[0m\n\u001b[1;32m----> 1\u001b[1;33m \u001b[0mproducer\u001b[0m \u001b[1;33m=\u001b[0m \u001b[0mlist_ext\u001b[0m\u001b[1;33m[\u001b[0m\u001b[1;36m2\u001b[0m\u001b[1;33m]\u001b[0m\u001b[1;33m\u001b[0m\u001b[1;33m\u001b[0m\u001b[0m\n\u001b[0m\u001b[0;32m      2\u001b[0m \u001b[0mlen\u001b[0m\u001b[1;33m(\u001b[0m\u001b[0mproducer\u001b[0m\u001b[1;33m[\u001b[0m\u001b[1;36m0\u001b[0m\u001b[1;33m]\u001b[0m\u001b[1;33m)\u001b[0m\u001b[1;33m\u001b[0m\u001b[1;33m\u001b[0m\u001b[0m\n",
      "\u001b[1;31mKeyError\u001b[0m: 2"
     ]
    }
   ],
   "source": [
    "producer = list_ext[2]\n",
    "len(producer[0])"
   ]
  },
  {
   "cell_type": "code",
   "execution_count": null,
   "id": "b0ca04fc",
   "metadata": {},
   "outputs": [],
   "source": [
    "producer = str(list_ext[2])"
   ]
  },
  {
   "cell_type": "code",
   "execution_count": null,
   "id": "afb0acb7",
   "metadata": {},
   "outputs": [],
   "source": [
    "producer"
   ]
  },
  {
   "cell_type": "code",
   "execution_count": null,
   "id": "04f3d814",
   "metadata": {},
   "outputs": [],
   "source": [
    "writers = list_ext[0]"
   ]
  },
  {
   "cell_type": "code",
   "execution_count": null,
   "id": "dd320a2e",
   "metadata": {},
   "outputs": [],
   "source": [
    "len(writers[0])"
   ]
  },
  {
   "cell_type": "code",
   "execution_count": null,
   "id": "3f70914c",
   "metadata": {},
   "outputs": [],
   "source": [
    "length = str(list_ext[0])\n",
    "if len(length) > 2:\n",
    "    print(writers)\n",
    "          \n",
    "   # for x in (list_ext[0][0]):\n",
    "    #    print(x)\n",
    "    "
   ]
  },
  {
   "cell_type": "code",
   "execution_count": null,
   "id": "11a6aba1",
   "metadata": {},
   "outputs": [],
   "source": []
  },
  {
   "cell_type": "code",
   "execution_count": null,
   "id": "13c359dc",
   "metadata": {},
   "outputs": [],
   "source": []
  },
  {
   "cell_type": "code",
   "execution_count": null,
   "id": "7f469cac",
   "metadata": {},
   "outputs": [],
   "source": [
    "collection = "
   ]
  },
  {
   "cell_type": "code",
   "execution_count": null,
   "id": "ef39d08f",
   "metadata": {},
   "outputs": [],
   "source": [
    "if len(producer) > 2:\n",
    "    producer = producer[3:(len(producer)-3)]"
   ]
  },
  {
   "cell_type": "code",
   "execution_count": null,
   "id": "7c790eb2",
   "metadata": {},
   "outputs": [],
   "source": [
    "producer"
   ]
  },
  {
   "cell_type": "code",
   "execution_count": null,
   "id": "40947fc5",
   "metadata": {},
   "outputs": [],
   "source": [
    "featur = str(list_ext[1])"
   ]
  },
  {
   "cell_type": "code",
   "execution_count": null,
   "id": "e951957c",
   "metadata": {},
   "outputs": [],
   "source": [
    "if len(featur) > 2:\n",
    "    featur = featur[3:(len(featur)-3)]"
   ]
  },
  {
   "cell_type": "code",
   "execution_count": null,
   "id": "32591683",
   "metadata": {
    "scrolled": true
   },
   "outputs": [],
   "source": [
    "featur"
   ]
  },
  {
   "cell_type": "code",
   "execution_count": null,
   "id": "f5277b0f",
   "metadata": {},
   "outputs": [],
   "source": [
    "label = str(list_ext[3])"
   ]
  },
  {
   "cell_type": "code",
   "execution_count": null,
   "id": "158df40f",
   "metadata": {},
   "outputs": [],
   "source": [
    "if len(label) < 2:\n",
    "    label = lable[3:(len(featur)-3)]\n",
    "    collection.append(label)\n",
    "else:\n",
    "    label = \"\""
   ]
  },
  {
   "cell_type": "code",
   "execution_count": null,
   "id": "3f2d59cf",
   "metadata": {},
   "outputs": [],
   "source": [
    "collection"
   ]
  },
  {
   "cell_type": "markdown",
   "id": "5c9cfc81",
   "metadata": {},
   "source": [
    "***"
   ]
  },
  {
   "cell_type": "code",
   "execution_count": null,
   "id": "4fbd66ed",
   "metadata": {},
   "outputs": [],
   "source": [
    "df = pd.DataFrame(featur, columns=['Featur'])"
   ]
  },
  {
   "cell_type": "code",
   "execution_count": null,
   "id": "f99ff10a",
   "metadata": {},
   "outputs": [],
   "source": []
  },
  {
   "cell_type": "code",
   "execution_count": null,
   "id": "c3a59bc2",
   "metadata": {},
   "outputs": [],
   "source": []
  },
  {
   "cell_type": "code",
   "execution_count": null,
   "id": "6143630f",
   "metadata": {},
   "outputs": [],
   "source": []
  },
  {
   "cell_type": "code",
   "execution_count": null,
   "id": "5ff39858",
   "metadata": {},
   "outputs": [],
   "source": [
    "producer = split_string(splitting, [',','&'])\n",
    "del producer[0]\n",
    "print(producer)"
   ]
  },
  {
   "cell_type": "code",
   "execution_count": null,
   "id": "34ed770a",
   "metadata": {},
   "outputs": [],
   "source": []
  },
  {
   "cell_type": "code",
   "execution_count": null,
   "id": "62a86cec",
   "metadata": {},
   "outputs": [],
   "source": [
    "list = []"
   ]
  },
  {
   "cell_type": "code",
   "execution_count": null,
   "id": "dd9d5025",
   "metadata": {
    "scrolled": true
   },
   "outputs": [],
   "source": [
    "count = 0;\n",
    "for line in content:\n",
    "    count += 1\n",
    "    list.append(line.text)\n",
    "   #print(count, line.text)"
   ]
  },
  {
   "cell_type": "code",
   "execution_count": null,
   "id": "8008631d",
   "metadata": {},
   "outputs": [],
   "source": [
    "#list"
   ]
  },
  {
   "cell_type": "code",
   "execution_count": null,
   "id": "2c6a2460",
   "metadata": {},
   "outputs": [],
   "source": [
    "splitting = str(list[0]).replace('By', 'By,')"
   ]
  },
  {
   "cell_type": "code",
   "execution_count": null,
   "id": "728798c9",
   "metadata": {},
   "outputs": [],
   "source": [
    "splitting"
   ]
  },
  {
   "cell_type": "code",
   "execution_count": null,
   "id": "3e04c589",
   "metadata": {},
   "outputs": [],
   "source": [
    "from re import split\n",
    "\n",
    "def split_string(string, delimiters):\n",
    "    pattern = r'|'.join(delimiters)\n",
    "    return split(pattern, string)"
   ]
  },
  {
   "cell_type": "code",
   "execution_count": null,
   "id": "7a29529b",
   "metadata": {},
   "outputs": [],
   "source": [
    "producer = split_string(splitting, [',','&'])\n",
    "del producer[0]\n",
    "print(producer)"
   ]
  },
  {
   "cell_type": "code",
   "execution_count": null,
   "id": "103c8bc3",
   "metadata": {},
   "outputs": [],
   "source": [
    "splitting2 = str(list[2]).replace('By', 'By,')"
   ]
  },
  {
   "cell_type": "code",
   "execution_count": null,
   "id": "514de6d7",
   "metadata": {},
   "outputs": [],
   "source": [
    "splitting2"
   ]
  },
  {
   "cell_type": "code",
   "execution_count": null,
   "id": "a531304c",
   "metadata": {},
   "outputs": [],
   "source": [
    "writers = split_string(splitting2, [',','&'])\n",
    "del writers[0]\n",
    "print(writers)"
   ]
  },
  {
   "cell_type": "code",
   "execution_count": null,
   "id": "bfe79ba9",
   "metadata": {},
   "outputs": [],
   "source": [
    "splitting3 = str(list[20]).replace('Label', 'Label,')"
   ]
  },
  {
   "cell_type": "code",
   "execution_count": null,
   "id": "ea60a342",
   "metadata": {},
   "outputs": [],
   "source": [
    "splitting3"
   ]
  },
  {
   "cell_type": "code",
   "execution_count": null,
   "id": "1f635b37",
   "metadata": {},
   "outputs": [],
   "source": [
    "label = split_string(splitting3, [',', '&'])\n",
    "del label[0]\n",
    "print(label)"
   ]
  },
  {
   "cell_type": "code",
   "execution_count": null,
   "id": "d83d4b41",
   "metadata": {},
   "outputs": [],
   "source": []
  },
  {
   "cell_type": "code",
   "execution_count": null,
   "id": "c1111ed1",
   "metadata": {},
   "outputs": [],
   "source": []
  }
 ],
 "metadata": {
  "kernelspec": {
   "display_name": "Python 3 (ipykernel)",
   "language": "python",
   "name": "python3"
  },
  "language_info": {
   "codemirror_mode": {
    "name": "ipython",
    "version": 3
   },
   "file_extension": ".py",
   "mimetype": "text/x-python",
   "name": "python",
   "nbconvert_exporter": "python",
   "pygments_lexer": "ipython3",
   "version": "3.9.7"
  }
 },
 "nbformat": 4,
 "nbformat_minor": 5
}
