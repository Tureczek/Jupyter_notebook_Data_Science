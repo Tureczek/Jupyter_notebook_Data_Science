{
 "cells": [
  {
   "cell_type": "markdown",
   "id": "83e9f30f",
   "metadata": {},
   "source": [
    "# Bulding a web scraper"
   ]
  },
  {
   "cell_type": "code",
   "execution_count": 1,
   "id": "6d546160",
   "metadata": {},
   "outputs": [],
   "source": [
    "#!pip install requests\n",
    "#!pip install beautifulsoup4\n",
    "# https://genius.com/Eminem-killshot-lyrics"
   ]
  },
  {
   "cell_type": "code",
   "execution_count": 2,
   "id": "b7a0fa08",
   "metadata": {},
   "outputs": [],
   "source": [
    "import pandas as pd\n",
    "import numpy as np\n",
    "import matplotlib.pyplot as plt\n",
    "import seaborn as sns\n",
    "%matplotlib inline\n",
    "import requests"
   ]
  },
  {
   "cell_type": "code",
   "execution_count": 3,
   "id": "f67c5a07",
   "metadata": {},
   "outputs": [],
   "source": [
    "from urllib.request import urlopen\n",
    "from bs4 import BeautifulSoup"
   ]
  },
  {
   "cell_type": "code",
   "execution_count": 20,
   "id": "12d11a8e",
   "metadata": {},
   "outputs": [],
   "source": [
    "r = requests.get('https://genius.com/Rammstein-sonne-lyrics')\n",
    " \n",
    "# Parsing the HTML\n",
    "soup = BeautifulSoup(r.content, 'html.parser')"
   ]
  },
  {
   "cell_type": "code",
   "execution_count": 21,
   "id": "2266e30a",
   "metadata": {},
   "outputs": [
    {
     "name": "stdout",
     "output_type": "stream",
     "text": [
      "https://genius.com/Rammstein-sonne-lyrics\n",
      "200\n"
     ]
    }
   ],
   "source": [
    "# print request object\n",
    "print(r.url)\n",
    "   \n",
    "# print status code\n",
    "print(r.status_code)"
   ]
  },
  {
   "cell_type": "code",
   "execution_count": 205,
   "id": "c299df2e",
   "metadata": {},
   "outputs": [],
   "source": [
    "s = soup.find('div', class_='SongInfo__Columns-nekw6x-2 lgBflw')"
   ]
  },
  {
   "cell_type": "code",
   "execution_count": 206,
   "id": "7f5ca2b5",
   "metadata": {},
   "outputs": [],
   "source": [
    "content = s.find_all('div')"
   ]
  },
  {
   "cell_type": "code",
   "execution_count": 207,
   "id": "40db81ed",
   "metadata": {},
   "outputs": [],
   "source": [
    "list = []"
   ]
  },
  {
   "cell_type": "code",
   "execution_count": 272,
   "id": "fd3333dc",
   "metadata": {
    "scrolled": true
   },
   "outputs": [],
   "source": [
    "count = 0;\n",
    "for line in content:\n",
    "    count += 1\n",
    "    list.append(line.text)\n",
    "   #print(count, line.text)"
   ]
  },
  {
   "cell_type": "code",
   "execution_count": 225,
   "id": "f784683e",
   "metadata": {},
   "outputs": [],
   "source": [
    "#list"
   ]
  },
  {
   "cell_type": "code",
   "execution_count": 279,
   "id": "8560d423",
   "metadata": {},
   "outputs": [],
   "source": [
    "splitting = str(list[0]).replace('By', 'By,')"
   ]
  },
  {
   "cell_type": "code",
   "execution_count": 280,
   "id": "a197b604",
   "metadata": {},
   "outputs": [
    {
     "data": {
      "text/plain": [
       "'Produced By,Jacob Hellner & Rammstein'"
      ]
     },
     "execution_count": 280,
     "metadata": {},
     "output_type": "execute_result"
    }
   ],
   "source": [
    "splitting"
   ]
  },
  {
   "cell_type": "code",
   "execution_count": 281,
   "id": "823e8b9c",
   "metadata": {},
   "outputs": [],
   "source": [
    "from re import split\n",
    "\n",
    "def split_string(string, delimiters):\n",
    "    pattern = r'|'.join(delimiters)\n",
    "    return split(pattern, string)"
   ]
  },
  {
   "cell_type": "code",
   "execution_count": 290,
   "id": "d1ec166b",
   "metadata": {},
   "outputs": [
    {
     "name": "stdout",
     "output_type": "stream",
     "text": [
      "['Jacob Hellner ', ' Rammstein']\n"
     ]
    }
   ],
   "source": [
    "producer = split_string(splitting, [',','&'])\n",
    "del producer[0]\n",
    "print(producer)"
   ]
  },
  {
   "cell_type": "code",
   "execution_count": 283,
   "id": "b8f54a57",
   "metadata": {},
   "outputs": [],
   "source": [
    "splitting2 = str(list[2]).replace('By', 'By,')"
   ]
  },
  {
   "cell_type": "code",
   "execution_count": 284,
   "id": "18c09cb9",
   "metadata": {},
   "outputs": [
    {
     "data": {
      "text/plain": [
       "'Written By,Oliver Riedel, Paul Landers, Christian Lorenz, Christoph Schneider, Richard Z. Kruspe & Till Lindemann'"
      ]
     },
     "execution_count": 284,
     "metadata": {},
     "output_type": "execute_result"
    }
   ],
   "source": [
    "splitting2"
   ]
  },
  {
   "cell_type": "code",
   "execution_count": 289,
   "id": "70413df4",
   "metadata": {},
   "outputs": [
    {
     "name": "stdout",
     "output_type": "stream",
     "text": [
      "['Oliver Riedel', ' Paul Landers', ' Christian Lorenz', ' Christoph Schneider', ' Richard Z. Kruspe ', ' Till Lindemann']\n"
     ]
    }
   ],
   "source": [
    "writers = split_string(splitting2, [',','&'])\n",
    "del writers[0]\n",
    "print(writers)"
   ]
  },
  {
   "cell_type": "code",
   "execution_count": 286,
   "id": "13aa33f6",
   "metadata": {},
   "outputs": [],
   "source": [
    "splitting3 = str(list[20]).replace('Label', 'Label,')"
   ]
  },
  {
   "cell_type": "code",
   "execution_count": 287,
   "id": "86c50b5b",
   "metadata": {},
   "outputs": [
    {
     "data": {
      "text/plain": [
       "'Label,Universal Music Group & Motor Music'"
      ]
     },
     "execution_count": 287,
     "metadata": {},
     "output_type": "execute_result"
    }
   ],
   "source": [
    "splitting3"
   ]
  },
  {
   "cell_type": "code",
   "execution_count": 288,
   "id": "9d8abd87",
   "metadata": {},
   "outputs": [
    {
     "name": "stdout",
     "output_type": "stream",
     "text": [
      "['Universal Music Group ', ' Motor Music']\n"
     ]
    }
   ],
   "source": [
    "label = split_string(splitting3, [',', '&'])\n",
    "del label[0]\n",
    "print(label)"
   ]
  },
  {
   "cell_type": "code",
   "execution_count": 291,
   "id": "5f0ef9e9",
   "metadata": {},
   "outputs": [],
   "source": [
    "df = pd.DataFrame(zip(producer, writers, label), columns=['Producer', 'Writer', 'Label'])"
   ]
  },
  {
   "cell_type": "code",
   "execution_count": 294,
   "id": "ce7e6caf",
   "metadata": {},
   "outputs": [
    {
     "data": {
      "text/html": [
       "<div>\n",
       "<style scoped>\n",
       "    .dataframe tbody tr th:only-of-type {\n",
       "        vertical-align: middle;\n",
       "    }\n",
       "\n",
       "    .dataframe tbody tr th {\n",
       "        vertical-align: top;\n",
       "    }\n",
       "\n",
       "    .dataframe thead th {\n",
       "        text-align: right;\n",
       "    }\n",
       "</style>\n",
       "<table border=\"1\" class=\"dataframe\">\n",
       "  <thead>\n",
       "    <tr style=\"text-align: right;\">\n",
       "      <th></th>\n",
       "      <th>Producer</th>\n",
       "      <th>Writer</th>\n",
       "      <th>Label</th>\n",
       "    </tr>\n",
       "  </thead>\n",
       "  <tbody>\n",
       "    <tr>\n",
       "      <th>0</th>\n",
       "      <td>Jacob Hellner</td>\n",
       "      <td>Oliver Riedel</td>\n",
       "      <td>Universal Music Group</td>\n",
       "    </tr>\n",
       "    <tr>\n",
       "      <th>1</th>\n",
       "      <td>Rammstein</td>\n",
       "      <td>Paul Landers</td>\n",
       "      <td>Motor Music</td>\n",
       "    </tr>\n",
       "  </tbody>\n",
       "</table>\n",
       "</div>"
      ],
      "text/plain": [
       "         Producer         Writer                   Label\n",
       "0  Jacob Hellner   Oliver Riedel  Universal Music Group \n",
       "1       Rammstein   Paul Landers             Motor Music"
      ]
     },
     "execution_count": 294,
     "metadata": {},
     "output_type": "execute_result"
    }
   ],
   "source": [
    "df"
   ]
  },
  {
   "cell_type": "code",
   "execution_count": null,
   "id": "218dbd21",
   "metadata": {},
   "outputs": [],
   "source": []
  }
 ],
 "metadata": {
  "kernelspec": {
   "display_name": "Python 3 (ipykernel)",
   "language": "python",
   "name": "python3"
  },
  "language_info": {
   "codemirror_mode": {
    "name": "ipython",
    "version": 3
   },
   "file_extension": ".py",
   "mimetype": "text/x-python",
   "name": "python",
   "nbconvert_exporter": "python",
   "pygments_lexer": "ipython3",
   "version": "3.9.7"
  }
 },
 "nbformat": 4,
 "nbformat_minor": 5
}
