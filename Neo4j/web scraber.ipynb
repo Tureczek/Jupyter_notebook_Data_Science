{
 "cells": [
  {
   "cell_type": "markdown",
   "id": "fa380394",
   "metadata": {},
   "source": [
    "# Bulding a web scraper"
   ]
  },
  {
   "cell_type": "code",
   "execution_count": 1,
   "id": "ddc4c79c",
   "metadata": {},
   "outputs": [],
   "source": [
    "#!pip install requests\n",
    "#!pip install beautifulsoup4\n",
    "#!pip install selenium\n"
   ]
  },
  {
   "cell_type": "code",
   "execution_count": 2,
   "id": "9becd063",
   "metadata": {},
   "outputs": [],
   "source": [
    "import pandas as pd\n",
    "import numpy as np\n",
    "import matplotlib.pyplot as plt\n",
    "import seaborn as sns\n",
    "%matplotlib inline\n",
    "import requests\n",
    "import re\n"
   ]
  },
  {
   "cell_type": "code",
   "execution_count": 3,
   "id": "2a1e7a10",
   "metadata": {},
   "outputs": [],
   "source": [
    "from urllib.request import urlopen\n",
    "from bs4 import BeautifulSoup\n",
    "from selenium import webdriver"
   ]
  },
  {
   "cell_type": "code",
   "execution_count": 4,
   "id": "155e194f",
   "metadata": {},
   "outputs": [],
   "source": [
    "#URL =  'https://genius.com/Eminem-killshot-lyrics'\n",
    "URL =  'https://genius.com/Rammstein-sonne-lyrics'\n",
    "#URL = 'https://genius.com/Ricky-martin-vente-pa-ca-lyrics'\n",
    "\n",
    "\n",
    "r = requests.get(URL)\n",
    "# Parsing the HTML\n",
    "soup = BeautifulSoup(r.content, 'html.parser')"
   ]
  },
  {
   "cell_type": "code",
   "execution_count": 5,
   "id": "0bd2382d",
   "metadata": {},
   "outputs": [
    {
     "name": "stdout",
     "output_type": "stream",
     "text": [
      "https://genius.com/Rammstein-sonne-lyrics\n",
      "200\n"
     ]
    }
   ],
   "source": [
    "# print request object\n",
    "print(r.url)\n",
    "   \n",
    "# print status code\n",
    "print(r.status_code)"
   ]
  },
  {
   "cell_type": "code",
   "execution_count": 6,
   "id": "8736a7ee",
   "metadata": {},
   "outputs": [],
   "source": [
    "s = soup.find('div', class_='SongInfo__Columns-nekw6x-2 lgBflw')"
   ]
  },
  {
   "cell_type": "code",
   "execution_count": 7,
   "id": "96deb4f0",
   "metadata": {},
   "outputs": [],
   "source": [
    "content = s.find_all('div')"
   ]
  },
  {
   "cell_type": "code",
   "execution_count": 8,
   "id": "49328b06",
   "metadata": {
    "scrolled": false
   },
   "outputs": [],
   "source": [
    "#content"
   ]
  },
  {
   "cell_type": "code",
   "execution_count": 9,
   "id": "0c3221a6",
   "metadata": {},
   "outputs": [],
   "source": [
    "from re import split\n",
    "\n",
    "def split_string(string, delimiters):\n",
    "    pattern = r'|'.join(delimiters)\n",
    "    return split(pattern, string)"
   ]
  },
  {
   "cell_type": "code",
   "execution_count": 10,
   "id": "2f6e4c1a",
   "metadata": {},
   "outputs": [],
   "source": [
    "collection = {\"Feature\":[], \"Writer\":[], \"Label\":[], \"Producer\":[]}"
   ]
  },
  {
   "cell_type": "code",
   "execution_count": 11,
   "id": "0d77dd3c",
   "metadata": {
    "scrolled": false
   },
   "outputs": [],
   "source": [
    "def extract_credits(URL):\n",
    "    \n",
    "\n",
    "    r = requests.get(URL)\n",
    "    # Parsing the HTML\n",
    "    soup = BeautifulSoup(r.content, 'html.parser')\n",
    "    s = soup.find('div', class_='SongInfo__Columns-nekw6x-2 lgBflw')\n",
    "    \n",
    "    featur = []\n",
    "    writer = []\n",
    "    label = []\n",
    "    producer = []\n",
    "    \n",
    "    \n",
    "\n",
    "    for line in s:\n",
    "        div = line.find('div').text\n",
    "        an = line.find_all('a')\n",
    "\n",
    "        # -- list_of_inner_text = [x.text for x in an]\n",
    "\n",
    "        # If you want to print the text as a comma separated string\n",
    "        # text = div + \":\" + ', '.join(list_of_inner_text)+\";\"\n",
    "        #text = list_of_inner_text\n",
    "\n",
    "        if 'Featuring' in div: \n",
    "            #featur.append(text)\n",
    "            extract = [x.text for x in an]\n",
    "            for x in extract:\n",
    "                featur.append(x)\n",
    "            \n",
    "       \n",
    "            \n",
    "        if 'Written By' in div:\n",
    "            #writer.append(text)\n",
    "            extract = [x.text for x in an]\n",
    "            for x in extract:\n",
    "                writer.append(x)\n",
    "\n",
    "\n",
    "         \n",
    "        if 'Label' in div:\n",
    "            #label.append(text)\n",
    "            extract = [x.text for x in an]\n",
    "            for x in extract:\n",
    "                label.append(x)\n",
    "         \n",
    "        if 'Produced By' in div:\n",
    "            extract = [x.text for x in an]\n",
    "            for x in extract:\n",
    "                producer.append(x)\n",
    "            #producer.append(text) \n",
    "            \n",
    "            \n",
    "    collection = {\"Feature\":featur, \"Writer\":writer, \"Label\":label, \"Producer\":producer}        \n",
    "        \n",
    "        \n",
    "    return collection\n",
    "    #return writer, featur, producer#, label\n",
    "\n",
    "\n",
    "#        print(type(text))\n",
    "#        print(text)\n",
    "#        print(list)\n",
    "#        print(\"\\n\")\n"
   ]
  },
  {
   "cell_type": "code",
   "execution_count": 12,
   "id": "05cbd84f",
   "metadata": {},
   "outputs": [],
   "source": [
    "#URL =  'https://genius.com/Eminem-killshot-lyrics'\n",
    "#URL =  'https://genius.com/Rammstein-sonne-lyrics'\n",
    "URL = 'https://genius.com/Ricky-martin-vente-pa-ca-lyrics'\n",
    "\n",
    "\n",
    "list_ext = extract_credits(URL)"
   ]
  },
  {
   "cell_type": "code",
   "execution_count": 14,
   "id": "a20e8a94",
   "metadata": {},
   "outputs": [
    {
     "name": "stdout",
     "output_type": "stream",
     "text": [
      "10\n"
     ]
    }
   ],
   "source": [
    "print(len(list_ext[\"Writer\"]))"
   ]
  },
  {
   "cell_type": "markdown",
   "id": "3423bbca",
   "metadata": {},
   "source": [
    "***"
   ]
  },
  {
   "cell_type": "code",
   "execution_count": 15,
   "id": "693c0902",
   "metadata": {},
   "outputs": [],
   "source": [
    "df = pd.DataFrame.from_dict(list_ext, orient='index').T"
   ]
  },
  {
   "cell_type": "code",
   "execution_count": 16,
   "id": "01dc5e6a",
   "metadata": {},
   "outputs": [
    {
     "data": {
      "text/html": [
       "<div>\n",
       "<style scoped>\n",
       "    .dataframe tbody tr th:only-of-type {\n",
       "        vertical-align: middle;\n",
       "    }\n",
       "\n",
       "    .dataframe tbody tr th {\n",
       "        vertical-align: top;\n",
       "    }\n",
       "\n",
       "    .dataframe thead th {\n",
       "        text-align: right;\n",
       "    }\n",
       "</style>\n",
       "<table border=\"1\" class=\"dataframe\">\n",
       "  <thead>\n",
       "    <tr style=\"text-align: right;\">\n",
       "      <th></th>\n",
       "      <th>Feature</th>\n",
       "      <th>Writer</th>\n",
       "      <th>Label</th>\n",
       "      <th>Producer</th>\n",
       "    </tr>\n",
       "  </thead>\n",
       "  <tbody>\n",
       "    <tr>\n",
       "      <th>0</th>\n",
       "      <td>Maluma</td>\n",
       "      <td>Ronny Svendsen</td>\n",
       "      <td>None</td>\n",
       "      <td>Alexander “A.C.” Castillo</td>\n",
       "    </tr>\n",
       "    <tr>\n",
       "      <th>1</th>\n",
       "      <td>None</td>\n",
       "      <td>Chief 1</td>\n",
       "      <td>None</td>\n",
       "      <td>None</td>\n",
       "    </tr>\n",
       "    <tr>\n",
       "      <th>2</th>\n",
       "      <td>None</td>\n",
       "      <td>Justin Jesso</td>\n",
       "      <td>None</td>\n",
       "      <td>None</td>\n",
       "    </tr>\n",
       "    <tr>\n",
       "      <th>3</th>\n",
       "      <td>None</td>\n",
       "      <td>Anne Judith Wik</td>\n",
       "      <td>None</td>\n",
       "      <td>None</td>\n",
       "    </tr>\n",
       "    <tr>\n",
       "      <th>4</th>\n",
       "      <td>None</td>\n",
       "      <td>Maluma</td>\n",
       "      <td>None</td>\n",
       "      <td>None</td>\n",
       "    </tr>\n",
       "    <tr>\n",
       "      <th>5</th>\n",
       "      <td>None</td>\n",
       "      <td>Carl Ryden</td>\n",
       "      <td>None</td>\n",
       "      <td>None</td>\n",
       "    </tr>\n",
       "    <tr>\n",
       "      <th>6</th>\n",
       "      <td>None</td>\n",
       "      <td>Nermin Harambašić</td>\n",
       "      <td>None</td>\n",
       "      <td>None</td>\n",
       "    </tr>\n",
       "    <tr>\n",
       "      <th>7</th>\n",
       "      <td>None</td>\n",
       "      <td>Ricky Martin</td>\n",
       "      <td>None</td>\n",
       "      <td>None</td>\n",
       "    </tr>\n",
       "    <tr>\n",
       "      <th>8</th>\n",
       "      <td>None</td>\n",
       "      <td>Mauricio Sebastián Montaner</td>\n",
       "      <td>None</td>\n",
       "      <td>None</td>\n",
       "    </tr>\n",
       "    <tr>\n",
       "      <th>9</th>\n",
       "      <td>None</td>\n",
       "      <td>Ricardo Andrés Montaner</td>\n",
       "      <td>None</td>\n",
       "      <td>None</td>\n",
       "    </tr>\n",
       "  </tbody>\n",
       "</table>\n",
       "</div>"
      ],
      "text/plain": [
       "  Feature                       Writer Label                   Producer\n",
       "0  Maluma               Ronny Svendsen  None  Alexander “A.C.” Castillo\n",
       "1    None                      Chief 1  None                       None\n",
       "2    None                 Justin Jesso  None                       None\n",
       "3    None              Anne Judith Wik  None                       None\n",
       "4    None                       Maluma  None                       None\n",
       "5    None                   Carl Ryden  None                       None\n",
       "6    None            Nermin Harambašić  None                       None\n",
       "7    None                 Ricky Martin  None                       None\n",
       "8    None  Mauricio Sebastián Montaner  None                       None\n",
       "9    None      Ricardo Andrés Montaner  None                       None"
      ]
     },
     "execution_count": 16,
     "metadata": {},
     "output_type": "execute_result"
    }
   ],
   "source": [
    "df"
   ]
  },
  {
   "cell_type": "code",
   "execution_count": null,
   "id": "0cba5754",
   "metadata": {},
   "outputs": [],
   "source": []
  }
 ],
 "metadata": {
  "kernelspec": {
   "display_name": "Python 3 (ipykernel)",
   "language": "python",
   "name": "python3"
  },
  "language_info": {
   "codemirror_mode": {
    "name": "ipython",
    "version": 3
   },
   "file_extension": ".py",
   "mimetype": "text/x-python",
   "name": "python",
   "nbconvert_exporter": "python",
   "pygments_lexer": "ipython3",
   "version": "3.10.2"
  }
 },
 "nbformat": 4,
 "nbformat_minor": 5
}
