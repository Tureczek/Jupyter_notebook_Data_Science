{
 "cells": [
  {
   "cell_type": "code",
   "execution_count": 1,
   "id": "79ffe6c9",
   "metadata": {},
   "outputs": [],
   "source": [
    "import pandas as pd\n",
    "import csv as csv\n",
    "import numpy as np"
   ]
  },
  {
   "cell_type": "code",
   "execution_count": 2,
   "id": "be1ff842",
   "metadata": {},
   "outputs": [],
   "source": [
    "def read_match_data(DATADIR,gameid):\n",
    "    '''\n",
    "    read_match_data(DATADIR,gameid):\n",
    "    read all Metrica match data (tracking data for home & away teams, and ecvent data)\n",
    "    '''\n",
    "    tracking_home = tracking_data(DATADIR,gameid,'Home')\n",
    "    tracking_away = tracking_data(DATADIR,gameid,'Away')\n",
    "    events = read_event_data(DATADIR,gameid)\n",
    "    return tracking_home,tracking_away,events"
   ]
  },
  {
   "cell_type": "code",
   "execution_count": 3,
   "id": "fb527561",
   "metadata": {},
   "outputs": [],
   "source": [
    "def read_event_data(DATADIR,game_id):\n",
    "    '''\n",
    "    read_event_data(DATADIR,game_id):\n",
    "    read Metrica event data  for game_id and return as a DataFrame\n",
    "    '''\n",
    "    eventfile = '/Sample_Game_%d/Sample_Game_%d_RawEventsData.csv' % (game_id,game_id) # filename\n",
    "    events = pd.read_csv('{}/{}'.format(DATADIR, eventfile)) # read data\n",
    "    return events\n"
   ]
  },
  {
   "cell_type": "code",
   "execution_count": 4,
   "id": "4e3cf915",
   "metadata": {},
   "outputs": [],
   "source": [
    "def tracking_data(DATADIR,game_id,teamname):\n",
    "    '''\n",
    "    tracking_data(DATADIR,game_id,teamname):\n",
    "    read Metrica tracking data for game_id and return as a DataFrame. \n",
    "    teamname is the name of the team in the filename. For the sample data this is either 'Home' or 'Away'.\n",
    "    '''\n",
    "    teamfile = '/Sample_Game_%d/Sample_Game_%d_RawTrackingData_%s_Team.csv' % (game_id,game_id,teamname)\n",
    "    # First:  deal with file headers so that we can get the player names correct\n",
    "    csvfile =  open('{}/{}'.format(DATADIR, teamfile), 'r') # create a csv file reader\n",
    "    reader = csv.reader(csvfile) \n",
    "    teamnamefull = next(reader)[3].lower()\n",
    "    print(\"Reading team: %s\" % teamnamefull)\n",
    "    # construct column names\n",
    "    jerseys = [x for x in next(reader) if x != ''] # extract player jersey numbers from second row\n",
    "    columns = next(reader)\n",
    "    for i, j in enumerate(jerseys): # create x & y position column headers for each player\n",
    "        columns[i*2+3] = \"{}_{}_x\".format(teamname, j)\n",
    "        columns[i*2+4] = \"{}_{}_y\".format(teamname, j)\n",
    "    columns[-2] = \"ball_x\" # column headers for the x & y positions of the ball\n",
    "    columns[-1] = \"ball_y\"\n",
    "    # Second: read in tracking data and place into pandas Dataframe\n",
    "    tracking = pd.read_csv('{}/{}'.format(DATADIR, teamfile), names=columns, index_col='Frame', skiprows=3)\n",
    "    return tracking\n"
   ]
  },
  {
   "cell_type": "code",
   "execution_count": 5,
   "id": "de3d84ce",
   "metadata": {},
   "outputs": [],
   "source": [
    "def merge_tracking_data(home,away):\n",
    "    '''\n",
    "    merge home & away tracking data files into single data frame\n",
    "    '''\n",
    "    return home.drop(columns=['ball_x', 'ball_y']).merge( away, left_index=True, right_index=True )"
   ]
  },
  {
   "cell_type": "code",
   "execution_count": 6,
   "id": "9eb7b967",
   "metadata": {},
   "outputs": [],
   "source": [
    "def to_metric_coordinates(data,field_dimen=(106.,68.) ):\n",
    "    '''\n",
    "    Convert positions from Metrica units to meters (with origin at centre circle)\n",
    "    '''\n",
    "    x_columns = [c for c in data.columns if c[-1].lower()=='x']\n",
    "    y_columns = [c for c in data.columns if c[-1].lower()=='y']\n",
    "    data[x_columns] = ( data[x_columns]-0.5 ) * field_dimen[0]\n",
    "    data[y_columns] = -1 * ( data[y_columns]-0.5 ) * field_dimen[1]\n",
    "    ''' \n",
    "    ------------ ***NOTE*** ------------\n",
    "    Metrica actually define the origin at the *top*-left of the field, not the bottom-left, as discussed in the YouTube video. \n",
    "    I've changed the line above to reflect this. It was originally:\n",
    "    data[y_columns] = ( data[y_columns]-0.5 ) * field_dimen[1]\n",
    "    ------------ ********** ------------\n",
    "    '''\n",
    "    return data\n"
   ]
  },
  {
   "cell_type": "code",
   "execution_count": 7,
   "id": "191d9de2",
   "metadata": {},
   "outputs": [],
   "source": [
    "def to_single_playing_direction(home,away,events):\n",
    "    '''\n",
    "    Flip coordinates in second half so that each team always shoots in the same direction through the match.\n",
    "    '''\n",
    "    for team in [home,away,events]:\n",
    "        second_half_idx = team.Period.idxmax(2)\n",
    "        columns = [c for c in team.columns if c[-1].lower() in ['x','y']]\n",
    "        team.loc[second_half_idx:,columns] *= -1\n",
    "    return home,away,events\n"
   ]
  },
  {
   "cell_type": "code",
   "execution_count": 8,
   "id": "79fd98c2",
   "metadata": {},
   "outputs": [],
   "source": [
    "def find_playing_direction(team,teamname):\n",
    "    '''\n",
    "    Find the direction of play for the team (based on where the goalkeepers are at kickoff). +1 is left->right and -1 is right->left\n",
    "    '''    \n",
    "    GK_column_x = teamname+\"_\"+find_goalkeeper(team)+\"_x\"\n",
    "    # +ve is left->right, -ve is right->left\n",
    "    return -np.sign(team.iloc[0][GK_column_x])"
   ]
  },
  {
   "cell_type": "code",
   "execution_count": 9,
   "id": "7627b2e9",
   "metadata": {},
   "outputs": [],
   "source": [
    "def find_goalkeeper(team):\n",
    "    '''\n",
    "    Find the goalkeeper in team, identifying him/her as the player closest to goal at kick off\n",
    "    ''' \n",
    "    x_columns = [c for c in team.columns if c[-2:].lower()=='_x' and c[:4] in ['Home','Away']]\n",
    "    GK_col = team.iloc[0][x_columns].abs().idxmax(axis=1)\n",
    "    return GK_col.split('_')[1]"
   ]
  },
  {
   "cell_type": "code",
   "execution_count": null,
   "id": "df32b909",
   "metadata": {},
   "outputs": [],
   "source": []
  }
 ],
 "metadata": {
  "kernelspec": {
   "display_name": "Python 3 (ipykernel)",
   "language": "python",
   "name": "python3"
  },
  "language_info": {
   "codemirror_mode": {
    "name": "ipython",
    "version": 3
   },
   "file_extension": ".py",
   "mimetype": "text/x-python",
   "name": "python",
   "nbconvert_exporter": "python",
   "pygments_lexer": "ipython3",
   "version": "3.9.7"
  }
 },
 "nbformat": 4,
 "nbformat_minor": 5
}
