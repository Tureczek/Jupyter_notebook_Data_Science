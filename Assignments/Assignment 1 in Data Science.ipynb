{
 "cells": [
  {
   "cell_type": "markdown",
   "id": "db701842",
   "metadata": {},
   "source": [
    "### Lection 4 week 7"
   ]
  },
  {
   "cell_type": "code",
   "execution_count": 1,
   "id": "f78d5aa0",
   "metadata": {},
   "outputs": [],
   "source": [
    "#!pip install pandas_profiling"
   ]
  },
  {
   "cell_type": "code",
   "execution_count": 2,
   "id": "d5ba369f",
   "metadata": {},
   "outputs": [],
   "source": [
    "import math\n",
    "import random\n",
    "import numpy as np\n",
    "\n",
    "# import pandas for structuring the data\n",
    "import pandas as pd\n",
    "from pandas_profiling import ProfileReport\n",
    "import seaborn as sns\n",
    "import glob\n",
    "import os\n",
    "import matplotlib.pyplot as plt\n",
    "%matplotlib inline\n",
    "\n",
    "# Other utilities\n",
    "from sklearn import datasets, preprocessing, metrics"
   ]
  },
  {
   "cell_type": "code",
   "execution_count": 3,
   "id": "ec29f242",
   "metadata": {},
   "outputs": [],
   "source": [
    "import pandas_profiling"
   ]
  },
  {
   "cell_type": "code",
   "execution_count": null,
   "id": "42b2b45b",
   "metadata": {},
   "outputs": [],
   "source": []
  },
  {
   "cell_type": "code",
   "execution_count": 4,
   "id": "ba9ed1ed",
   "metadata": {},
   "outputs": [
    {
     "data": {
      "text/plain": [
       "'C:\\\\Users\\\\Nmtur\\\\PycharmProjects\\\\cphbusiness 2-semester\\\\jupyter_notebook\\\\Jupyter_notebook_Data_Science'"
      ]
     },
     "execution_count": 4,
     "metadata": {},
     "output_type": "execute_result"
    }
   ],
   "source": [
    "pwd"
   ]
  },
  {
   "cell_type": "code",
   "execution_count": 5,
   "id": "879ceb73",
   "metadata": {},
   "outputs": [],
   "source": [
    "red_wine = pd.read_excel('winequality-red.xlsx', skiprows=1)\n",
    "white_wine = pd.read_excel('winequality-white.xlsx', skiprows=1)"
   ]
  },
  {
   "cell_type": "markdown",
   "id": "567bc260",
   "metadata": {},
   "source": [
    "## Joining datasets"
   ]
  },
  {
   "cell_type": "code",
   "execution_count": 6,
   "id": "8694eebb",
   "metadata": {},
   "outputs": [],
   "source": [
    "red_wine['type'] = 'red'"
   ]
  },
  {
   "cell_type": "code",
   "execution_count": 7,
   "id": "b316d344",
   "metadata": {},
   "outputs": [],
   "source": [
    "white_wine['type'] = 'white'"
   ]
  },
  {
   "cell_type": "code",
   "execution_count": 8,
   "id": "a0f59bb6",
   "metadata": {},
   "outputs": [],
   "source": [
    "wine_set = [red_wine, white_wine]"
   ]
  },
  {
   "cell_type": "code",
   "execution_count": 9,
   "id": "cffa3dd1",
   "metadata": {},
   "outputs": [],
   "source": [
    "all_wines = pd.concat(wine_set)"
   ]
  },
  {
   "cell_type": "code",
   "execution_count": 10,
   "id": "aa799df4",
   "metadata": {},
   "outputs": [],
   "source": [
    "profile = ProfileReport(all_wines, title=\"Collection of Wine\")"
   ]
  },
  {
   "cell_type": "code",
   "execution_count": 11,
   "id": "72f5b01c",
   "metadata": {},
   "outputs": [
    {
     "data": {
      "text/html": [
       "<div>\n",
       "<style scoped>\n",
       "    .dataframe tbody tr th:only-of-type {\n",
       "        vertical-align: middle;\n",
       "    }\n",
       "\n",
       "    .dataframe tbody tr th {\n",
       "        vertical-align: top;\n",
       "    }\n",
       "\n",
       "    .dataframe thead th {\n",
       "        text-align: right;\n",
       "    }\n",
       "</style>\n",
       "<table border=\"1\" class=\"dataframe\">\n",
       "  <thead>\n",
       "    <tr style=\"text-align: right;\">\n",
       "      <th></th>\n",
       "      <th>fixed acidity</th>\n",
       "      <th>volatile acidity</th>\n",
       "      <th>citric acid</th>\n",
       "      <th>residual sugar</th>\n",
       "      <th>chlorides</th>\n",
       "      <th>free sulfur dioxide</th>\n",
       "      <th>total sulfur dioxide</th>\n",
       "      <th>density</th>\n",
       "      <th>pH</th>\n",
       "      <th>sulphates</th>\n",
       "      <th>alcohol</th>\n",
       "      <th>quality</th>\n",
       "      <th>type</th>\n",
       "    </tr>\n",
       "  </thead>\n",
       "  <tbody>\n",
       "    <tr>\n",
       "      <th>0</th>\n",
       "      <td>7.4</td>\n",
       "      <td>0.70</td>\n",
       "      <td>0.00</td>\n",
       "      <td>1.9</td>\n",
       "      <td>0.076</td>\n",
       "      <td>11.0</td>\n",
       "      <td>34.0</td>\n",
       "      <td>0.9978</td>\n",
       "      <td>3.51</td>\n",
       "      <td>0.56</td>\n",
       "      <td>9.4</td>\n",
       "      <td>5</td>\n",
       "      <td>red</td>\n",
       "    </tr>\n",
       "    <tr>\n",
       "      <th>1</th>\n",
       "      <td>7.8</td>\n",
       "      <td>0.88</td>\n",
       "      <td>0.00</td>\n",
       "      <td>2.6</td>\n",
       "      <td>0.098</td>\n",
       "      <td>25.0</td>\n",
       "      <td>67.0</td>\n",
       "      <td>0.9968</td>\n",
       "      <td>3.20</td>\n",
       "      <td>0.68</td>\n",
       "      <td>9.8</td>\n",
       "      <td>5</td>\n",
       "      <td>red</td>\n",
       "    </tr>\n",
       "    <tr>\n",
       "      <th>2</th>\n",
       "      <td>7.8</td>\n",
       "      <td>0.76</td>\n",
       "      <td>0.04</td>\n",
       "      <td>2.3</td>\n",
       "      <td>0.092</td>\n",
       "      <td>15.0</td>\n",
       "      <td>54.0</td>\n",
       "      <td>0.9970</td>\n",
       "      <td>3.26</td>\n",
       "      <td>0.65</td>\n",
       "      <td>9.8</td>\n",
       "      <td>5</td>\n",
       "      <td>red</td>\n",
       "    </tr>\n",
       "    <tr>\n",
       "      <th>3</th>\n",
       "      <td>11.2</td>\n",
       "      <td>0.28</td>\n",
       "      <td>0.56</td>\n",
       "      <td>1.9</td>\n",
       "      <td>0.075</td>\n",
       "      <td>17.0</td>\n",
       "      <td>60.0</td>\n",
       "      <td>0.9980</td>\n",
       "      <td>3.16</td>\n",
       "      <td>0.58</td>\n",
       "      <td>9.8</td>\n",
       "      <td>6</td>\n",
       "      <td>red</td>\n",
       "    </tr>\n",
       "    <tr>\n",
       "      <th>4</th>\n",
       "      <td>7.4</td>\n",
       "      <td>0.70</td>\n",
       "      <td>0.00</td>\n",
       "      <td>1.9</td>\n",
       "      <td>0.076</td>\n",
       "      <td>11.0</td>\n",
       "      <td>34.0</td>\n",
       "      <td>0.9978</td>\n",
       "      <td>3.51</td>\n",
       "      <td>0.56</td>\n",
       "      <td>9.4</td>\n",
       "      <td>5</td>\n",
       "      <td>red</td>\n",
       "    </tr>\n",
       "  </tbody>\n",
       "</table>\n",
       "</div>"
      ],
      "text/plain": [
       "   fixed acidity  volatile acidity  citric acid  residual sugar  chlorides  \\\n",
       "0            7.4              0.70         0.00             1.9      0.076   \n",
       "1            7.8              0.88         0.00             2.6      0.098   \n",
       "2            7.8              0.76         0.04             2.3      0.092   \n",
       "3           11.2              0.28         0.56             1.9      0.075   \n",
       "4            7.4              0.70         0.00             1.9      0.076   \n",
       "\n",
       "   free sulfur dioxide  total sulfur dioxide  density    pH  sulphates  \\\n",
       "0                 11.0                  34.0   0.9978  3.51       0.56   \n",
       "1                 25.0                  67.0   0.9968  3.20       0.68   \n",
       "2                 15.0                  54.0   0.9970  3.26       0.65   \n",
       "3                 17.0                  60.0   0.9980  3.16       0.58   \n",
       "4                 11.0                  34.0   0.9978  3.51       0.56   \n",
       "\n",
       "   alcohol  quality type  \n",
       "0      9.4        5  red  \n",
       "1      9.8        5  red  \n",
       "2      9.8        5  red  \n",
       "3      9.8        6  red  \n",
       "4      9.4        5  red  "
      ]
     },
     "execution_count": 11,
     "metadata": {},
     "output_type": "execute_result"
    }
   ],
   "source": [
    "all_wines.head()"
   ]
  },
  {
   "cell_type": "code",
   "execution_count": 12,
   "id": "44be19ad",
   "metadata": {},
   "outputs": [
    {
     "data": {
      "text/html": [
       "<div>\n",
       "<style scoped>\n",
       "    .dataframe tbody tr th:only-of-type {\n",
       "        vertical-align: middle;\n",
       "    }\n",
       "\n",
       "    .dataframe tbody tr th {\n",
       "        vertical-align: top;\n",
       "    }\n",
       "\n",
       "    .dataframe thead th {\n",
       "        text-align: right;\n",
       "    }\n",
       "</style>\n",
       "<table border=\"1\" class=\"dataframe\">\n",
       "  <thead>\n",
       "    <tr style=\"text-align: right;\">\n",
       "      <th></th>\n",
       "      <th>fixed acidity</th>\n",
       "      <th>volatile acidity</th>\n",
       "      <th>citric acid</th>\n",
       "      <th>residual sugar</th>\n",
       "      <th>chlorides</th>\n",
       "      <th>free sulfur dioxide</th>\n",
       "      <th>total sulfur dioxide</th>\n",
       "      <th>density</th>\n",
       "      <th>pH</th>\n",
       "      <th>sulphates</th>\n",
       "      <th>alcohol</th>\n",
       "      <th>quality</th>\n",
       "      <th>type</th>\n",
       "    </tr>\n",
       "  </thead>\n",
       "  <tbody>\n",
       "    <tr>\n",
       "      <th>4893</th>\n",
       "      <td>6.2</td>\n",
       "      <td>0.21</td>\n",
       "      <td>0.29</td>\n",
       "      <td>1.6</td>\n",
       "      <td>0.039</td>\n",
       "      <td>24.0</td>\n",
       "      <td>92.0</td>\n",
       "      <td>0.99114</td>\n",
       "      <td>3.27</td>\n",
       "      <td>0.50</td>\n",
       "      <td>11.2</td>\n",
       "      <td>6</td>\n",
       "      <td>white</td>\n",
       "    </tr>\n",
       "    <tr>\n",
       "      <th>4894</th>\n",
       "      <td>6.6</td>\n",
       "      <td>0.32</td>\n",
       "      <td>0.36</td>\n",
       "      <td>8.0</td>\n",
       "      <td>0.047</td>\n",
       "      <td>57.0</td>\n",
       "      <td>168.0</td>\n",
       "      <td>0.99490</td>\n",
       "      <td>3.15</td>\n",
       "      <td>0.46</td>\n",
       "      <td>9.6</td>\n",
       "      <td>5</td>\n",
       "      <td>white</td>\n",
       "    </tr>\n",
       "    <tr>\n",
       "      <th>4895</th>\n",
       "      <td>6.5</td>\n",
       "      <td>0.24</td>\n",
       "      <td>0.19</td>\n",
       "      <td>1.2</td>\n",
       "      <td>0.041</td>\n",
       "      <td>30.0</td>\n",
       "      <td>111.0</td>\n",
       "      <td>0.99254</td>\n",
       "      <td>2.99</td>\n",
       "      <td>0.46</td>\n",
       "      <td>9.4</td>\n",
       "      <td>6</td>\n",
       "      <td>white</td>\n",
       "    </tr>\n",
       "    <tr>\n",
       "      <th>4896</th>\n",
       "      <td>5.5</td>\n",
       "      <td>0.29</td>\n",
       "      <td>0.30</td>\n",
       "      <td>1.1</td>\n",
       "      <td>0.022</td>\n",
       "      <td>20.0</td>\n",
       "      <td>110.0</td>\n",
       "      <td>0.98869</td>\n",
       "      <td>3.34</td>\n",
       "      <td>0.38</td>\n",
       "      <td>12.8</td>\n",
       "      <td>7</td>\n",
       "      <td>white</td>\n",
       "    </tr>\n",
       "    <tr>\n",
       "      <th>4897</th>\n",
       "      <td>6.0</td>\n",
       "      <td>0.21</td>\n",
       "      <td>0.38</td>\n",
       "      <td>0.8</td>\n",
       "      <td>0.020</td>\n",
       "      <td>22.0</td>\n",
       "      <td>98.0</td>\n",
       "      <td>0.98941</td>\n",
       "      <td>3.26</td>\n",
       "      <td>0.32</td>\n",
       "      <td>11.8</td>\n",
       "      <td>6</td>\n",
       "      <td>white</td>\n",
       "    </tr>\n",
       "  </tbody>\n",
       "</table>\n",
       "</div>"
      ],
      "text/plain": [
       "      fixed acidity  volatile acidity  citric acid  residual sugar  chlorides  \\\n",
       "4893            6.2              0.21         0.29             1.6      0.039   \n",
       "4894            6.6              0.32         0.36             8.0      0.047   \n",
       "4895            6.5              0.24         0.19             1.2      0.041   \n",
       "4896            5.5              0.29         0.30             1.1      0.022   \n",
       "4897            6.0              0.21         0.38             0.8      0.020   \n",
       "\n",
       "      free sulfur dioxide  total sulfur dioxide  density    pH  sulphates  \\\n",
       "4893                 24.0                  92.0  0.99114  3.27       0.50   \n",
       "4894                 57.0                 168.0  0.99490  3.15       0.46   \n",
       "4895                 30.0                 111.0  0.99254  2.99       0.46   \n",
       "4896                 20.0                 110.0  0.98869  3.34       0.38   \n",
       "4897                 22.0                  98.0  0.98941  3.26       0.32   \n",
       "\n",
       "      alcohol  quality   type  \n",
       "4893     11.2        6  white  \n",
       "4894      9.6        5  white  \n",
       "4895      9.4        6  white  \n",
       "4896     12.8        7  white  \n",
       "4897     11.8        6  white  "
      ]
     },
     "execution_count": 12,
     "metadata": {},
     "output_type": "execute_result"
    }
   ],
   "source": [
    "all_wines.tail()\n"
   ]
  },
  {
   "cell_type": "code",
   "execution_count": 13,
   "id": "23c8eedd",
   "metadata": {},
   "outputs": [],
   "source": [
    "all_wines.reset_index(drop=True, inplace=True)"
   ]
  },
  {
   "cell_type": "code",
   "execution_count": 14,
   "id": "c64044b1",
   "metadata": {},
   "outputs": [
    {
     "data": {
      "text/html": [
       "<div>\n",
       "<style scoped>\n",
       "    .dataframe tbody tr th:only-of-type {\n",
       "        vertical-align: middle;\n",
       "    }\n",
       "\n",
       "    .dataframe tbody tr th {\n",
       "        vertical-align: top;\n",
       "    }\n",
       "\n",
       "    .dataframe thead th {\n",
       "        text-align: right;\n",
       "    }\n",
       "</style>\n",
       "<table border=\"1\" class=\"dataframe\">\n",
       "  <thead>\n",
       "    <tr style=\"text-align: right;\">\n",
       "      <th></th>\n",
       "      <th>fixed acidity</th>\n",
       "      <th>volatile acidity</th>\n",
       "      <th>citric acid</th>\n",
       "      <th>residual sugar</th>\n",
       "      <th>chlorides</th>\n",
       "      <th>free sulfur dioxide</th>\n",
       "      <th>total sulfur dioxide</th>\n",
       "      <th>density</th>\n",
       "      <th>pH</th>\n",
       "      <th>sulphates</th>\n",
       "      <th>alcohol</th>\n",
       "      <th>quality</th>\n",
       "      <th>type</th>\n",
       "    </tr>\n",
       "  </thead>\n",
       "  <tbody>\n",
       "    <tr>\n",
       "      <th>0</th>\n",
       "      <td>7.4</td>\n",
       "      <td>0.70</td>\n",
       "      <td>0.00</td>\n",
       "      <td>1.9</td>\n",
       "      <td>0.076</td>\n",
       "      <td>11.0</td>\n",
       "      <td>34.0</td>\n",
       "      <td>0.9978</td>\n",
       "      <td>3.51</td>\n",
       "      <td>0.56</td>\n",
       "      <td>9.4</td>\n",
       "      <td>5</td>\n",
       "      <td>red</td>\n",
       "    </tr>\n",
       "    <tr>\n",
       "      <th>1</th>\n",
       "      <td>7.8</td>\n",
       "      <td>0.88</td>\n",
       "      <td>0.00</td>\n",
       "      <td>2.6</td>\n",
       "      <td>0.098</td>\n",
       "      <td>25.0</td>\n",
       "      <td>67.0</td>\n",
       "      <td>0.9968</td>\n",
       "      <td>3.20</td>\n",
       "      <td>0.68</td>\n",
       "      <td>9.8</td>\n",
       "      <td>5</td>\n",
       "      <td>red</td>\n",
       "    </tr>\n",
       "    <tr>\n",
       "      <th>2</th>\n",
       "      <td>7.8</td>\n",
       "      <td>0.76</td>\n",
       "      <td>0.04</td>\n",
       "      <td>2.3</td>\n",
       "      <td>0.092</td>\n",
       "      <td>15.0</td>\n",
       "      <td>54.0</td>\n",
       "      <td>0.9970</td>\n",
       "      <td>3.26</td>\n",
       "      <td>0.65</td>\n",
       "      <td>9.8</td>\n",
       "      <td>5</td>\n",
       "      <td>red</td>\n",
       "    </tr>\n",
       "    <tr>\n",
       "      <th>3</th>\n",
       "      <td>11.2</td>\n",
       "      <td>0.28</td>\n",
       "      <td>0.56</td>\n",
       "      <td>1.9</td>\n",
       "      <td>0.075</td>\n",
       "      <td>17.0</td>\n",
       "      <td>60.0</td>\n",
       "      <td>0.9980</td>\n",
       "      <td>3.16</td>\n",
       "      <td>0.58</td>\n",
       "      <td>9.8</td>\n",
       "      <td>6</td>\n",
       "      <td>red</td>\n",
       "    </tr>\n",
       "    <tr>\n",
       "      <th>4</th>\n",
       "      <td>7.4</td>\n",
       "      <td>0.70</td>\n",
       "      <td>0.00</td>\n",
       "      <td>1.9</td>\n",
       "      <td>0.076</td>\n",
       "      <td>11.0</td>\n",
       "      <td>34.0</td>\n",
       "      <td>0.9978</td>\n",
       "      <td>3.51</td>\n",
       "      <td>0.56</td>\n",
       "      <td>9.4</td>\n",
       "      <td>5</td>\n",
       "      <td>red</td>\n",
       "    </tr>\n",
       "  </tbody>\n",
       "</table>\n",
       "</div>"
      ],
      "text/plain": [
       "   fixed acidity  volatile acidity  citric acid  residual sugar  chlorides  \\\n",
       "0            7.4              0.70         0.00             1.9      0.076   \n",
       "1            7.8              0.88         0.00             2.6      0.098   \n",
       "2            7.8              0.76         0.04             2.3      0.092   \n",
       "3           11.2              0.28         0.56             1.9      0.075   \n",
       "4            7.4              0.70         0.00             1.9      0.076   \n",
       "\n",
       "   free sulfur dioxide  total sulfur dioxide  density    pH  sulphates  \\\n",
       "0                 11.0                  34.0   0.9978  3.51       0.56   \n",
       "1                 25.0                  67.0   0.9968  3.20       0.68   \n",
       "2                 15.0                  54.0   0.9970  3.26       0.65   \n",
       "3                 17.0                  60.0   0.9980  3.16       0.58   \n",
       "4                 11.0                  34.0   0.9978  3.51       0.56   \n",
       "\n",
       "   alcohol  quality type  \n",
       "0      9.4        5  red  \n",
       "1      9.8        5  red  \n",
       "2      9.8        5  red  \n",
       "3      9.8        6  red  \n",
       "4      9.4        5  red  "
      ]
     },
     "execution_count": 14,
     "metadata": {},
     "output_type": "execute_result"
    }
   ],
   "source": [
    "all_wines.head()"
   ]
  },
  {
   "cell_type": "code",
   "execution_count": 15,
   "id": "1c98f572",
   "metadata": {},
   "outputs": [
    {
     "data": {
      "text/html": [
       "<div>\n",
       "<style scoped>\n",
       "    .dataframe tbody tr th:only-of-type {\n",
       "        vertical-align: middle;\n",
       "    }\n",
       "\n",
       "    .dataframe tbody tr th {\n",
       "        vertical-align: top;\n",
       "    }\n",
       "\n",
       "    .dataframe thead th {\n",
       "        text-align: right;\n",
       "    }\n",
       "</style>\n",
       "<table border=\"1\" class=\"dataframe\">\n",
       "  <thead>\n",
       "    <tr style=\"text-align: right;\">\n",
       "      <th></th>\n",
       "      <th>fixed acidity</th>\n",
       "      <th>volatile acidity</th>\n",
       "      <th>citric acid</th>\n",
       "      <th>residual sugar</th>\n",
       "      <th>chlorides</th>\n",
       "      <th>free sulfur dioxide</th>\n",
       "      <th>total sulfur dioxide</th>\n",
       "      <th>density</th>\n",
       "      <th>pH</th>\n",
       "      <th>sulphates</th>\n",
       "      <th>alcohol</th>\n",
       "      <th>quality</th>\n",
       "      <th>type</th>\n",
       "    </tr>\n",
       "  </thead>\n",
       "  <tbody>\n",
       "    <tr>\n",
       "      <th>6492</th>\n",
       "      <td>6.2</td>\n",
       "      <td>0.21</td>\n",
       "      <td>0.29</td>\n",
       "      <td>1.6</td>\n",
       "      <td>0.039</td>\n",
       "      <td>24.0</td>\n",
       "      <td>92.0</td>\n",
       "      <td>0.99114</td>\n",
       "      <td>3.27</td>\n",
       "      <td>0.50</td>\n",
       "      <td>11.2</td>\n",
       "      <td>6</td>\n",
       "      <td>white</td>\n",
       "    </tr>\n",
       "    <tr>\n",
       "      <th>6493</th>\n",
       "      <td>6.6</td>\n",
       "      <td>0.32</td>\n",
       "      <td>0.36</td>\n",
       "      <td>8.0</td>\n",
       "      <td>0.047</td>\n",
       "      <td>57.0</td>\n",
       "      <td>168.0</td>\n",
       "      <td>0.99490</td>\n",
       "      <td>3.15</td>\n",
       "      <td>0.46</td>\n",
       "      <td>9.6</td>\n",
       "      <td>5</td>\n",
       "      <td>white</td>\n",
       "    </tr>\n",
       "    <tr>\n",
       "      <th>6494</th>\n",
       "      <td>6.5</td>\n",
       "      <td>0.24</td>\n",
       "      <td>0.19</td>\n",
       "      <td>1.2</td>\n",
       "      <td>0.041</td>\n",
       "      <td>30.0</td>\n",
       "      <td>111.0</td>\n",
       "      <td>0.99254</td>\n",
       "      <td>2.99</td>\n",
       "      <td>0.46</td>\n",
       "      <td>9.4</td>\n",
       "      <td>6</td>\n",
       "      <td>white</td>\n",
       "    </tr>\n",
       "    <tr>\n",
       "      <th>6495</th>\n",
       "      <td>5.5</td>\n",
       "      <td>0.29</td>\n",
       "      <td>0.30</td>\n",
       "      <td>1.1</td>\n",
       "      <td>0.022</td>\n",
       "      <td>20.0</td>\n",
       "      <td>110.0</td>\n",
       "      <td>0.98869</td>\n",
       "      <td>3.34</td>\n",
       "      <td>0.38</td>\n",
       "      <td>12.8</td>\n",
       "      <td>7</td>\n",
       "      <td>white</td>\n",
       "    </tr>\n",
       "    <tr>\n",
       "      <th>6496</th>\n",
       "      <td>6.0</td>\n",
       "      <td>0.21</td>\n",
       "      <td>0.38</td>\n",
       "      <td>0.8</td>\n",
       "      <td>0.020</td>\n",
       "      <td>22.0</td>\n",
       "      <td>98.0</td>\n",
       "      <td>0.98941</td>\n",
       "      <td>3.26</td>\n",
       "      <td>0.32</td>\n",
       "      <td>11.8</td>\n",
       "      <td>6</td>\n",
       "      <td>white</td>\n",
       "    </tr>\n",
       "  </tbody>\n",
       "</table>\n",
       "</div>"
      ],
      "text/plain": [
       "      fixed acidity  volatile acidity  citric acid  residual sugar  chlorides  \\\n",
       "6492            6.2              0.21         0.29             1.6      0.039   \n",
       "6493            6.6              0.32         0.36             8.0      0.047   \n",
       "6494            6.5              0.24         0.19             1.2      0.041   \n",
       "6495            5.5              0.29         0.30             1.1      0.022   \n",
       "6496            6.0              0.21         0.38             0.8      0.020   \n",
       "\n",
       "      free sulfur dioxide  total sulfur dioxide  density    pH  sulphates  \\\n",
       "6492                 24.0                  92.0  0.99114  3.27       0.50   \n",
       "6493                 57.0                 168.0  0.99490  3.15       0.46   \n",
       "6494                 30.0                 111.0  0.99254  2.99       0.46   \n",
       "6495                 20.0                 110.0  0.98869  3.34       0.38   \n",
       "6496                 22.0                  98.0  0.98941  3.26       0.32   \n",
       "\n",
       "      alcohol  quality   type  \n",
       "6492     11.2        6  white  \n",
       "6493      9.6        5  white  \n",
       "6494      9.4        6  white  \n",
       "6495     12.8        7  white  \n",
       "6496     11.8        6  white  "
      ]
     },
     "execution_count": 15,
     "metadata": {},
     "output_type": "execute_result"
    }
   ],
   "source": [
    "all_wines.tail()"
   ]
  },
  {
   "cell_type": "markdown",
   "id": "706f9abe",
   "metadata": {},
   "source": [
    "## 3 Explore the general parameters of the new file:\n",
    "• number of rows and columns\n",
    "\n",
    "• type of data in each column\n",
    "\n",
    "• descriptive statstics of the numeric data (count, mean, min, max, std, quantiles)"
   ]
  },
  {
   "cell_type": "code",
   "execution_count": 16,
   "id": "d80d9225",
   "metadata": {},
   "outputs": [
    {
     "data": {
      "text/plain": [
       "(6497, 13)"
      ]
     },
     "execution_count": 16,
     "metadata": {},
     "output_type": "execute_result"
    }
   ],
   "source": [
    "# See rows and columns\n",
    "\n",
    "all_wines.shape"
   ]
  },
  {
   "cell_type": "markdown",
   "id": "3c905641",
   "metadata": {},
   "source": [
    "### 2 Ways of showing columns"
   ]
  },
  {
   "cell_type": "code",
   "execution_count": 17,
   "id": "c5ad9284",
   "metadata": {},
   "outputs": [
    {
     "data": {
      "text/plain": [
       "Index(['fixed acidity', 'volatile acidity', 'citric acid', 'residual sugar',\n",
       "       'chlorides', 'free sulfur dioxide', 'total sulfur dioxide', 'density',\n",
       "       'pH', 'sulphates', 'alcohol', 'quality', 'type'],\n",
       "      dtype='object')"
      ]
     },
     "execution_count": 17,
     "metadata": {},
     "output_type": "execute_result"
    }
   ],
   "source": [
    "all_wines.columns"
   ]
  },
  {
   "cell_type": "code",
   "execution_count": 18,
   "id": "71807c95",
   "metadata": {},
   "outputs": [
    {
     "data": {
      "text/plain": [
       "['fixed acidity',\n",
       " 'volatile acidity',\n",
       " 'citric acid',\n",
       " 'residual sugar',\n",
       " 'chlorides',\n",
       " 'free sulfur dioxide',\n",
       " 'total sulfur dioxide',\n",
       " 'density',\n",
       " 'pH',\n",
       " 'sulphates',\n",
       " 'alcohol',\n",
       " 'quality',\n",
       " 'type']"
      ]
     },
     "execution_count": 18,
     "metadata": {},
     "output_type": "execute_result"
    }
   ],
   "source": [
    "list(all_wines)"
   ]
  },
  {
   "cell_type": "markdown",
   "id": "99737672",
   "metadata": {},
   "source": [
    "### The type of data in each columns"
   ]
  },
  {
   "cell_type": "code",
   "execution_count": 19,
   "id": "0cb15d30",
   "metadata": {},
   "outputs": [
    {
     "data": {
      "text/plain": [
       "fixed acidity           float64\n",
       "volatile acidity        float64\n",
       "citric acid             float64\n",
       "residual sugar          float64\n",
       "chlorides               float64\n",
       "free sulfur dioxide     float64\n",
       "total sulfur dioxide    float64\n",
       "density                 float64\n",
       "pH                      float64\n",
       "sulphates               float64\n",
       "alcohol                 float64\n",
       "quality                   int64\n",
       "type                     object\n",
       "dtype: object"
      ]
     },
     "execution_count": 19,
     "metadata": {},
     "output_type": "execute_result"
    }
   ],
   "source": [
    "# Type of data in each row\n",
    "all_wines.dtypes"
   ]
  },
  {
   "cell_type": "markdown",
   "id": "cdeccf36",
   "metadata": {},
   "source": [
    "### Descriptive data of the wines"
   ]
  },
  {
   "cell_type": "code",
   "execution_count": 20,
   "id": "a904ca64",
   "metadata": {},
   "outputs": [
    {
     "data": {
      "text/html": [
       "<div>\n",
       "<style scoped>\n",
       "    .dataframe tbody tr th:only-of-type {\n",
       "        vertical-align: middle;\n",
       "    }\n",
       "\n",
       "    .dataframe tbody tr th {\n",
       "        vertical-align: top;\n",
       "    }\n",
       "\n",
       "    .dataframe thead th {\n",
       "        text-align: right;\n",
       "    }\n",
       "</style>\n",
       "<table border=\"1\" class=\"dataframe\">\n",
       "  <thead>\n",
       "    <tr style=\"text-align: right;\">\n",
       "      <th></th>\n",
       "      <th>fixed acidity</th>\n",
       "      <th>volatile acidity</th>\n",
       "      <th>citric acid</th>\n",
       "      <th>residual sugar</th>\n",
       "      <th>chlorides</th>\n",
       "      <th>free sulfur dioxide</th>\n",
       "      <th>total sulfur dioxide</th>\n",
       "      <th>density</th>\n",
       "      <th>pH</th>\n",
       "      <th>sulphates</th>\n",
       "      <th>alcohol</th>\n",
       "      <th>quality</th>\n",
       "    </tr>\n",
       "  </thead>\n",
       "  <tbody>\n",
       "    <tr>\n",
       "      <th>count</th>\n",
       "      <td>6497.000000</td>\n",
       "      <td>6497.000000</td>\n",
       "      <td>6497.000000</td>\n",
       "      <td>6497.000000</td>\n",
       "      <td>6497.000000</td>\n",
       "      <td>6497.000000</td>\n",
       "      <td>6497.000000</td>\n",
       "      <td>6497.000000</td>\n",
       "      <td>6497.000000</td>\n",
       "      <td>6497.000000</td>\n",
       "      <td>6497.000000</td>\n",
       "      <td>6497.000000</td>\n",
       "    </tr>\n",
       "    <tr>\n",
       "      <th>mean</th>\n",
       "      <td>7.215307</td>\n",
       "      <td>0.339666</td>\n",
       "      <td>0.318633</td>\n",
       "      <td>5.443235</td>\n",
       "      <td>0.056034</td>\n",
       "      <td>30.525319</td>\n",
       "      <td>115.744574</td>\n",
       "      <td>0.994697</td>\n",
       "      <td>3.218501</td>\n",
       "      <td>0.531268</td>\n",
       "      <td>10.491801</td>\n",
       "      <td>5.818378</td>\n",
       "    </tr>\n",
       "    <tr>\n",
       "      <th>std</th>\n",
       "      <td>1.296434</td>\n",
       "      <td>0.164636</td>\n",
       "      <td>0.145318</td>\n",
       "      <td>4.757804</td>\n",
       "      <td>0.035034</td>\n",
       "      <td>17.749400</td>\n",
       "      <td>56.521855</td>\n",
       "      <td>0.002999</td>\n",
       "      <td>0.160787</td>\n",
       "      <td>0.148806</td>\n",
       "      <td>1.192712</td>\n",
       "      <td>0.873255</td>\n",
       "    </tr>\n",
       "    <tr>\n",
       "      <th>min</th>\n",
       "      <td>3.800000</td>\n",
       "      <td>0.080000</td>\n",
       "      <td>0.000000</td>\n",
       "      <td>0.600000</td>\n",
       "      <td>0.009000</td>\n",
       "      <td>1.000000</td>\n",
       "      <td>6.000000</td>\n",
       "      <td>0.987110</td>\n",
       "      <td>2.720000</td>\n",
       "      <td>0.220000</td>\n",
       "      <td>8.000000</td>\n",
       "      <td>3.000000</td>\n",
       "    </tr>\n",
       "    <tr>\n",
       "      <th>25%</th>\n",
       "      <td>6.400000</td>\n",
       "      <td>0.230000</td>\n",
       "      <td>0.250000</td>\n",
       "      <td>1.800000</td>\n",
       "      <td>0.038000</td>\n",
       "      <td>17.000000</td>\n",
       "      <td>77.000000</td>\n",
       "      <td>0.992340</td>\n",
       "      <td>3.110000</td>\n",
       "      <td>0.430000</td>\n",
       "      <td>9.500000</td>\n",
       "      <td>5.000000</td>\n",
       "    </tr>\n",
       "    <tr>\n",
       "      <th>50%</th>\n",
       "      <td>7.000000</td>\n",
       "      <td>0.290000</td>\n",
       "      <td>0.310000</td>\n",
       "      <td>3.000000</td>\n",
       "      <td>0.047000</td>\n",
       "      <td>29.000000</td>\n",
       "      <td>118.000000</td>\n",
       "      <td>0.994890</td>\n",
       "      <td>3.210000</td>\n",
       "      <td>0.510000</td>\n",
       "      <td>10.300000</td>\n",
       "      <td>6.000000</td>\n",
       "    </tr>\n",
       "    <tr>\n",
       "      <th>75%</th>\n",
       "      <td>7.700000</td>\n",
       "      <td>0.400000</td>\n",
       "      <td>0.390000</td>\n",
       "      <td>8.100000</td>\n",
       "      <td>0.065000</td>\n",
       "      <td>41.000000</td>\n",
       "      <td>156.000000</td>\n",
       "      <td>0.996990</td>\n",
       "      <td>3.320000</td>\n",
       "      <td>0.600000</td>\n",
       "      <td>11.300000</td>\n",
       "      <td>6.000000</td>\n",
       "    </tr>\n",
       "    <tr>\n",
       "      <th>max</th>\n",
       "      <td>15.900000</td>\n",
       "      <td>1.580000</td>\n",
       "      <td>1.660000</td>\n",
       "      <td>65.800000</td>\n",
       "      <td>0.611000</td>\n",
       "      <td>289.000000</td>\n",
       "      <td>440.000000</td>\n",
       "      <td>1.038980</td>\n",
       "      <td>4.010000</td>\n",
       "      <td>2.000000</td>\n",
       "      <td>14.900000</td>\n",
       "      <td>9.000000</td>\n",
       "    </tr>\n",
       "  </tbody>\n",
       "</table>\n",
       "</div>"
      ],
      "text/plain": [
       "       fixed acidity  volatile acidity  citric acid  residual sugar  \\\n",
       "count    6497.000000       6497.000000  6497.000000     6497.000000   \n",
       "mean        7.215307          0.339666     0.318633        5.443235   \n",
       "std         1.296434          0.164636     0.145318        4.757804   \n",
       "min         3.800000          0.080000     0.000000        0.600000   \n",
       "25%         6.400000          0.230000     0.250000        1.800000   \n",
       "50%         7.000000          0.290000     0.310000        3.000000   \n",
       "75%         7.700000          0.400000     0.390000        8.100000   \n",
       "max        15.900000          1.580000     1.660000       65.800000   \n",
       "\n",
       "         chlorides  free sulfur dioxide  total sulfur dioxide      density  \\\n",
       "count  6497.000000          6497.000000           6497.000000  6497.000000   \n",
       "mean      0.056034            30.525319            115.744574     0.994697   \n",
       "std       0.035034            17.749400             56.521855     0.002999   \n",
       "min       0.009000             1.000000              6.000000     0.987110   \n",
       "25%       0.038000            17.000000             77.000000     0.992340   \n",
       "50%       0.047000            29.000000            118.000000     0.994890   \n",
       "75%       0.065000            41.000000            156.000000     0.996990   \n",
       "max       0.611000           289.000000            440.000000     1.038980   \n",
       "\n",
       "                pH    sulphates      alcohol      quality  \n",
       "count  6497.000000  6497.000000  6497.000000  6497.000000  \n",
       "mean      3.218501     0.531268    10.491801     5.818378  \n",
       "std       0.160787     0.148806     1.192712     0.873255  \n",
       "min       2.720000     0.220000     8.000000     3.000000  \n",
       "25%       3.110000     0.430000     9.500000     5.000000  \n",
       "50%       3.210000     0.510000    10.300000     6.000000  \n",
       "75%       3.320000     0.600000    11.300000     6.000000  \n",
       "max       4.010000     2.000000    14.900000     9.000000  "
      ]
     },
     "execution_count": 20,
     "metadata": {},
     "output_type": "execute_result"
    }
   ],
   "source": [
    "all_wines.describe()"
   ]
  },
  {
   "cell_type": "markdown",
   "id": "89724fcc",
   "metadata": {},
   "source": [
    "### Count of the data in the wine file"
   ]
  },
  {
   "cell_type": "code",
   "execution_count": 21,
   "id": "a3a1fd68",
   "metadata": {},
   "outputs": [
    {
     "data": {
      "text/plain": [
       "fixed acidity           6497\n",
       "volatile acidity        6497\n",
       "citric acid             6497\n",
       "residual sugar          6497\n",
       "chlorides               6497\n",
       "free sulfur dioxide     6497\n",
       "total sulfur dioxide    6497\n",
       "density                 6497\n",
       "pH                      6497\n",
       "sulphates               6497\n",
       "alcohol                 6497\n",
       "quality                 6497\n",
       "type                    6497\n",
       "dtype: int64"
      ]
     },
     "execution_count": 21,
     "metadata": {},
     "output_type": "execute_result"
    }
   ],
   "source": [
    "all_wines.count()"
   ]
  },
  {
   "cell_type": "markdown",
   "id": "1e4745dd",
   "metadata": {},
   "source": [
    "### Mean of the columns"
   ]
  },
  {
   "cell_type": "code",
   "execution_count": 22,
   "id": "d9304505",
   "metadata": {},
   "outputs": [
    {
     "name": "stderr",
     "output_type": "stream",
     "text": [
      "C:\\Users\\Nmtur\\AppData\\Local\\Temp/ipykernel_13284/454274112.py:1: FutureWarning: Dropping of nuisance columns in DataFrame reductions (with 'numeric_only=None') is deprecated; in a future version this will raise TypeError.  Select only valid columns before calling the reduction.\n",
      "  all_wines.mean()\n"
     ]
    },
    {
     "data": {
      "text/plain": [
       "fixed acidity             7.215307\n",
       "volatile acidity          0.339666\n",
       "citric acid               0.318633\n",
       "residual sugar            5.443235\n",
       "chlorides                 0.056034\n",
       "free sulfur dioxide      30.525319\n",
       "total sulfur dioxide    115.744574\n",
       "density                   0.994697\n",
       "pH                        3.218501\n",
       "sulphates                 0.531268\n",
       "alcohol                  10.491801\n",
       "quality                   5.818378\n",
       "dtype: float64"
      ]
     },
     "execution_count": 22,
     "metadata": {},
     "output_type": "execute_result"
    }
   ],
   "source": [
    "all_wines.mean()"
   ]
  },
  {
   "cell_type": "markdown",
   "id": "28431540",
   "metadata": {},
   "source": [
    "### min value of the columns"
   ]
  },
  {
   "cell_type": "code",
   "execution_count": 23,
   "id": "56bcb21a",
   "metadata": {},
   "outputs": [
    {
     "data": {
      "text/plain": [
       "fixed acidity               3.8\n",
       "volatile acidity           0.08\n",
       "citric acid                 0.0\n",
       "residual sugar              0.6\n",
       "chlorides                 0.009\n",
       "free sulfur dioxide         1.0\n",
       "total sulfur dioxide        6.0\n",
       "density                 0.98711\n",
       "pH                         2.72\n",
       "sulphates                  0.22\n",
       "alcohol                     8.0\n",
       "quality                       3\n",
       "type                        red\n",
       "dtype: object"
      ]
     },
     "execution_count": 23,
     "metadata": {},
     "output_type": "execute_result"
    }
   ],
   "source": [
    "all_wines.min()"
   ]
  },
  {
   "cell_type": "markdown",
   "id": "fa2fe258",
   "metadata": {},
   "source": [
    "### max value of the columns"
   ]
  },
  {
   "cell_type": "code",
   "execution_count": 24,
   "id": "d327f3ab",
   "metadata": {},
   "outputs": [
    {
     "data": {
      "text/plain": [
       "fixed acidity              15.9\n",
       "volatile acidity           1.58\n",
       "citric acid                1.66\n",
       "residual sugar             65.8\n",
       "chlorides                 0.611\n",
       "free sulfur dioxide       289.0\n",
       "total sulfur dioxide      440.0\n",
       "density                 1.03898\n",
       "pH                         4.01\n",
       "sulphates                   2.0\n",
       "alcohol                    14.9\n",
       "quality                       9\n",
       "type                      white\n",
       "dtype: object"
      ]
     },
     "execution_count": 24,
     "metadata": {},
     "output_type": "execute_result"
    }
   ],
   "source": [
    "all_wines.max()"
   ]
  },
  {
   "cell_type": "markdown",
   "id": "9ce0e595",
   "metadata": {},
   "source": [
    "### standard deviation (std) of the wine"
   ]
  },
  {
   "cell_type": "code",
   "execution_count": 25,
   "id": "50b8c6e9",
   "metadata": {},
   "outputs": [
    {
     "name": "stderr",
     "output_type": "stream",
     "text": [
      "C:\\Users\\Nmtur\\AppData\\Local\\Temp/ipykernel_13284/852816979.py:1: FutureWarning: Dropping of nuisance columns in DataFrame reductions (with 'numeric_only=None') is deprecated; in a future version this will raise TypeError.  Select only valid columns before calling the reduction.\n",
      "  all_wines.std()\n"
     ]
    },
    {
     "data": {
      "text/plain": [
       "fixed acidity            1.296434\n",
       "volatile acidity         0.164636\n",
       "citric acid              0.145318\n",
       "residual sugar           4.757804\n",
       "chlorides                0.035034\n",
       "free sulfur dioxide     17.749400\n",
       "total sulfur dioxide    56.521855\n",
       "density                  0.002999\n",
       "pH                       0.160787\n",
       "sulphates                0.148806\n",
       "alcohol                  1.192712\n",
       "quality                  0.873255\n",
       "dtype: float64"
      ]
     },
     "execution_count": 25,
     "metadata": {},
     "output_type": "execute_result"
    }
   ],
   "source": [
    "all_wines.std()"
   ]
  },
  {
   "cell_type": "markdown",
   "id": "1730adf4",
   "metadata": {},
   "source": [
    "### Quantile of the dataset - How much of the full date is filled by what"
   ]
  },
  {
   "cell_type": "code",
   "execution_count": 26,
   "id": "ac014663",
   "metadata": {},
   "outputs": [
    {
     "data": {
      "text/plain": [
       "fixed acidity             7.00000\n",
       "volatile acidity          0.29000\n",
       "citric acid               0.31000\n",
       "residual sugar            3.00000\n",
       "chlorides                 0.04700\n",
       "free sulfur dioxide      29.00000\n",
       "total sulfur dioxide    118.00000\n",
       "density                   0.99489\n",
       "pH                        3.21000\n",
       "sulphates                 0.51000\n",
       "alcohol                  10.30000\n",
       "quality                   6.00000\n",
       "Name: 0.5, dtype: float64"
      ]
     },
     "execution_count": 26,
     "metadata": {},
     "output_type": "execute_result"
    }
   ],
   "source": [
    "all_wines.quantile()"
   ]
  },
  {
   "cell_type": "markdown",
   "id": "08cded01",
   "metadata": {},
   "source": [
    "### 4 Plot Diagrams\n",
    "\n",
    "Plot diagrams that visualize the differences in red and white wines. \n",
    "\n",
    "What do your diagrams show? \n",
    "\n",
    "Can you tell which type of wine has higher average quality? \n",
    "\n",
    "Which type of wine has higher average level of alcohol? \n",
    "\n",
    "Which one has higher average quantity of residual sugar?"
   ]
  },
  {
   "cell_type": "code",
   "execution_count": 27,
   "id": "e61e4334",
   "metadata": {},
   "outputs": [
    {
     "data": {
      "text/plain": [
       "<AxesSubplot:>"
      ]
     },
     "execution_count": 27,
     "metadata": {},
     "output_type": "execute_result"
    },
    {
     "data": {
      "image/png": "[encoded data removed]",
      "text/plain": [
       "<Figure size 432x288 with 1 Axes>"
      ]
     },
     "metadata": {
      "needs_background": "light"
     },
     "output_type": "display_data"
    }
   ],
   "source": [
    " all_wines['type'].value_counts().plot(kind='bar')"
   ]
  },
  {
   "cell_type": "markdown",
   "id": "8a5ce77a",
   "metadata": {},
   "source": [
    "As shown above, there are a lot more red wine in the data set than white wine"
   ]
  },
  {
   "cell_type": "markdown",
   "id": "2865be43",
   "metadata": {},
   "source": [
    "###### Which type of wine has the highest average quality?"
   ]
  },
  {
   "cell_type": "code",
   "execution_count": 28,
   "id": "8117d208",
   "metadata": {},
   "outputs": [
    {
     "data": {
      "text/html": [
       "<div>\n",
       "<style scoped>\n",
       "    .dataframe tbody tr th:only-of-type {\n",
       "        vertical-align: middle;\n",
       "    }\n",
       "\n",
       "    .dataframe tbody tr th {\n",
       "        vertical-align: top;\n",
       "    }\n",
       "\n",
       "    .dataframe thead th {\n",
       "        text-align: right;\n",
       "    }\n",
       "</style>\n",
       "<table border=\"1\" class=\"dataframe\">\n",
       "  <thead>\n",
       "    <tr style=\"text-align: right;\">\n",
       "      <th></th>\n",
       "      <th>fixed acidity</th>\n",
       "      <th>volatile acidity</th>\n",
       "      <th>citric acid</th>\n",
       "      <th>residual sugar</th>\n",
       "      <th>chlorides</th>\n",
       "      <th>free sulfur dioxide</th>\n",
       "      <th>total sulfur dioxide</th>\n",
       "      <th>density</th>\n",
       "      <th>pH</th>\n",
       "      <th>sulphates</th>\n",
       "      <th>alcohol</th>\n",
       "      <th>quality</th>\n",
       "    </tr>\n",
       "    <tr>\n",
       "      <th>type</th>\n",
       "      <th></th>\n",
       "      <th></th>\n",
       "      <th></th>\n",
       "      <th></th>\n",
       "      <th></th>\n",
       "      <th></th>\n",
       "      <th></th>\n",
       "      <th></th>\n",
       "      <th></th>\n",
       "      <th></th>\n",
       "      <th></th>\n",
       "      <th></th>\n",
       "    </tr>\n",
       "  </thead>\n",
       "  <tbody>\n",
       "    <tr>\n",
       "      <th>red</th>\n",
       "      <td>8.319637</td>\n",
       "      <td>0.527821</td>\n",
       "      <td>0.270976</td>\n",
       "      <td>2.538806</td>\n",
       "      <td>0.087467</td>\n",
       "      <td>15.874922</td>\n",
       "      <td>46.467792</td>\n",
       "      <td>0.996747</td>\n",
       "      <td>3.311113</td>\n",
       "      <td>0.658149</td>\n",
       "      <td>10.422983</td>\n",
       "      <td>5.636023</td>\n",
       "    </tr>\n",
       "    <tr>\n",
       "      <th>white</th>\n",
       "      <td>6.854788</td>\n",
       "      <td>0.278241</td>\n",
       "      <td>0.334192</td>\n",
       "      <td>6.391415</td>\n",
       "      <td>0.045772</td>\n",
       "      <td>35.308085</td>\n",
       "      <td>138.360657</td>\n",
       "      <td>0.994027</td>\n",
       "      <td>3.188267</td>\n",
       "      <td>0.489847</td>\n",
       "      <td>10.514267</td>\n",
       "      <td>5.877909</td>\n",
       "    </tr>\n",
       "  </tbody>\n",
       "</table>\n",
       "</div>"
      ],
      "text/plain": [
       "       fixed acidity  volatile acidity  citric acid  residual sugar  \\\n",
       "type                                                                  \n",
       "red         8.319637          0.527821     0.270976        2.538806   \n",
       "white       6.854788          0.278241     0.334192        6.391415   \n",
       "\n",
       "       chlorides  free sulfur dioxide  total sulfur dioxide   density  \\\n",
       "type                                                                    \n",
       "red     0.087467            15.874922             46.467792  0.996747   \n",
       "white   0.045772            35.308085            138.360657  0.994027   \n",
       "\n",
       "             pH  sulphates    alcohol   quality  \n",
       "type                                             \n",
       "red    3.311113   0.658149  10.422983  5.636023  \n",
       "white  3.188267   0.489847  10.514267  5.877909  "
      ]
     },
     "execution_count": 28,
     "metadata": {},
     "output_type": "execute_result"
    }
   ],
   "source": [
    "wine_quality = all_wines.groupby('type').mean()\n",
    "wine_quality"
   ]
  },
  {
   "cell_type": "code",
   "execution_count": 29,
   "id": "99753847",
   "metadata": {},
   "outputs": [
    {
     "data": {
      "text/plain": [
       "<AxesSubplot:title={'center':'Quality of wine'}, xlabel='type', ylabel='Average Quality'>"
      ]
     },
     "execution_count": 29,
     "metadata": {},
     "output_type": "execute_result"
    },
    {
     "data": {
      "image/png": "[encoded data removed]",
      "text/plain": [
       "<Figure size 432x288 with 1 Axes>"
      ]
     },
     "metadata": {
      "needs_background": "light"
     },
     "output_type": "display_data"
    }
   ],
   "source": [
    "# plot of highest average quality\n",
    "plt.title(\"Quality of wine\")\n",
    "plt.ylabel(\"Average Quality\")\n",
    "wine_quality['quality'].plot.bar()"
   ]
  },
  {
   "cell_type": "code",
   "execution_count": 30,
   "id": "4bf958e8",
   "metadata": {},
   "outputs": [
    {
     "data": {
      "text/plain": [
       "<bound method NDFrame._add_numeric_operations.<locals>.mean of type\n",
       "red      5.636023\n",
       "white    5.877909\n",
       "Name: quality, dtype: float64>"
      ]
     },
     "execution_count": 30,
     "metadata": {},
     "output_type": "execute_result"
    }
   ],
   "source": [
    "wine_quality['quality'].mean"
   ]
  },
  {
   "cell_type": "markdown",
   "id": "c78f9ceb",
   "metadata": {},
   "source": [
    "We can see that the quality of white wine is slightly better than the quality of red wine.\n",
    "\n",
    "white wine has a mean of 5.87 in quality while read has 5.63"
   ]
  },
  {
   "cell_type": "markdown",
   "id": "ea8efeee",
   "metadata": {},
   "source": [
    "###### Which wine has highest average alcohol"
   ]
  },
  {
   "cell_type": "code",
   "execution_count": 31,
   "id": "58974fce",
   "metadata": {},
   "outputs": [
    {
     "data": {
      "text/plain": [
       "<AxesSubplot:title={'center':'Alcohol in wine'}, xlabel='type', ylabel='Average Alcohol'>"
      ]
     },
     "execution_count": 31,
     "metadata": {},
     "output_type": "execute_result"
    },
    {
     "data": {
      "image/png": "[encoded data removed]",
      "text/plain": [
       "<Figure size 432x288 with 1 Axes>"
      ]
     },
     "metadata": {
      "needs_background": "light"
     },
     "output_type": "display_data"
    }
   ],
   "source": [
    "# plot of highest average alcohol\n",
    "plt.title(\"Alcohol in wine\")\n",
    "plt.ylabel(\"Average Alcohol\")\n",
    "wine_quality['alcohol'].plot.bar()"
   ]
  },
  {
   "cell_type": "code",
   "execution_count": 32,
   "id": "8c42036d",
   "metadata": {},
   "outputs": [
    {
     "data": {
      "text/plain": [
       "<bound method NDFrame._add_numeric_operations.<locals>.mean of type\n",
       "red      10.422983\n",
       "white    10.514267\n",
       "Name: alcohol, dtype: float64>"
      ]
     },
     "execution_count": 32,
     "metadata": {},
     "output_type": "execute_result"
    }
   ],
   "source": [
    "wine_quality['alcohol'].mean"
   ]
  },
  {
   "cell_type": "markdown",
   "id": "9b4a6996",
   "metadata": {},
   "source": [
    "The average alcohol in both Red and white wine are almost the same.\n",
    "\n",
    "red wine averages to 10.422983\n",
    "\n",
    "white wine average to 10.514267"
   ]
  },
  {
   "cell_type": "markdown",
   "id": "aba22fe3",
   "metadata": {},
   "source": [
    "###### Highest avarage quantity of average sugar"
   ]
  },
  {
   "cell_type": "code",
   "execution_count": 33,
   "id": "1d92a2e7",
   "metadata": {},
   "outputs": [
    {
     "data": {
      "text/plain": [
       "<AxesSubplot:title={'center':'Sugar in wine'}, xlabel='type', ylabel='Average quantity of sugar'>"
      ]
     },
     "execution_count": 33,
     "metadata": {},
     "output_type": "execute_result"
    },
    {
     "data": {
      "image/png": "[encoded data removed]",
      "text/plain": [
       "<Figure size 432x288 with 1 Axes>"
      ]
     },
     "metadata": {
      "needs_background": "light"
     },
     "output_type": "display_data"
    }
   ],
   "source": [
    "# plot of highest quantity of average sugar\n",
    "plt.title(\"Sugar in wine\")\n",
    "plt.ylabel(\"Average quantity of sugar\")\n",
    "wine_quality['residual sugar'].plot.bar()"
   ]
  },
  {
   "cell_type": "code",
   "execution_count": 34,
   "id": "bfedf9be",
   "metadata": {},
   "outputs": [
    {
     "data": {
      "text/plain": [
       "<bound method NDFrame._add_numeric_operations.<locals>.mean of type\n",
       "red      2.538806\n",
       "white    6.391415\n",
       "Name: residual sugar, dtype: float64>"
      ]
     },
     "execution_count": 34,
     "metadata": {},
     "output_type": "execute_result"
    }
   ],
   "source": [
    "wine_quality['residual sugar'].mean"
   ]
  },
  {
   "cell_type": "markdown",
   "id": "4940f7a6",
   "metadata": {},
   "source": [
    "White wine has a bigger quantity of sugar by a large margin."
   ]
  },
  {
   "cell_type": "markdown",
   "id": "cef069dd",
   "metadata": {},
   "source": [
    "## 5 Subsets\n",
    "\n",
    "Split the data into five subsets by binning the attribute pH. \n",
    "\n",
    "Identify the subset with the highest density? \n",
    "\n",
    "What if you split the data in ten subsets?"
   ]
  },
  {
   "cell_type": "markdown",
   "id": "59efe8ef",
   "metadata": {},
   "source": [
    "##### Binning the attribute pH"
   ]
  },
  {
   "cell_type": "code",
   "execution_count": 35,
   "id": "e2ea9fb9",
   "metadata": {},
   "outputs": [
    {
     "data": {
      "text/html": [
       "<div>\n",
       "<style scoped>\n",
       "    .dataframe tbody tr th:only-of-type {\n",
       "        vertical-align: middle;\n",
       "    }\n",
       "\n",
       "    .dataframe tbody tr th {\n",
       "        vertical-align: top;\n",
       "    }\n",
       "\n",
       "    .dataframe thead th {\n",
       "        text-align: right;\n",
       "    }\n",
       "</style>\n",
       "<table border=\"1\" class=\"dataframe\">\n",
       "  <thead>\n",
       "    <tr style=\"text-align: right;\">\n",
       "      <th></th>\n",
       "      <th>fixed acidity</th>\n",
       "      <th>volatile acidity</th>\n",
       "      <th>citric acid</th>\n",
       "      <th>residual sugar</th>\n",
       "      <th>chlorides</th>\n",
       "      <th>free sulfur dioxide</th>\n",
       "      <th>total sulfur dioxide</th>\n",
       "      <th>density</th>\n",
       "      <th>pH</th>\n",
       "      <th>sulphates</th>\n",
       "      <th>alcohol</th>\n",
       "      <th>quality</th>\n",
       "      <th>type</th>\n",
       "    </tr>\n",
       "    <tr>\n",
       "      <th>pH</th>\n",
       "      <th></th>\n",
       "      <th></th>\n",
       "      <th></th>\n",
       "      <th></th>\n",
       "      <th></th>\n",
       "      <th></th>\n",
       "      <th></th>\n",
       "      <th></th>\n",
       "      <th></th>\n",
       "      <th></th>\n",
       "      <th></th>\n",
       "      <th></th>\n",
       "      <th></th>\n",
       "    </tr>\n",
       "  </thead>\n",
       "  <tbody>\n",
       "    <tr>\n",
       "      <th>(0, 2]</th>\n",
       "      <td>0</td>\n",
       "      <td>0</td>\n",
       "      <td>0</td>\n",
       "      <td>0</td>\n",
       "      <td>0</td>\n",
       "      <td>0</td>\n",
       "      <td>0</td>\n",
       "      <td>0</td>\n",
       "      <td>0</td>\n",
       "      <td>0</td>\n",
       "      <td>0</td>\n",
       "      <td>0</td>\n",
       "      <td>0</td>\n",
       "    </tr>\n",
       "    <tr>\n",
       "      <th>(2, 5]</th>\n",
       "      <td>6497</td>\n",
       "      <td>6497</td>\n",
       "      <td>6497</td>\n",
       "      <td>6497</td>\n",
       "      <td>6497</td>\n",
       "      <td>6497</td>\n",
       "      <td>6497</td>\n",
       "      <td>6497</td>\n",
       "      <td>6497</td>\n",
       "      <td>6497</td>\n",
       "      <td>6497</td>\n",
       "      <td>6497</td>\n",
       "      <td>6497</td>\n",
       "    </tr>\n",
       "    <tr>\n",
       "      <th>(5, 8]</th>\n",
       "      <td>0</td>\n",
       "      <td>0</td>\n",
       "      <td>0</td>\n",
       "      <td>0</td>\n",
       "      <td>0</td>\n",
       "      <td>0</td>\n",
       "      <td>0</td>\n",
       "      <td>0</td>\n",
       "      <td>0</td>\n",
       "      <td>0</td>\n",
       "      <td>0</td>\n",
       "      <td>0</td>\n",
       "      <td>0</td>\n",
       "    </tr>\n",
       "    <tr>\n",
       "      <th>(8, 11]</th>\n",
       "      <td>0</td>\n",
       "      <td>0</td>\n",
       "      <td>0</td>\n",
       "      <td>0</td>\n",
       "      <td>0</td>\n",
       "      <td>0</td>\n",
       "      <td>0</td>\n",
       "      <td>0</td>\n",
       "      <td>0</td>\n",
       "      <td>0</td>\n",
       "      <td>0</td>\n",
       "      <td>0</td>\n",
       "      <td>0</td>\n",
       "    </tr>\n",
       "    <tr>\n",
       "      <th>(11, 14]</th>\n",
       "      <td>0</td>\n",
       "      <td>0</td>\n",
       "      <td>0</td>\n",
       "      <td>0</td>\n",
       "      <td>0</td>\n",
       "      <td>0</td>\n",
       "      <td>0</td>\n",
       "      <td>0</td>\n",
       "      <td>0</td>\n",
       "      <td>0</td>\n",
       "      <td>0</td>\n",
       "      <td>0</td>\n",
       "      <td>0</td>\n",
       "    </tr>\n",
       "  </tbody>\n",
       "</table>\n",
       "</div>"
      ],
      "text/plain": [
       "          fixed acidity  volatile acidity  citric acid  residual sugar  \\\n",
       "pH                                                                       \n",
       "(0, 2]                0                 0            0               0   \n",
       "(2, 5]             6497              6497         6497            6497   \n",
       "(5, 8]                0                 0            0               0   \n",
       "(8, 11]               0                 0            0               0   \n",
       "(11, 14]              0                 0            0               0   \n",
       "\n",
       "          chlorides  free sulfur dioxide  total sulfur dioxide  density    pH  \\\n",
       "pH                                                                              \n",
       "(0, 2]            0                    0                     0        0     0   \n",
       "(2, 5]         6497                 6497                  6497     6497  6497   \n",
       "(5, 8]            0                    0                     0        0     0   \n",
       "(8, 11]           0                    0                     0        0     0   \n",
       "(11, 14]          0                    0                     0        0     0   \n",
       "\n",
       "          sulphates  alcohol  quality  type  \n",
       "pH                                           \n",
       "(0, 2]            0        0        0     0  \n",
       "(2, 5]         6497     6497     6497  6497  \n",
       "(5, 8]            0        0        0     0  \n",
       "(8, 11]           0        0        0     0  \n",
       "(11, 14]          0        0        0     0  "
      ]
     },
     "execution_count": 35,
     "metadata": {},
     "output_type": "execute_result"
    }
   ],
   "source": [
    "bins = [0,2,5,8,11,14]\n",
    "wine_ph = all_wines.groupby([(pd.cut(all_wines.pH, bins))]).count()\n",
    "wine_ph"
   ]
  },
  {
   "cell_type": "markdown",
   "id": "84ae72a0",
   "metadata": {},
   "source": [
    "As seen above, by splitting into 5 subsets, all wine pH values are between 2 and 5. This means that splitting the pH scale into 5 subsets of our own choice ,ight not be the best idea. Next we tell pandas to select 5 subsets for us."
   ]
  },
  {
   "cell_type": "code",
   "execution_count": 36,
   "id": "b5ba08f5",
   "metadata": {},
   "outputs": [
    {
     "data": {
      "text/html": [
       "<div>\n",
       "<style scoped>\n",
       "    .dataframe tbody tr th:only-of-type {\n",
       "        vertical-align: middle;\n",
       "    }\n",
       "\n",
       "    .dataframe tbody tr th {\n",
       "        vertical-align: top;\n",
       "    }\n",
       "\n",
       "    .dataframe thead th {\n",
       "        text-align: right;\n",
       "    }\n",
       "</style>\n",
       "<table border=\"1\" class=\"dataframe\">\n",
       "  <thead>\n",
       "    <tr style=\"text-align: right;\">\n",
       "      <th></th>\n",
       "      <th></th>\n",
       "      <th>fixed acidity</th>\n",
       "      <th>volatile acidity</th>\n",
       "      <th>citric acid</th>\n",
       "      <th>residual sugar</th>\n",
       "      <th>chlorides</th>\n",
       "      <th>free sulfur dioxide</th>\n",
       "      <th>total sulfur dioxide</th>\n",
       "      <th>density</th>\n",
       "      <th>pH</th>\n",
       "      <th>sulphates</th>\n",
       "      <th>alcohol</th>\n",
       "      <th>quality</th>\n",
       "    </tr>\n",
       "    <tr>\n",
       "      <th>pH</th>\n",
       "      <th>type</th>\n",
       "      <th></th>\n",
       "      <th></th>\n",
       "      <th></th>\n",
       "      <th></th>\n",
       "      <th></th>\n",
       "      <th></th>\n",
       "      <th></th>\n",
       "      <th></th>\n",
       "      <th></th>\n",
       "      <th></th>\n",
       "      <th></th>\n",
       "      <th></th>\n",
       "    </tr>\n",
       "  </thead>\n",
       "  <tbody>\n",
       "    <tr>\n",
       "      <th rowspan=\"2\" valign=\"top\">(2.719, 2.978]</th>\n",
       "      <th>red</th>\n",
       "      <td>22</td>\n",
       "      <td>22</td>\n",
       "      <td>22</td>\n",
       "      <td>22</td>\n",
       "      <td>22</td>\n",
       "      <td>22</td>\n",
       "      <td>22</td>\n",
       "      <td>22</td>\n",
       "      <td>22</td>\n",
       "      <td>22</td>\n",
       "      <td>22</td>\n",
       "      <td>22</td>\n",
       "    </tr>\n",
       "    <tr>\n",
       "      <th>white</th>\n",
       "      <td>328</td>\n",
       "      <td>328</td>\n",
       "      <td>328</td>\n",
       "      <td>328</td>\n",
       "      <td>328</td>\n",
       "      <td>328</td>\n",
       "      <td>328</td>\n",
       "      <td>328</td>\n",
       "      <td>328</td>\n",
       "      <td>328</td>\n",
       "      <td>328</td>\n",
       "      <td>328</td>\n",
       "    </tr>\n",
       "    <tr>\n",
       "      <th rowspan=\"2\" valign=\"top\">(2.978, 3.236]</th>\n",
       "      <th>red</th>\n",
       "      <td>473</td>\n",
       "      <td>473</td>\n",
       "      <td>473</td>\n",
       "      <td>473</td>\n",
       "      <td>473</td>\n",
       "      <td>473</td>\n",
       "      <td>473</td>\n",
       "      <td>473</td>\n",
       "      <td>473</td>\n",
       "      <td>473</td>\n",
       "      <td>473</td>\n",
       "      <td>473</td>\n",
       "    </tr>\n",
       "    <tr>\n",
       "      <th>white</th>\n",
       "      <td>2871</td>\n",
       "      <td>2871</td>\n",
       "      <td>2871</td>\n",
       "      <td>2871</td>\n",
       "      <td>2871</td>\n",
       "      <td>2871</td>\n",
       "      <td>2871</td>\n",
       "      <td>2871</td>\n",
       "      <td>2871</td>\n",
       "      <td>2871</td>\n",
       "      <td>2871</td>\n",
       "      <td>2871</td>\n",
       "    </tr>\n",
       "    <tr>\n",
       "      <th rowspan=\"2\" valign=\"top\">(3.236, 3.494]</th>\n",
       "      <th>red</th>\n",
       "      <td>922</td>\n",
       "      <td>922</td>\n",
       "      <td>922</td>\n",
       "      <td>922</td>\n",
       "      <td>922</td>\n",
       "      <td>922</td>\n",
       "      <td>922</td>\n",
       "      <td>922</td>\n",
       "      <td>922</td>\n",
       "      <td>922</td>\n",
       "      <td>922</td>\n",
       "      <td>922</td>\n",
       "    </tr>\n",
       "    <tr>\n",
       "      <th>white</th>\n",
       "      <td>1543</td>\n",
       "      <td>1543</td>\n",
       "      <td>1543</td>\n",
       "      <td>1543</td>\n",
       "      <td>1543</td>\n",
       "      <td>1543</td>\n",
       "      <td>1543</td>\n",
       "      <td>1543</td>\n",
       "      <td>1543</td>\n",
       "      <td>1543</td>\n",
       "      <td>1543</td>\n",
       "      <td>1543</td>\n",
       "    </tr>\n",
       "    <tr>\n",
       "      <th rowspan=\"2\" valign=\"top\">(3.494, 3.752]</th>\n",
       "      <th>red</th>\n",
       "      <td>175</td>\n",
       "      <td>175</td>\n",
       "      <td>175</td>\n",
       "      <td>175</td>\n",
       "      <td>175</td>\n",
       "      <td>175</td>\n",
       "      <td>175</td>\n",
       "      <td>175</td>\n",
       "      <td>175</td>\n",
       "      <td>175</td>\n",
       "      <td>175</td>\n",
       "      <td>175</td>\n",
       "    </tr>\n",
       "    <tr>\n",
       "      <th>white</th>\n",
       "      <td>147</td>\n",
       "      <td>147</td>\n",
       "      <td>147</td>\n",
       "      <td>147</td>\n",
       "      <td>147</td>\n",
       "      <td>147</td>\n",
       "      <td>147</td>\n",
       "      <td>147</td>\n",
       "      <td>147</td>\n",
       "      <td>147</td>\n",
       "      <td>147</td>\n",
       "      <td>147</td>\n",
       "    </tr>\n",
       "    <tr>\n",
       "      <th rowspan=\"2\" valign=\"top\">(3.752, 4.01]</th>\n",
       "      <th>red</th>\n",
       "      <td>7</td>\n",
       "      <td>7</td>\n",
       "      <td>7</td>\n",
       "      <td>7</td>\n",
       "      <td>7</td>\n",
       "      <td>7</td>\n",
       "      <td>7</td>\n",
       "      <td>7</td>\n",
       "      <td>7</td>\n",
       "      <td>7</td>\n",
       "      <td>7</td>\n",
       "      <td>7</td>\n",
       "    </tr>\n",
       "    <tr>\n",
       "      <th>white</th>\n",
       "      <td>9</td>\n",
       "      <td>9</td>\n",
       "      <td>9</td>\n",
       "      <td>9</td>\n",
       "      <td>9</td>\n",
       "      <td>9</td>\n",
       "      <td>9</td>\n",
       "      <td>9</td>\n",
       "      <td>9</td>\n",
       "      <td>9</td>\n",
       "      <td>9</td>\n",
       "      <td>9</td>\n",
       "    </tr>\n",
       "  </tbody>\n",
       "</table>\n",
       "</div>"
      ],
      "text/plain": [
       "                      fixed acidity  volatile acidity  citric acid  \\\n",
       "pH             type                                                  \n",
       "(2.719, 2.978] red               22                22           22   \n",
       "               white            328               328          328   \n",
       "(2.978, 3.236] red              473               473          473   \n",
       "               white           2871              2871         2871   \n",
       "(3.236, 3.494] red              922               922          922   \n",
       "               white           1543              1543         1543   \n",
       "(3.494, 3.752] red              175               175          175   \n",
       "               white            147               147          147   \n",
       "(3.752, 4.01]  red                7                 7            7   \n",
       "               white              9                 9            9   \n",
       "\n",
       "                      residual sugar  chlorides  free sulfur dioxide  \\\n",
       "pH             type                                                    \n",
       "(2.719, 2.978] red                22         22                   22   \n",
       "               white             328        328                  328   \n",
       "(2.978, 3.236] red               473        473                  473   \n",
       "               white            2871       2871                 2871   \n",
       "(3.236, 3.494] red               922        922                  922   \n",
       "               white            1543       1543                 1543   \n",
       "(3.494, 3.752] red               175        175                  175   \n",
       "               white             147        147                  147   \n",
       "(3.752, 4.01]  red                 7          7                    7   \n",
       "               white               9          9                    9   \n",
       "\n",
       "                      total sulfur dioxide  density    pH  sulphates  alcohol  \\\n",
       "pH             type                                                             \n",
       "(2.719, 2.978] red                      22       22    22         22       22   \n",
       "               white                   328      328   328        328      328   \n",
       "(2.978, 3.236] red                     473      473   473        473      473   \n",
       "               white                  2871     2871  2871       2871     2871   \n",
       "(3.236, 3.494] red                     922      922   922        922      922   \n",
       "               white                  1543     1543  1543       1543     1543   \n",
       "(3.494, 3.752] red                     175      175   175        175      175   \n",
       "               white                   147      147   147        147      147   \n",
       "(3.752, 4.01]  red                       7        7     7          7        7   \n",
       "               white                     9        9     9          9        9   \n",
       "\n",
       "                      quality  \n",
       "pH             type            \n",
       "(2.719, 2.978] red         22  \n",
       "               white      328  \n",
       "(2.978, 3.236] red        473  \n",
       "               white     2871  \n",
       "(3.236, 3.494] red        922  \n",
       "               white     1543  \n",
       "(3.494, 3.752] red        175  \n",
       "               white      147  \n",
       "(3.752, 4.01]  red          7  \n",
       "               white        9  "
      ]
     },
     "execution_count": 36,
     "metadata": {},
     "output_type": "execute_result"
    }
   ],
   "source": [
    "wine_ph = all_wines.groupby([(pd.cut(all_wines.pH, bins=5)), 'type']).count()\n",
    "wine_ph"
   ]
  },
  {
   "cell_type": "markdown",
   "id": "27abe6ff",
   "metadata": {},
   "source": [
    "This helps us a bit more. Let's try plotting it in a bar diagram"
   ]
  },
  {
   "cell_type": "code",
   "execution_count": 37,
   "id": "777927f7",
   "metadata": {},
   "outputs": [
    {
     "data": {
      "text/plain": [
       "<AxesSubplot:xlabel='pH,type'>"
      ]
     },
     "execution_count": 37,
     "metadata": {},
     "output_type": "execute_result"
    },
    {
     "data": {
      "image/png": "[encoded data removed]",
      "text/plain": [
       "<Figure size 432x288 with 1 Axes>"
      ]
     },
     "metadata": {
      "needs_background": "light"
     },
     "output_type": "display_data"
    }
   ],
   "source": [
    "wine_ph['pH'].plot.bar()"
   ]
  },
  {
   "cell_type": "markdown",
   "id": "5dccd989",
   "metadata": {},
   "source": [
    "#### Getting the density frum the subsets can be done in two ways, the one subset with average highest density, or the groupe that has one wine with the highest density"
   ]
  },
  {
   "cell_type": "markdown",
   "id": "0e78fa54",
   "metadata": {},
   "source": [
    "#### First lets take the average"
   ]
  },
  {
   "cell_type": "code",
   "execution_count": 38,
   "id": "f958fc84",
   "metadata": {},
   "outputs": [
    {
     "data": {
      "text/html": [
       "<div>\n",
       "<style scoped>\n",
       "    .dataframe tbody tr th:only-of-type {\n",
       "        vertical-align: middle;\n",
       "    }\n",
       "\n",
       "    .dataframe tbody tr th {\n",
       "        vertical-align: top;\n",
       "    }\n",
       "\n",
       "    .dataframe thead th {\n",
       "        text-align: right;\n",
       "    }\n",
       "</style>\n",
       "<table border=\"1\" class=\"dataframe\">\n",
       "  <thead>\n",
       "    <tr style=\"text-align: right;\">\n",
       "      <th></th>\n",
       "      <th>fixed acidity</th>\n",
       "      <th>volatile acidity</th>\n",
       "      <th>citric acid</th>\n",
       "      <th>residual sugar</th>\n",
       "      <th>chlorides</th>\n",
       "      <th>free sulfur dioxide</th>\n",
       "      <th>total sulfur dioxide</th>\n",
       "      <th>density</th>\n",
       "      <th>pH</th>\n",
       "      <th>sulphates</th>\n",
       "      <th>alcohol</th>\n",
       "      <th>quality</th>\n",
       "    </tr>\n",
       "    <tr>\n",
       "      <th>pH</th>\n",
       "      <th></th>\n",
       "      <th></th>\n",
       "      <th></th>\n",
       "      <th></th>\n",
       "      <th></th>\n",
       "      <th></th>\n",
       "      <th></th>\n",
       "      <th></th>\n",
       "      <th></th>\n",
       "      <th></th>\n",
       "      <th></th>\n",
       "      <th></th>\n",
       "    </tr>\n",
       "  </thead>\n",
       "  <tbody>\n",
       "    <tr>\n",
       "      <th>(2.719, 2.978]</th>\n",
       "      <td>7.758857</td>\n",
       "      <td>0.276329</td>\n",
       "      <td>0.372229</td>\n",
       "      <td>7.614286</td>\n",
       "      <td>0.054357</td>\n",
       "      <td>31.241429</td>\n",
       "      <td>124.741429</td>\n",
       "      <td>0.994801</td>\n",
       "      <td>2.921286</td>\n",
       "      <td>0.490543</td>\n",
       "      <td>10.221905</td>\n",
       "      <td>5.800000</td>\n",
       "    </tr>\n",
       "    <tr>\n",
       "      <th>(2.978, 3.236]</th>\n",
       "      <td>7.398236</td>\n",
       "      <td>0.311262</td>\n",
       "      <td>0.350700</td>\n",
       "      <td>6.310422</td>\n",
       "      <td>0.054819</td>\n",
       "      <td>33.195873</td>\n",
       "      <td>127.955443</td>\n",
       "      <td>0.994679</td>\n",
       "      <td>3.126414</td>\n",
       "      <td>0.510323</td>\n",
       "      <td>10.397088</td>\n",
       "      <td>5.786782</td>\n",
       "    </tr>\n",
       "    <tr>\n",
       "      <th>(3.236, 3.494]</th>\n",
       "      <td>7.011298</td>\n",
       "      <td>0.370456</td>\n",
       "      <td>0.283185</td>\n",
       "      <td>4.283266</td>\n",
       "      <td>0.057230</td>\n",
       "      <td>27.518053</td>\n",
       "      <td>101.632657</td>\n",
       "      <td>0.994688</td>\n",
       "      <td>3.335785</td>\n",
       "      <td>0.556357</td>\n",
       "      <td>10.608195</td>\n",
       "      <td>5.877485</td>\n",
       "    </tr>\n",
       "    <tr>\n",
       "      <th>(3.494, 3.752]</th>\n",
       "      <td>6.378571</td>\n",
       "      <td>0.464736</td>\n",
       "      <td>0.205714</td>\n",
       "      <td>3.140062</td>\n",
       "      <td>0.061562</td>\n",
       "      <td>25.231366</td>\n",
       "      <td>87.874224</td>\n",
       "      <td>0.994887</td>\n",
       "      <td>3.569565</td>\n",
       "      <td>0.598602</td>\n",
       "      <td>10.830745</td>\n",
       "      <td>5.711180</td>\n",
       "    </tr>\n",
       "    <tr>\n",
       "      <th>(3.752, 4.01]</th>\n",
       "      <td>5.362500</td>\n",
       "      <td>0.400938</td>\n",
       "      <td>0.178125</td>\n",
       "      <td>1.768750</td>\n",
       "      <td>0.050938</td>\n",
       "      <td>26.562500</td>\n",
       "      <td>101.875000</td>\n",
       "      <td>0.993582</td>\n",
       "      <td>3.831875</td>\n",
       "      <td>0.579375</td>\n",
       "      <td>11.437500</td>\n",
       "      <td>5.875000</td>\n",
       "    </tr>\n",
       "  </tbody>\n",
       "</table>\n",
       "</div>"
      ],
      "text/plain": [
       "                fixed acidity  volatile acidity  citric acid  residual sugar  \\\n",
       "pH                                                                             \n",
       "(2.719, 2.978]       7.758857          0.276329     0.372229        7.614286   \n",
       "(2.978, 3.236]       7.398236          0.311262     0.350700        6.310422   \n",
       "(3.236, 3.494]       7.011298          0.370456     0.283185        4.283266   \n",
       "(3.494, 3.752]       6.378571          0.464736     0.205714        3.140062   \n",
       "(3.752, 4.01]        5.362500          0.400938     0.178125        1.768750   \n",
       "\n",
       "                chlorides  free sulfur dioxide  total sulfur dioxide  \\\n",
       "pH                                                                     \n",
       "(2.719, 2.978]   0.054357            31.241429            124.741429   \n",
       "(2.978, 3.236]   0.054819            33.195873            127.955443   \n",
       "(3.236, 3.494]   0.057230            27.518053            101.632657   \n",
       "(3.494, 3.752]   0.061562            25.231366             87.874224   \n",
       "(3.752, 4.01]    0.050938            26.562500            101.875000   \n",
       "\n",
       "                 density        pH  sulphates    alcohol   quality  \n",
       "pH                                                                  \n",
       "(2.719, 2.978]  0.994801  2.921286   0.490543  10.221905  5.800000  \n",
       "(2.978, 3.236]  0.994679  3.126414   0.510323  10.397088  5.786782  \n",
       "(3.236, 3.494]  0.994688  3.335785   0.556357  10.608195  5.877485  \n",
       "(3.494, 3.752]  0.994887  3.569565   0.598602  10.830745  5.711180  \n",
       "(3.752, 4.01]   0.993582  3.831875   0.579375  11.437500  5.875000  "
      ]
     },
     "execution_count": 38,
     "metadata": {},
     "output_type": "execute_result"
    }
   ],
   "source": [
    "wine_ph_dens = all_wines.groupby([(pd.cut(all_wines.pH, bins=5))]).mean()\n",
    "wine_ph_dens"
   ]
  },
  {
   "cell_type": "code",
   "execution_count": 39,
   "id": "1993a157",
   "metadata": {},
   "outputs": [
    {
     "data": {
      "text/html": [
       "<div>\n",
       "<style scoped>\n",
       "    .dataframe tbody tr th:only-of-type {\n",
       "        vertical-align: middle;\n",
       "    }\n",
       "\n",
       "    .dataframe tbody tr th {\n",
       "        vertical-align: top;\n",
       "    }\n",
       "\n",
       "    .dataframe thead th {\n",
       "        text-align: right;\n",
       "    }\n",
       "</style>\n",
       "<table border=\"1\" class=\"dataframe\">\n",
       "  <thead>\n",
       "    <tr style=\"text-align: right;\">\n",
       "      <th></th>\n",
       "      <th>fixed acidity</th>\n",
       "      <th>volatile acidity</th>\n",
       "      <th>citric acid</th>\n",
       "      <th>residual sugar</th>\n",
       "      <th>chlorides</th>\n",
       "      <th>free sulfur dioxide</th>\n",
       "      <th>total sulfur dioxide</th>\n",
       "      <th>pH</th>\n",
       "      <th>sulphates</th>\n",
       "      <th>alcohol</th>\n",
       "      <th>quality</th>\n",
       "    </tr>\n",
       "    <tr>\n",
       "      <th>density</th>\n",
       "      <th></th>\n",
       "      <th></th>\n",
       "      <th></th>\n",
       "      <th></th>\n",
       "      <th></th>\n",
       "      <th></th>\n",
       "      <th></th>\n",
       "      <th></th>\n",
       "      <th></th>\n",
       "      <th></th>\n",
       "      <th></th>\n",
       "    </tr>\n",
       "  </thead>\n",
       "  <tbody>\n",
       "    <tr>\n",
       "      <th>0.993582</th>\n",
       "      <td>5.362500</td>\n",
       "      <td>0.400938</td>\n",
       "      <td>0.178125</td>\n",
       "      <td>1.768750</td>\n",
       "      <td>0.050938</td>\n",
       "      <td>26.562500</td>\n",
       "      <td>101.875000</td>\n",
       "      <td>3.831875</td>\n",
       "      <td>0.579375</td>\n",
       "      <td>11.437500</td>\n",
       "      <td>5.875000</td>\n",
       "    </tr>\n",
       "    <tr>\n",
       "      <th>0.994679</th>\n",
       "      <td>7.398236</td>\n",
       "      <td>0.311262</td>\n",
       "      <td>0.350700</td>\n",
       "      <td>6.310422</td>\n",
       "      <td>0.054819</td>\n",
       "      <td>33.195873</td>\n",
       "      <td>127.955443</td>\n",
       "      <td>3.126414</td>\n",
       "      <td>0.510323</td>\n",
       "      <td>10.397088</td>\n",
       "      <td>5.786782</td>\n",
       "    </tr>\n",
       "    <tr>\n",
       "      <th>0.994688</th>\n",
       "      <td>7.011298</td>\n",
       "      <td>0.370456</td>\n",
       "      <td>0.283185</td>\n",
       "      <td>4.283266</td>\n",
       "      <td>0.057230</td>\n",
       "      <td>27.518053</td>\n",
       "      <td>101.632657</td>\n",
       "      <td>3.335785</td>\n",
       "      <td>0.556357</td>\n",
       "      <td>10.608195</td>\n",
       "      <td>5.877485</td>\n",
       "    </tr>\n",
       "    <tr>\n",
       "      <th>0.994801</th>\n",
       "      <td>7.758857</td>\n",
       "      <td>0.276329</td>\n",
       "      <td>0.372229</td>\n",
       "      <td>7.614286</td>\n",
       "      <td>0.054357</td>\n",
       "      <td>31.241429</td>\n",
       "      <td>124.741429</td>\n",
       "      <td>2.921286</td>\n",
       "      <td>0.490543</td>\n",
       "      <td>10.221905</td>\n",
       "      <td>5.800000</td>\n",
       "    </tr>\n",
       "    <tr>\n",
       "      <th>0.994887</th>\n",
       "      <td>6.378571</td>\n",
       "      <td>0.464736</td>\n",
       "      <td>0.205714</td>\n",
       "      <td>3.140062</td>\n",
       "      <td>0.061562</td>\n",
       "      <td>25.231366</td>\n",
       "      <td>87.874224</td>\n",
       "      <td>3.569565</td>\n",
       "      <td>0.598602</td>\n",
       "      <td>10.830745</td>\n",
       "      <td>5.711180</td>\n",
       "    </tr>\n",
       "  </tbody>\n",
       "</table>\n",
       "</div>"
      ],
      "text/plain": [
       "          fixed acidity  volatile acidity  citric acid  residual sugar  \\\n",
       "density                                                                  \n",
       "0.993582       5.362500          0.400938     0.178125        1.768750   \n",
       "0.994679       7.398236          0.311262     0.350700        6.310422   \n",
       "0.994688       7.011298          0.370456     0.283185        4.283266   \n",
       "0.994801       7.758857          0.276329     0.372229        7.614286   \n",
       "0.994887       6.378571          0.464736     0.205714        3.140062   \n",
       "\n",
       "          chlorides  free sulfur dioxide  total sulfur dioxide        pH  \\\n",
       "density                                                                    \n",
       "0.993582   0.050938            26.562500            101.875000  3.831875   \n",
       "0.994679   0.054819            33.195873            127.955443  3.126414   \n",
       "0.994688   0.057230            27.518053            101.632657  3.335785   \n",
       "0.994801   0.054357            31.241429            124.741429  2.921286   \n",
       "0.994887   0.061562            25.231366             87.874224  3.569565   \n",
       "\n",
       "          sulphates    alcohol   quality  \n",
       "density                                   \n",
       "0.993582   0.579375  11.437500  5.875000  \n",
       "0.994679   0.510323  10.397088  5.786782  \n",
       "0.994688   0.556357  10.608195  5.877485  \n",
       "0.994801   0.490543  10.221905  5.800000  \n",
       "0.994887   0.598602  10.830745  5.711180  "
      ]
     },
     "execution_count": 39,
     "metadata": {},
     "output_type": "execute_result"
    }
   ],
   "source": [
    "wine_ph_dens.groupby('density').mean()"
   ]
  },
  {
   "cell_type": "markdown",
   "id": "4319e89d",
   "metadata": {},
   "source": [
    "#### Now lets find the one wine"
   ]
  },
  {
   "cell_type": "code",
   "execution_count": 40,
   "id": "0ce43169",
   "metadata": {},
   "outputs": [
    {
     "data": {
      "text/html": [
       "<div>\n",
       "<style scoped>\n",
       "    .dataframe tbody tr th:only-of-type {\n",
       "        vertical-align: middle;\n",
       "    }\n",
       "\n",
       "    .dataframe tbody tr th {\n",
       "        vertical-align: top;\n",
       "    }\n",
       "\n",
       "    .dataframe thead th {\n",
       "        text-align: right;\n",
       "    }\n",
       "</style>\n",
       "<table border=\"1\" class=\"dataframe\">\n",
       "  <thead>\n",
       "    <tr style=\"text-align: right;\">\n",
       "      <th></th>\n",
       "      <th>fixed acidity</th>\n",
       "      <th>volatile acidity</th>\n",
       "      <th>citric acid</th>\n",
       "      <th>residual sugar</th>\n",
       "      <th>chlorides</th>\n",
       "      <th>free sulfur dioxide</th>\n",
       "      <th>total sulfur dioxide</th>\n",
       "      <th>density</th>\n",
       "      <th>pH</th>\n",
       "      <th>sulphates</th>\n",
       "      <th>alcohol</th>\n",
       "      <th>quality</th>\n",
       "      <th>type</th>\n",
       "    </tr>\n",
       "    <tr>\n",
       "      <th>pH</th>\n",
       "      <th></th>\n",
       "      <th></th>\n",
       "      <th></th>\n",
       "      <th></th>\n",
       "      <th></th>\n",
       "      <th></th>\n",
       "      <th></th>\n",
       "      <th></th>\n",
       "      <th></th>\n",
       "      <th></th>\n",
       "      <th></th>\n",
       "      <th></th>\n",
       "      <th></th>\n",
       "    </tr>\n",
       "  </thead>\n",
       "  <tbody>\n",
       "    <tr>\n",
       "      <th>(2.719, 2.978]</th>\n",
       "      <td>15.6</td>\n",
       "      <td>0.76</td>\n",
       "      <td>1.00</td>\n",
       "      <td>22.00</td>\n",
       "      <td>0.610</td>\n",
       "      <td>124.0</td>\n",
       "      <td>256.0</td>\n",
       "      <td>1.00320</td>\n",
       "      <td>2.97</td>\n",
       "      <td>2.00</td>\n",
       "      <td>13.60</td>\n",
       "      <td>8</td>\n",
       "      <td>white</td>\n",
       "    </tr>\n",
       "    <tr>\n",
       "      <th>(2.978, 3.236]</th>\n",
       "      <td>15.9</td>\n",
       "      <td>1.24</td>\n",
       "      <td>1.23</td>\n",
       "      <td>31.60</td>\n",
       "      <td>0.611</td>\n",
       "      <td>131.0</td>\n",
       "      <td>366.5</td>\n",
       "      <td>1.01030</td>\n",
       "      <td>3.23</td>\n",
       "      <td>1.61</td>\n",
       "      <td>14.90</td>\n",
       "      <td>9</td>\n",
       "      <td>white</td>\n",
       "    </tr>\n",
       "    <tr>\n",
       "      <th>(3.236, 3.494]</th>\n",
       "      <td>13.0</td>\n",
       "      <td>1.18</td>\n",
       "      <td>1.66</td>\n",
       "      <td>65.80</td>\n",
       "      <td>0.358</td>\n",
       "      <td>289.0</td>\n",
       "      <td>440.0</td>\n",
       "      <td>1.03898</td>\n",
       "      <td>3.49</td>\n",
       "      <td>1.56</td>\n",
       "      <td>14.05</td>\n",
       "      <td>9</td>\n",
       "      <td>white</td>\n",
       "    </tr>\n",
       "    <tr>\n",
       "      <th>(3.494, 3.752]</th>\n",
       "      <td>9.6</td>\n",
       "      <td>1.58</td>\n",
       "      <td>0.74</td>\n",
       "      <td>19.40</td>\n",
       "      <td>0.172</td>\n",
       "      <td>138.5</td>\n",
       "      <td>272.0</td>\n",
       "      <td>1.00040</td>\n",
       "      <td>3.75</td>\n",
       "      <td>0.96</td>\n",
       "      <td>14.00</td>\n",
       "      <td>8</td>\n",
       "      <td>white</td>\n",
       "    </tr>\n",
       "    <tr>\n",
       "      <th>(3.752, 4.01]</th>\n",
       "      <td>6.4</td>\n",
       "      <td>0.74</td>\n",
       "      <td>0.34</td>\n",
       "      <td>5.15</td>\n",
       "      <td>0.092</td>\n",
       "      <td>69.0</td>\n",
       "      <td>178.0</td>\n",
       "      <td>0.99590</td>\n",
       "      <td>4.01</td>\n",
       "      <td>0.66</td>\n",
       "      <td>13.10</td>\n",
       "      <td>7</td>\n",
       "      <td>white</td>\n",
       "    </tr>\n",
       "  </tbody>\n",
       "</table>\n",
       "</div>"
      ],
      "text/plain": [
       "                fixed acidity  volatile acidity  citric acid  residual sugar  \\\n",
       "pH                                                                             \n",
       "(2.719, 2.978]           15.6              0.76         1.00           22.00   \n",
       "(2.978, 3.236]           15.9              1.24         1.23           31.60   \n",
       "(3.236, 3.494]           13.0              1.18         1.66           65.80   \n",
       "(3.494, 3.752]            9.6              1.58         0.74           19.40   \n",
       "(3.752, 4.01]             6.4              0.74         0.34            5.15   \n",
       "\n",
       "                chlorides  free sulfur dioxide  total sulfur dioxide  density  \\\n",
       "pH                                                                              \n",
       "(2.719, 2.978]      0.610                124.0                 256.0  1.00320   \n",
       "(2.978, 3.236]      0.611                131.0                 366.5  1.01030   \n",
       "(3.236, 3.494]      0.358                289.0                 440.0  1.03898   \n",
       "(3.494, 3.752]      0.172                138.5                 272.0  1.00040   \n",
       "(3.752, 4.01]       0.092                 69.0                 178.0  0.99590   \n",
       "\n",
       "                  pH  sulphates  alcohol  quality   type  \n",
       "pH                                                        \n",
       "(2.719, 2.978]  2.97       2.00    13.60        8  white  \n",
       "(2.978, 3.236]  3.23       1.61    14.90        9  white  \n",
       "(3.236, 3.494]  3.49       1.56    14.05        9  white  \n",
       "(3.494, 3.752]  3.75       0.96    14.00        8  white  \n",
       "(3.752, 4.01]   4.01       0.66    13.10        7  white  "
      ]
     },
     "execution_count": 40,
     "metadata": {},
     "output_type": "execute_result"
    }
   ],
   "source": [
    "wine_ph_dens2 = all_wines.groupby([(pd.cut(all_wines.pH, bins=5))]).max()\n",
    "wine_ph_dens2"
   ]
  },
  {
   "cell_type": "code",
   "execution_count": 41,
   "id": "55240099",
   "metadata": {},
   "outputs": [
    {
     "data": {
      "text/html": [
       "<div>\n",
       "<style scoped>\n",
       "    .dataframe tbody tr th:only-of-type {\n",
       "        vertical-align: middle;\n",
       "    }\n",
       "\n",
       "    .dataframe tbody tr th {\n",
       "        vertical-align: top;\n",
       "    }\n",
       "\n",
       "    .dataframe thead th {\n",
       "        text-align: right;\n",
       "    }\n",
       "</style>\n",
       "<table border=\"1\" class=\"dataframe\">\n",
       "  <thead>\n",
       "    <tr style=\"text-align: right;\">\n",
       "      <th></th>\n",
       "      <th>fixed acidity</th>\n",
       "      <th>volatile acidity</th>\n",
       "      <th>citric acid</th>\n",
       "      <th>residual sugar</th>\n",
       "      <th>chlorides</th>\n",
       "      <th>free sulfur dioxide</th>\n",
       "      <th>total sulfur dioxide</th>\n",
       "      <th>pH</th>\n",
       "      <th>sulphates</th>\n",
       "      <th>alcohol</th>\n",
       "      <th>quality</th>\n",
       "      <th>type</th>\n",
       "    </tr>\n",
       "    <tr>\n",
       "      <th>density</th>\n",
       "      <th></th>\n",
       "      <th></th>\n",
       "      <th></th>\n",
       "      <th></th>\n",
       "      <th></th>\n",
       "      <th></th>\n",
       "      <th></th>\n",
       "      <th></th>\n",
       "      <th></th>\n",
       "      <th></th>\n",
       "      <th></th>\n",
       "      <th></th>\n",
       "    </tr>\n",
       "  </thead>\n",
       "  <tbody>\n",
       "    <tr>\n",
       "      <th>0.99590</th>\n",
       "      <td>6.4</td>\n",
       "      <td>0.74</td>\n",
       "      <td>0.34</td>\n",
       "      <td>5.15</td>\n",
       "      <td>0.092</td>\n",
       "      <td>69.0</td>\n",
       "      <td>178.0</td>\n",
       "      <td>4.01</td>\n",
       "      <td>0.66</td>\n",
       "      <td>13.10</td>\n",
       "      <td>7</td>\n",
       "      <td>white</td>\n",
       "    </tr>\n",
       "    <tr>\n",
       "      <th>1.00040</th>\n",
       "      <td>9.6</td>\n",
       "      <td>1.58</td>\n",
       "      <td>0.74</td>\n",
       "      <td>19.40</td>\n",
       "      <td>0.172</td>\n",
       "      <td>138.5</td>\n",
       "      <td>272.0</td>\n",
       "      <td>3.75</td>\n",
       "      <td>0.96</td>\n",
       "      <td>14.00</td>\n",
       "      <td>8</td>\n",
       "      <td>white</td>\n",
       "    </tr>\n",
       "    <tr>\n",
       "      <th>1.00320</th>\n",
       "      <td>15.6</td>\n",
       "      <td>0.76</td>\n",
       "      <td>1.00</td>\n",
       "      <td>22.00</td>\n",
       "      <td>0.610</td>\n",
       "      <td>124.0</td>\n",
       "      <td>256.0</td>\n",
       "      <td>2.97</td>\n",
       "      <td>2.00</td>\n",
       "      <td>13.60</td>\n",
       "      <td>8</td>\n",
       "      <td>white</td>\n",
       "    </tr>\n",
       "    <tr>\n",
       "      <th>1.01030</th>\n",
       "      <td>15.9</td>\n",
       "      <td>1.24</td>\n",
       "      <td>1.23</td>\n",
       "      <td>31.60</td>\n",
       "      <td>0.611</td>\n",
       "      <td>131.0</td>\n",
       "      <td>366.5</td>\n",
       "      <td>3.23</td>\n",
       "      <td>1.61</td>\n",
       "      <td>14.90</td>\n",
       "      <td>9</td>\n",
       "      <td>white</td>\n",
       "    </tr>\n",
       "    <tr>\n",
       "      <th>1.03898</th>\n",
       "      <td>13.0</td>\n",
       "      <td>1.18</td>\n",
       "      <td>1.66</td>\n",
       "      <td>65.80</td>\n",
       "      <td>0.358</td>\n",
       "      <td>289.0</td>\n",
       "      <td>440.0</td>\n",
       "      <td>3.49</td>\n",
       "      <td>1.56</td>\n",
       "      <td>14.05</td>\n",
       "      <td>9</td>\n",
       "      <td>white</td>\n",
       "    </tr>\n",
       "  </tbody>\n",
       "</table>\n",
       "</div>"
      ],
      "text/plain": [
       "         fixed acidity  volatile acidity  citric acid  residual sugar  \\\n",
       "density                                                                 \n",
       "0.99590            6.4              0.74         0.34            5.15   \n",
       "1.00040            9.6              1.58         0.74           19.40   \n",
       "1.00320           15.6              0.76         1.00           22.00   \n",
       "1.01030           15.9              1.24         1.23           31.60   \n",
       "1.03898           13.0              1.18         1.66           65.80   \n",
       "\n",
       "         chlorides  free sulfur dioxide  total sulfur dioxide    pH  \\\n",
       "density                                                               \n",
       "0.99590      0.092                 69.0                 178.0  4.01   \n",
       "1.00040      0.172                138.5                 272.0  3.75   \n",
       "1.00320      0.610                124.0                 256.0  2.97   \n",
       "1.01030      0.611                131.0                 366.5  3.23   \n",
       "1.03898      0.358                289.0                 440.0  3.49   \n",
       "\n",
       "         sulphates  alcohol  quality   type  \n",
       "density                                      \n",
       "0.99590       0.66    13.10        7  white  \n",
       "1.00040       0.96    14.00        8  white  \n",
       "1.00320       2.00    13.60        8  white  \n",
       "1.01030       1.61    14.90        9  white  \n",
       "1.03898       1.56    14.05        9  white  "
      ]
     },
     "execution_count": 41,
     "metadata": {},
     "output_type": "execute_result"
    }
   ],
   "source": [
    "wine_ph_dens2.groupby('density').max()"
   ]
  },
  {
   "cell_type": "markdown",
   "id": "5008b7a0",
   "metadata": {},
   "source": [
    "#### Splitting into 10 subsets"
   ]
  },
  {
   "cell_type": "code",
   "execution_count": 42,
   "id": "50c3bb84",
   "metadata": {},
   "outputs": [
    {
     "data": {
      "text/html": [
       "<div>\n",
       "<style scoped>\n",
       "    .dataframe tbody tr th:only-of-type {\n",
       "        vertical-align: middle;\n",
       "    }\n",
       "\n",
       "    .dataframe tbody tr th {\n",
       "        vertical-align: top;\n",
       "    }\n",
       "\n",
       "    .dataframe thead th {\n",
       "        text-align: right;\n",
       "    }\n",
       "</style>\n",
       "<table border=\"1\" class=\"dataframe\">\n",
       "  <thead>\n",
       "    <tr style=\"text-align: right;\">\n",
       "      <th></th>\n",
       "      <th></th>\n",
       "      <th>fixed acidity</th>\n",
       "      <th>volatile acidity</th>\n",
       "      <th>citric acid</th>\n",
       "      <th>residual sugar</th>\n",
       "      <th>chlorides</th>\n",
       "      <th>free sulfur dioxide</th>\n",
       "      <th>total sulfur dioxide</th>\n",
       "      <th>density</th>\n",
       "      <th>pH</th>\n",
       "      <th>sulphates</th>\n",
       "      <th>alcohol</th>\n",
       "      <th>quality</th>\n",
       "    </tr>\n",
       "    <tr>\n",
       "      <th>pH</th>\n",
       "      <th>type</th>\n",
       "      <th></th>\n",
       "      <th></th>\n",
       "      <th></th>\n",
       "      <th></th>\n",
       "      <th></th>\n",
       "      <th></th>\n",
       "      <th></th>\n",
       "      <th></th>\n",
       "      <th></th>\n",
       "      <th></th>\n",
       "      <th></th>\n",
       "      <th></th>\n",
       "    </tr>\n",
       "  </thead>\n",
       "  <tbody>\n",
       "    <tr>\n",
       "      <th rowspan=\"2\" valign=\"top\">(2.719, 2.849]</th>\n",
       "      <th>red</th>\n",
       "      <td>1</td>\n",
       "      <td>1</td>\n",
       "      <td>1</td>\n",
       "      <td>1</td>\n",
       "      <td>1</td>\n",
       "      <td>1</td>\n",
       "      <td>1</td>\n",
       "      <td>1</td>\n",
       "      <td>1</td>\n",
       "      <td>1</td>\n",
       "      <td>1</td>\n",
       "      <td>1</td>\n",
       "    </tr>\n",
       "    <tr>\n",
       "      <th>white</th>\n",
       "      <td>15</td>\n",
       "      <td>15</td>\n",
       "      <td>15</td>\n",
       "      <td>15</td>\n",
       "      <td>15</td>\n",
       "      <td>15</td>\n",
       "      <td>15</td>\n",
       "      <td>15</td>\n",
       "      <td>15</td>\n",
       "      <td>15</td>\n",
       "      <td>15</td>\n",
       "      <td>15</td>\n",
       "    </tr>\n",
       "    <tr>\n",
       "      <th rowspan=\"2\" valign=\"top\">(2.849, 2.978]</th>\n",
       "      <th>red</th>\n",
       "      <td>21</td>\n",
       "      <td>21</td>\n",
       "      <td>21</td>\n",
       "      <td>21</td>\n",
       "      <td>21</td>\n",
       "      <td>21</td>\n",
       "      <td>21</td>\n",
       "      <td>21</td>\n",
       "      <td>21</td>\n",
       "      <td>21</td>\n",
       "      <td>21</td>\n",
       "      <td>21</td>\n",
       "    </tr>\n",
       "    <tr>\n",
       "      <th>white</th>\n",
       "      <td>313</td>\n",
       "      <td>313</td>\n",
       "      <td>313</td>\n",
       "      <td>313</td>\n",
       "      <td>313</td>\n",
       "      <td>313</td>\n",
       "      <td>313</td>\n",
       "      <td>313</td>\n",
       "      <td>313</td>\n",
       "      <td>313</td>\n",
       "      <td>313</td>\n",
       "      <td>313</td>\n",
       "    </tr>\n",
       "    <tr>\n",
       "      <th rowspan=\"2\" valign=\"top\">(2.978, 3.107]</th>\n",
       "      <th>red</th>\n",
       "      <td>112</td>\n",
       "      <td>112</td>\n",
       "      <td>112</td>\n",
       "      <td>112</td>\n",
       "      <td>112</td>\n",
       "      <td>112</td>\n",
       "      <td>112</td>\n",
       "      <td>112</td>\n",
       "      <td>112</td>\n",
       "      <td>112</td>\n",
       "      <td>112</td>\n",
       "      <td>112</td>\n",
       "    </tr>\n",
       "    <tr>\n",
       "      <th>white</th>\n",
       "      <td>1121</td>\n",
       "      <td>1121</td>\n",
       "      <td>1121</td>\n",
       "      <td>1121</td>\n",
       "      <td>1121</td>\n",
       "      <td>1121</td>\n",
       "      <td>1121</td>\n",
       "      <td>1121</td>\n",
       "      <td>1121</td>\n",
       "      <td>1121</td>\n",
       "      <td>1121</td>\n",
       "      <td>1121</td>\n",
       "    </tr>\n",
       "    <tr>\n",
       "      <th rowspan=\"2\" valign=\"top\">(3.107, 3.236]</th>\n",
       "      <th>red</th>\n",
       "      <td>361</td>\n",
       "      <td>361</td>\n",
       "      <td>361</td>\n",
       "      <td>361</td>\n",
       "      <td>361</td>\n",
       "      <td>361</td>\n",
       "      <td>361</td>\n",
       "      <td>361</td>\n",
       "      <td>361</td>\n",
       "      <td>361</td>\n",
       "      <td>361</td>\n",
       "      <td>361</td>\n",
       "    </tr>\n",
       "    <tr>\n",
       "      <th>white</th>\n",
       "      <td>1750</td>\n",
       "      <td>1750</td>\n",
       "      <td>1750</td>\n",
       "      <td>1750</td>\n",
       "      <td>1750</td>\n",
       "      <td>1750</td>\n",
       "      <td>1750</td>\n",
       "      <td>1750</td>\n",
       "      <td>1750</td>\n",
       "      <td>1750</td>\n",
       "      <td>1750</td>\n",
       "      <td>1750</td>\n",
       "    </tr>\n",
       "    <tr>\n",
       "      <th rowspan=\"2\" valign=\"top\">(3.236, 3.365]</th>\n",
       "      <th>red</th>\n",
       "      <td>547</td>\n",
       "      <td>547</td>\n",
       "      <td>547</td>\n",
       "      <td>547</td>\n",
       "      <td>547</td>\n",
       "      <td>547</td>\n",
       "      <td>547</td>\n",
       "      <td>547</td>\n",
       "      <td>547</td>\n",
       "      <td>547</td>\n",
       "      <td>547</td>\n",
       "      <td>547</td>\n",
       "    </tr>\n",
       "    <tr>\n",
       "      <th>white</th>\n",
       "      <td>1116</td>\n",
       "      <td>1116</td>\n",
       "      <td>1116</td>\n",
       "      <td>1116</td>\n",
       "      <td>1116</td>\n",
       "      <td>1116</td>\n",
       "      <td>1116</td>\n",
       "      <td>1116</td>\n",
       "      <td>1116</td>\n",
       "      <td>1116</td>\n",
       "      <td>1116</td>\n",
       "      <td>1116</td>\n",
       "    </tr>\n",
       "    <tr>\n",
       "      <th rowspan=\"2\" valign=\"top\">(3.365, 3.494]</th>\n",
       "      <th>red</th>\n",
       "      <td>375</td>\n",
       "      <td>375</td>\n",
       "      <td>375</td>\n",
       "      <td>375</td>\n",
       "      <td>375</td>\n",
       "      <td>375</td>\n",
       "      <td>375</td>\n",
       "      <td>375</td>\n",
       "      <td>375</td>\n",
       "      <td>375</td>\n",
       "      <td>375</td>\n",
       "      <td>375</td>\n",
       "    </tr>\n",
       "    <tr>\n",
       "      <th>white</th>\n",
       "      <td>427</td>\n",
       "      <td>427</td>\n",
       "      <td>427</td>\n",
       "      <td>427</td>\n",
       "      <td>427</td>\n",
       "      <td>427</td>\n",
       "      <td>427</td>\n",
       "      <td>427</td>\n",
       "      <td>427</td>\n",
       "      <td>427</td>\n",
       "      <td>427</td>\n",
       "      <td>427</td>\n",
       "    </tr>\n",
       "    <tr>\n",
       "      <th rowspan=\"2\" valign=\"top\">(3.494, 3.623]</th>\n",
       "      <th>red</th>\n",
       "      <td>146</td>\n",
       "      <td>146</td>\n",
       "      <td>146</td>\n",
       "      <td>146</td>\n",
       "      <td>146</td>\n",
       "      <td>146</td>\n",
       "      <td>146</td>\n",
       "      <td>146</td>\n",
       "      <td>146</td>\n",
       "      <td>146</td>\n",
       "      <td>146</td>\n",
       "      <td>146</td>\n",
       "    </tr>\n",
       "    <tr>\n",
       "      <th>white</th>\n",
       "      <td>117</td>\n",
       "      <td>117</td>\n",
       "      <td>117</td>\n",
       "      <td>117</td>\n",
       "      <td>117</td>\n",
       "      <td>117</td>\n",
       "      <td>117</td>\n",
       "      <td>117</td>\n",
       "      <td>117</td>\n",
       "      <td>117</td>\n",
       "      <td>117</td>\n",
       "      <td>117</td>\n",
       "    </tr>\n",
       "    <tr>\n",
       "      <th rowspan=\"2\" valign=\"top\">(3.623, 3.752]</th>\n",
       "      <th>red</th>\n",
       "      <td>29</td>\n",
       "      <td>29</td>\n",
       "      <td>29</td>\n",
       "      <td>29</td>\n",
       "      <td>29</td>\n",
       "      <td>29</td>\n",
       "      <td>29</td>\n",
       "      <td>29</td>\n",
       "      <td>29</td>\n",
       "      <td>29</td>\n",
       "      <td>29</td>\n",
       "      <td>29</td>\n",
       "    </tr>\n",
       "    <tr>\n",
       "      <th>white</th>\n",
       "      <td>30</td>\n",
       "      <td>30</td>\n",
       "      <td>30</td>\n",
       "      <td>30</td>\n",
       "      <td>30</td>\n",
       "      <td>30</td>\n",
       "      <td>30</td>\n",
       "      <td>30</td>\n",
       "      <td>30</td>\n",
       "      <td>30</td>\n",
       "      <td>30</td>\n",
       "      <td>30</td>\n",
       "    </tr>\n",
       "    <tr>\n",
       "      <th rowspan=\"2\" valign=\"top\">(3.752, 3.881]</th>\n",
       "      <th>red</th>\n",
       "      <td>3</td>\n",
       "      <td>3</td>\n",
       "      <td>3</td>\n",
       "      <td>3</td>\n",
       "      <td>3</td>\n",
       "      <td>3</td>\n",
       "      <td>3</td>\n",
       "      <td>3</td>\n",
       "      <td>3</td>\n",
       "      <td>3</td>\n",
       "      <td>3</td>\n",
       "      <td>3</td>\n",
       "    </tr>\n",
       "    <tr>\n",
       "      <th>white</th>\n",
       "      <td>9</td>\n",
       "      <td>9</td>\n",
       "      <td>9</td>\n",
       "      <td>9</td>\n",
       "      <td>9</td>\n",
       "      <td>9</td>\n",
       "      <td>9</td>\n",
       "      <td>9</td>\n",
       "      <td>9</td>\n",
       "      <td>9</td>\n",
       "      <td>9</td>\n",
       "      <td>9</td>\n",
       "    </tr>\n",
       "    <tr>\n",
       "      <th rowspan=\"2\" valign=\"top\">(3.881, 4.01]</th>\n",
       "      <th>red</th>\n",
       "      <td>4</td>\n",
       "      <td>4</td>\n",
       "      <td>4</td>\n",
       "      <td>4</td>\n",
       "      <td>4</td>\n",
       "      <td>4</td>\n",
       "      <td>4</td>\n",
       "      <td>4</td>\n",
       "      <td>4</td>\n",
       "      <td>4</td>\n",
       "      <td>4</td>\n",
       "      <td>4</td>\n",
       "    </tr>\n",
       "    <tr>\n",
       "      <th>white</th>\n",
       "      <td>0</td>\n",
       "      <td>0</td>\n",
       "      <td>0</td>\n",
       "      <td>0</td>\n",
       "      <td>0</td>\n",
       "      <td>0</td>\n",
       "      <td>0</td>\n",
       "      <td>0</td>\n",
       "      <td>0</td>\n",
       "      <td>0</td>\n",
       "      <td>0</td>\n",
       "      <td>0</td>\n",
       "    </tr>\n",
       "  </tbody>\n",
       "</table>\n",
       "</div>"
      ],
      "text/plain": [
       "                      fixed acidity  volatile acidity  citric acid  \\\n",
       "pH             type                                                  \n",
       "(2.719, 2.849] red                1                 1            1   \n",
       "               white             15                15           15   \n",
       "(2.849, 2.978] red               21                21           21   \n",
       "               white            313               313          313   \n",
       "(2.978, 3.107] red              112               112          112   \n",
       "               white           1121              1121         1121   \n",
       "(3.107, 3.236] red              361               361          361   \n",
       "               white           1750              1750         1750   \n",
       "(3.236, 3.365] red              547               547          547   \n",
       "               white           1116              1116         1116   \n",
       "(3.365, 3.494] red              375               375          375   \n",
       "               white            427               427          427   \n",
       "(3.494, 3.623] red              146               146          146   \n",
       "               white            117               117          117   \n",
       "(3.623, 3.752] red               29                29           29   \n",
       "               white             30                30           30   \n",
       "(3.752, 3.881] red                3                 3            3   \n",
       "               white              9                 9            9   \n",
       "(3.881, 4.01]  red                4                 4            4   \n",
       "               white              0                 0            0   \n",
       "\n",
       "                      residual sugar  chlorides  free sulfur dioxide  \\\n",
       "pH             type                                                    \n",
       "(2.719, 2.849] red                 1          1                    1   \n",
       "               white              15         15                   15   \n",
       "(2.849, 2.978] red                21         21                   21   \n",
       "               white             313        313                  313   \n",
       "(2.978, 3.107] red               112        112                  112   \n",
       "               white            1121       1121                 1121   \n",
       "(3.107, 3.236] red               361        361                  361   \n",
       "               white            1750       1750                 1750   \n",
       "(3.236, 3.365] red               547        547                  547   \n",
       "               white            1116       1116                 1116   \n",
       "(3.365, 3.494] red               375        375                  375   \n",
       "               white             427        427                  427   \n",
       "(3.494, 3.623] red               146        146                  146   \n",
       "               white             117        117                  117   \n",
       "(3.623, 3.752] red                29         29                   29   \n",
       "               white              30         30                   30   \n",
       "(3.752, 3.881] red                 3          3                    3   \n",
       "               white               9          9                    9   \n",
       "(3.881, 4.01]  red                 4          4                    4   \n",
       "               white               0          0                    0   \n",
       "\n",
       "                      total sulfur dioxide  density    pH  sulphates  alcohol  \\\n",
       "pH             type                                                             \n",
       "(2.719, 2.849] red                       1        1     1          1        1   \n",
       "               white                    15       15    15         15       15   \n",
       "(2.849, 2.978] red                      21       21    21         21       21   \n",
       "               white                   313      313   313        313      313   \n",
       "(2.978, 3.107] red                     112      112   112        112      112   \n",
       "               white                  1121     1121  1121       1121     1121   \n",
       "(3.107, 3.236] red                     361      361   361        361      361   \n",
       "               white                  1750     1750  1750       1750     1750   \n",
       "(3.236, 3.365] red                     547      547   547        547      547   \n",
       "               white                  1116     1116  1116       1116     1116   \n",
       "(3.365, 3.494] red                     375      375   375        375      375   \n",
       "               white                   427      427   427        427      427   \n",
       "(3.494, 3.623] red                     146      146   146        146      146   \n",
       "               white                   117      117   117        117      117   \n",
       "(3.623, 3.752] red                      29       29    29         29       29   \n",
       "               white                    30       30    30         30       30   \n",
       "(3.752, 3.881] red                       3        3     3          3        3   \n",
       "               white                     9        9     9          9        9   \n",
       "(3.881, 4.01]  red                       4        4     4          4        4   \n",
       "               white                     0        0     0          0        0   \n",
       "\n",
       "                      quality  \n",
       "pH             type            \n",
       "(2.719, 2.849] red          1  \n",
       "               white       15  \n",
       "(2.849, 2.978] red         21  \n",
       "               white      313  \n",
       "(2.978, 3.107] red        112  \n",
       "               white     1121  \n",
       "(3.107, 3.236] red        361  \n",
       "               white     1750  \n",
       "(3.236, 3.365] red        547  \n",
       "               white     1116  \n",
       "(3.365, 3.494] red        375  \n",
       "               white      427  \n",
       "(3.494, 3.623] red        146  \n",
       "               white      117  \n",
       "(3.623, 3.752] red         29  \n",
       "               white       30  \n",
       "(3.752, 3.881] red          3  \n",
       "               white        9  \n",
       "(3.881, 4.01]  red          4  \n",
       "               white        0  "
      ]
     },
     "execution_count": 42,
     "metadata": {},
     "output_type": "execute_result"
    }
   ],
   "source": [
    "wine_ph2 = all_wines.groupby([(pd.cut(all_wines.pH, bins=10)), 'type']).count()\n",
    "wine_ph2"
   ]
  },
  {
   "cell_type": "code",
   "execution_count": 43,
   "id": "6fd6da63",
   "metadata": {},
   "outputs": [
    {
     "data": {
      "text/plain": [
       "<AxesSubplot:xlabel='pH,type'>"
      ]
     },
     "execution_count": 43,
     "metadata": {},
     "output_type": "execute_result"
    },
    {
     "data": {
      "image/png": "[encoded data removed]",
      "text/plain": [
       "<Figure size 432x288 with 1 Axes>"
      ]
     },
     "metadata": {
      "needs_background": "light"
     },
     "output_type": "display_data"
    }
   ],
   "source": [
    "wine_ph2['pH'].plot.bar()"
   ]
  },
  {
   "cell_type": "markdown",
   "id": "f5395664",
   "metadata": {},
   "source": [
    "## 6. Use the function corr() to create a correlation matrix of all data and investigate it. \n",
    "\n",
    "Can you tell which vine attribute has the biggest influence on the wine quality. \n",
    "\n",
    "Do you get the same results when you analyze the red and white wine data sets separately?"
   ]
  },
  {
   "cell_type": "code",
   "execution_count": 44,
   "id": "8bb4b341",
   "metadata": {},
   "outputs": [
    {
     "data": {
      "text/html": [
       "<div>\n",
       "<style scoped>\n",
       "    .dataframe tbody tr th:only-of-type {\n",
       "        vertical-align: middle;\n",
       "    }\n",
       "\n",
       "    .dataframe tbody tr th {\n",
       "        vertical-align: top;\n",
       "    }\n",
       "\n",
       "    .dataframe thead th {\n",
       "        text-align: right;\n",
       "    }\n",
       "</style>\n",
       "<table border=\"1\" class=\"dataframe\">\n",
       "  <thead>\n",
       "    <tr style=\"text-align: right;\">\n",
       "      <th></th>\n",
       "      <th>fixed acidity</th>\n",
       "      <th>volatile acidity</th>\n",
       "      <th>citric acid</th>\n",
       "      <th>residual sugar</th>\n",
       "      <th>chlorides</th>\n",
       "      <th>free sulfur dioxide</th>\n",
       "      <th>total sulfur dioxide</th>\n",
       "      <th>density</th>\n",
       "      <th>pH</th>\n",
       "      <th>sulphates</th>\n",
       "      <th>alcohol</th>\n",
       "      <th>quality</th>\n",
       "    </tr>\n",
       "  </thead>\n",
       "  <tbody>\n",
       "    <tr>\n",
       "      <th>fixed acidity</th>\n",
       "      <td>1.000000</td>\n",
       "      <td>0.219008</td>\n",
       "      <td>0.324436</td>\n",
       "      <td>-0.111981</td>\n",
       "      <td>0.298195</td>\n",
       "      <td>-0.282735</td>\n",
       "      <td>-0.329054</td>\n",
       "      <td>0.458910</td>\n",
       "      <td>-0.252700</td>\n",
       "      <td>0.299568</td>\n",
       "      <td>-0.095452</td>\n",
       "      <td>-0.076743</td>\n",
       "    </tr>\n",
       "    <tr>\n",
       "      <th>volatile acidity</th>\n",
       "      <td>0.219008</td>\n",
       "      <td>1.000000</td>\n",
       "      <td>-0.377981</td>\n",
       "      <td>-0.196011</td>\n",
       "      <td>0.377124</td>\n",
       "      <td>-0.352557</td>\n",
       "      <td>-0.414476</td>\n",
       "      <td>0.271296</td>\n",
       "      <td>0.261454</td>\n",
       "      <td>0.225984</td>\n",
       "      <td>-0.037640</td>\n",
       "      <td>-0.265699</td>\n",
       "    </tr>\n",
       "    <tr>\n",
       "      <th>citric acid</th>\n",
       "      <td>0.324436</td>\n",
       "      <td>-0.377981</td>\n",
       "      <td>1.000000</td>\n",
       "      <td>0.142451</td>\n",
       "      <td>0.038998</td>\n",
       "      <td>0.133126</td>\n",
       "      <td>0.195242</td>\n",
       "      <td>0.096154</td>\n",
       "      <td>-0.329808</td>\n",
       "      <td>0.056197</td>\n",
       "      <td>-0.010493</td>\n",
       "      <td>0.085532</td>\n",
       "    </tr>\n",
       "    <tr>\n",
       "      <th>residual sugar</th>\n",
       "      <td>-0.111981</td>\n",
       "      <td>-0.196011</td>\n",
       "      <td>0.142451</td>\n",
       "      <td>1.000000</td>\n",
       "      <td>-0.128940</td>\n",
       "      <td>0.402871</td>\n",
       "      <td>0.495482</td>\n",
       "      <td>0.552517</td>\n",
       "      <td>-0.267320</td>\n",
       "      <td>-0.185927</td>\n",
       "      <td>-0.359415</td>\n",
       "      <td>-0.036980</td>\n",
       "    </tr>\n",
       "    <tr>\n",
       "      <th>chlorides</th>\n",
       "      <td>0.298195</td>\n",
       "      <td>0.377124</td>\n",
       "      <td>0.038998</td>\n",
       "      <td>-0.128940</td>\n",
       "      <td>1.000000</td>\n",
       "      <td>-0.195045</td>\n",
       "      <td>-0.279630</td>\n",
       "      <td>0.362615</td>\n",
       "      <td>0.044708</td>\n",
       "      <td>0.395593</td>\n",
       "      <td>-0.256916</td>\n",
       "      <td>-0.200666</td>\n",
       "    </tr>\n",
       "    <tr>\n",
       "      <th>free sulfur dioxide</th>\n",
       "      <td>-0.282735</td>\n",
       "      <td>-0.352557</td>\n",
       "      <td>0.133126</td>\n",
       "      <td>0.402871</td>\n",
       "      <td>-0.195045</td>\n",
       "      <td>1.000000</td>\n",
       "      <td>0.720934</td>\n",
       "      <td>0.025717</td>\n",
       "      <td>-0.145854</td>\n",
       "      <td>-0.188457</td>\n",
       "      <td>-0.179838</td>\n",
       "      <td>0.055463</td>\n",
       "    </tr>\n",
       "    <tr>\n",
       "      <th>total sulfur dioxide</th>\n",
       "      <td>-0.329054</td>\n",
       "      <td>-0.414476</td>\n",
       "      <td>0.195242</td>\n",
       "      <td>0.495482</td>\n",
       "      <td>-0.279630</td>\n",
       "      <td>0.720934</td>\n",
       "      <td>1.000000</td>\n",
       "      <td>0.032395</td>\n",
       "      <td>-0.238413</td>\n",
       "      <td>-0.275727</td>\n",
       "      <td>-0.265740</td>\n",
       "      <td>-0.041385</td>\n",
       "    </tr>\n",
       "    <tr>\n",
       "      <th>density</th>\n",
       "      <td>0.458910</td>\n",
       "      <td>0.271296</td>\n",
       "      <td>0.096154</td>\n",
       "      <td>0.552517</td>\n",
       "      <td>0.362615</td>\n",
       "      <td>0.025717</td>\n",
       "      <td>0.032395</td>\n",
       "      <td>1.000000</td>\n",
       "      <td>0.011686</td>\n",
       "      <td>0.259478</td>\n",
       "      <td>-0.686745</td>\n",
       "      <td>-0.305858</td>\n",
       "    </tr>\n",
       "    <tr>\n",
       "      <th>pH</th>\n",
       "      <td>-0.252700</td>\n",
       "      <td>0.261454</td>\n",
       "      <td>-0.329808</td>\n",
       "      <td>-0.267320</td>\n",
       "      <td>0.044708</td>\n",
       "      <td>-0.145854</td>\n",
       "      <td>-0.238413</td>\n",
       "      <td>0.011686</td>\n",
       "      <td>1.000000</td>\n",
       "      <td>0.192123</td>\n",
       "      <td>0.121248</td>\n",
       "      <td>0.019506</td>\n",
       "    </tr>\n",
       "    <tr>\n",
       "      <th>sulphates</th>\n",
       "      <td>0.299568</td>\n",
       "      <td>0.225984</td>\n",
       "      <td>0.056197</td>\n",
       "      <td>-0.185927</td>\n",
       "      <td>0.395593</td>\n",
       "      <td>-0.188457</td>\n",
       "      <td>-0.275727</td>\n",
       "      <td>0.259478</td>\n",
       "      <td>0.192123</td>\n",
       "      <td>1.000000</td>\n",
       "      <td>-0.003029</td>\n",
       "      <td>0.038485</td>\n",
       "    </tr>\n",
       "    <tr>\n",
       "      <th>alcohol</th>\n",
       "      <td>-0.095452</td>\n",
       "      <td>-0.037640</td>\n",
       "      <td>-0.010493</td>\n",
       "      <td>-0.359415</td>\n",
       "      <td>-0.256916</td>\n",
       "      <td>-0.179838</td>\n",
       "      <td>-0.265740</td>\n",
       "      <td>-0.686745</td>\n",
       "      <td>0.121248</td>\n",
       "      <td>-0.003029</td>\n",
       "      <td>1.000000</td>\n",
       "      <td>0.444319</td>\n",
       "    </tr>\n",
       "    <tr>\n",
       "      <th>quality</th>\n",
       "      <td>-0.076743</td>\n",
       "      <td>-0.265699</td>\n",
       "      <td>0.085532</td>\n",
       "      <td>-0.036980</td>\n",
       "      <td>-0.200666</td>\n",
       "      <td>0.055463</td>\n",
       "      <td>-0.041385</td>\n",
       "      <td>-0.305858</td>\n",
       "      <td>0.019506</td>\n",
       "      <td>0.038485</td>\n",
       "      <td>0.444319</td>\n",
       "      <td>1.000000</td>\n",
       "    </tr>\n",
       "  </tbody>\n",
       "</table>\n",
       "</div>"
      ],
      "text/plain": [
       "                      fixed acidity  volatile acidity  citric acid  \\\n",
       "fixed acidity              1.000000          0.219008     0.324436   \n",
       "volatile acidity           0.219008          1.000000    -0.377981   \n",
       "citric acid                0.324436         -0.377981     1.000000   \n",
       "residual sugar            -0.111981         -0.196011     0.142451   \n",
       "chlorides                  0.298195          0.377124     0.038998   \n",
       "free sulfur dioxide       -0.282735         -0.352557     0.133126   \n",
       "total sulfur dioxide      -0.329054         -0.414476     0.195242   \n",
       "density                    0.458910          0.271296     0.096154   \n",
       "pH                        -0.252700          0.261454    -0.329808   \n",
       "sulphates                  0.299568          0.225984     0.056197   \n",
       "alcohol                   -0.095452         -0.037640    -0.010493   \n",
       "quality                   -0.076743         -0.265699     0.085532   \n",
       "\n",
       "                      residual sugar  chlorides  free sulfur dioxide  \\\n",
       "fixed acidity              -0.111981   0.298195            -0.282735   \n",
       "volatile acidity           -0.196011   0.377124            -0.352557   \n",
       "citric acid                 0.142451   0.038998             0.133126   \n",
       "residual sugar              1.000000  -0.128940             0.402871   \n",
       "chlorides                  -0.128940   1.000000            -0.195045   \n",
       "free sulfur dioxide         0.402871  -0.195045             1.000000   \n",
       "total sulfur dioxide        0.495482  -0.279630             0.720934   \n",
       "density                     0.552517   0.362615             0.025717   \n",
       "pH                         -0.267320   0.044708            -0.145854   \n",
       "sulphates                  -0.185927   0.395593            -0.188457   \n",
       "alcohol                    -0.359415  -0.256916            -0.179838   \n",
       "quality                    -0.036980  -0.200666             0.055463   \n",
       "\n",
       "                      total sulfur dioxide   density        pH  sulphates  \\\n",
       "fixed acidity                    -0.329054  0.458910 -0.252700   0.299568   \n",
       "volatile acidity                 -0.414476  0.271296  0.261454   0.225984   \n",
       "citric acid                       0.195242  0.096154 -0.329808   0.056197   \n",
       "residual sugar                    0.495482  0.552517 -0.267320  -0.185927   \n",
       "chlorides                        -0.279630  0.362615  0.044708   0.395593   \n",
       "free sulfur dioxide               0.720934  0.025717 -0.145854  -0.188457   \n",
       "total sulfur dioxide              1.000000  0.032395 -0.238413  -0.275727   \n",
       "density                           0.032395  1.000000  0.011686   0.259478   \n",
       "pH                               -0.238413  0.011686  1.000000   0.192123   \n",
       "sulphates                        -0.275727  0.259478  0.192123   1.000000   \n",
       "alcohol                          -0.265740 -0.686745  0.121248  -0.003029   \n",
       "quality                          -0.041385 -0.305858  0.019506   0.038485   \n",
       "\n",
       "                       alcohol   quality  \n",
       "fixed acidity        -0.095452 -0.076743  \n",
       "volatile acidity     -0.037640 -0.265699  \n",
       "citric acid          -0.010493  0.085532  \n",
       "residual sugar       -0.359415 -0.036980  \n",
       "chlorides            -0.256916 -0.200666  \n",
       "free sulfur dioxide  -0.179838  0.055463  \n",
       "total sulfur dioxide -0.265740 -0.041385  \n",
       "density              -0.686745 -0.305858  \n",
       "pH                    0.121248  0.019506  \n",
       "sulphates            -0.003029  0.038485  \n",
       "alcohol               1.000000  0.444319  \n",
       "quality               0.444319  1.000000  "
      ]
     },
     "execution_count": 44,
     "metadata": {},
     "output_type": "execute_result"
    }
   ],
   "source": [
    "coormat = all_wines.corr()\n",
    "coormat"
   ]
  },
  {
   "cell_type": "markdown",
   "id": "d1b752b3",
   "metadata": {},
   "source": [
    "Above is shown a correlation matrix.\n",
    "\n",
    "Below is a heatmap of the same numbers\n"
   ]
  },
  {
   "cell_type": "code",
   "execution_count": 45,
   "id": "290bb653",
   "metadata": {},
   "outputs": [
    {
     "data": {
      "image/png": "[encoded data removed]",
      "text/plain": [
       "<Figure size 1080x1080 with 2 Axes>"
      ]
     },
     "metadata": {
      "needs_background": "light"
     },
     "output_type": "display_data"
    }
   ],
   "source": [
    "fig, ax = plt.subplots(figsize=(15, 15))\n",
    "\n",
    "sns.heatmap(coormat, annot=True, linewidths=.1)\n",
    "plt.show()"
   ]
  },
  {
   "cell_type": "markdown",
   "id": "4fad3a33",
   "metadata": {},
   "source": [
    "Each square shows the correlation between the variables on each axis. Correlation ranges from -1 to +1. \n",
    "\n",
    "Values closer to zero means there is no linear trend between the two variables. The close to 1 the correlation is the more positively correlated they are; that is as one increases so does the other and the closer to 1 the stronger this relationship is. \n",
    "\n",
    "A correlation closer to -1 is similar, but instead of both increasing one variable will decrease as the other increases. The diagonals are all 1/white because those squares are correlating each variable to itself (so it's a perfect correlation). \n",
    "\n",
    "For the rest the larger the number and lighter the color the higher the correlation between the two variables. The plot is also symmetrical about the diagonal since the same two variables are being paired together in those squares.\n",
    "\n",
    "\n",
    "So in this heatmap, we can see that alcohol has a big effect on the quality."
   ]
  },
  {
   "cell_type": "markdown",
   "id": "0177cbe9",
   "metadata": {},
   "source": [
    "### Is there a difference if we take the wine files individually?"
   ]
  },
  {
   "cell_type": "markdown",
   "id": "dfd9ec01",
   "metadata": {},
   "source": [
    "Red wine correlitation"
   ]
  },
  {
   "cell_type": "code",
   "execution_count": 46,
   "id": "14ff3082",
   "metadata": {},
   "outputs": [],
   "source": [
    "red_wine_corr = red_wine.corr()"
   ]
  },
  {
   "cell_type": "code",
   "execution_count": 47,
   "id": "99319a37",
   "metadata": {},
   "outputs": [
    {
     "data": {
      "image/png": "[encoded data removed]",
      "text/plain": [
       "<Figure size 1080x1080 with 2 Axes>"
      ]
     },
     "metadata": {
      "needs_background": "light"
     },
     "output_type": "display_data"
    }
   ],
   "source": [
    "fig, ax = plt.subplots(figsize=(15, 15))\n",
    "sns.heatmap(red_wine_corr, annot=True, linewidths=.1)\n",
    "\n",
    "plt.show()"
   ]
  },
  {
   "cell_type": "markdown",
   "id": "94e84e9e",
   "metadata": {},
   "source": [
    "Still the alcohol that has the biggest impact on quality"
   ]
  },
  {
   "cell_type": "markdown",
   "id": "99b00971",
   "metadata": {},
   "source": [
    "We now check the white wine"
   ]
  },
  {
   "cell_type": "code",
   "execution_count": 48,
   "id": "3d154dea",
   "metadata": {},
   "outputs": [],
   "source": [
    "w_w_coor = white_wine.corr()"
   ]
  },
  {
   "cell_type": "code",
   "execution_count": 49,
   "id": "74e93a0d",
   "metadata": {},
   "outputs": [
    {
     "data": {
      "text/plain": [
       "<function matplotlib.pyplot.show(close=None, block=None)>"
      ]
     },
     "execution_count": 49,
     "metadata": {},
     "output_type": "execute_result"
    },
    {
     "data": {
      "image/png": "[encoded data removed]",
      "text/plain": [
       "<Figure size 1080x1080 with 2 Axes>"
      ]
     },
     "metadata": {
      "needs_background": "light"
     },
     "output_type": "display_data"
    }
   ],
   "source": [
    "fig, ax = plt.subplots(figsize=(15, 15))\n",
    "sns.heatmap(w_w_coor, annot=True, linewidths=.1)\n",
    "plt.show"
   ]
  },
  {
   "cell_type": "markdown",
   "id": "2e56025e",
   "metadata": {},
   "source": [
    "Once again the alcohol impacts the quality of the wine the most."
   ]
  },
  {
   "cell_type": "markdown",
   "id": "e584ba15",
   "metadata": {},
   "source": [
    "# Prepare the data for further analysis"
   ]
  },
  {
   "cell_type": "markdown",
   "id": "af71069d",
   "metadata": {},
   "source": [
    "### 7. Search the data for allocating\n",
    "\n",
    "    a. missing values\n",
    "\n",
    "    b. cells with a value of ‘0’ (zero)\n",
    "    \n",
    "Replace these values with the average value of their column."
   ]
  },
  {
   "cell_type": "markdown",
   "id": "0cd58334",
   "metadata": {},
   "source": [
    "#### Missing values"
   ]
  },
  {
   "cell_type": "code",
   "execution_count": 50,
   "id": "6dc9862c",
   "metadata": {},
   "outputs": [
    {
     "data": {
      "text/plain": [
       "fixed acidity           0\n",
       "volatile acidity        0\n",
       "citric acid             0\n",
       "residual sugar          0\n",
       "chlorides               0\n",
       "free sulfur dioxide     0\n",
       "total sulfur dioxide    0\n",
       "density                 0\n",
       "pH                      0\n",
       "sulphates               0\n",
       "alcohol                 0\n",
       "quality                 0\n",
       "type                    0\n",
       "dtype: int64"
      ]
     },
     "execution_count": 50,
     "metadata": {},
     "output_type": "execute_result"
    }
   ],
   "source": [
    "# Count the missing values\n",
    "\n",
    "all_wines.isnull().sum()"
   ]
  },
  {
   "cell_type": "markdown",
   "id": "6f2abdb8",
   "metadata": {},
   "source": [
    "No missing values in the file, lets check the indinvdual files too."
   ]
  },
  {
   "cell_type": "code",
   "execution_count": 51,
   "id": "f6e2d36f",
   "metadata": {},
   "outputs": [
    {
     "data": {
      "text/plain": [
       "fixed acidity           0\n",
       "volatile acidity        0\n",
       "citric acid             0\n",
       "residual sugar          0\n",
       "chlorides               0\n",
       "free sulfur dioxide     0\n",
       "total sulfur dioxide    0\n",
       "density                 0\n",
       "pH                      0\n",
       "sulphates               0\n",
       "alcohol                 0\n",
       "quality                 0\n",
       "dtype: int64"
      ]
     },
     "execution_count": 51,
     "metadata": {},
     "output_type": "execute_result"
    }
   ],
   "source": [
    "red_wine_corr.isnull().sum()"
   ]
  },
  {
   "cell_type": "code",
   "execution_count": 52,
   "id": "fa291d37",
   "metadata": {},
   "outputs": [
    {
     "data": {
      "text/plain": [
       "fixed acidity           0\n",
       "volatile acidity        0\n",
       "citric acid             0\n",
       "residual sugar          0\n",
       "chlorides               0\n",
       "free sulfur dioxide     0\n",
       "total sulfur dioxide    0\n",
       "density                 0\n",
       "pH                      0\n",
       "sulphates               0\n",
       "alcohol                 0\n",
       "quality                 0\n",
       "dtype: int64"
      ]
     },
     "execution_count": 52,
     "metadata": {},
     "output_type": "execute_result"
    }
   ],
   "source": [
    "w_w_coor.isnull().sum()"
   ]
  },
  {
   "cell_type": "markdown",
   "id": "ad683067",
   "metadata": {},
   "source": [
    "Again, no missing data in these files."
   ]
  },
  {
   "cell_type": "markdown",
   "id": "18c3e7ac",
   "metadata": {},
   "source": [
    "#### cells with a value of ‘0’ (zero)"
   ]
  },
  {
   "cell_type": "code",
   "execution_count": 56,
   "id": "326d1431",
   "metadata": {},
   "outputs": [
    {
     "data": {
      "text/plain": [
       "fixed acidity             0\n",
       "volatile acidity          0\n",
       "citric acid             151\n",
       "residual sugar            0\n",
       "chlorides                 0\n",
       "free sulfur dioxide       0\n",
       "total sulfur dioxide      0\n",
       "density                   0\n",
       "pH                        0\n",
       "sulphates                 0\n",
       "alcohol                   0\n",
       "quality                   0\n",
       "type                      0\n",
       "dtype: int64"
      ]
     },
     "execution_count": 56,
     "metadata": {},
     "output_type": "execute_result"
    }
   ],
   "source": [
    "(all_wines == 0).sum(axis=0)"
   ]
  },
  {
   "cell_type": "markdown",
   "id": "5b52e4c2",
   "metadata": {},
   "source": [
    "Zero (0) values is occupying the 'citric acid' columns. \n",
    "We are going to replace these values with the mean og all 'citric acid'.\n",
    "\n",
    "Finding the mean()"
   ]
  },
  {
   "cell_type": "code",
   "execution_count": 57,
   "id": "f63a0966",
   "metadata": {},
   "outputs": [
    {
     "data": {
      "text/plain": [
       "0.3186332153301454"
      ]
     },
     "execution_count": 57,
     "metadata": {},
     "output_type": "execute_result"
    }
   ],
   "source": [
    "mean_ca = all_wines['citric acid'].mean()\n",
    "mean_ca"
   ]
  },
  {
   "cell_type": "code",
   "execution_count": 58,
   "id": "c054d81f",
   "metadata": {},
   "outputs": [],
   "source": [
    "# replacing zero (0) values\n",
    "\n",
    "all_wines['citric acid'] = all_wines['citric acid'].replace([0.0], mean_ca)"
   ]
  },
  {
   "cell_type": "code",
   "execution_count": 59,
   "id": "92572bec",
   "metadata": {},
   "outputs": [
    {
     "data": {
      "text/plain": [
       "fixed acidity           0\n",
       "volatile acidity        0\n",
       "citric acid             0\n",
       "residual sugar          0\n",
       "chlorides               0\n",
       "free sulfur dioxide     0\n",
       "total sulfur dioxide    0\n",
       "density                 0\n",
       "pH                      0\n",
       "sulphates               0\n",
       "alcohol                 0\n",
       "quality                 0\n",
       "type                    0\n",
       "dtype: int64"
      ]
     },
     "execution_count": 59,
     "metadata": {},
     "output_type": "execute_result"
    }
   ],
   "source": [
    "(all_wines == 0).sum(axis=0)"
   ]
  },
  {
   "cell_type": "code",
   "execution_count": 60,
   "id": "803f7bc8",
   "metadata": {},
   "outputs": [
    {
     "data": {
      "text/plain": [
       "0.32603872795364197"
      ]
     },
     "execution_count": 60,
     "metadata": {},
     "output_type": "execute_result"
    }
   ],
   "source": [
    "mean_ca = all_wines['citric acid'].mean()\n",
    "mean_ca"
   ]
  },
  {
   "cell_type": "markdown",
   "id": "bd845f87",
   "metadata": {},
   "source": [
    "### 8. Explore the feature ‘residual sugar’. Is there any outlier (a value much different from the rest)? On which row is it found? Remove that row."
   ]
  },
  {
   "cell_type": "code",
   "execution_count": 61,
   "id": "42875458",
   "metadata": {},
   "outputs": [
    {
     "name": "stderr",
     "output_type": "stream",
     "text": [
      "C:\\tools\\Anaconda3\\lib\\site-packages\\seaborn\\_decorators.py:36: FutureWarning: Pass the following variable as a keyword arg: x. From version 0.12, the only valid positional argument will be `data`, and passing other arguments without an explicit keyword will result in an error or misinterpretation.\n",
      "  warnings.warn(\n"
     ]
    },
    {
     "data": {
      "text/plain": [
       "<AxesSubplot:xlabel='residual sugar'>"
      ]
     },
     "execution_count": 61,
     "metadata": {},
     "output_type": "execute_result"
    },
    {
     "data": {
      "image/png": "[encoded data removed]",
      "text/plain": [
       "<Figure size 432x288 with 1 Axes>"
      ]
     },
     "metadata": {
      "needs_background": "light"
     },
     "output_type": "display_data"
    }
   ],
   "source": [
    "#Looking for outliers\n",
    "\n",
    "sns.boxplot(all_wines['residual sugar'])"
   ]
  },
  {
   "cell_type": "markdown",
   "id": "0c4f6756",
   "metadata": {},
   "source": [
    "The above diagram we can see one value being off by a whole lot."
   ]
  },
  {
   "cell_type": "code",
   "execution_count": 62,
   "id": "717d3eb7",
   "metadata": {},
   "outputs": [
    {
     "data": {
      "text/plain": [
       "(array([4380], dtype=int64),)"
      ]
     },
     "execution_count": 62,
     "metadata": {},
     "output_type": "execute_result"
    }
   ],
   "source": [
    "## position the outlier\n",
    "\n",
    "np.where(all_wines['residual sugar']>40)"
   ]
  },
  {
   "cell_type": "code",
   "execution_count": 63,
   "id": "2f75adac",
   "metadata": {},
   "outputs": [],
   "source": [
    "all_wines.drop(4380, inplace=True)"
   ]
  },
  {
   "cell_type": "code",
   "execution_count": 64,
   "id": "2fdf1b4c",
   "metadata": {},
   "outputs": [
    {
     "name": "stderr",
     "output_type": "stream",
     "text": [
      "C:\\tools\\Anaconda3\\lib\\site-packages\\seaborn\\_decorators.py:36: FutureWarning: Pass the following variable as a keyword arg: x. From version 0.12, the only valid positional argument will be `data`, and passing other arguments without an explicit keyword will result in an error or misinterpretation.\n",
      "  warnings.warn(\n"
     ]
    },
    {
     "data": {
      "text/plain": [
       "<AxesSubplot:xlabel='residual sugar'>"
      ]
     },
     "execution_count": 64,
     "metadata": {},
     "output_type": "execute_result"
    },
    {
     "data": {
      "image/png": "[encoded data removed]",
      "text/plain": [
       "<Figure size 432x288 with 1 Axes>"
      ]
     },
     "metadata": {
      "needs_background": "light"
     },
     "output_type": "display_data"
    }
   ],
   "source": [
    "sns.boxplot(all_wines['residual sugar'])"
   ]
  },
  {
   "cell_type": "code",
   "execution_count": 66,
   "id": "798ec01c",
   "metadata": {},
   "outputs": [
    {
     "data": {
      "text/plain": [
       "(array([3252, 3262, 5217, 5221], dtype=int64),)"
      ]
     },
     "execution_count": 66,
     "metadata": {},
     "output_type": "execute_result"
    }
   ],
   "source": [
    "## position the new outliers\n",
    "\n",
    "np.where(all_wines['residual sugar']>25)"
   ]
  },
  {
   "cell_type": "code",
   "execution_count": 71,
   "id": "60d278e3",
   "metadata": {},
   "outputs": [],
   "source": [
    "all_wines.drop(all_wines.index[[3252, 3262, 5217, 5221]], inplace=True)"
   ]
  },
  {
   "cell_type": "code",
   "execution_count": 72,
   "id": "437bc07e",
   "metadata": {},
   "outputs": [
    {
     "name": "stderr",
     "output_type": "stream",
     "text": [
      "C:\\tools\\Anaconda3\\lib\\site-packages\\seaborn\\_decorators.py:36: FutureWarning: Pass the following variable as a keyword arg: x. From version 0.12, the only valid positional argument will be `data`, and passing other arguments without an explicit keyword will result in an error or misinterpretation.\n",
      "  warnings.warn(\n"
     ]
    },
    {
     "data": {
      "text/plain": [
       "<AxesSubplot:xlabel='residual sugar'>"
      ]
     },
     "execution_count": 72,
     "metadata": {},
     "output_type": "execute_result"
    },
    {
     "data": {
      "image/png": "[encoded data removed]",
      "text/plain": [
       "<Figure size 432x288 with 1 Axes>"
      ]
     },
     "metadata": {
      "needs_background": "light"
     },
     "output_type": "display_data"
    }
   ],
   "source": [
    "sns.boxplot(all_wines['residual sugar'])"
   ]
  },
  {
   "cell_type": "markdown",
   "id": "5427f06b",
   "metadata": {},
   "source": [
    "#### 9. Identify the attribute with the lowest correlation to the wine quality and remove it."
   ]
  },
  {
   "cell_type": "code",
   "execution_count": 78,
   "id": "b527aa7f",
   "metadata": {},
   "outputs": [
    {
     "data": {
      "text/plain": [
       "<function matplotlib.pyplot.show(close=None, block=None)>"
      ]
     },
     "execution_count": 78,
     "metadata": {},
     "output_type": "execute_result"
    },
    {
     "data": {
      "image/png": "[encoded data removed]",
      "text/plain": [
       "<Figure size 1080x1080 with 2 Axes>"
      ]
     },
     "metadata": {
      "needs_background": "light"
     },
     "output_type": "display_data"
    }
   ],
   "source": [
    "fig, ax = plt.subplots(figsize=(15, 15))\n",
    "sns.heatmap(coormat, annot=True, linewidths=.1)\n",
    "plt.show"
   ]
  },
  {
   "cell_type": "markdown",
   "id": "c4ee05ec",
   "metadata": {},
   "source": [
    "As can be seen on the heat map, the density has the lowest impact on wine quality"
   ]
  },
  {
   "cell_type": "code",
   "execution_count": 80,
   "id": "708cf846",
   "metadata": {},
   "outputs": [],
   "source": [
    "del all_wines['density']"
   ]
  },
  {
   "cell_type": "code",
   "execution_count": 82,
   "id": "53e2a9c6",
   "metadata": {},
   "outputs": [
    {
     "data": {
      "text/plain": [
       "<function matplotlib.pyplot.show(close=None, block=None)>"
      ]
     },
     "execution_count": 82,
     "metadata": {},
     "output_type": "execute_result"
    },
    {
     "data": {
      "image/png": "[encoded data removed]",
      "text/plain": [
       "<Figure size 1080x1080 with 2 Axes>"
      ]
     },
     "metadata": {
      "needs_background": "light"
     },
     "output_type": "display_data"
    }
   ],
   "source": []
  },
  {
   "cell_type": "code",
   "execution_count": 83,
   "id": "43d78acd",
   "metadata": {},
   "outputs": [
    {
     "data": {
      "text/html": [
       "<div>\n",
       "<style scoped>\n",
       "    .dataframe tbody tr th:only-of-type {\n",
       "        vertical-align: middle;\n",
       "    }\n",
       "\n",
       "    .dataframe tbody tr th {\n",
       "        vertical-align: top;\n",
       "    }\n",
       "\n",
       "    .dataframe thead th {\n",
       "        text-align: right;\n",
       "    }\n",
       "</style>\n",
       "<table border=\"1\" class=\"dataframe\">\n",
       "  <thead>\n",
       "    <tr style=\"text-align: right;\">\n",
       "      <th></th>\n",
       "      <th>fixed acidity</th>\n",
       "      <th>volatile acidity</th>\n",
       "      <th>citric acid</th>\n",
       "      <th>residual sugar</th>\n",
       "      <th>chlorides</th>\n",
       "      <th>free sulfur dioxide</th>\n",
       "      <th>total sulfur dioxide</th>\n",
       "      <th>pH</th>\n",
       "      <th>sulphates</th>\n",
       "      <th>alcohol</th>\n",
       "      <th>quality</th>\n",
       "      <th>type</th>\n",
       "    </tr>\n",
       "  </thead>\n",
       "  <tbody>\n",
       "    <tr>\n",
       "      <th>0</th>\n",
       "      <td>7.4</td>\n",
       "      <td>0.70</td>\n",
       "      <td>0.318633</td>\n",
       "      <td>1.9</td>\n",
       "      <td>0.076</td>\n",
       "      <td>11.0</td>\n",
       "      <td>34.0</td>\n",
       "      <td>3.51</td>\n",
       "      <td>0.56</td>\n",
       "      <td>9.4</td>\n",
       "      <td>5</td>\n",
       "      <td>red</td>\n",
       "    </tr>\n",
       "    <tr>\n",
       "      <th>1</th>\n",
       "      <td>7.8</td>\n",
       "      <td>0.88</td>\n",
       "      <td>0.318633</td>\n",
       "      <td>2.6</td>\n",
       "      <td>0.098</td>\n",
       "      <td>25.0</td>\n",
       "      <td>67.0</td>\n",
       "      <td>3.20</td>\n",
       "      <td>0.68</td>\n",
       "      <td>9.8</td>\n",
       "      <td>5</td>\n",
       "      <td>red</td>\n",
       "    </tr>\n",
       "    <tr>\n",
       "      <th>2</th>\n",
       "      <td>7.8</td>\n",
       "      <td>0.76</td>\n",
       "      <td>0.040000</td>\n",
       "      <td>2.3</td>\n",
       "      <td>0.092</td>\n",
       "      <td>15.0</td>\n",
       "      <td>54.0</td>\n",
       "      <td>3.26</td>\n",
       "      <td>0.65</td>\n",
       "      <td>9.8</td>\n",
       "      <td>5</td>\n",
       "      <td>red</td>\n",
       "    </tr>\n",
       "    <tr>\n",
       "      <th>3</th>\n",
       "      <td>11.2</td>\n",
       "      <td>0.28</td>\n",
       "      <td>0.560000</td>\n",
       "      <td>1.9</td>\n",
       "      <td>0.075</td>\n",
       "      <td>17.0</td>\n",
       "      <td>60.0</td>\n",
       "      <td>3.16</td>\n",
       "      <td>0.58</td>\n",
       "      <td>9.8</td>\n",
       "      <td>6</td>\n",
       "      <td>red</td>\n",
       "    </tr>\n",
       "    <tr>\n",
       "      <th>4</th>\n",
       "      <td>7.4</td>\n",
       "      <td>0.70</td>\n",
       "      <td>0.318633</td>\n",
       "      <td>1.9</td>\n",
       "      <td>0.076</td>\n",
       "      <td>11.0</td>\n",
       "      <td>34.0</td>\n",
       "      <td>3.51</td>\n",
       "      <td>0.56</td>\n",
       "      <td>9.4</td>\n",
       "      <td>5</td>\n",
       "      <td>red</td>\n",
       "    </tr>\n",
       "  </tbody>\n",
       "</table>\n",
       "</div>"
      ],
      "text/plain": [
       "   fixed acidity  volatile acidity  citric acid  residual sugar  chlorides  \\\n",
       "0            7.4              0.70     0.318633             1.9      0.076   \n",
       "1            7.8              0.88     0.318633             2.6      0.098   \n",
       "2            7.8              0.76     0.040000             2.3      0.092   \n",
       "3           11.2              0.28     0.560000             1.9      0.075   \n",
       "4            7.4              0.70     0.318633             1.9      0.076   \n",
       "\n",
       "   free sulfur dioxide  total sulfur dioxide    pH  sulphates  alcohol  \\\n",
       "0                 11.0                  34.0  3.51       0.56      9.4   \n",
       "1                 25.0                  67.0  3.20       0.68      9.8   \n",
       "2                 15.0                  54.0  3.26       0.65      9.8   \n",
       "3                 17.0                  60.0  3.16       0.58      9.8   \n",
       "4                 11.0                  34.0  3.51       0.56      9.4   \n",
       "\n",
       "   quality type  \n",
       "0        5  red  \n",
       "1        5  red  \n",
       "2        5  red  \n",
       "3        6  red  \n",
       "4        5  red  "
      ]
     },
     "execution_count": 83,
     "metadata": {},
     "output_type": "execute_result"
    }
   ],
   "source": [
    "all_wines.head()"
   ]
  },
  {
   "cell_type": "markdown",
   "id": "92043a3d",
   "metadata": {},
   "source": [
    "### 10.  transform categorical data into numeric and print out the start and the end of the preprocessed data frame."
   ]
  },
  {
   "cell_type": "code",
   "execution_count": 84,
   "id": "c3bf2437",
   "metadata": {},
   "outputs": [],
   "source": [
    "all_wines['type'].replace(['red', 'white'], [0,1], inplace=True)"
   ]
  },
  {
   "cell_type": "code",
   "execution_count": 85,
   "id": "6fca87ba",
   "metadata": {},
   "outputs": [
    {
     "data": {
      "text/html": [
       "<div>\n",
       "<style scoped>\n",
       "    .dataframe tbody tr th:only-of-type {\n",
       "        vertical-align: middle;\n",
       "    }\n",
       "\n",
       "    .dataframe tbody tr th {\n",
       "        vertical-align: top;\n",
       "    }\n",
       "\n",
       "    .dataframe thead th {\n",
       "        text-align: right;\n",
       "    }\n",
       "</style>\n",
       "<table border=\"1\" class=\"dataframe\">\n",
       "  <thead>\n",
       "    <tr style=\"text-align: right;\">\n",
       "      <th></th>\n",
       "      <th>fixed acidity</th>\n",
       "      <th>volatile acidity</th>\n",
       "      <th>citric acid</th>\n",
       "      <th>residual sugar</th>\n",
       "      <th>chlorides</th>\n",
       "      <th>free sulfur dioxide</th>\n",
       "      <th>total sulfur dioxide</th>\n",
       "      <th>pH</th>\n",
       "      <th>sulphates</th>\n",
       "      <th>alcohol</th>\n",
       "      <th>quality</th>\n",
       "      <th>type</th>\n",
       "    </tr>\n",
       "  </thead>\n",
       "  <tbody>\n",
       "    <tr>\n",
       "      <th>0</th>\n",
       "      <td>7.4</td>\n",
       "      <td>0.70</td>\n",
       "      <td>0.318633</td>\n",
       "      <td>1.9</td>\n",
       "      <td>0.076</td>\n",
       "      <td>11.0</td>\n",
       "      <td>34.0</td>\n",
       "      <td>3.51</td>\n",
       "      <td>0.56</td>\n",
       "      <td>9.4</td>\n",
       "      <td>5</td>\n",
       "      <td>0</td>\n",
       "    </tr>\n",
       "    <tr>\n",
       "      <th>1</th>\n",
       "      <td>7.8</td>\n",
       "      <td>0.88</td>\n",
       "      <td>0.318633</td>\n",
       "      <td>2.6</td>\n",
       "      <td>0.098</td>\n",
       "      <td>25.0</td>\n",
       "      <td>67.0</td>\n",
       "      <td>3.20</td>\n",
       "      <td>0.68</td>\n",
       "      <td>9.8</td>\n",
       "      <td>5</td>\n",
       "      <td>0</td>\n",
       "    </tr>\n",
       "    <tr>\n",
       "      <th>2</th>\n",
       "      <td>7.8</td>\n",
       "      <td>0.76</td>\n",
       "      <td>0.040000</td>\n",
       "      <td>2.3</td>\n",
       "      <td>0.092</td>\n",
       "      <td>15.0</td>\n",
       "      <td>54.0</td>\n",
       "      <td>3.26</td>\n",
       "      <td>0.65</td>\n",
       "      <td>9.8</td>\n",
       "      <td>5</td>\n",
       "      <td>0</td>\n",
       "    </tr>\n",
       "    <tr>\n",
       "      <th>3</th>\n",
       "      <td>11.2</td>\n",
       "      <td>0.28</td>\n",
       "      <td>0.560000</td>\n",
       "      <td>1.9</td>\n",
       "      <td>0.075</td>\n",
       "      <td>17.0</td>\n",
       "      <td>60.0</td>\n",
       "      <td>3.16</td>\n",
       "      <td>0.58</td>\n",
       "      <td>9.8</td>\n",
       "      <td>6</td>\n",
       "      <td>0</td>\n",
       "    </tr>\n",
       "    <tr>\n",
       "      <th>4</th>\n",
       "      <td>7.4</td>\n",
       "      <td>0.70</td>\n",
       "      <td>0.318633</td>\n",
       "      <td>1.9</td>\n",
       "      <td>0.076</td>\n",
       "      <td>11.0</td>\n",
       "      <td>34.0</td>\n",
       "      <td>3.51</td>\n",
       "      <td>0.56</td>\n",
       "      <td>9.4</td>\n",
       "      <td>5</td>\n",
       "      <td>0</td>\n",
       "    </tr>\n",
       "  </tbody>\n",
       "</table>\n",
       "</div>"
      ],
      "text/plain": [
       "   fixed acidity  volatile acidity  citric acid  residual sugar  chlorides  \\\n",
       "0            7.4              0.70     0.318633             1.9      0.076   \n",
       "1            7.8              0.88     0.318633             2.6      0.098   \n",
       "2            7.8              0.76     0.040000             2.3      0.092   \n",
       "3           11.2              0.28     0.560000             1.9      0.075   \n",
       "4            7.4              0.70     0.318633             1.9      0.076   \n",
       "\n",
       "   free sulfur dioxide  total sulfur dioxide    pH  sulphates  alcohol  \\\n",
       "0                 11.0                  34.0  3.51       0.56      9.4   \n",
       "1                 25.0                  67.0  3.20       0.68      9.8   \n",
       "2                 15.0                  54.0  3.26       0.65      9.8   \n",
       "3                 17.0                  60.0  3.16       0.58      9.8   \n",
       "4                 11.0                  34.0  3.51       0.56      9.4   \n",
       "\n",
       "   quality  type  \n",
       "0        5     0  \n",
       "1        5     0  \n",
       "2        5     0  \n",
       "3        6     0  \n",
       "4        5     0  "
      ]
     },
     "execution_count": 85,
     "metadata": {},
     "output_type": "execute_result"
    }
   ],
   "source": [
    "all_wines.head()"
   ]
  },
  {
   "cell_type": "code",
   "execution_count": 86,
   "id": "43dbaae2",
   "metadata": {},
   "outputs": [
    {
     "data": {
      "text/html": [
       "<div>\n",
       "<style scoped>\n",
       "    .dataframe tbody tr th:only-of-type {\n",
       "        vertical-align: middle;\n",
       "    }\n",
       "\n",
       "    .dataframe tbody tr th {\n",
       "        vertical-align: top;\n",
       "    }\n",
       "\n",
       "    .dataframe thead th {\n",
       "        text-align: right;\n",
       "    }\n",
       "</style>\n",
       "<table border=\"1\" class=\"dataframe\">\n",
       "  <thead>\n",
       "    <tr style=\"text-align: right;\">\n",
       "      <th></th>\n",
       "      <th>fixed acidity</th>\n",
       "      <th>volatile acidity</th>\n",
       "      <th>citric acid</th>\n",
       "      <th>residual sugar</th>\n",
       "      <th>chlorides</th>\n",
       "      <th>free sulfur dioxide</th>\n",
       "      <th>total sulfur dioxide</th>\n",
       "      <th>pH</th>\n",
       "      <th>sulphates</th>\n",
       "      <th>alcohol</th>\n",
       "      <th>quality</th>\n",
       "      <th>type</th>\n",
       "    </tr>\n",
       "  </thead>\n",
       "  <tbody>\n",
       "    <tr>\n",
       "      <th>6492</th>\n",
       "      <td>6.2</td>\n",
       "      <td>0.21</td>\n",
       "      <td>0.29</td>\n",
       "      <td>1.6</td>\n",
       "      <td>0.039</td>\n",
       "      <td>24.0</td>\n",
       "      <td>92.0</td>\n",
       "      <td>3.27</td>\n",
       "      <td>0.50</td>\n",
       "      <td>11.2</td>\n",
       "      <td>6</td>\n",
       "      <td>1</td>\n",
       "    </tr>\n",
       "    <tr>\n",
       "      <th>6493</th>\n",
       "      <td>6.6</td>\n",
       "      <td>0.32</td>\n",
       "      <td>0.36</td>\n",
       "      <td>8.0</td>\n",
       "      <td>0.047</td>\n",
       "      <td>57.0</td>\n",
       "      <td>168.0</td>\n",
       "      <td>3.15</td>\n",
       "      <td>0.46</td>\n",
       "      <td>9.6</td>\n",
       "      <td>5</td>\n",
       "      <td>1</td>\n",
       "    </tr>\n",
       "    <tr>\n",
       "      <th>6494</th>\n",
       "      <td>6.5</td>\n",
       "      <td>0.24</td>\n",
       "      <td>0.19</td>\n",
       "      <td>1.2</td>\n",
       "      <td>0.041</td>\n",
       "      <td>30.0</td>\n",
       "      <td>111.0</td>\n",
       "      <td>2.99</td>\n",
       "      <td>0.46</td>\n",
       "      <td>9.4</td>\n",
       "      <td>6</td>\n",
       "      <td>1</td>\n",
       "    </tr>\n",
       "    <tr>\n",
       "      <th>6495</th>\n",
       "      <td>5.5</td>\n",
       "      <td>0.29</td>\n",
       "      <td>0.30</td>\n",
       "      <td>1.1</td>\n",
       "      <td>0.022</td>\n",
       "      <td>20.0</td>\n",
       "      <td>110.0</td>\n",
       "      <td>3.34</td>\n",
       "      <td>0.38</td>\n",
       "      <td>12.8</td>\n",
       "      <td>7</td>\n",
       "      <td>1</td>\n",
       "    </tr>\n",
       "    <tr>\n",
       "      <th>6496</th>\n",
       "      <td>6.0</td>\n",
       "      <td>0.21</td>\n",
       "      <td>0.38</td>\n",
       "      <td>0.8</td>\n",
       "      <td>0.020</td>\n",
       "      <td>22.0</td>\n",
       "      <td>98.0</td>\n",
       "      <td>3.26</td>\n",
       "      <td>0.32</td>\n",
       "      <td>11.8</td>\n",
       "      <td>6</td>\n",
       "      <td>1</td>\n",
       "    </tr>\n",
       "  </tbody>\n",
       "</table>\n",
       "</div>"
      ],
      "text/plain": [
       "      fixed acidity  volatile acidity  citric acid  residual sugar  chlorides  \\\n",
       "6492            6.2              0.21         0.29             1.6      0.039   \n",
       "6493            6.6              0.32         0.36             8.0      0.047   \n",
       "6494            6.5              0.24         0.19             1.2      0.041   \n",
       "6495            5.5              0.29         0.30             1.1      0.022   \n",
       "6496            6.0              0.21         0.38             0.8      0.020   \n",
       "\n",
       "      free sulfur dioxide  total sulfur dioxide    pH  sulphates  alcohol  \\\n",
       "6492                 24.0                  92.0  3.27       0.50     11.2   \n",
       "6493                 57.0                 168.0  3.15       0.46      9.6   \n",
       "6494                 30.0                 111.0  2.99       0.46      9.4   \n",
       "6495                 20.0                 110.0  3.34       0.38     12.8   \n",
       "6496                 22.0                  98.0  3.26       0.32     11.8   \n",
       "\n",
       "      quality  type  \n",
       "6492        6     1  \n",
       "6493        5     1  \n",
       "6494        6     1  \n",
       "6495        7     1  \n",
       "6496        6     1  "
      ]
     },
     "execution_count": 86,
     "metadata": {},
     "output_type": "execute_result"
    }
   ],
   "source": [
    "all_wines.tail()"
   ]
  },
  {
   "cell_type": "code",
   "execution_count": null,
   "id": "ea7de244",
   "metadata": {},
   "outputs": [],
   "source": []
  }
 ],
 "metadata": {
  "kernelspec": {
   "display_name": "Python 3 (ipykernel)",
   "language": "python",
   "name": "python3"
  },
  "language_info": {
   "codemirror_mode": {
    "name": "ipython",
    "version": 3
   },
   "file_extension": ".py",
   "mimetype": "text/x-python",
   "name": "python",
   "nbconvert_exporter": "python",
   "pygments_lexer": "ipython3",
   "version": "3.10.2"
  }
 },
 "nbformat": 4,
 "nbformat_minor": 5
}
