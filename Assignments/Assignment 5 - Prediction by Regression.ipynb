{
 "cells": [
  {
   "cell_type": "markdown",
   "id": "9f9af861",
   "metadata": {},
   "source": [
    "# Assignment 5: Prediction by Regression\n",
    "\n",
    "Description\n",
    "\n",
    "In the file china_gdp.csv you will find historic data about the development of China's gross domestic product (GDP).\n",
    "\n",
    "Your task is to train a model that fits to the data and use the model for prediction of the GDP values of years 2010, 2020, and 2022.\n",
    "\n",
    "\n",
    "Please, submit a Python solution and elaborate on the following questions related to it:\n",
    "\n",
    "What type/s of regression have you applied?\n",
    "\n",
    "Which were the challenges?\n",
    "\n",
    "How accurate is your solution?\n",
    "\n",
    "What else could be done for improvement of the accuracy?\n",
    "\n",
    "\n",
    "This is a group project.\n",
    "\n",
    "The solution brings two more study points to your collection."
   ]
  },
  {
   "cell_type": "code",
   "execution_count": 1,
   "id": "29a34453",
   "metadata": {},
   "outputs": [],
   "source": [
    "import numpy as np\n",
    "import pandas as pd\n",
    "import matplotlib.pyplot as plt\n",
    "import seaborn as sns\n",
    "\n",
    "from sklearn.linear_model import LinearRegression\n",
    "from sklearn.preprocessing import PolynomialFeatures\n",
    "import sklearn.metrics as sm"
   ]
  },
  {
   "cell_type": "markdown",
   "id": "bcb27877",
   "metadata": {},
   "source": [
    "## Enter data"
   ]
  },
  {
   "cell_type": "code",
   "execution_count": 2,
   "id": "277fb514",
   "metadata": {},
   "outputs": [],
   "source": [
    "# Enter data\n",
    "df = pd.read_csv('./china_gdp.csv')"
   ]
  },
  {
   "cell_type": "code",
   "execution_count": 3,
   "id": "47fc329d",
   "metadata": {},
   "outputs": [
    {
     "data": {
      "text/html": [
       "<div>\n",
       "<style scoped>\n",
       "    .dataframe tbody tr th:only-of-type {\n",
       "        vertical-align: middle;\n",
       "    }\n",
       "\n",
       "    .dataframe tbody tr th {\n",
       "        vertical-align: top;\n",
       "    }\n",
       "\n",
       "    .dataframe thead th {\n",
       "        text-align: right;\n",
       "    }\n",
       "</style>\n",
       "<table border=\"1\" class=\"dataframe\">\n",
       "  <thead>\n",
       "    <tr style=\"text-align: right;\">\n",
       "      <th></th>\n",
       "      <th>Year</th>\n",
       "      <th>Value</th>\n",
       "    </tr>\n",
       "  </thead>\n",
       "  <tbody>\n",
       "    <tr>\n",
       "      <th>0</th>\n",
       "      <td>1960</td>\n",
       "      <td>5.918412e+10</td>\n",
       "    </tr>\n",
       "    <tr>\n",
       "      <th>1</th>\n",
       "      <td>1961</td>\n",
       "      <td>4.955705e+10</td>\n",
       "    </tr>\n",
       "    <tr>\n",
       "      <th>2</th>\n",
       "      <td>1962</td>\n",
       "      <td>4.668518e+10</td>\n",
       "    </tr>\n",
       "    <tr>\n",
       "      <th>3</th>\n",
       "      <td>1963</td>\n",
       "      <td>5.009730e+10</td>\n",
       "    </tr>\n",
       "    <tr>\n",
       "      <th>4</th>\n",
       "      <td>1964</td>\n",
       "      <td>5.906225e+10</td>\n",
       "    </tr>\n",
       "  </tbody>\n",
       "</table>\n",
       "</div>"
      ],
      "text/plain": [
       "   Year         Value\n",
       "0  1960  5.918412e+10\n",
       "1  1961  4.955705e+10\n",
       "2  1962  4.668518e+10\n",
       "3  1963  5.009730e+10\n",
       "4  1964  5.906225e+10"
      ]
     },
     "execution_count": 3,
     "metadata": {},
     "output_type": "execute_result"
    }
   ],
   "source": [
    "#display the first 5 rows\n",
    "df.head()"
   ]
  },
  {
   "cell_type": "code",
   "execution_count": 4,
   "id": "ac7dbc62",
   "metadata": {},
   "outputs": [
    {
     "data": {
      "text/plain": [
       "(55, 2)"
      ]
     },
     "execution_count": 4,
     "metadata": {},
     "output_type": "execute_result"
    }
   ],
   "source": [
    "# See the shape (number rows) and size (number of columns)\n",
    "df.shape"
   ]
  },
  {
   "cell_type": "markdown",
   "id": "deec4732",
   "metadata": {},
   "source": [
    "## Study the data"
   ]
  },
  {
   "cell_type": "code",
   "execution_count": 5,
   "id": "2bdc8777",
   "metadata": {},
   "outputs": [
    {
     "data": {
      "text/html": [
       "<div>\n",
       "<style scoped>\n",
       "    .dataframe tbody tr th:only-of-type {\n",
       "        vertical-align: middle;\n",
       "    }\n",
       "\n",
       "    .dataframe tbody tr th {\n",
       "        vertical-align: top;\n",
       "    }\n",
       "\n",
       "    .dataframe thead th {\n",
       "        text-align: right;\n",
       "    }\n",
       "</style>\n",
       "<table border=\"1\" class=\"dataframe\">\n",
       "  <thead>\n",
       "    <tr style=\"text-align: right;\">\n",
       "      <th></th>\n",
       "      <th>Year</th>\n",
       "      <th>Value</th>\n",
       "    </tr>\n",
       "  </thead>\n",
       "  <tbody>\n",
       "    <tr>\n",
       "      <th>count</th>\n",
       "      <td>55.00000</td>\n",
       "      <td>5.500000e+01</td>\n",
       "    </tr>\n",
       "    <tr>\n",
       "      <th>mean</th>\n",
       "      <td>1987.00000</td>\n",
       "      <td>1.437042e+12</td>\n",
       "    </tr>\n",
       "    <tr>\n",
       "      <th>std</th>\n",
       "      <td>16.02082</td>\n",
       "      <td>2.500085e+12</td>\n",
       "    </tr>\n",
       "    <tr>\n",
       "      <th>min</th>\n",
       "      <td>1960.00000</td>\n",
       "      <td>4.668518e+10</td>\n",
       "    </tr>\n",
       "    <tr>\n",
       "      <th>25%</th>\n",
       "      <td>1973.50000</td>\n",
       "      <td>1.395123e+11</td>\n",
       "    </tr>\n",
       "    <tr>\n",
       "      <th>50%</th>\n",
       "      <td>1987.00000</td>\n",
       "      <td>3.074796e+11</td>\n",
       "    </tr>\n",
       "    <tr>\n",
       "      <th>75%</th>\n",
       "      <td>2000.50000</td>\n",
       "      <td>1.268748e+12</td>\n",
       "    </tr>\n",
       "    <tr>\n",
       "      <th>max</th>\n",
       "      <td>2014.00000</td>\n",
       "      <td>1.035483e+13</td>\n",
       "    </tr>\n",
       "  </tbody>\n",
       "</table>\n",
       "</div>"
      ],
      "text/plain": [
       "             Year         Value\n",
       "count    55.00000  5.500000e+01\n",
       "mean   1987.00000  1.437042e+12\n",
       "std      16.02082  2.500085e+12\n",
       "min    1960.00000  4.668518e+10\n",
       "25%    1973.50000  1.395123e+11\n",
       "50%    1987.00000  3.074796e+11\n",
       "75%    2000.50000  1.268748e+12\n",
       "max    2014.00000  1.035483e+13"
      ]
     },
     "execution_count": 5,
     "metadata": {},
     "output_type": "execute_result"
    }
   ],
   "source": [
    "df.describe()"
   ]
  },
  {
   "cell_type": "markdown",
   "id": "2abe9a13",
   "metadata": {},
   "source": [
    "### Preprocessing data"
   ]
  },
  {
   "cell_type": "code",
   "execution_count": 6,
   "id": "74c7cf36",
   "metadata": {},
   "outputs": [],
   "source": [
    "# Split X and y\n",
    "X, y = df['Year'], df['Value']"
   ]
  },
  {
   "cell_type": "code",
   "execution_count": 7,
   "id": "7929da9e",
   "metadata": {},
   "outputs": [
    {
     "data": {
      "image/png": "[encoded data removed]",
      "text/plain": [
       "<Figure size 432x288 with 1 Axes>"
      ]
     },
     "metadata": {
      "needs_background": "light"
     },
     "output_type": "display_data"
    }
   ],
   "source": [
    "# Plot all\n",
    "plt.xlabel('Year')\n",
    "plt.ylabel('GDP')\n",
    "plt.scatter(X, y, color='green')\n",
    "plt.show()"
   ]
  },
  {
   "cell_type": "code",
   "execution_count": 8,
   "id": "c98bcad1",
   "metadata": {},
   "outputs": [
    {
     "name": "stderr",
     "output_type": "stream",
     "text": [
      "C:\\tools\\Anaconda3\\lib\\site-packages\\seaborn\\distributions.py:2619: FutureWarning: `distplot` is a deprecated function and will be removed in a future version. Please adapt your code to use either `displot` (a figure-level function with similar flexibility) or `histplot` (an axes-level function for histograms).\n",
      "  warnings.warn(msg, FutureWarning)\n"
     ]
    },
    {
     "data": {
      "text/plain": [
       "<AxesSubplot:xlabel='Value', ylabel='Density'>"
      ]
     },
     "execution_count": 8,
     "metadata": {},
     "output_type": "execute_result"
    },
    {
     "data": {
      "image/png": "[encoded data removed]",
      "text/plain": [
       "<Figure size 432x288 with 1 Axes>"
      ]
     },
     "metadata": {
      "needs_background": "light"
     },
     "output_type": "display_data"
    }
   ],
   "source": [
    "sns.distplot(df['Value'], label='GDP', norm_hist=True)"
   ]
  },
  {
   "cell_type": "code",
   "execution_count": 9,
   "id": "1faf9d3b",
   "metadata": {
    "scrolled": true
   },
   "outputs": [
    {
     "name": "stderr",
     "output_type": "stream",
     "text": [
      "C:\\tools\\Anaconda3\\lib\\site-packages\\seaborn\\distributions.py:2619: FutureWarning: `distplot` is a deprecated function and will be removed in a future version. Please adapt your code to use either `displot` (a figure-level function with similar flexibility) or `histplot` (an axes-level function for histograms).\n",
      "  warnings.warn(msg, FutureWarning)\n"
     ]
    },
    {
     "data": {
      "text/plain": [
       "<AxesSubplot:xlabel='Year', ylabel='Density'>"
      ]
     },
     "execution_count": 9,
     "metadata": {},
     "output_type": "execute_result"
    },
    {
     "data": {
      "image/png": "[encoded data removed]",
      "text/plain": [
       "<Figure size 432x288 with 1 Axes>"
      ]
     },
     "metadata": {
      "needs_background": "light"
     },
     "output_type": "display_data"
    }
   ],
   "source": [
    "sns.distplot(df['Year'], label='Year', norm_hist=True)"
   ]
  },
  {
   "cell_type": "code",
   "execution_count": 10,
   "id": "1a55dd70",
   "metadata": {},
   "outputs": [
    {
     "data": {
      "text/html": [
       "<div>\n",
       "<style scoped>\n",
       "    .dataframe tbody tr th:only-of-type {\n",
       "        vertical-align: middle;\n",
       "    }\n",
       "\n",
       "    .dataframe tbody tr th {\n",
       "        vertical-align: top;\n",
       "    }\n",
       "\n",
       "    .dataframe thead th {\n",
       "        text-align: right;\n",
       "    }\n",
       "</style>\n",
       "<table border=\"1\" class=\"dataframe\">\n",
       "  <thead>\n",
       "    <tr style=\"text-align: right;\">\n",
       "      <th></th>\n",
       "      <th>Year</th>\n",
       "      <th>Value</th>\n",
       "    </tr>\n",
       "  </thead>\n",
       "  <tbody>\n",
       "    <tr>\n",
       "      <th>Year</th>\n",
       "      <td>1.000000</td>\n",
       "      <td>0.723858</td>\n",
       "    </tr>\n",
       "    <tr>\n",
       "      <th>Value</th>\n",
       "      <td>0.723858</td>\n",
       "      <td>1.000000</td>\n",
       "    </tr>\n",
       "  </tbody>\n",
       "</table>\n",
       "</div>"
      ],
      "text/plain": [
       "           Year     Value\n",
       "Year   1.000000  0.723858\n",
       "Value  0.723858  1.000000"
      ]
     },
     "execution_count": 10,
     "metadata": {},
     "output_type": "execute_result"
    }
   ],
   "source": [
    "#What is the correlation\n",
    "corr_matrix = df.corr()\n",
    "corr_matrix"
   ]
  },
  {
   "cell_type": "markdown",
   "id": "f387c293",
   "metadata": {},
   "source": [
    "## Train model"
   ]
  },
  {
   "cell_type": "code",
   "execution_count": 11,
   "id": "6a30e4f8",
   "metadata": {},
   "outputs": [
    {
     "data": {
      "text/plain": [
       "0     1960\n",
       "1     1961\n",
       "2     1962\n",
       "3     1963\n",
       "4     1964\n",
       "5     1965\n",
       "6     1966\n",
       "7     1967\n",
       "8     1968\n",
       "9     1969\n",
       "10    1970\n",
       "11    1971\n",
       "12    1972\n",
       "13    1973\n",
       "14    1974\n",
       "15    1975\n",
       "16    1976\n",
       "17    1977\n",
       "18    1978\n",
       "19    1979\n",
       "20    1980\n",
       "21    1981\n",
       "22    1982\n",
       "23    1983\n",
       "24    1984\n",
       "25    1985\n",
       "26    1986\n",
       "27    1987\n",
       "28    1988\n",
       "29    1989\n",
       "30    1990\n",
       "31    1991\n",
       "32    1992\n",
       "33    1993\n",
       "34    1994\n",
       "35    1995\n",
       "36    1996\n",
       "37    1997\n",
       "38    1998\n",
       "39    1999\n",
       "40    2000\n",
       "41    2001\n",
       "42    2002\n",
       "43    2003\n",
       "44    2004\n",
       "45    2005\n",
       "46    2006\n",
       "47    2007\n",
       "48    2008\n",
       "49    2009\n",
       "50    2010\n",
       "51    2011\n",
       "52    2012\n",
       "53    2013\n",
       "54    2014\n",
       "Name: Year, dtype: int64"
      ]
     },
     "execution_count": 11,
     "metadata": {},
     "output_type": "execute_result"
    }
   ],
   "source": [
    "X"
   ]
  },
  {
   "cell_type": "code",
   "execution_count": 12,
   "id": "e2428983",
   "metadata": {},
   "outputs": [
    {
     "data": {
      "text/plain": [
       "0     5.918412e+10\n",
       "1     4.955705e+10\n",
       "2     4.668518e+10\n",
       "3     5.009730e+10\n",
       "4     5.906225e+10\n",
       "5     6.970915e+10\n",
       "6     7.587943e+10\n",
       "7     7.205703e+10\n",
       "8     6.999350e+10\n",
       "9     7.871882e+10\n",
       "10    9.150621e+10\n",
       "11    9.856202e+10\n",
       "12    1.121598e+11\n",
       "13    1.367699e+11\n",
       "14    1.422547e+11\n",
       "15    1.611625e+11\n",
       "16    1.516277e+11\n",
       "17    1.723490e+11\n",
       "18    1.483821e+11\n",
       "19    1.768565e+11\n",
       "20    1.896500e+11\n",
       "21    1.943690e+11\n",
       "22    2.035496e+11\n",
       "23    2.289502e+11\n",
       "24    2.580821e+11\n",
       "25    3.074796e+11\n",
       "26    2.988058e+11\n",
       "27    2.713498e+11\n",
       "28    3.107222e+11\n",
       "29    3.459575e+11\n",
       "30    3.589732e+11\n",
       "31    3.814547e+11\n",
       "32    4.249341e+11\n",
       "33    4.428746e+11\n",
       "34    5.622611e+11\n",
       "35    7.320320e+11\n",
       "36    8.608441e+11\n",
       "37    9.581594e+11\n",
       "38    1.025277e+12\n",
       "39    1.089447e+12\n",
       "40    1.205261e+12\n",
       "41    1.332235e+12\n",
       "42    1.461906e+12\n",
       "43    1.649929e+12\n",
       "44    1.941746e+12\n",
       "45    2.268599e+12\n",
       "46    2.729784e+12\n",
       "47    3.523094e+12\n",
       "48    4.558431e+12\n",
       "49    5.059420e+12\n",
       "50    6.039659e+12\n",
       "51    7.492432e+12\n",
       "52    8.461623e+12\n",
       "53    9.490603e+12\n",
       "54    1.035483e+13\n",
       "Name: Value, dtype: float64"
      ]
     },
     "execution_count": 12,
     "metadata": {},
     "output_type": "execute_result"
    }
   ],
   "source": [
    "y"
   ]
  },
  {
   "cell_type": "code",
   "execution_count": 13,
   "id": "a7cb4cf6",
   "metadata": {},
   "outputs": [],
   "source": [
    "# Split X and y\n",
    "X = df.iloc[:, 0:1].values\n",
    "y = df.iloc[:, 1].values"
   ]
  },
  {
   "cell_type": "code",
   "execution_count": 14,
   "id": "ea4a03be",
   "metadata": {},
   "outputs": [],
   "source": [
    "# Splitting into the training set and test set\n",
    "\n",
    "from sklearn.model_selection import train_test_split\n",
    "\n",
    "X_train, X_test, y_train, y_split = train_test_split(X, y, test_size=0.2, random_state=0)"
   ]
  },
  {
   "cell_type": "markdown",
   "id": "e1a9a314",
   "metadata": {},
   "source": [
    "### Linear Regression First"
   ]
  },
  {
   "cell_type": "code",
   "execution_count": 15,
   "id": "95dd8d94",
   "metadata": {},
   "outputs": [
    {
     "data": {
      "text/plain": [
       "LinearRegression()"
      ]
     },
     "execution_count": 15,
     "metadata": {},
     "output_type": "execute_result"
    }
   ],
   "source": [
    "# creating Linear Regression model\n",
    "linreg = LinearRegression()\n",
    "\n",
    "# Fitting the model to our data\n",
    "linreg.fit(X,y)"
   ]
  },
  {
   "cell_type": "code",
   "execution_count": 16,
   "id": "e1a578f7",
   "metadata": {},
   "outputs": [
    {
     "data": {
      "text/plain": [
       "array([-1.61287007e+12, -1.49991037e+12, -1.38695067e+12, -1.27399097e+12,\n",
       "       -1.16103127e+12, -1.04807157e+12, -9.35111873e+11, -8.22152173e+11,\n",
       "       -7.09192474e+11, -5.96232774e+11, -4.83273075e+11, -3.70313376e+11,\n",
       "       -2.57353676e+11, -1.44393977e+11, -3.14342771e+10,  8.15254223e+10,\n",
       "        1.94485122e+11,  3.07444821e+11,  4.20404521e+11,  5.33364220e+11,\n",
       "        6.46323920e+11,  7.59283619e+11,  8.72243319e+11,  9.85203018e+11,\n",
       "        1.09816272e+12,  1.21112242e+12,  1.32408212e+12,  1.43704182e+12,\n",
       "        1.55000152e+12,  1.66296121e+12,  1.77592091e+12,  1.88888061e+12,\n",
       "        2.00184031e+12,  2.11480001e+12,  2.22775971e+12,  2.34071941e+12,\n",
       "        2.45367911e+12,  2.56663881e+12,  2.67959851e+12,  2.79255821e+12,\n",
       "        2.90551791e+12,  3.01847761e+12,  3.13143731e+12,  3.24439701e+12,\n",
       "        3.35735671e+12,  3.47031641e+12,  3.58327611e+12,  3.69623581e+12,\n",
       "        3.80919550e+12,  3.92215520e+12,  4.03511490e+12,  4.14807460e+12,\n",
       "        4.26103430e+12,  4.37399400e+12,  4.48695370e+12])"
      ]
     },
     "execution_count": 16,
     "metadata": {},
     "output_type": "execute_result"
    }
   ],
   "source": [
    "y_predicted = linreg.predict(X)\n",
    "y_predicted"
   ]
  },
  {
   "cell_type": "code",
   "execution_count": 17,
   "id": "96db682c",
   "metadata": {},
   "outputs": [
    {
     "data": {
      "text/plain": [
       "array([5.91841165e+10, 4.95570502e+10, 4.66851785e+10, 5.00973033e+10,\n",
       "       5.90622549e+10, 6.97091531e+10, 7.58794348e+10, 7.20570286e+10,\n",
       "       6.99934979e+10, 7.87188205e+10, 9.15062113e+10, 9.85620238e+10,\n",
       "       1.12159814e+11, 1.36769878e+11, 1.42254742e+11, 1.61162492e+11,\n",
       "       1.51627687e+11, 1.72349014e+11, 1.48382112e+11, 1.76856525e+11,\n",
       "       1.89649992e+11, 1.94369049e+11, 2.03549627e+11, 2.28950201e+11,\n",
       "       2.58082147e+11, 3.07479586e+11, 2.98805793e+11, 2.71349773e+11,\n",
       "       3.10722214e+11, 3.45957486e+11, 3.58973230e+11, 3.81454704e+11,\n",
       "       4.24934066e+11, 4.42874596e+11, 5.62261130e+11, 7.32032045e+11,\n",
       "       8.60844098e+11, 9.58159425e+11, 1.02527690e+12, 1.08944711e+12,\n",
       "       1.20526068e+12, 1.33223472e+12, 1.46190649e+12, 1.64992872e+12,\n",
       "       1.94174560e+12, 2.26859890e+12, 2.72978403e+12, 3.52309431e+12,\n",
       "       4.55843107e+12, 5.05941974e+12, 6.03965851e+12, 7.49243210e+12,\n",
       "       8.46162316e+12, 9.49060260e+12, 1.03548317e+13])"
      ]
     },
     "execution_count": 17,
     "metadata": {},
     "output_type": "execute_result"
    }
   ],
   "source": [
    "y"
   ]
  },
  {
   "cell_type": "code",
   "execution_count": 18,
   "id": "ed49c8b3",
   "metadata": {},
   "outputs": [
    {
     "data": {
      "image/png": "[encoded data removed]",
      "text/plain": [
       "<Figure size 432x288 with 1 Axes>"
      ]
     },
     "metadata": {
      "needs_background": "light"
     },
     "output_type": "display_data"
    }
   ],
   "source": [
    "# Visualise the Linear Regression\n",
    "\n",
    "plt.title('Linear Regression')\n",
    "plt.scatter(X, y, color='green')\n",
    "plt.plot(X, y_predicted, color='blue')\n",
    "plt.xlabel('GDP')\n",
    "plt.ylabel('Year')\n",
    "plt.show()"
   ]
  },
  {
   "cell_type": "markdown",
   "id": "1079f391",
   "metadata": {},
   "source": [
    "#### A simple linear regression seems to be not very usefull\n",
    "\n",
    "#### Lets try with a Polynormial regression"
   ]
  },
  {
   "cell_type": "markdown",
   "id": "2eacef38",
   "metadata": {},
   "source": [
    "**NOTE**\n",
    "\n",
    "With the increasing degree of the polynomial, the complexity of the model also increases. Therefore, the value of n must be chosen precisely. If this value is low, then the model won’t be able to fit the data properly and if high, the model will overfit the data easily."
   ]
  },
  {
   "cell_type": "code",
   "execution_count": 19,
   "id": "cb0acb7c",
   "metadata": {},
   "outputs": [],
   "source": [
    "# Polynomial regression model\n",
    "polyreg = PolynomialFeatures(degree=2)\n",
    "\n",
    "# Transforming my train data to adjust the polynom to linear regression\n",
    "X_pol = polyreg.fit_transform(X)"
   ]
  },
  {
   "cell_type": "code",
   "execution_count": 20,
   "id": "4dbedab7",
   "metadata": {},
   "outputs": [
    {
     "data": {
      "text/plain": [
       "LinearRegression()"
      ]
     },
     "execution_count": 20,
     "metadata": {},
     "output_type": "execute_result"
    }
   ],
   "source": [
    "# Creating linear Regression model\n",
    "pollinreg = LinearRegression()\n",
    "pollinreg .fit(X_pol, y)"
   ]
  },
  {
   "cell_type": "code",
   "execution_count": 21,
   "id": "e83819eb",
   "metadata": {},
   "outputs": [],
   "source": [
    "# Apply the model to my train data\n",
    "y_predicted = pollinreg.predict(X_pol)"
   ]
  },
  {
   "cell_type": "code",
   "execution_count": 22,
   "id": "20eb59dc",
   "metadata": {},
   "outputs": [
    {
     "data": {
      "text/plain": [
       "array([ 1.34715431e+12,  1.13122241e+12,  9.27701520e+11,  7.36591629e+11,\n",
       "        5.57892741e+11,  3.91604857e+11,  2.37727977e+11,  9.62621007e+10,\n",
       "       -3.27927721e+10, -1.49436641e+11, -2.53669506e+11, -3.45491368e+11,\n",
       "       -4.24902226e+11, -4.91902080e+11, -5.46490931e+11, -5.88668777e+11,\n",
       "       -6.18435621e+11, -6.35791460e+11, -6.40736296e+11, -6.33270128e+11,\n",
       "       -6.13392956e+11, -5.81104780e+11, -5.36405601e+11, -4.79295419e+11,\n",
       "       -4.09774232e+11, -3.27842042e+11, -2.33498848e+11, -1.26744650e+11,\n",
       "       -7.57944904e+09,  1.23996756e+11,  2.67983965e+11,  4.24382177e+11,\n",
       "        5.93191393e+11,  7.74411613e+11,  9.68042837e+11,  1.17408506e+12,\n",
       "        1.39253829e+12,  1.62340253e+12,  1.86667777e+12,  2.12236401e+12,\n",
       "        2.39046126e+12,  2.67096950e+12,  2.96388876e+12,  3.26921901e+12,\n",
       "        3.58696028e+12,  3.91711254e+12,  4.25967581e+12,  4.61465008e+12,\n",
       "        4.98203535e+12,  5.36183163e+12,  5.75403892e+12,  6.15865720e+12,\n",
       "        6.57568649e+12,  7.00512679e+12,  7.44697808e+12])"
      ]
     },
     "execution_count": 22,
     "metadata": {},
     "output_type": "execute_result"
    }
   ],
   "source": [
    "y_predicted"
   ]
  },
  {
   "cell_type": "code",
   "execution_count": 23,
   "id": "f042bbd2",
   "metadata": {},
   "outputs": [
    {
     "data": {
      "text/plain": [
       "array([5.91841165e+10, 4.95570502e+10, 4.66851785e+10, 5.00973033e+10,\n",
       "       5.90622549e+10, 6.97091531e+10, 7.58794348e+10, 7.20570286e+10,\n",
       "       6.99934979e+10, 7.87188205e+10, 9.15062113e+10, 9.85620238e+10,\n",
       "       1.12159814e+11, 1.36769878e+11, 1.42254742e+11, 1.61162492e+11,\n",
       "       1.51627687e+11, 1.72349014e+11, 1.48382112e+11, 1.76856525e+11,\n",
       "       1.89649992e+11, 1.94369049e+11, 2.03549627e+11, 2.28950201e+11,\n",
       "       2.58082147e+11, 3.07479586e+11, 2.98805793e+11, 2.71349773e+11,\n",
       "       3.10722214e+11, 3.45957486e+11, 3.58973230e+11, 3.81454704e+11,\n",
       "       4.24934066e+11, 4.42874596e+11, 5.62261130e+11, 7.32032045e+11,\n",
       "       8.60844098e+11, 9.58159425e+11, 1.02527690e+12, 1.08944711e+12,\n",
       "       1.20526068e+12, 1.33223472e+12, 1.46190649e+12, 1.64992872e+12,\n",
       "       1.94174560e+12, 2.26859890e+12, 2.72978403e+12, 3.52309431e+12,\n",
       "       4.55843107e+12, 5.05941974e+12, 6.03965851e+12, 7.49243210e+12,\n",
       "       8.46162316e+12, 9.49060260e+12, 1.03548317e+13])"
      ]
     },
     "execution_count": 23,
     "metadata": {},
     "output_type": "execute_result"
    }
   ],
   "source": [
    "y"
   ]
  },
  {
   "cell_type": "code",
   "execution_count": 24,
   "id": "ef834d72",
   "metadata": {},
   "outputs": [
    {
     "data": {
      "image/png": "[encoded data removed]",
      "text/plain": [
       "<Figure size 720x432 with 1 Axes>"
      ]
     },
     "metadata": {
      "needs_background": "light"
     },
     "output_type": "display_data"
    }
   ],
   "source": [
    "# Visualise the polynomial Regression results\n",
    "plt.figure(figsize=(10,6))\n",
    "plt.title('Polynomial Regression')\n",
    "plt.scatter(X, y, color='green')\n",
    "plt.plot(X, y_predicted, color='blue')\n",
    "plt.xlabel('Year', fontsize=16)\n",
    "plt.ylabel('GDP', fontsize=16)\n",
    "plt.show()"
   ]
  },
  {
   "cell_type": "code",
   "execution_count": null,
   "id": "94717326",
   "metadata": {},
   "outputs": [],
   "source": []
  }
 ],
 "metadata": {
  "kernelspec": {
   "display_name": "Python 3 (ipykernel)",
   "language": "python",
   "name": "python3"
  },
  "language_info": {
   "codemirror_mode": {
    "name": "ipython",
    "version": 3
   },
   "file_extension": ".py",
   "mimetype": "text/x-python",
   "name": "python",
   "nbconvert_exporter": "python",
   "pygments_lexer": "ipython3",
   "version": "3.9.7"
  }
 },
 "nbformat": 4,
 "nbformat_minor": 5
}
