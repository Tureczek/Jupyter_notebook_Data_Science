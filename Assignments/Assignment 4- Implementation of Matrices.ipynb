{
 "cells": [
  {
   "cell_type": "markdown",
   "id": "27dc74d2",
   "metadata": {},
   "source": [
    "# Assignment 4: Implementation of Matrices"
   ]
  },
  {
   "cell_type": "code",
   "execution_count": 1,
   "id": "b61bd17e",
   "metadata": {},
   "outputs": [],
   "source": [
    "import numpy as np\n",
    "from numpy.linalg import inv\n",
    "\n",
    "import matplotlib.pyplot as plt\n",
    "import matplotlib.patches as mpatches\n",
    "from math import cos, sin\n",
    "%matplotlib inline"
   ]
  },
  {
   "cell_type": "markdown",
   "id": "ae024632",
   "metadata": {},
   "source": [
    "***"
   ]
  },
  {
   "attachments": {
    "image.png": {
     "image/png": "[encoded data removed]"
    }
   },
   "cell_type": "markdown",
   "id": "004f2d0e",
   "metadata": {},
   "source": [
    "## Task 1\n",
    "![image.png](attachment:image.png)"
   ]
  },
  {
   "cell_type": "markdown",
   "id": "a3874001",
   "metadata": {},
   "source": [
    "(a) Find A^T\n",
    "\n",
    "(b) Find B^T\n",
    "\n",
    "(c) Find AB^T\n",
    "\n",
    "(d) Compare AB^T and B^TA^T\n",
    "\n",
    "(e) Find (A^T)^T\n",
    "\n",
    "(f) Find AA^T\n",
    "\n",
    "Explain the operation transposition."
   ]
  },
  {
   "cell_type": "code",
   "execution_count": 2,
   "id": "395f60f2",
   "metadata": {},
   "outputs": [],
   "source": [
    "A = np.array([[ 3, 1 ],[ 2, 6]])\n",
    "B = np.array([[ -1, 4 ],[ 3, 8]])"
   ]
  },
  {
   "cell_type": "code",
   "execution_count": 3,
   "id": "02c6b28a",
   "metadata": {},
   "outputs": [
    {
     "data": {
      "text/plain": [
       "array([[3, 2],\n",
       "       [1, 6]])"
      ]
     },
     "execution_count": 3,
     "metadata": {},
     "output_type": "execute_result"
    }
   ],
   "source": [
    "A.T"
   ]
  },
  {
   "cell_type": "code",
   "execution_count": 4,
   "id": "dab2704d",
   "metadata": {},
   "outputs": [
    {
     "data": {
      "text/plain": [
       "array([[-1,  3],\n",
       "       [ 4,  8]])"
      ]
     },
     "execution_count": 4,
     "metadata": {},
     "output_type": "execute_result"
    }
   ],
   "source": [
    "B.T"
   ]
  },
  {
   "cell_type": "code",
   "execution_count": 5,
   "id": "5bc5280d",
   "metadata": {},
   "outputs": [
    {
     "data": {
      "text/plain": [
       "(array([[3, 1],\n",
       "        [2, 6]]),\n",
       " array([[-1,  4],\n",
       "        [ 3,  8]]))"
      ]
     },
     "execution_count": 5,
     "metadata": {},
     "output_type": "execute_result"
    }
   ],
   "source": [
    "#First we multiply the matrices with rows times columns:\n",
    "A,B"
   ]
  },
  {
   "cell_type": "markdown",
   "id": "33e5325c",
   "metadata": {},
   "source": [
    "First place top in our matrix = 3x(-1) + 1x3 = 0\n",
    "\n",
    "Second place top in our matrix = 3x4 + 1x8 = 20\n",
    "\n",
    "\n",
    "First bottom = 2x(-1) + 6x3 = 16\n",
    "\n",
    "Second bottom = 2x4 + 6x8 = 56"
   ]
  },
  {
   "cell_type": "code",
   "execution_count": 6,
   "id": "64332779",
   "metadata": {},
   "outputs": [
    {
     "data": {
      "text/plain": [
       "array([[ 0, 20],\n",
       "       [16, 56]])"
      ]
     },
     "execution_count": 6,
     "metadata": {},
     "output_type": "execute_result"
    }
   ],
   "source": [
    "AB = A@B\n",
    "AB"
   ]
  },
  {
   "cell_type": "code",
   "execution_count": 7,
   "id": "89d356e7",
   "metadata": {},
   "outputs": [
    {
     "data": {
      "text/plain": [
       "array([[ 0, 16],\n",
       "       [20, 56]])"
      ]
     },
     "execution_count": 7,
     "metadata": {},
     "output_type": "execute_result"
    }
   ],
   "source": [
    "AB.T"
   ]
  },
  {
   "cell_type": "code",
   "execution_count": 8,
   "id": "60d0217e",
   "metadata": {},
   "outputs": [
    {
     "data": {
      "text/plain": [
       "('AB.T',\n",
       " array([[ 0, 16],\n",
       "        [20, 56]]),\n",
       " 'A.T',\n",
       " array([[3, 2],\n",
       "        [1, 6]]),\n",
       " 'B.T',\n",
       " array([[-1,  3],\n",
       "        [ 4,  8]]))"
      ]
     },
     "execution_count": 8,
     "metadata": {},
     "output_type": "execute_result"
    }
   ],
   "source": [
    "# Compare AB.T and A.T, B.T\n",
    "\n",
    "'AB.T', AB.T, 'A.T',A.T,'B.T', B.T"
   ]
  },
  {
   "cell_type": "code",
   "execution_count": 9,
   "id": "69ba0900",
   "metadata": {},
   "outputs": [],
   "source": [
    "res = np.sum(AB.T == A.T) & (AB.T ==1)"
   ]
  },
  {
   "cell_type": "code",
   "execution_count": 10,
   "id": "c31a7ef6",
   "metadata": {},
   "outputs": [
    {
     "data": {
      "text/plain": [
       "array([[0, 0],\n",
       "       [0, 0]], dtype=int32)"
      ]
     },
     "execution_count": 10,
     "metadata": {},
     "output_type": "execute_result"
    }
   ],
   "source": [
    "res"
   ]
  },
  {
   "cell_type": "code",
   "execution_count": 11,
   "id": "129e1ef8",
   "metadata": {},
   "outputs": [],
   "source": [
    "res2 = np.sum(AB.T == B.T) & (AB.T ==1)"
   ]
  },
  {
   "cell_type": "code",
   "execution_count": 12,
   "id": "fc8ad35b",
   "metadata": {},
   "outputs": [
    {
     "data": {
      "text/plain": [
       "array([[0, 0],\n",
       "       [0, 0]], dtype=int32)"
      ]
     },
     "execution_count": 12,
     "metadata": {},
     "output_type": "execute_result"
    }
   ],
   "source": [
    "res2"
   ]
  },
  {
   "cell_type": "code",
   "execution_count": 13,
   "id": "42a2739a",
   "metadata": {},
   "outputs": [
    {
     "data": {
      "text/plain": [
       "array([[3, 1],\n",
       "       [2, 6]])"
      ]
     },
     "execution_count": 13,
     "metadata": {},
     "output_type": "execute_result"
    }
   ],
   "source": [
    "(A.T).T"
   ]
  },
  {
   "cell_type": "code",
   "execution_count": 14,
   "id": "4c710882",
   "metadata": {},
   "outputs": [
    {
     "data": {
      "text/plain": [
       "(array([[3, 1],\n",
       "        [2, 6]]),\n",
       " array([[3, 2],\n",
       "        [1, 6]]))"
      ]
     },
     "execution_count": 14,
     "metadata": {},
     "output_type": "execute_result"
    }
   ],
   "source": [
    "A, A.T"
   ]
  },
  {
   "cell_type": "code",
   "execution_count": 15,
   "id": "a208f534",
   "metadata": {},
   "outputs": [
    {
     "data": {
      "text/plain": [
       "array([[10, 12],\n",
       "       [12, 40]])"
      ]
     },
     "execution_count": 15,
     "metadata": {},
     "output_type": "execute_result"
    }
   ],
   "source": [
    "A@A.T"
   ]
  },
  {
   "cell_type": "markdown",
   "id": "7e48225b",
   "metadata": {},
   "source": [
    "***"
   ]
  },
  {
   "attachments": {
    "image.png": {
     "image/png": "[encoded data removed]"
    }
   },
   "cell_type": "markdown",
   "id": "f56bdebf",
   "metadata": {},
   "source": [
    "![image.png](attachment:image.png)"
   ]
  },
  {
   "cell_type": "code",
   "execution_count": 16,
   "id": "d4f8e6b8",
   "metadata": {},
   "outputs": [],
   "source": [
    "A = np.array([[ 2, 1 ],[ 3, 2]])\n",
    "B = np.array([[ 1, 2 ],[ 3, 4]])"
   ]
  },
  {
   "cell_type": "markdown",
   "id": "8156caa5",
   "metadata": {},
   "source": [
    "(a)"
   ]
  },
  {
   "cell_type": "code",
   "execution_count": 17,
   "id": "04448d8e",
   "metadata": {},
   "outputs": [
    {
     "data": {
      "text/plain": [
       "array([[2, 2],\n",
       "       [9, 8]])"
      ]
     },
     "execution_count": 17,
     "metadata": {},
     "output_type": "execute_result"
    }
   ],
   "source": [
    "A*B"
   ]
  },
  {
   "cell_type": "code",
   "execution_count": 18,
   "id": "b9a58978",
   "metadata": {},
   "outputs": [
    {
     "data": {
      "text/plain": [
       "array([[ 5,  8],\n",
       "       [ 9, 14]])"
      ]
     },
     "execution_count": 18,
     "metadata": {},
     "output_type": "execute_result"
    }
   ],
   "source": [
    "A@B"
   ]
  },
  {
   "cell_type": "markdown",
   "id": "61669f6e",
   "metadata": {},
   "source": [
    "The * operation means element-wise multiplication, while the @ notation means matrix multiplication.\n",
    "\n",
    "The * multiplies first array in A and first array in B, then sets it as the top. Then it multiplies the second\n",
    "array in A and in B and sets it as the bottom values.\n",
    "\n",
    "The @ matrix multiplication operation, multiplies rows with columns to get the right result."
   ]
  },
  {
   "cell_type": "markdown",
   "id": "fe4c8134",
   "metadata": {},
   "source": [
    "(b)"
   ]
  },
  {
   "cell_type": "code",
   "execution_count": 19,
   "id": "4e7d71bb",
   "metadata": {},
   "outputs": [
    {
     "data": {
      "text/plain": [
       "('A@B',\n",
       " array([[ 5,  8],\n",
       "        [ 9, 14]]),\n",
       " 'B@A',\n",
       " array([[ 8,  5],\n",
       "        [18, 11]]))"
      ]
     },
     "execution_count": 19,
     "metadata": {},
     "output_type": "execute_result"
    }
   ],
   "source": [
    "'A@B',A@B, 'B@A',B@A"
   ]
  },
  {
   "cell_type": "markdown",
   "id": "a8bcb066",
   "metadata": {},
   "source": [
    "As can be seen above, it does matter if you make the matrices switch places. The first AB is calculated as follows:\n",
    "\n",
    "First place top in our matrix = 2x1 + 1x3 = 5\n",
    "\n",
    "Second place top in our matrix = 2x2 + 1x4 = 8\n",
    "\n",
    "\n",
    "First bottom = 3x1 + 2x3 = 9\n",
    "\n",
    "Second bottom = 3x2 + 2x4 = 14\n",
    "\n",
    "***\n",
    "BA is calculated as follows:\n",
    "\n",
    "\n",
    "First place top in our matrix = 1x2 + 2x3 = 8\n",
    "\n",
    "Second place top in our matrix = 1x1 + 2x2 = 5\n",
    "\n",
    "\n",
    "First bottom = 3x2 + 4x3 = 18\n",
    "\n",
    "Second bottom = 3x1 + 4x2 = 11"
   ]
  },
  {
   "cell_type": "markdown",
   "id": "2b4cd06a",
   "metadata": {},
   "source": [
    "Matrix multiplication is not commutative.<br>\n",
    "It shouldn’t be. It corresponds to composition of<br>\n",
    "linear transformations, and composition of <br>\n",
    "functions is not commutative.\n",
    "\n",
    "Although it’s not commutative, it is associative. <br>\n",
    "That’s because it corresponds to composition of <br>\n",
    "functions, and that’s associative"
   ]
  },
  {
   "cell_type": "markdown",
   "id": "e15e7b4e",
   "metadata": {},
   "source": [
    "******"
   ]
  },
  {
   "attachments": {
    "image.png": {
     "image/png": "[encoded data removed]"
    }
   },
   "cell_type": "markdown",
   "id": "5c2108e7",
   "metadata": {},
   "source": [
    "![image.png](attachment:image.png)"
   ]
  },
  {
   "cell_type": "markdown",
   "id": "27a415cf",
   "metadata": {},
   "source": [
    "(a) A^-1 <br>\n",
    "(b) B^-1 <br>\n",
    "(c) AA^-1 <br>\n",
    "(d) A^-1A <br>\n",
    "(e) BB^-1 <br>\n",
    "(f) B^-1B <br>"
   ]
  },
  {
   "cell_type": "code",
   "execution_count": 20,
   "id": "e58d102b",
   "metadata": {},
   "outputs": [
    {
     "data": {
      "text/plain": [
       "array([[2, 1],\n",
       "       [3, 2]])"
      ]
     },
     "execution_count": 20,
     "metadata": {},
     "output_type": "execute_result"
    }
   ],
   "source": [
    "A"
   ]
  },
  {
   "cell_type": "code",
   "execution_count": 21,
   "id": "8f332a07",
   "metadata": {},
   "outputs": [
    {
     "data": {
      "text/plain": [
       "array([[1, 2],\n",
       "       [3, 4]])"
      ]
     },
     "execution_count": 21,
     "metadata": {},
     "output_type": "execute_result"
    }
   ],
   "source": [
    "B"
   ]
  },
  {
   "cell_type": "code",
   "execution_count": 22,
   "id": "ed79e02d",
   "metadata": {},
   "outputs": [],
   "source": [
    "def scalar(a,b,c,d):\n",
    "    return 1/((a*d)-(b*c))"
   ]
  },
  {
   "cell_type": "code",
   "execution_count": 23,
   "id": "abc0a8d0",
   "metadata": {},
   "outputs": [],
   "source": [
    "def matrix(a,b,c,d):\n",
    "    return np.array([[d, -b], [-c, a]])"
   ]
  },
  {
   "cell_type": "markdown",
   "id": "25837a15",
   "metadata": {},
   "source": [
    "(a) A^-1 "
   ]
  },
  {
   "cell_type": "code",
   "execution_count": 24,
   "id": "e41bf637",
   "metadata": {},
   "outputs": [],
   "source": [
    "scalarA = scalar(2,1,3,2)"
   ]
  },
  {
   "cell_type": "code",
   "execution_count": 25,
   "id": "4bfb065f",
   "metadata": {},
   "outputs": [
    {
     "data": {
      "text/plain": [
       "1.0"
      ]
     },
     "execution_count": 25,
     "metadata": {},
     "output_type": "execute_result"
    }
   ],
   "source": [
    "scalarA"
   ]
  },
  {
   "cell_type": "code",
   "execution_count": 26,
   "id": "4bf25260",
   "metadata": {
    "scrolled": true
   },
   "outputs": [
    {
     "data": {
      "text/plain": [
       "array([[ 2, -1],\n",
       "       [-3,  2]])"
      ]
     },
     "execution_count": 26,
     "metadata": {},
     "output_type": "execute_result"
    }
   ],
   "source": [
    "matrixA = matrix(2,1,3,2)\n",
    "matrixA"
   ]
  },
  {
   "cell_type": "code",
   "execution_count": 27,
   "id": "27612600",
   "metadata": {},
   "outputs": [
    {
     "data": {
      "text/plain": [
       "array([[ 2., -1.],\n",
       "       [-3.,  2.]])"
      ]
     },
     "execution_count": 27,
     "metadata": {},
     "output_type": "execute_result"
    }
   ],
   "source": [
    "inverseA = scalarA*matrixA\n",
    "inverseA"
   ]
  },
  {
   "cell_type": "code",
   "execution_count": 28,
   "id": "b9469e5c",
   "metadata": {},
   "outputs": [
    {
     "data": {
      "text/plain": [
       "array([[1, 2],\n",
       "       [3, 4]])"
      ]
     },
     "execution_count": 28,
     "metadata": {},
     "output_type": "execute_result"
    }
   ],
   "source": [
    "B"
   ]
  },
  {
   "cell_type": "markdown",
   "id": "022da5a8",
   "metadata": {},
   "source": [
    "***"
   ]
  },
  {
   "cell_type": "markdown",
   "id": "b597971d",
   "metadata": {},
   "source": [
    "(b) B^-1"
   ]
  },
  {
   "cell_type": "code",
   "execution_count": 29,
   "id": "2c74edc3",
   "metadata": {},
   "outputs": [
    {
     "data": {
      "text/plain": [
       "-0.5"
      ]
     },
     "execution_count": 29,
     "metadata": {},
     "output_type": "execute_result"
    }
   ],
   "source": [
    "scalarB = scalar(1,2,3,4)\n",
    "scalarB"
   ]
  },
  {
   "cell_type": "code",
   "execution_count": 30,
   "id": "3aef6266",
   "metadata": {},
   "outputs": [
    {
     "data": {
      "text/plain": [
       "array([[ 4, -2],\n",
       "       [-3,  1]])"
      ]
     },
     "execution_count": 30,
     "metadata": {},
     "output_type": "execute_result"
    }
   ],
   "source": [
    "matrixB = matrix(1,2,3,4)\n",
    "matrixB"
   ]
  },
  {
   "cell_type": "code",
   "execution_count": 31,
   "id": "a44e9185",
   "metadata": {},
   "outputs": [
    {
     "data": {
      "text/plain": [
       "array([[-2. ,  1. ],\n",
       "       [ 1.5, -0.5]])"
      ]
     },
     "execution_count": 31,
     "metadata": {},
     "output_type": "execute_result"
    }
   ],
   "source": [
    "inverseB = scalarB * matrixB\n",
    "inverseB"
   ]
  },
  {
   "cell_type": "markdown",
   "id": "a7299fc1",
   "metadata": {},
   "source": [
    "***\n",
    "\n",
    "(c) AA^-1 "
   ]
  },
  {
   "cell_type": "code",
   "execution_count": 32,
   "id": "f9a7e960",
   "metadata": {},
   "outputs": [
    {
     "data": {
      "text/plain": [
       "array([[1., 0.],\n",
       "       [0., 1.]])"
      ]
     },
     "execution_count": 32,
     "metadata": {},
     "output_type": "execute_result"
    }
   ],
   "source": [
    "A@inverseA"
   ]
  },
  {
   "cell_type": "markdown",
   "id": "c8b70505",
   "metadata": {},
   "source": [
    "***\n",
    "(d) A^-1A"
   ]
  },
  {
   "cell_type": "code",
   "execution_count": 33,
   "id": "dcf2348c",
   "metadata": {
    "scrolled": true
   },
   "outputs": [
    {
     "data": {
      "text/plain": [
       "array([[1., 0.],\n",
       "       [0., 1.]])"
      ]
     },
     "execution_count": 33,
     "metadata": {},
     "output_type": "execute_result"
    }
   ],
   "source": [
    "inverseA@A"
   ]
  },
  {
   "cell_type": "markdown",
   "id": "49e216cf",
   "metadata": {},
   "source": [
    "***\n",
    "(e) BB^-1"
   ]
  },
  {
   "cell_type": "code",
   "execution_count": 34,
   "id": "6639f2af",
   "metadata": {},
   "outputs": [
    {
     "data": {
      "text/plain": [
       "array([[1., 0.],\n",
       "       [0., 1.]])"
      ]
     },
     "execution_count": 34,
     "metadata": {},
     "output_type": "execute_result"
    }
   ],
   "source": [
    "B@inverseB"
   ]
  },
  {
   "cell_type": "markdown",
   "id": "63de1e79",
   "metadata": {},
   "source": [
    "(f) B^-1B"
   ]
  },
  {
   "cell_type": "code",
   "execution_count": 35,
   "id": "415ce81e",
   "metadata": {},
   "outputs": [
    {
     "data": {
      "text/plain": [
       "array([[1., 0.],\n",
       "       [0., 1.]])"
      ]
     },
     "execution_count": 35,
     "metadata": {},
     "output_type": "execute_result"
    }
   ],
   "source": [
    "inverseB@B\n"
   ]
  },
  {
   "attachments": {
    "image.png": {
     "image/png": "[encoded data removed]"
    }
   },
   "cell_type": "markdown",
   "id": "a2da9d63",
   "metadata": {},
   "source": [
    "Do you have a proof that a matrix multiplied with its inverse always gives ![image.png](attachment:image.png)\n"
   ]
  },
  {
   "attachments": {
    "image.png": {
     "image/png": "[encoded data removed]"
    }
   },
   "cell_type": "markdown",
   "id": "17bcc69d",
   "metadata": {},
   "source": [
    "***\n",
    "\n",
    "\n",
    "I dont understand this question..\n",
    "\n",
    "NO - It's a defination. \n",
    "\n",
    "![image.png](attachment:image.png)"
   ]
  },
  {
   "cell_type": "markdown",
   "id": "202a1edd",
   "metadata": {},
   "source": [
    " "
   ]
  },
  {
   "cell_type": "markdown",
   "id": "75e1fb7a",
   "metadata": {},
   "source": [
    " "
   ]
  },
  {
   "cell_type": "markdown",
   "id": "bdbc79db",
   "metadata": {},
   "source": [
    "### What do we call a matrix that has ones in the diagonal and zeros elsewhere?\n",
    "\n",
    "#### - \"Identity matrix\" or  \"unit matrix\""
   ]
  },
  {
   "cell_type": "markdown",
   "id": "e292ebdc",
   "metadata": {},
   "source": [
    "***"
   ]
  },
  {
   "cell_type": "markdown",
   "id": "00bcc814",
   "metadata": {},
   "source": [
    "## Task 4"
   ]
  },
  {
   "attachments": {
    "image.png": {
     "image/png": "[encoded data removed]"
    }
   },
   "cell_type": "markdown",
   "id": "a607823c",
   "metadata": {},
   "source": [
    "![image.png](attachment:image.png)"
   ]
  },
  {
   "cell_type": "markdown",
   "id": "727fd5ed",
   "metadata": {},
   "source": [
    "Because the determinant is = 0 it makes the matrice singular.\n",
    "\n",
    "Using the formular shown in task 3, when calculating the determinant (1/(ad-bc)) we get 1/0. "
   ]
  },
  {
   "cell_type": "markdown",
   "id": "d9c60dfc",
   "metadata": {},
   "source": [
    " "
   ]
  },
  {
   "cell_type": "markdown",
   "id": "57fb24df",
   "metadata": {},
   "source": [
    "## Task 5"
   ]
  },
  {
   "cell_type": "markdown",
   "id": "a890da1b",
   "metadata": {},
   "source": [
    "Use matplotlib to draw a simple vector graphics. Record the coordinates of the\n",
    "important points into a matrix. Rotate your image with 45 degrees (pi/4 radians).\n",
    "Plot the rotated image."
   ]
  },
  {
   "attachments": {
    "image.png": {
     "image/png": "[encoded data removed]"
    }
   },
   "cell_type": "markdown",
   "id": "29065ac2",
   "metadata": {},
   "source": [
    "using:\n",
    "\n",
    "![image.png](attachment:image.png)"
   ]
  },
  {
   "cell_type": "code",
   "execution_count": 36,
   "id": "68a96e25",
   "metadata": {},
   "outputs": [
    {
     "data": {
      "image/png": "[encoded data removed]",
      "text/plain": [
       "<Figure size 432x288 with 1 Axes>"
      ]
     },
     "metadata": {
      "needs_background": "light"
     },
     "output_type": "display_data"
    }
   ],
   "source": [
    "ax = plt.axes()\n",
    "\n",
    "vector_org = [6.0, 4.0]\n",
    "\n",
    "ax.arrow(0.0, 0.0, *vector_org, head_width=0.5, head_length=0.5)\n",
    "\n",
    "plt.grid()\n",
    "\n",
    "plt.xlim(0,10)\n",
    "plt.ylim(0,10)\n",
    "\n",
    "plt.title('Showing original vector',fontsize=10)\n",
    "\n",
    "plt.savefig('Showing original vector.png', bbox_inches='tight')\n",
    "plt.show()"
   ]
  },
  {
   "cell_type": "code",
   "execution_count": 37,
   "id": "ab946a56",
   "metadata": {},
   "outputs": [],
   "source": [
    "theta1 = np.deg2rad(-45)\n",
    "theta2 = np.deg2rad(45)\n",
    "\n",
    "rot1 = np.array([[cos(theta1), -sin(theta1)], [sin(theta1), cos(theta1)]])\n",
    "rot2 = np.array([[cos(theta2), -sin(theta2)], [sin(theta2), cos(theta2)]])\n",
    "\n",
    "w = np.array([6.0, 4.0])\n",
    "\n",
    "vector_clock = np.dot(rot1, w)\n",
    "vector_counterclock = np.dot(rot2, w)"
   ]
  },
  {
   "cell_type": "code",
   "execution_count": 38,
   "id": "a3cb4b9d",
   "metadata": {},
   "outputs": [
    {
     "data": {
      "text/plain": [
       "array([ 7.07106781, -1.41421356])"
      ]
     },
     "execution_count": 38,
     "metadata": {},
     "output_type": "execute_result"
    }
   ],
   "source": [
    "vector_clock"
   ]
  },
  {
   "cell_type": "code",
   "execution_count": 39,
   "id": "92512c39",
   "metadata": {},
   "outputs": [
    {
     "data": {
      "text/plain": [
       "array([1.41421356, 7.07106781])"
      ]
     },
     "execution_count": 39,
     "metadata": {},
     "output_type": "execute_result"
    }
   ],
   "source": [
    "vector_counterclock"
   ]
  },
  {
   "cell_type": "code",
   "execution_count": 40,
   "id": "a83fad3a",
   "metadata": {},
   "outputs": [
    {
     "data": {
      "image/png": "[encoded data removed]",
      "text/plain": [
       "<Figure size 432x288 with 1 Axes>"
      ]
     },
     "metadata": {
      "needs_background": "light"
     },
     "output_type": "display_data"
    }
   ],
   "source": [
    "data = np.array([vector_org, vector_clock, vector_counterclock])\n",
    "origin = np.array([[0, 0, 0], [0, 0, 0]])\n",
    "plt.grid()\n",
    "plt.xlim(-5,10)\n",
    "plt.ylim(-5,10)\n",
    "black_patch = mpatches.Patch(color='black', label='Original Vector')\n",
    "red_patch = mpatches.Patch(color='red', label='45 degree clockwise')\n",
    "green_patch = mpatches.Patch(color='green', label='45 degree counter clockwise')\n",
    "plt.legend(handles=[black_patch, red_patch, green_patch], bbox_to_anchor =(1.6, 1))\n",
    "plt.title('Showing original vector, clockwise vector and counterclockwise vector',fontsize=10)\n",
    "plt.quiver(*origin, data[:, 0], data[:, 1], color=['black', 'red', 'green'], angles='xy', scale_units='xy', scale=1)\n",
    "plt.show()"
   ]
  },
  {
   "cell_type": "markdown",
   "id": "bead6d6c",
   "metadata": {},
   "source": [
    "***\n",
    "### Task 6"
   ]
  },
  {
   "attachments": {
    "image-2.png": {
     "image/png": "[encoded data removed]"
    }
   },
   "cell_type": "markdown",
   "id": "e61ccde6",
   "metadata": {},
   "source": [
    "![image-2.png](attachment:image-2.png)"
   ]
  },
  {
   "cell_type": "markdown",
   "id": "35c67c0d",
   "metadata": {},
   "source": [
    "Create a program, in which the graph is represented as a sparse matrix(ignore the weights of the graph edges). \n",
    "\n",
    "The program should analyse the matrix,and calculate:\n",
    "\n",
    "(a) how many followers (incoming connections) has a given member\n",
    "\n",
    "(b) who is following most other members\n",
    "\n",
    "(c) who is followed by most others members\n",
    "\n",
    "Modify the matrix by giving the weights, shown on the graph, to its edges"
   ]
  },
  {
   "cell_type": "code",
   "execution_count": 55,
   "id": "bae07bc5",
   "metadata": {},
   "outputs": [
    {
     "name": "stdout",
     "output_type": "stream",
     "text": [
      "Dense matrix representation: \n",
      " [[0 0 0 0 0]\n",
      " [1 0 1 0 0]\n",
      " [0 0 0 1 1]\n",
      " [0 0 0 0 1]\n",
      " [0 0 0 0 1]]\n",
      "Sparse matrix: \n",
      "   (1, 0)\t1\n",
      "  (1, 2)\t1\n",
      "  (2, 3)\t1\n",
      "  (2, 4)\t1\n",
      "  (3, 4)\t1\n",
      "  (4, 4)\t1\n",
      "Dense matrix: \n",
      " [[0 0 0 0 0]\n",
      " [1 0 1 0 0]\n",
      " [0 0 0 1 1]\n",
      " [0 0 0 0 1]\n",
      " [0 0 0 0 1]]\n"
     ]
    }
   ],
   "source": [
    "connections = np.array([[0,0,0,0,0],# node 1\n",
    "              [1,0,1,0,0], # node 2\n",
    "              [0,0,0,1,1], # node 3\n",
    "              [0,0,0,0,1], # node 4\n",
    "              [0,0,0,0,1]]) # node 5\n",
    "\n",
    "from scipy.sparse import csr_matrix\n",
    "\n",
    "# create a 2-D representation of the matrix\n",
    "A = np.array([[0,0,0,0,0], \n",
    "              [1,0,1,0,0],\n",
    "              [0,0,0,1,1], \n",
    "              [0,0,0,0,1], \n",
    "              [0,0,0,0,1]])\n",
    "print(\"Dense matrix representation: \\n\", A)\n",
    "\n",
    "# convert to sparse matrix representation \n",
    "S = csr_matrix(A)\n",
    "print(\"Sparse matrix: \\n\",S)\n",
    "\n",
    "# convert back to 2-D representation of the matrix\n",
    "B = S.todense()\n",
    "print(\"Dense matrix: \\n\", B)"
   ]
  },
  {
   "cell_type": "markdown",
   "id": "5d046d6e",
   "metadata": {},
   "source": [
    "#### (a)"
   ]
  },
  {
   "cell_type": "code",
   "execution_count": 60,
   "id": "45f37009",
   "metadata": {},
   "outputs": [],
   "source": [
    "# connections to nodes\n",
    "def node_connections(node):\n",
    "    print( \"Following: \", len([i+1 for i, is_connected in enumerate(connections[node])\n",
    "    if is_connected]), \" nodes\")\n",
    "    return [i+1 for i, is_connected in enumerate(connections[node])\n",
    "    if is_connected]\n",
    "    "
   ]
  },
  {
   "cell_type": "code",
   "execution_count": 61,
   "id": "1b2ec8e3",
   "metadata": {},
   "outputs": [
    {
     "name": "stdout",
     "output_type": "stream",
     "text": [
      "Following:  0  nodes\n"
     ]
    },
    {
     "data": {
      "text/plain": [
       "[]"
      ]
     },
     "execution_count": 61,
     "metadata": {},
     "output_type": "execute_result"
    }
   ],
   "source": [
    "node_connections(0) # node 1"
   ]
  },
  {
   "cell_type": "code",
   "execution_count": 44,
   "id": "9d6f6b2d",
   "metadata": {},
   "outputs": [
    {
     "name": "stdout",
     "output_type": "stream",
     "text": [
      "Following:  2  nodes\n"
     ]
    },
    {
     "data": {
      "text/plain": [
       "[1, 3]"
      ]
     },
     "execution_count": 44,
     "metadata": {},
     "output_type": "execute_result"
    }
   ],
   "source": [
    "node_connections(1) # node 2"
   ]
  },
  {
   "cell_type": "code",
   "execution_count": 45,
   "id": "dd6d7085",
   "metadata": {},
   "outputs": [
    {
     "name": "stdout",
     "output_type": "stream",
     "text": [
      "Following:  2  nodes\n"
     ]
    },
    {
     "data": {
      "text/plain": [
       "[4, 5]"
      ]
     },
     "execution_count": 45,
     "metadata": {},
     "output_type": "execute_result"
    }
   ],
   "source": [
    "node_connections(2) # node 3"
   ]
  },
  {
   "cell_type": "code",
   "execution_count": 46,
   "id": "03de96e3",
   "metadata": {},
   "outputs": [
    {
     "name": "stdout",
     "output_type": "stream",
     "text": [
      "Following:  1  nodes\n"
     ]
    },
    {
     "data": {
      "text/plain": [
       "[5]"
      ]
     },
     "execution_count": 46,
     "metadata": {},
     "output_type": "execute_result"
    }
   ],
   "source": [
    "node_connections(3) # node 4"
   ]
  },
  {
   "cell_type": "code",
   "execution_count": 47,
   "id": "b4c70593",
   "metadata": {},
   "outputs": [
    {
     "name": "stdout",
     "output_type": "stream",
     "text": [
      "Following:  2  nodes\n"
     ]
    },
    {
     "data": {
      "text/plain": [
       "[3, 4]"
      ]
     },
     "execution_count": 47,
     "metadata": {},
     "output_type": "execute_result"
    }
   ],
   "source": [
    "node_connections(4) # node 5"
   ]
  },
  {
   "cell_type": "code",
   "execution_count": 104,
   "id": "de1769bb",
   "metadata": {},
   "outputs": [
    {
     "name": "stdout",
     "output_type": "stream",
     "text": [
      "1\n",
      "0\n",
      "1\n",
      "1\n",
      "3\n"
     ]
    }
   ],
   "source": [
    "connections = connections.T\n",
    "for i in range(len(connections)):\n",
    "    counter = 0\n",
    "    for j in range(len(connections[i])):\n",
    "        if (connections[i][j] == 1):\n",
    "            counter += 1\n",
    "    print(counter)"
   ]
  }
 ],
 "metadata": {
  "kernelspec": {
   "display_name": "Python 3 (ipykernel)",
   "language": "python",
   "name": "python3"
  },
  "language_info": {
   "codemirror_mode": {
    "name": "ipython",
    "version": 3
   },
   "file_extension": ".py",
   "mimetype": "text/x-python",
   "name": "python",
   "nbconvert_exporter": "python",
   "pygments_lexer": "ipython3",
   "version": "3.9.7"
  }
 },
 "nbformat": 4,
 "nbformat_minor": 5
}
