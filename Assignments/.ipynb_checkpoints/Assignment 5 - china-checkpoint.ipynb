{
 "cells": [
  {
   "cell_type": "markdown",
   "id": "9aed885a",
   "metadata": {},
   "source": [
    "# Assignment 5: Prediction by Regression\n",
    "\n",
    "Description\n",
    "\n",
    "In the file china_gdp.csv you will find historic data about the development of China's gross domestic product (GDP).\n",
    "\n",
    "Your task is to train a model that fits to the data and use the model for prediction of the GDP values of years 2010, 2020, and 2022.\n",
    "\n",
    "\n",
    "Please, submit a Python solution and elaborate on the following questions related to it:"
   ]
  },
  {
   "cell_type": "markdown",
   "id": "36f602f8",
   "metadata": {},
   "source": [
    "1. What type/s of regression have you applied?\n",
    "\n",
    "2. Which were the challenges?\n",
    "\n",
    "3. How accurate is your solution?\n",
    "\n",
    "4. What else could be done for improvement of the accuracy?"
   ]
  },
  {
   "cell_type": "markdown",
   "id": "372425bb",
   "metadata": {},
   "source": [
    "#### 1. Linear and Polynomial Regression\n",
    "\n",
    "#### 2. To figure out how to predict the future values\n",
    "\n",
    "#### 3. This is written under every model\n",
    "\n",
    "#### 4. We could have made use of cross-validation"
   ]
  },
  {
   "cell_type": "markdown",
   "id": "dac49407",
   "metadata": {},
   "source": [
    "****"
   ]
  },
  {
   "cell_type": "code",
   "execution_count": 1,
   "id": "2e7bb760",
   "metadata": {},
   "outputs": [],
   "source": [
    "import numpy as np\n",
    "import pandas as pd\n",
    "import matplotlib.pyplot as plt\n",
    "import seaborn as sns\n",
    "\n",
    "from sklearn.linear_model import LinearRegression\n",
    "from sklearn import linear_model\n",
    "from sklearn.preprocessing import PolynomialFeatures\n",
    "import sklearn.metrics as sm"
   ]
  },
  {
   "cell_type": "markdown",
   "id": "0f76eed5",
   "metadata": {},
   "source": [
    "## Enter the data"
   ]
  },
  {
   "cell_type": "code",
   "execution_count": 2,
   "id": "9c94cd2a",
   "metadata": {},
   "outputs": [],
   "source": [
    "# Enter data\n",
    "df = pd.read_csv('./china_gdp.csv')"
   ]
  },
  {
   "cell_type": "code",
   "execution_count": 3,
   "id": "28cb50e9",
   "metadata": {},
   "outputs": [
    {
     "data": {
      "text/html": [
       "<div>\n",
       "<style scoped>\n",
       "    .dataframe tbody tr th:only-of-type {\n",
       "        vertical-align: middle;\n",
       "    }\n",
       "\n",
       "    .dataframe tbody tr th {\n",
       "        vertical-align: top;\n",
       "    }\n",
       "\n",
       "    .dataframe thead th {\n",
       "        text-align: right;\n",
       "    }\n",
       "</style>\n",
       "<table border=\"1\" class=\"dataframe\">\n",
       "  <thead>\n",
       "    <tr style=\"text-align: right;\">\n",
       "      <th></th>\n",
       "      <th>Year</th>\n",
       "      <th>Value</th>\n",
       "    </tr>\n",
       "  </thead>\n",
       "  <tbody>\n",
       "    <tr>\n",
       "      <th>0</th>\n",
       "      <td>1960</td>\n",
       "      <td>5.918412e+10</td>\n",
       "    </tr>\n",
       "    <tr>\n",
       "      <th>1</th>\n",
       "      <td>1961</td>\n",
       "      <td>4.955705e+10</td>\n",
       "    </tr>\n",
       "    <tr>\n",
       "      <th>2</th>\n",
       "      <td>1962</td>\n",
       "      <td>4.668518e+10</td>\n",
       "    </tr>\n",
       "    <tr>\n",
       "      <th>3</th>\n",
       "      <td>1963</td>\n",
       "      <td>5.009730e+10</td>\n",
       "    </tr>\n",
       "    <tr>\n",
       "      <th>4</th>\n",
       "      <td>1964</td>\n",
       "      <td>5.906225e+10</td>\n",
       "    </tr>\n",
       "    <tr>\n",
       "      <th>5</th>\n",
       "      <td>1965</td>\n",
       "      <td>6.970915e+10</td>\n",
       "    </tr>\n",
       "    <tr>\n",
       "      <th>6</th>\n",
       "      <td>1966</td>\n",
       "      <td>7.587943e+10</td>\n",
       "    </tr>\n",
       "    <tr>\n",
       "      <th>7</th>\n",
       "      <td>1967</td>\n",
       "      <td>7.205703e+10</td>\n",
       "    </tr>\n",
       "    <tr>\n",
       "      <th>8</th>\n",
       "      <td>1968</td>\n",
       "      <td>6.999350e+10</td>\n",
       "    </tr>\n",
       "    <tr>\n",
       "      <th>9</th>\n",
       "      <td>1969</td>\n",
       "      <td>7.871882e+10</td>\n",
       "    </tr>\n",
       "  </tbody>\n",
       "</table>\n",
       "</div>"
      ],
      "text/plain": [
       "   Year         Value\n",
       "0  1960  5.918412e+10\n",
       "1  1961  4.955705e+10\n",
       "2  1962  4.668518e+10\n",
       "3  1963  5.009730e+10\n",
       "4  1964  5.906225e+10\n",
       "5  1965  6.970915e+10\n",
       "6  1966  7.587943e+10\n",
       "7  1967  7.205703e+10\n",
       "8  1968  6.999350e+10\n",
       "9  1969  7.871882e+10"
      ]
     },
     "execution_count": 3,
     "metadata": {},
     "output_type": "execute_result"
    }
   ],
   "source": [
    "#display the first 5 rows\n",
    "df.head(10)"
   ]
  },
  {
   "cell_type": "code",
   "execution_count": 41,
   "id": "6dbfd7b2",
   "metadata": {},
   "outputs": [
    {
     "data": {
      "text/html": [
       "<div>\n",
       "<style scoped>\n",
       "    .dataframe tbody tr th:only-of-type {\n",
       "        vertical-align: middle;\n",
       "    }\n",
       "\n",
       "    .dataframe tbody tr th {\n",
       "        vertical-align: top;\n",
       "    }\n",
       "\n",
       "    .dataframe thead th {\n",
       "        text-align: right;\n",
       "    }\n",
       "</style>\n",
       "<table border=\"1\" class=\"dataframe\">\n",
       "  <thead>\n",
       "    <tr style=\"text-align: right;\">\n",
       "      <th></th>\n",
       "      <th>Year</th>\n",
       "      <th>Value</th>\n",
       "    </tr>\n",
       "  </thead>\n",
       "  <tbody>\n",
       "    <tr>\n",
       "      <th>50</th>\n",
       "      <td>2010</td>\n",
       "      <td>6.039659e+12</td>\n",
       "    </tr>\n",
       "    <tr>\n",
       "      <th>51</th>\n",
       "      <td>2011</td>\n",
       "      <td>7.492432e+12</td>\n",
       "    </tr>\n",
       "    <tr>\n",
       "      <th>52</th>\n",
       "      <td>2012</td>\n",
       "      <td>8.461623e+12</td>\n",
       "    </tr>\n",
       "    <tr>\n",
       "      <th>53</th>\n",
       "      <td>2013</td>\n",
       "      <td>9.490603e+12</td>\n",
       "    </tr>\n",
       "    <tr>\n",
       "      <th>54</th>\n",
       "      <td>2014</td>\n",
       "      <td>1.035483e+13</td>\n",
       "    </tr>\n",
       "  </tbody>\n",
       "</table>\n",
       "</div>"
      ],
      "text/plain": [
       "    Year         Value\n",
       "50  2010  6.039659e+12\n",
       "51  2011  7.492432e+12\n",
       "52  2012  8.461623e+12\n",
       "53  2013  9.490603e+12\n",
       "54  2014  1.035483e+13"
      ]
     },
     "execution_count": 41,
     "metadata": {},
     "output_type": "execute_result"
    }
   ],
   "source": [
    "df.tail()"
   ]
  },
  {
   "cell_type": "code",
   "execution_count": 4,
   "id": "eaf6133e",
   "metadata": {},
   "outputs": [
    {
     "data": {
      "text/plain": [
       "(55, 2)"
      ]
     },
     "execution_count": 4,
     "metadata": {},
     "output_type": "execute_result"
    }
   ],
   "source": [
    "# See the shape (number rows) and size (number of columns)\n",
    "df.shape"
   ]
  },
  {
   "cell_type": "markdown",
   "id": "cc3606eb",
   "metadata": {},
   "source": [
    "## Study the data"
   ]
  },
  {
   "cell_type": "code",
   "execution_count": 5,
   "id": "af0a5f65",
   "metadata": {},
   "outputs": [
    {
     "data": {
      "text/html": [
       "<div>\n",
       "<style scoped>\n",
       "    .dataframe tbody tr th:only-of-type {\n",
       "        vertical-align: middle;\n",
       "    }\n",
       "\n",
       "    .dataframe tbody tr th {\n",
       "        vertical-align: top;\n",
       "    }\n",
       "\n",
       "    .dataframe thead th {\n",
       "        text-align: right;\n",
       "    }\n",
       "</style>\n",
       "<table border=\"1\" class=\"dataframe\">\n",
       "  <thead>\n",
       "    <tr style=\"text-align: right;\">\n",
       "      <th></th>\n",
       "      <th>Year</th>\n",
       "      <th>Value</th>\n",
       "    </tr>\n",
       "  </thead>\n",
       "  <tbody>\n",
       "    <tr>\n",
       "      <th>count</th>\n",
       "      <td>55.00000</td>\n",
       "      <td>5.500000e+01</td>\n",
       "    </tr>\n",
       "    <tr>\n",
       "      <th>mean</th>\n",
       "      <td>1987.00000</td>\n",
       "      <td>1.437042e+12</td>\n",
       "    </tr>\n",
       "    <tr>\n",
       "      <th>std</th>\n",
       "      <td>16.02082</td>\n",
       "      <td>2.500085e+12</td>\n",
       "    </tr>\n",
       "    <tr>\n",
       "      <th>min</th>\n",
       "      <td>1960.00000</td>\n",
       "      <td>4.668518e+10</td>\n",
       "    </tr>\n",
       "    <tr>\n",
       "      <th>25%</th>\n",
       "      <td>1973.50000</td>\n",
       "      <td>1.395123e+11</td>\n",
       "    </tr>\n",
       "    <tr>\n",
       "      <th>50%</th>\n",
       "      <td>1987.00000</td>\n",
       "      <td>3.074796e+11</td>\n",
       "    </tr>\n",
       "    <tr>\n",
       "      <th>75%</th>\n",
       "      <td>2000.50000</td>\n",
       "      <td>1.268748e+12</td>\n",
       "    </tr>\n",
       "    <tr>\n",
       "      <th>max</th>\n",
       "      <td>2014.00000</td>\n",
       "      <td>1.035483e+13</td>\n",
       "    </tr>\n",
       "  </tbody>\n",
       "</table>\n",
       "</div>"
      ],
      "text/plain": [
       "             Year         Value\n",
       "count    55.00000  5.500000e+01\n",
       "mean   1987.00000  1.437042e+12\n",
       "std      16.02082  2.500085e+12\n",
       "min    1960.00000  4.668518e+10\n",
       "25%    1973.50000  1.395123e+11\n",
       "50%    1987.00000  3.074796e+11\n",
       "75%    2000.50000  1.268748e+12\n",
       "max    2014.00000  1.035483e+13"
      ]
     },
     "execution_count": 5,
     "metadata": {},
     "output_type": "execute_result"
    }
   ],
   "source": [
    "df.describe()"
   ]
  },
  {
   "cell_type": "markdown",
   "id": "e449ed24",
   "metadata": {},
   "source": [
    "### Preprocessing the data"
   ]
  },
  {
   "cell_type": "code",
   "execution_count": 6,
   "id": "8c157de6",
   "metadata": {},
   "outputs": [
    {
     "data": {
      "text/plain": [
       "<matplotlib.collections.PathCollection at 0x1fde6104550>"
      ]
     },
     "execution_count": 6,
     "metadata": {},
     "output_type": "execute_result"
    },
    {
     "data": {
      "image/png": "[encoded data removed]",
      "text/plain": [
       "<Figure size 864x576 with 1 Axes>"
      ]
     },
     "metadata": {
      "needs_background": "light"
     },
     "output_type": "display_data"
    }
   ],
   "source": [
    "# plot the data\n",
    "\n",
    "plt.figure(figsize=(12,8))\n",
    "plt.ylabel('Value')\n",
    "plt.xlabel('Year')\n",
    "plt.scatter(df.Year, df.Value, color='green')\n"
   ]
  },
  {
   "cell_type": "code",
   "execution_count": 8,
   "id": "c2cda59d",
   "metadata": {},
   "outputs": [],
   "source": [
    "lin_fit = np.poly1d(np.polyfit(df['Year'], df['Value'],1))"
   ]
  },
  {
   "cell_type": "code",
   "execution_count": 9,
   "id": "777d8e34",
   "metadata": {},
   "outputs": [],
   "source": [
    "def calculate_value(year):\n",
    "    return lin_fit(year)"
   ]
  },
  {
   "cell_type": "markdown",
   "id": "3662230e",
   "metadata": {},
   "source": [
    "### Calculating for the Years 2010, 2020, 2022"
   ]
  },
  {
   "cell_type": "code",
   "execution_count": 10,
   "id": "02aa4d42",
   "metadata": {},
   "outputs": [
    {
     "data": {
      "text/plain": [
       "4035114903803.4688"
      ]
     },
     "execution_count": 10,
     "metadata": {},
     "output_type": "execute_result"
    }
   ],
   "source": [
    "# Year 2010\n",
    "calculate_value(2010)"
   ]
  },
  {
   "cell_type": "code",
   "execution_count": 11,
   "id": "0f5371bc",
   "metadata": {},
   "outputs": [
    {
     "data": {
      "text/plain": [
       "5164711898506.0"
      ]
     },
     "execution_count": 11,
     "metadata": {},
     "output_type": "execute_result"
    }
   ],
   "source": [
    "# Year 2020\n",
    "calculate_value(2020)"
   ]
  },
  {
   "cell_type": "code",
   "execution_count": 12,
   "id": "5cd8d222",
   "metadata": {},
   "outputs": [
    {
     "data": {
      "text/plain": [
       "5390631297446.531"
      ]
     },
     "execution_count": 12,
     "metadata": {},
     "output_type": "execute_result"
    }
   ],
   "source": [
    "# Year 2022\n",
    "calculate_value(2022)"
   ]
  },
  {
   "cell_type": "markdown",
   "id": "c8627c0f",
   "metadata": {},
   "source": [
    "# Splitting the dataset into the Training set and Test set"
   ]
  },
  {
   "cell_type": "code",
   "execution_count": 13,
   "id": "7dffbc0a",
   "metadata": {},
   "outputs": [],
   "source": [
    "# split x and y\n",
    "X = df.iloc[:, 0:1].values\n",
    "y = df.iloc[:, 1].values"
   ]
  },
  {
   "cell_type": "code",
   "execution_count": 14,
   "id": "2cb1629e",
   "metadata": {},
   "outputs": [],
   "source": [
    "from sklearn.model_selection import train_test_split\n",
    "\n",
    "X_train, X_test, y_train, y_test = train_test_split(X, y, test_size=0.2, random_state=0)"
   ]
  },
  {
   "cell_type": "code",
   "execution_count": 15,
   "id": "f1302522",
   "metadata": {},
   "outputs": [
    {
     "data": {
      "image/png": "[encoded data removed]",
      "text/plain": [
       "<Figure size 864x576 with 1 Axes>"
      ]
     },
     "metadata": {
      "needs_background": "light"
     },
     "output_type": "display_data"
    }
   ],
   "source": [
    "#Showing the training plots\n",
    "plt.figure(figsize=(12,8))\n",
    "plt.scatter(X_train, y_train, color='blue')\n",
    "plt.xlabel('X')\n",
    "plt.ylabel('y')\n",
    "plt.show()"
   ]
  },
  {
   "cell_type": "markdown",
   "id": "3407ad00",
   "metadata": {},
   "source": [
    "### Creating a Linear regression model"
   ]
  },
  {
   "cell_type": "code",
   "execution_count": 16,
   "id": "7538c9b5",
   "metadata": {},
   "outputs": [
    {
     "data": {
      "text/plain": [
       "LinearRegression()"
      ]
     },
     "execution_count": 16,
     "metadata": {},
     "output_type": "execute_result"
    }
   ],
   "source": [
    "# Create linear regression Object\n",
    "regressor = LinearRegression()\n",
    "\n",
    "#Train the model using the training sets\n",
    "regressor.fit(X_train, y_train)"
   ]
  },
  {
   "cell_type": "markdown",
   "id": "6ff8bb12",
   "metadata": {},
   "source": [
    "## Test the model"
   ]
  },
  {
   "cell_type": "code",
   "execution_count": 45,
   "id": "81d6d6c6",
   "metadata": {},
   "outputs": [
    {
     "data": {
      "text/plain": [
       "array([-1.86060263e+12, -1.73159978e+12, -1.60259693e+12, -1.47359407e+12,\n",
       "       -1.34459122e+12, -1.21558837e+12, -1.08658552e+12, -9.57582663e+11,\n",
       "       -8.28579811e+11, -6.99576958e+11, -5.70574105e+11, -4.41571253e+11,\n",
       "       -3.12568400e+11, -1.83565547e+11, -5.45626945e+10,  7.44401582e+10,\n",
       "        2.03443011e+11,  3.32445864e+11,  4.61448716e+11,  5.90451569e+11,\n",
       "        7.19454422e+11,  8.48457275e+11,  9.77460127e+11,  1.10646298e+12,\n",
       "        1.23546583e+12,  1.36446869e+12,  1.49347154e+12,  1.62247439e+12,\n",
       "        1.75147724e+12,  1.88048010e+12,  2.00948295e+12,  2.13848580e+12,\n",
       "        2.26748865e+12,  2.39649151e+12,  2.52549436e+12,  2.65449721e+12,\n",
       "        2.78350007e+12,  2.91250292e+12,  3.04150577e+12,  3.17050862e+12,\n",
       "        3.29951148e+12,  3.42851433e+12,  3.55751718e+12,  3.68652003e+12,\n",
       "        3.81552289e+12,  3.94452574e+12,  4.07352859e+12,  4.20253145e+12,\n",
       "        4.33153430e+12,  4.46053715e+12,  4.58954000e+12,  4.71854286e+12,\n",
       "        4.84754571e+12,  4.97654856e+12,  5.10555141e+12])"
      ]
     },
     "execution_count": 45,
     "metadata": {},
     "output_type": "execute_result"
    }
   ],
   "source": [
    "# Predict the output\n",
    "y_predict = regressor.predict(X)\n",
    "y_predict"
   ]
  },
  {
   "cell_type": "code",
   "execution_count": 18,
   "id": "a5483180",
   "metadata": {},
   "outputs": [
    {
     "data": {
      "text/plain": [
       "-2.264658016332367"
      ]
     },
     "execution_count": 18,
     "metadata": {},
     "output_type": "execute_result"
    }
   ],
   "source": [
    "# Calculate a score associated with the model\n",
    "regressor.score(X_test, y_test)"
   ]
  },
  {
   "cell_type": "markdown",
   "id": "d5d5c81e",
   "metadata": {},
   "source": [
    "# Well that's shit!\n",
    "***"
   ]
  },
  {
   "cell_type": "code",
   "execution_count": 19,
   "id": "37684759",
   "metadata": {},
   "outputs": [
    {
     "data": {
      "image/png": "[encoded data removed]",
      "text/plain": [
       "<Figure size 864x576 with 1 Axes>"
      ]
     },
     "metadata": {
      "needs_background": "light"
     },
     "output_type": "display_data"
    }
   ],
   "source": [
    "# Visualizing the Linear Regression results\n",
    "\n",
    "plt.figure(figsize=(12,8))\n",
    "plt.scatter(X, y, color='green')\n",
    "plt.plot(X, y_predict, color='red')\n",
    "plt.xlabel('Value')\n",
    "plt.ylabel('Year')\n",
    "plt.show()"
   ]
  },
  {
   "cell_type": "markdown",
   "id": "7e0ee640",
   "metadata": {},
   "source": [
    "# Validate the accuracy"
   ]
  },
  {
   "cell_type": "code",
   "execution_count": 20,
   "id": "fd4dacc3",
   "metadata": {},
   "outputs": [
    {
     "name": "stdout",
     "output_type": "stream",
     "text": [
      "Linear regressor performance:\n",
      "Mean absolute error = 1425063764345.96\n",
      "Mean squared error = 3.020531610980459e+24\n",
      "Median absolute error = 1403653476514.03\n",
      "Explain variance score = 0.51\n",
      "R2 score = 0.51\n",
      "Accuracy =  51 %\n"
     ]
    }
   ],
   "source": [
    "print(\"Linear regressor performance:\")\n",
    "print(\"Mean absolute error =\", round(sm.mean_absolute_error(y, y_predict), 2))\n",
    "print(\"Mean squared error =\", round(sm.mean_squared_error(y, y_predict), 2))\n",
    "print(\"Median absolute error =\", round(sm.median_absolute_error(y, y_predict), 2))\n",
    "print(\"Explain variance score =\", round(sm.explained_variance_score(y, y_predict), 2))\n",
    "print(\"R2 score =\", round(sm.r2_score(y, y_predict), 2))\n",
    "print(\"Accuracy = \", int(round(sm.explained_variance_score(y, y_predict), 2)*100), \"%\" )"
   ]
  },
  {
   "cell_type": "markdown",
   "id": "54a9aeb5",
   "metadata": {},
   "source": [
    "### This is not good..."
   ]
  },
  {
   "cell_type": "markdown",
   "id": "696c7f7e",
   "metadata": {},
   "source": [
    "***"
   ]
  },
  {
   "cell_type": "markdown",
   "id": "bec02e03",
   "metadata": {},
   "source": [
    "## Polynomial Regression model"
   ]
  },
  {
   "cell_type": "code",
   "execution_count": 21,
   "id": "cfc2cc37",
   "metadata": {},
   "outputs": [
    {
     "data": {
      "text/plain": [
       "LinearRegression()"
      ]
     },
     "execution_count": 21,
     "metadata": {},
     "output_type": "execute_result"
    }
   ],
   "source": [
    "from sklearn.preprocessing import PolynomialFeatures\n",
    "\n",
    "poly_reg = PolynomialFeatures(degree=4)\n",
    "\n",
    "X_poly = poly_reg.fit_transform(X)\n",
    "\n",
    "#Creating Linear regression\n",
    "pol_lin_reg = LinearRegression()\n",
    "pol_lin_reg.fit(X_poly, y)"
   ]
  },
  {
   "cell_type": "code",
   "execution_count": 22,
   "id": "6d72c379",
   "metadata": {},
   "outputs": [
    {
     "data": {
      "text/plain": [
       "array([-6.99853251e+11, -4.62561572e+11, -2.55301622e+11, -7.64772326e+10,\n",
       "        7.55102562e+10,  2.02261986e+11,  3.05381590e+11,  3.86475185e+11,\n",
       "        4.47151377e+11,  4.89021258e+11,  5.13698406e+11,  5.22798889e+11,\n",
       "        5.17941259e+11,  5.00746556e+11,  4.72838310e+11,  4.35842531e+11,\n",
       "        3.91387723e+11,  3.41104874e+11,  2.86627457e+11,  2.29591438e+11,\n",
       "        1.71635262e+11,  1.14399868e+11,  5.95286788e+10,  8.66760461e+09,\n",
       "       -3.65349576e+10, -7.44281236e+10, -1.03358522e+11, -1.21670294e+11,\n",
       "       -1.27705096e+11, -1.19802094e+11, -9.62979706e+10, -5.55269176e+10,\n",
       "        4.17935750e+09,  8.44916348e+10,  1.87083182e+11,  3.13629752e+11,\n",
       "        4.65809588e+11,  6.45303417e+11,  8.53794454e+11,  1.09296840e+12,\n",
       "        1.36451345e+12,  1.67012028e+12,  2.01148204e+12,  2.39029440e+12,\n",
       "        2.80825548e+12,  3.26706592e+12,  3.76842881e+12,  4.31404977e+12,\n",
       "        4.90563688e+12,  5.54490070e+12,  6.23355431e+12,  6.97331323e+12,\n",
       "        7.76589552e+12,  8.61302168e+12,  9.51641473e+12])"
      ]
     },
     "execution_count": 22,
     "metadata": {},
     "output_type": "execute_result"
    }
   ],
   "source": [
    "# Apply model to new training\n",
    "y_predict_poly = pol_lin_reg.predict(X_poly)\n",
    "y_predict_poly"
   ]
  },
  {
   "cell_type": "code",
   "execution_count": 23,
   "id": "0dfbd03b",
   "metadata": {},
   "outputs": [
    {
     "data": {
      "image/png": "[encoded data removed]",
      "text/plain": [
       "<Figure size 864x576 with 1 Axes>"
      ]
     },
     "metadata": {
      "needs_background": "light"
     },
     "output_type": "display_data"
    }
   ],
   "source": [
    "# Visualizing the Polymonial Regression results\n",
    "\n",
    "plt.figure(figsize=(12,8))\n",
    "plt.scatter(X, y, color='green')\n",
    "plt.plot(X, y_predict_poly, color='red')\n",
    "plt.xlabel('Value')\n",
    "plt.ylabel('Year')\n",
    "\n",
    "plt.show()"
   ]
  },
  {
   "cell_type": "code",
   "execution_count": 24,
   "id": "dcb4126a",
   "metadata": {},
   "outputs": [
    {
     "name": "stdout",
     "output_type": "stream",
     "text": [
      "Polynomial Regression performance:\n",
      "Mean absolute error = 393203235650.78\n",
      "Mean squared error = 2.140494431577487e+23\n",
      "Median absolute error = 377157878939.69\n",
      "Explain variance score = 0.97\n",
      "R2 score = 0.97\n",
      "Accuracy =  97 %\n"
     ]
    }
   ],
   "source": [
    "print(\"Polynomial Regression performance:\")\n",
    "print(\"Mean absolute error =\", round(sm.mean_absolute_error(y, y_predict_poly), 2))\n",
    "print(\"Mean squared error =\", round(sm.mean_squared_error(y, y_predict_poly), 2))\n",
    "print(\"Median absolute error =\", round(sm.median_absolute_error(y, y_predict_poly), 2))\n",
    "print(\"Explain variance score =\", round(sm.explained_variance_score(y, y_predict_poly), 2))\n",
    "print(\"R2 score =\", round(sm.r2_score(y, y_predict_poly), 2))\n",
    "print(\"Accuracy = \", int(round(sm.explained_variance_score(y, y_predict_poly), 2)*100), \"%\" )"
   ]
  },
  {
   "cell_type": "markdown",
   "id": "fd231c73",
   "metadata": {},
   "source": [
    "### Predicting with polynomial model"
   ]
  },
  {
   "cell_type": "code",
   "execution_count": 50,
   "id": "1780eb35",
   "metadata": {},
   "outputs": [
    {
     "data": {
      "text/plain": [
       "'1364513452992'"
      ]
     },
     "execution_count": 50,
     "metadata": {},
     "output_type": "execute_result"
    }
   ],
   "source": [
    "temp = pol_lin_reg.predict(poly_reg.fit_transform([[2000]]))\n",
    "\n",
    "\"{:.0f}\".format(float(temp))"
   ]
  },
  {
   "cell_type": "code",
   "execution_count": 52,
   "id": "2ef9bcee",
   "metadata": {},
   "outputs": [],
   "source": [
    "def poly_predict_value(year):\n",
    "    y_pre_val = pol_lin_reg.predict(poly_reg.fit_transform([[year]]))\n",
    "    return \"{:.0f}\".format(float(y_pre_val))"
   ]
  },
  {
   "cell_type": "code",
   "execution_count": 56,
   "id": "ca92cbe3",
   "metadata": {},
   "outputs": [
    {
     "data": {
      "text/plain": [
       "'6233554306496'"
      ]
     },
     "execution_count": 56,
     "metadata": {},
     "output_type": "execute_result"
    }
   ],
   "source": [
    "# Year 2010\n",
    "poly_predict_value(2010)"
   ]
  },
  {
   "cell_type": "code",
   "execution_count": 57,
   "id": "d55bf8e3",
   "metadata": {},
   "outputs": [
    {
     "data": {
      "text/plain": [
       "'16215179397824'"
      ]
     },
     "execution_count": 57,
     "metadata": {},
     "output_type": "execute_result"
    }
   ],
   "source": [
    "# Year 2020\n",
    "poly_predict_value(2020)"
   ]
  },
  {
   "cell_type": "code",
   "execution_count": 58,
   "id": "6fe316fd",
   "metadata": {},
   "outputs": [
    {
     "data": {
      "text/plain": [
       "'18976748596928'"
      ]
     },
     "execution_count": 58,
     "metadata": {},
     "output_type": "execute_result"
    }
   ],
   "source": [
    "# Year 2022\n",
    "poly_predict_value(2022)"
   ]
  },
  {
   "cell_type": "markdown",
   "id": "ab18d0e2",
   "metadata": {},
   "source": [
    "***"
   ]
  },
  {
   "cell_type": "markdown",
   "id": "4b131aa3",
   "metadata": {},
   "source": [
    "1. What type/s of regression have you applied?\n",
    "\n",
    "2. Which were the challenges?\n",
    "\n",
    "3. How accurate is your solution?\n",
    "\n",
    "3. What else could be done for improvement of the accuracy?\n",
    "\n",
    "4. This is a group project.\n",
    "\n",
    "5. The solution brings two more study points to your collection."
   ]
  },
  {
   "cell_type": "code",
   "execution_count": null,
   "id": "9f4ec9bb",
   "metadata": {},
   "outputs": [],
   "source": []
  },
  {
   "cell_type": "markdown",
   "id": "d94e2566",
   "metadata": {},
   "source": [
    "***"
   ]
  },
  {
   "cell_type": "markdown",
   "id": "671d3328",
   "metadata": {},
   "source": [
    "# Trying Sigmoidal model"
   ]
  },
  {
   "cell_type": "markdown",
   "id": "87ce8a4f",
   "metadata": {},
   "source": [
    "## Building the model"
   ]
  },
  {
   "cell_type": "code",
   "execution_count": 25,
   "id": "f3345bd5",
   "metadata": {},
   "outputs": [],
   "source": [
    "x1, y1 = (df[\"Year\"].values, df[\"Value\"].values)"
   ]
  },
  {
   "cell_type": "code",
   "execution_count": 26,
   "id": "186cb9ec",
   "metadata": {},
   "outputs": [],
   "source": [
    "def sigmoid(x, Beta_1, Beta_2):\n",
    "    res = 1 / (1+ np.exp(-Beta_1*(x-Beta_2)))\n",
    "    return res"
   ]
  },
  {
   "cell_type": "code",
   "execution_count": 27,
   "id": "61a2e6ff",
   "metadata": {},
   "outputs": [
    {
     "data": {
      "text/plain": [
       "[<matplotlib.lines.Line2D at 0x1fdea82ae90>]"
      ]
     },
     "execution_count": 27,
     "metadata": {},
     "output_type": "execute_result"
    },
    {
     "data": {
      "image/png": "[encoded data removed]",
      "text/plain": [
       "<Figure size 432x288 with 1 Axes>"
      ]
     },
     "metadata": {
      "needs_background": "light"
     },
     "output_type": "display_data"
    }
   ],
   "source": [
    "beta_1 = 0.10\n",
    "beta_2 = 1990\n",
    "\n",
    "#logistic function\n",
    "y_pred = sigmoid(x1, beta_1, beta_2)\n",
    "\n",
    "#print(y_pred)\n",
    "#plot initial prediction against datapoints\n",
    "plt.plot(x1, (y_pred*15000000000000.))\n",
    "plt.plot(x1, y1, 'ro')"
   ]
  },
  {
   "cell_type": "markdown",
   "id": "93f631f9",
   "metadata": {},
   "source": [
    "## Normalize the data"
   ]
  },
  {
   "cell_type": "code",
   "execution_count": 28,
   "id": "afcaf266",
   "metadata": {},
   "outputs": [],
   "source": [
    "x_norm = x1/max(x1)\n",
    "y_norm = y1/max(y1)"
   ]
  },
  {
   "cell_type": "code",
   "execution_count": 29,
   "id": "9d956374",
   "metadata": {},
   "outputs": [
    {
     "name": "stdout",
     "output_type": "stream",
     "text": [
      " beta_1 = 690.451712, beta_2 = 0.997207\n"
     ]
    }
   ],
   "source": [
    "from scipy.optimize import curve_fit\n",
    "\n",
    "popt, pcov = curve_fit(sigmoid, x_norm, y_norm)\n",
    "#print the final parameters\n",
    "print(\" beta_1 = %f, beta_2 = %f\" % (popt[0], popt[1]))"
   ]
  },
  {
   "cell_type": "code",
   "execution_count": 30,
   "id": "9be3ec6a",
   "metadata": {
    "scrolled": true
   },
   "outputs": [
    {
     "name": "stderr",
     "output_type": "stream",
     "text": [
      "C:\\Users\\Nmtur\\AppData\\Local\\Temp\\ipykernel_20712\\1656103471.py:6: UserWarning: color is redundantly defined by the 'color' keyword argument and the fmt string \"ro\" (-> color='r'). The keyword argument will take precedence.\n",
      "  plt.plot(x_norm, y_norm, 'ro', color='r')\n"
     ]
    },
    {
     "data": {
      "image/png": "[encoded data removed]",
      "text/plain": [
       "<Figure size 864x576 with 1 Axes>"
      ]
     },
     "metadata": {
      "needs_background": "light"
     },
     "output_type": "display_data"
    }
   ],
   "source": [
    "# Plotting result\n",
    "x1 = x1/max(x1)\n",
    "\n",
    "plt.figure(figsize=(12,8))\n",
    "y = sigmoid(x1, *popt)\n",
    "plt.plot(x_norm, y_norm, 'ro', color='r')\n",
    "plt.plot(x1, y, linewidth=3.0)\n",
    "plt.ylabel('GDP')\n",
    "plt.xlabel('Year')\n",
    "plt.show()"
   ]
  },
  {
   "cell_type": "code",
   "execution_count": null,
   "id": "c6b43099",
   "metadata": {},
   "outputs": [],
   "source": []
  },
  {
   "cell_type": "code",
   "execution_count": 31,
   "id": "46904125",
   "metadata": {},
   "outputs": [
    {
     "name": "stdout",
     "output_type": "stream",
     "text": [
      "Mean absolute error: 0.25\n",
      "Residual sum of squares (MSE): 0.18\n",
      "R2-score: -311899727892823589826119757852917628928.00\n"
     ]
    },
    {
     "name": "stderr",
     "output_type": "stream",
     "text": [
      "C:\\Python310\\lib\\site-packages\\scipy\\optimize\\_minpack_py.py:833: OptimizeWarning: Covariance of the parameters could not be estimated\n",
      "  warnings.warn('Covariance of the parameters could not be estimated',\n"
     ]
    }
   ],
   "source": [
    "# write your code here\n",
    "msk = np.random.rand(len(df)) < 0.8\n",
    "train_x = x_norm[msk]\n",
    "test_x = x_norm[~msk]\n",
    "train_y = y_norm[msk]\n",
    "test_y = y_norm[~msk]\n",
    "\n",
    "# build the model using train set\n",
    "popt, pcov = curve_fit(sigmoid, train_x, train_y)\n",
    "\n",
    "# predict using test set\n",
    "y_hat = sigmoid(test_x, *popt)\n",
    "\n",
    "# evaluation\n",
    "print(\"Mean absolute error: %.2f\" % np.mean(np.absolute(y_hat - test_y)))\n",
    "print(\"Residual sum of squares (MSE): %.2f\" % np.mean((y_hat - test_y) ** 2))\n",
    "from sklearn.metrics import r2_score\n",
    "print(\"R2-score: %.2f\" % r2_score(y_hat , test_y) )"
   ]
  },
  {
   "cell_type": "code",
   "execution_count": 32,
   "id": "7a0d6a78",
   "metadata": {},
   "outputs": [
    {
     "name": "stdout",
     "output_type": "stream",
     "text": [
      "Polynomial Regression performance:\n",
      "Mean absolute error = 0.03\n",
      "Mean squared error = 0.0\n",
      "Median absolute error = 0.02\n",
      "Explain variance score = 0.98\n",
      "0.97\n"
     ]
    }
   ],
   "source": [
    "print(\"Polynomial Regression performance:\")\n",
    "print(\"Mean absolute error =\", round(sm.mean_absolute_error(y, y_norm), 2))\n",
    "print(\"Mean squared error =\", round(sm.mean_squared_error(y, y_norm), 2))\n",
    "print(\"Median absolute error =\", round(sm.median_absolute_error(y, y_norm), 2))\n",
    "print(\"Explain variance score =\", round(sm.explained_variance_score(y, y_norm), 2))\n",
    "print(round(sm.r2_score(y, y_norm),2))"
   ]
  },
  {
   "cell_type": "code",
   "execution_count": null,
   "id": "e358828e",
   "metadata": {},
   "outputs": [],
   "source": []
  }
 ],
 "metadata": {
  "kernelspec": {
   "display_name": "Python 3 (ipykernel)",
   "language": "python",
   "name": "python3"
  },
  "language_info": {
   "codemirror_mode": {
    "name": "ipython",
    "version": 3
   },
   "file_extension": ".py",
   "mimetype": "text/x-python",
   "name": "python",
   "nbconvert_exporter": "python",
   "pygments_lexer": "ipython3",
   "version": "3.10.2"
  }
 },
 "nbformat": 4,
 "nbformat_minor": 5
}
