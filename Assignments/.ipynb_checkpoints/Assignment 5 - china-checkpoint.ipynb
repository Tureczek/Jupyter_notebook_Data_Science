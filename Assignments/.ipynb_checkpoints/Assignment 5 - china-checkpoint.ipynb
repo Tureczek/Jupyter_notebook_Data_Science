{
 "cells": [
  {
   "cell_type": "markdown",
   "id": "9aed885a",
   "metadata": {},
   "source": [
    "# Assignment 5: Prediction by Regression\n",
    "\n",
    "Description\n",
    "\n",
    "In the file china_gdp.csv you will find historic data about the development of China's gross domestic product (GDP).\n",
    "\n",
    "Your task is to train a model that fits to the data and use the model for prediction of the GDP values of years 2010, 2020, and 2022.\n",
    "\n",
    "\n",
    "Please, submit a Python solution and elaborate on the following questions related to it:\n",
    "\n",
    "What type/s of regression have you applied?\n",
    "\n",
    "Which were the challenges?\n",
    "\n",
    "How accurate is your solution?\n",
    "\n",
    "What else could be done for improvement of the accuracy?\n",
    "\n",
    "\n",
    "This is a group project.\n",
    "\n",
    "The solution brings two more study points to your collection."
   ]
  },
  {
   "cell_type": "code",
   "execution_count": 1,
   "id": "2e7bb760",
   "metadata": {},
   "outputs": [],
   "source": [
    "import numpy as np\n",
    "import pandas as pd\n",
    "import matplotlib.pyplot as plt\n",
    "import seaborn as sns\n",
    "\n",
    "from sklearn.linear_model import LinearRegression\n",
    "from sklearn import linear_model\n",
    "from sklearn.preprocessing import PolynomialFeatures\n",
    "import sklearn.metrics as sm"
   ]
  },
  {
   "cell_type": "markdown",
   "id": "0f76eed5",
   "metadata": {},
   "source": [
    "## Enter the data"
   ]
  },
  {
   "cell_type": "code",
   "execution_count": 2,
   "id": "9c94cd2a",
   "metadata": {},
   "outputs": [],
   "source": [
    "# Enter data\n",
    "df = pd.read_csv('./china_gdp.csv')"
   ]
  },
  {
   "cell_type": "code",
   "execution_count": 3,
   "id": "28cb50e9",
   "metadata": {},
   "outputs": [
    {
     "data": {
      "text/html": [
       "<div>\n",
       "<style scoped>\n",
       "    .dataframe tbody tr th:only-of-type {\n",
       "        vertical-align: middle;\n",
       "    }\n",
       "\n",
       "    .dataframe tbody tr th {\n",
       "        vertical-align: top;\n",
       "    }\n",
       "\n",
       "    .dataframe thead th {\n",
       "        text-align: right;\n",
       "    }\n",
       "</style>\n",
       "<table border=\"1\" class=\"dataframe\">\n",
       "  <thead>\n",
       "    <tr style=\"text-align: right;\">\n",
       "      <th></th>\n",
       "      <th>Year</th>\n",
       "      <th>Value</th>\n",
       "    </tr>\n",
       "  </thead>\n",
       "  <tbody>\n",
       "    <tr>\n",
       "      <th>0</th>\n",
       "      <td>1960</td>\n",
       "      <td>5.918412e+10</td>\n",
       "    </tr>\n",
       "    <tr>\n",
       "      <th>1</th>\n",
       "      <td>1961</td>\n",
       "      <td>4.955705e+10</td>\n",
       "    </tr>\n",
       "    <tr>\n",
       "      <th>2</th>\n",
       "      <td>1962</td>\n",
       "      <td>4.668518e+10</td>\n",
       "    </tr>\n",
       "    <tr>\n",
       "      <th>3</th>\n",
       "      <td>1963</td>\n",
       "      <td>5.009730e+10</td>\n",
       "    </tr>\n",
       "    <tr>\n",
       "      <th>4</th>\n",
       "      <td>1964</td>\n",
       "      <td>5.906225e+10</td>\n",
       "    </tr>\n",
       "    <tr>\n",
       "      <th>5</th>\n",
       "      <td>1965</td>\n",
       "      <td>6.970915e+10</td>\n",
       "    </tr>\n",
       "    <tr>\n",
       "      <th>6</th>\n",
       "      <td>1966</td>\n",
       "      <td>7.587943e+10</td>\n",
       "    </tr>\n",
       "    <tr>\n",
       "      <th>7</th>\n",
       "      <td>1967</td>\n",
       "      <td>7.205703e+10</td>\n",
       "    </tr>\n",
       "    <tr>\n",
       "      <th>8</th>\n",
       "      <td>1968</td>\n",
       "      <td>6.999350e+10</td>\n",
       "    </tr>\n",
       "    <tr>\n",
       "      <th>9</th>\n",
       "      <td>1969</td>\n",
       "      <td>7.871882e+10</td>\n",
       "    </tr>\n",
       "  </tbody>\n",
       "</table>\n",
       "</div>"
      ],
      "text/plain": [
       "   Year         Value\n",
       "0  1960  5.918412e+10\n",
       "1  1961  4.955705e+10\n",
       "2  1962  4.668518e+10\n",
       "3  1963  5.009730e+10\n",
       "4  1964  5.906225e+10\n",
       "5  1965  6.970915e+10\n",
       "6  1966  7.587943e+10\n",
       "7  1967  7.205703e+10\n",
       "8  1968  6.999350e+10\n",
       "9  1969  7.871882e+10"
      ]
     },
     "execution_count": 3,
     "metadata": {},
     "output_type": "execute_result"
    }
   ],
   "source": [
    "#display the first 5 rows\n",
    "df.head(10)"
   ]
  },
  {
   "cell_type": "code",
   "execution_count": 4,
   "id": "eaf6133e",
   "metadata": {},
   "outputs": [
    {
     "data": {
      "text/plain": [
       "(55, 2)"
      ]
     },
     "execution_count": 4,
     "metadata": {},
     "output_type": "execute_result"
    }
   ],
   "source": [
    "# See the shape (number rows) and size (number of columns)\n",
    "df.shape"
   ]
  },
  {
   "cell_type": "markdown",
   "id": "cc3606eb",
   "metadata": {},
   "source": [
    "## Study the data"
   ]
  },
  {
   "cell_type": "code",
   "execution_count": 5,
   "id": "af0a5f65",
   "metadata": {},
   "outputs": [
    {
     "data": {
      "text/html": [
       "<div>\n",
       "<style scoped>\n",
       "    .dataframe tbody tr th:only-of-type {\n",
       "        vertical-align: middle;\n",
       "    }\n",
       "\n",
       "    .dataframe tbody tr th {\n",
       "        vertical-align: top;\n",
       "    }\n",
       "\n",
       "    .dataframe thead th {\n",
       "        text-align: right;\n",
       "    }\n",
       "</style>\n",
       "<table border=\"1\" class=\"dataframe\">\n",
       "  <thead>\n",
       "    <tr style=\"text-align: right;\">\n",
       "      <th></th>\n",
       "      <th>Year</th>\n",
       "      <th>Value</th>\n",
       "    </tr>\n",
       "  </thead>\n",
       "  <tbody>\n",
       "    <tr>\n",
       "      <th>count</th>\n",
       "      <td>55.00000</td>\n",
       "      <td>5.500000e+01</td>\n",
       "    </tr>\n",
       "    <tr>\n",
       "      <th>mean</th>\n",
       "      <td>1987.00000</td>\n",
       "      <td>1.437042e+12</td>\n",
       "    </tr>\n",
       "    <tr>\n",
       "      <th>std</th>\n",
       "      <td>16.02082</td>\n",
       "      <td>2.500085e+12</td>\n",
       "    </tr>\n",
       "    <tr>\n",
       "      <th>min</th>\n",
       "      <td>1960.00000</td>\n",
       "      <td>4.668518e+10</td>\n",
       "    </tr>\n",
       "    <tr>\n",
       "      <th>25%</th>\n",
       "      <td>1973.50000</td>\n",
       "      <td>1.395123e+11</td>\n",
       "    </tr>\n",
       "    <tr>\n",
       "      <th>50%</th>\n",
       "      <td>1987.00000</td>\n",
       "      <td>3.074796e+11</td>\n",
       "    </tr>\n",
       "    <tr>\n",
       "      <th>75%</th>\n",
       "      <td>2000.50000</td>\n",
       "      <td>1.268748e+12</td>\n",
       "    </tr>\n",
       "    <tr>\n",
       "      <th>max</th>\n",
       "      <td>2014.00000</td>\n",
       "      <td>1.035483e+13</td>\n",
       "    </tr>\n",
       "  </tbody>\n",
       "</table>\n",
       "</div>"
      ],
      "text/plain": [
       "             Year         Value\n",
       "count    55.00000  5.500000e+01\n",
       "mean   1987.00000  1.437042e+12\n",
       "std      16.02082  2.500085e+12\n",
       "min    1960.00000  4.668518e+10\n",
       "25%    1973.50000  1.395123e+11\n",
       "50%    1987.00000  3.074796e+11\n",
       "75%    2000.50000  1.268748e+12\n",
       "max    2014.00000  1.035483e+13"
      ]
     },
     "execution_count": 5,
     "metadata": {},
     "output_type": "execute_result"
    }
   ],
   "source": [
    "df.describe()"
   ]
  },
  {
   "cell_type": "markdown",
   "id": "e449ed24",
   "metadata": {},
   "source": [
    "### Preprocessing the data"
   ]
  },
  {
   "cell_type": "code",
   "execution_count": 6,
   "id": "8c157de6",
   "metadata": {},
   "outputs": [
    {
     "data": {
      "text/plain": [
       "<matplotlib.collections.PathCollection at 0x1bb2f2d0460>"
      ]
     },
     "execution_count": 6,
     "metadata": {},
     "output_type": "execute_result"
    },
    {
     "data": {
      "image/png": "[encoded data removed]",
      "text/plain": [
       "<Figure size 864x576 with 1 Axes>"
      ]
     },
     "metadata": {
      "needs_background": "light"
     },
     "output_type": "display_data"
    }
   ],
   "source": [
    "# plot the data\n",
    "\n",
    "plt.figure(figsize=(12,8))\n",
    "plt.ylabel('Value')\n",
    "plt.xlabel('Year')\n",
    "plt.scatter(df.Year, df.Value, color='green')\n"
   ]
  },
  {
   "cell_type": "markdown",
   "id": "c8627c0f",
   "metadata": {},
   "source": [
    "# Splitting the dataset into the Training set and Test set"
   ]
  },
  {
   "cell_type": "code",
   "execution_count": 7,
   "id": "7dffbc0a",
   "metadata": {},
   "outputs": [],
   "source": [
    "# split x and y\n",
    "X = df.iloc[:, 0:1].values\n",
    "y = df.iloc[:, 1].values"
   ]
  },
  {
   "cell_type": "code",
   "execution_count": 8,
   "id": "2cb1629e",
   "metadata": {},
   "outputs": [],
   "source": [
    "from sklearn.model_selection import train_test_split\n",
    "\n",
    "X_train, X_test, y_train, y_test = train_test_split(X, y, test_size=0.2, random_state=0)"
   ]
  },
  {
   "cell_type": "code",
   "execution_count": 9,
   "id": "f1302522",
   "metadata": {},
   "outputs": [
    {
     "data": {
      "image/png": "[encoded data removed]",
      "text/plain": [
       "<Figure size 864x576 with 1 Axes>"
      ]
     },
     "metadata": {
      "needs_background": "light"
     },
     "output_type": "display_data"
    }
   ],
   "source": [
    "#Showing the training plots\n",
    "plt.figure(figsize=(12,8))\n",
    "plt.scatter(X_train, y_train, color='blue')\n",
    "plt.xlabel('X')\n",
    "plt.ylabel('y')\n",
    "plt.show()"
   ]
  },
  {
   "cell_type": "markdown",
   "id": "3407ad00",
   "metadata": {},
   "source": [
    "### Creating a Linear regression model"
   ]
  },
  {
   "cell_type": "code",
   "execution_count": 10,
   "id": "7538c9b5",
   "metadata": {},
   "outputs": [
    {
     "data": {
      "text/plain": [
       "LinearRegression()"
      ]
     },
     "execution_count": 10,
     "metadata": {},
     "output_type": "execute_result"
    }
   ],
   "source": [
    "# Create linear regression Object\n",
    "regressor = LinearRegression()\n",
    "\n",
    "#Train the model using the training sets\n",
    "regressor.fit(X_train, y_train)"
   ]
  },
  {
   "cell_type": "markdown",
   "id": "6ff8bb12",
   "metadata": {},
   "source": [
    "## Test the model"
   ]
  },
  {
   "cell_type": "code",
   "execution_count": 11,
   "id": "81d6d6c6",
   "metadata": {},
   "outputs": [
    {
     "data": {
      "text/plain": [
       "array([-1.86060263e+12, -1.73159978e+12, -1.60259693e+12, -1.47359407e+12,\n",
       "       -1.34459122e+12, -1.21558837e+12, -1.08658552e+12, -9.57582663e+11,\n",
       "       -8.28579811e+11, -6.99576958e+11, -5.70574105e+11, -4.41571253e+11,\n",
       "       -3.12568400e+11, -1.83565547e+11, -5.45626945e+10,  7.44401582e+10,\n",
       "        2.03443011e+11,  3.32445864e+11,  4.61448716e+11,  5.90451569e+11,\n",
       "        7.19454422e+11,  8.48457275e+11,  9.77460127e+11,  1.10646298e+12,\n",
       "        1.23546583e+12,  1.36446869e+12,  1.49347154e+12,  1.62247439e+12,\n",
       "        1.75147724e+12,  1.88048010e+12,  2.00948295e+12,  2.13848580e+12,\n",
       "        2.26748865e+12,  2.39649151e+12,  2.52549436e+12,  2.65449721e+12,\n",
       "        2.78350007e+12,  2.91250292e+12,  3.04150577e+12,  3.17050862e+12,\n",
       "        3.29951148e+12,  3.42851433e+12,  3.55751718e+12,  3.68652003e+12,\n",
       "        3.81552289e+12,  3.94452574e+12,  4.07352859e+12,  4.20253145e+12,\n",
       "        4.33153430e+12,  4.46053715e+12,  4.58954000e+12,  4.71854286e+12,\n",
       "        4.84754571e+12,  4.97654856e+12,  5.10555141e+12])"
      ]
     },
     "execution_count": 11,
     "metadata": {},
     "output_type": "execute_result"
    }
   ],
   "source": [
    "# Predict the output\n",
    "y_predict = regressor.predict(X)\n",
    "y_predict"
   ]
  },
  {
   "cell_type": "code",
   "execution_count": 12,
   "id": "a5483180",
   "metadata": {},
   "outputs": [
    {
     "data": {
      "text/plain": [
       "-2.264658016332354"
      ]
     },
     "execution_count": 12,
     "metadata": {},
     "output_type": "execute_result"
    }
   ],
   "source": [
    "# Calculate a score associated with the model\n",
    "regressor.score(X_test, y_test)"
   ]
  },
  {
   "cell_type": "markdown",
   "id": "d5d5c81e",
   "metadata": {},
   "source": [
    "# Well that's shit!\n",
    "***"
   ]
  },
  {
   "cell_type": "code",
   "execution_count": 13,
   "id": "37684759",
   "metadata": {},
   "outputs": [
    {
     "data": {
      "image/png": "[encoded data removed]",
      "text/plain": [
       "<Figure size 864x576 with 1 Axes>"
      ]
     },
     "metadata": {
      "needs_background": "light"
     },
     "output_type": "display_data"
    }
   ],
   "source": [
    "# Visualizing the Linear Regression results\n",
    "\n",
    "plt.figure(figsize=(12,8))\n",
    "plt.scatter(X, y, color='green')\n",
    "plt.plot(X, y_predict, color='red')\n",
    "plt.xlabel('Value')\n",
    "plt.ylabel('Year')\n",
    "plt.show()"
   ]
  },
  {
   "cell_type": "markdown",
   "id": "7e0ee640",
   "metadata": {},
   "source": [
    "# Validate the accuracy"
   ]
  },
  {
   "cell_type": "code",
   "execution_count": 29,
   "id": "fd4dacc3",
   "metadata": {},
   "outputs": [
    {
     "name": "stdout",
     "output_type": "stream",
     "text": [
      "Linear regressor performance:\n",
      "Mean absolute error = 1425063764345.96\n",
      "Mean squared error = 3.020531610980455e+24\n",
      "Median absolute error = 1403653476514.03\n",
      "Explain variance score = 0.51\n"
     ]
    }
   ],
   "source": [
    "print(\"Linear regressor performance:\")\n",
    "print(\"Mean absolute error =\", round(sm.mean_absolute_error(y, y_predict), 2))\n",
    "print(\"Mean squared error =\", round(sm.mean_squared_error(y, y_predict), 2))\n",
    "print(\"Median absolute error =\", round(sm.median_absolute_error(y, y_predict), 2))\n",
    "print(\"Explain variance score =\", round(sm.explained_variance_score(y, y_predict), 2))\n"
   ]
  },
  {
   "cell_type": "markdown",
   "id": "54a9aeb5",
   "metadata": {},
   "source": [
    "### This is not good..."
   ]
  },
  {
   "cell_type": "markdown",
   "id": "696c7f7e",
   "metadata": {},
   "source": [
    "***"
   ]
  },
  {
   "cell_type": "markdown",
   "id": "bec02e03",
   "metadata": {},
   "source": [
    "## Polynomial Regression model"
   ]
  },
  {
   "cell_type": "code",
   "execution_count": 17,
   "id": "cfc2cc37",
   "metadata": {},
   "outputs": [
    {
     "data": {
      "text/plain": [
       "LinearRegression()"
      ]
     },
     "execution_count": 17,
     "metadata": {},
     "output_type": "execute_result"
    }
   ],
   "source": [
    "from sklearn.preprocessing import PolynomialFeatures\n",
    "\n",
    "poly_reg = PolynomialFeatures(degree=4)\n",
    "\n",
    "X_poly = poly_reg.fit_transform(X)\n",
    "\n",
    "#Creating Linear regression\n",
    "pol_lin_reg = LinearRegression()\n",
    "pol_lin_reg.fit(X_poly, y)"
   ]
  },
  {
   "cell_type": "code",
   "execution_count": 23,
   "id": "6d72c379",
   "metadata": {},
   "outputs": [
    {
     "data": {
      "text/plain": [
       "array([-6.99853198e+11, -4.62561521e+11, -2.55301573e+11, -7.64771851e+10,\n",
       "        7.55103016e+10,  2.02262030e+11,  3.05381631e+11,  3.86475226e+11,\n",
       "        4.47151415e+11,  4.89021294e+11,  5.13698441e+11,  5.22798921e+11,\n",
       "        5.17941289e+11,  5.00746586e+11,  4.72838336e+11,  4.35842556e+11,\n",
       "        3.91387745e+11,  3.41104893e+11,  2.86627476e+11,  2.29591454e+11,\n",
       "        1.71635276e+11,  1.14399881e+11,  5.95286901e+10,  8.66761414e+09,\n",
       "       -3.65349510e+10, -7.44281186e+10, -1.03358519e+11, -1.21670294e+11,\n",
       "       -1.27705097e+11, -1.19802098e+11, -9.62979759e+10, -5.55269244e+10,\n",
       "        4.17934842e+09,  8.44916234e+10,  1.87083168e+11,  3.13629736e+11,\n",
       "        4.65809570e+11,  6.45303398e+11,  8.53794433e+11,  1.09296838e+12,\n",
       "        1.36451343e+12,  1.67012025e+12,  2.01148201e+12,  2.39029437e+12,\n",
       "        2.80825545e+12,  3.26706588e+12,  3.76842877e+12,  4.31404973e+12,\n",
       "        4.90563684e+12,  5.54490066e+12,  6.23355426e+12,  6.97331318e+12,\n",
       "        7.76589547e+12,  8.61302163e+12,  9.51641467e+12])"
      ]
     },
     "execution_count": 23,
     "metadata": {},
     "output_type": "execute_result"
    }
   ],
   "source": [
    "# Apply model to new training\n",
    "y_predict_poly = pol_lin_reg.predict(X_poly)\n",
    "y_predict_poly"
   ]
  },
  {
   "cell_type": "code",
   "execution_count": 24,
   "id": "0dfbd03b",
   "metadata": {},
   "outputs": [
    {
     "data": {
      "image/png": "[encoded data removed]",
      "text/plain": [
       "<Figure size 864x576 with 1 Axes>"
      ]
     },
     "metadata": {
      "needs_background": "light"
     },
     "output_type": "display_data"
    }
   ],
   "source": [
    "# Visualizing the Polymonial Regression results\n",
    "\n",
    "plt.figure(figsize=(12,8))\n",
    "plt.scatter(X, y, color='green')\n",
    "plt.plot(X, y_predict_poly, color='red')\n",
    "plt.xlabel('Value')\n",
    "plt.ylabel('Year')\n",
    "\n",
    "plt.show()"
   ]
  },
  {
   "cell_type": "code",
   "execution_count": 55,
   "id": "dcb4126a",
   "metadata": {},
   "outputs": [
    {
     "name": "stdout",
     "output_type": "stream",
     "text": [
      "Polynomial Regression performance:\n"
     ]
    },
    {
     "ename": "ValueError",
     "evalue": "Found input variables with inconsistent numbers of samples: [11, 55]",
     "output_type": "error",
     "traceback": [
      "\u001b[1;31m---------------------------------------------------------------------------\u001b[0m",
      "\u001b[1;31mValueError\u001b[0m                                Traceback (most recent call last)",
      "\u001b[1;32m~\\AppData\\Local\\Temp/ipykernel_10340/470911410.py\u001b[0m in \u001b[0;36m<module>\u001b[1;34m\u001b[0m\n\u001b[0;32m      1\u001b[0m \u001b[0mprint\u001b[0m\u001b[1;33m(\u001b[0m\u001b[1;34m\"Polynomial Regression performance:\"\u001b[0m\u001b[1;33m)\u001b[0m\u001b[1;33m\u001b[0m\u001b[1;33m\u001b[0m\u001b[0m\n\u001b[1;32m----> 2\u001b[1;33m \u001b[0mprint\u001b[0m\u001b[1;33m(\u001b[0m\u001b[1;34m\"Mean absolute error =\"\u001b[0m\u001b[1;33m,\u001b[0m \u001b[0mround\u001b[0m\u001b[1;33m(\u001b[0m\u001b[0msm\u001b[0m\u001b[1;33m.\u001b[0m\u001b[0mmean_absolute_error\u001b[0m\u001b[1;33m(\u001b[0m\u001b[0my_test\u001b[0m\u001b[1;33m,\u001b[0m \u001b[0my_predict_poly\u001b[0m\u001b[1;33m)\u001b[0m\u001b[1;33m,\u001b[0m \u001b[1;36m2\u001b[0m\u001b[1;33m)\u001b[0m\u001b[1;33m)\u001b[0m\u001b[1;33m\u001b[0m\u001b[1;33m\u001b[0m\u001b[0m\n\u001b[0m\u001b[0;32m      3\u001b[0m \u001b[0mprint\u001b[0m\u001b[1;33m(\u001b[0m\u001b[1;34m\"Mean squared error =\"\u001b[0m\u001b[1;33m,\u001b[0m \u001b[0mround\u001b[0m\u001b[1;33m(\u001b[0m\u001b[0msm\u001b[0m\u001b[1;33m.\u001b[0m\u001b[0mmean_squared_error\u001b[0m\u001b[1;33m(\u001b[0m\u001b[0my\u001b[0m\u001b[1;33m,\u001b[0m \u001b[0my_predict_poly\u001b[0m\u001b[1;33m)\u001b[0m\u001b[1;33m,\u001b[0m \u001b[1;36m2\u001b[0m\u001b[1;33m)\u001b[0m\u001b[1;33m)\u001b[0m\u001b[1;33m\u001b[0m\u001b[1;33m\u001b[0m\u001b[0m\n\u001b[0;32m      4\u001b[0m \u001b[0mprint\u001b[0m\u001b[1;33m(\u001b[0m\u001b[1;34m\"Median absolute error =\"\u001b[0m\u001b[1;33m,\u001b[0m \u001b[0mround\u001b[0m\u001b[1;33m(\u001b[0m\u001b[0msm\u001b[0m\u001b[1;33m.\u001b[0m\u001b[0mmedian_absolute_error\u001b[0m\u001b[1;33m(\u001b[0m\u001b[0my\u001b[0m\u001b[1;33m,\u001b[0m \u001b[0my_predict_poly\u001b[0m\u001b[1;33m)\u001b[0m\u001b[1;33m,\u001b[0m \u001b[1;36m2\u001b[0m\u001b[1;33m)\u001b[0m\u001b[1;33m)\u001b[0m\u001b[1;33m\u001b[0m\u001b[1;33m\u001b[0m\u001b[0m\n\u001b[0;32m      5\u001b[0m \u001b[0mprint\u001b[0m\u001b[1;33m(\u001b[0m\u001b[1;34m\"Explain variance score =\"\u001b[0m\u001b[1;33m,\u001b[0m \u001b[0mround\u001b[0m\u001b[1;33m(\u001b[0m\u001b[0msm\u001b[0m\u001b[1;33m.\u001b[0m\u001b[0mexplained_variance_score\u001b[0m\u001b[1;33m(\u001b[0m\u001b[0my\u001b[0m\u001b[1;33m,\u001b[0m \u001b[0my_predict_poly\u001b[0m\u001b[1;33m)\u001b[0m\u001b[1;33m,\u001b[0m \u001b[1;36m2\u001b[0m\u001b[1;33m)\u001b[0m\u001b[1;33m)\u001b[0m\u001b[1;33m\u001b[0m\u001b[1;33m\u001b[0m\u001b[0m\n",
      "\u001b[1;32mC:\\tools\\Anaconda3\\lib\\site-packages\\sklearn\\utils\\validation.py\u001b[0m in \u001b[0;36minner_f\u001b[1;34m(*args, **kwargs)\u001b[0m\n\u001b[0;32m     61\u001b[0m             \u001b[0mextra_args\u001b[0m \u001b[1;33m=\u001b[0m \u001b[0mlen\u001b[0m\u001b[1;33m(\u001b[0m\u001b[0margs\u001b[0m\u001b[1;33m)\u001b[0m \u001b[1;33m-\u001b[0m \u001b[0mlen\u001b[0m\u001b[1;33m(\u001b[0m\u001b[0mall_args\u001b[0m\u001b[1;33m)\u001b[0m\u001b[1;33m\u001b[0m\u001b[1;33m\u001b[0m\u001b[0m\n\u001b[0;32m     62\u001b[0m             \u001b[1;32mif\u001b[0m \u001b[0mextra_args\u001b[0m \u001b[1;33m<=\u001b[0m \u001b[1;36m0\u001b[0m\u001b[1;33m:\u001b[0m\u001b[1;33m\u001b[0m\u001b[1;33m\u001b[0m\u001b[0m\n\u001b[1;32m---> 63\u001b[1;33m                 \u001b[1;32mreturn\u001b[0m \u001b[0mf\u001b[0m\u001b[1;33m(\u001b[0m\u001b[1;33m*\u001b[0m\u001b[0margs\u001b[0m\u001b[1;33m,\u001b[0m \u001b[1;33m**\u001b[0m\u001b[0mkwargs\u001b[0m\u001b[1;33m)\u001b[0m\u001b[1;33m\u001b[0m\u001b[1;33m\u001b[0m\u001b[0m\n\u001b[0m\u001b[0;32m     64\u001b[0m \u001b[1;33m\u001b[0m\u001b[0m\n\u001b[0;32m     65\u001b[0m             \u001b[1;31m# extra_args > 0\u001b[0m\u001b[1;33m\u001b[0m\u001b[1;33m\u001b[0m\u001b[0m\n",
      "\u001b[1;32mC:\\tools\\Anaconda3\\lib\\site-packages\\sklearn\\metrics\\_regression.py\u001b[0m in \u001b[0;36mmean_absolute_error\u001b[1;34m(y_true, y_pred, sample_weight, multioutput)\u001b[0m\n\u001b[0;32m    180\u001b[0m     \u001b[1;36m0.85\u001b[0m\u001b[1;33m...\u001b[0m\u001b[1;33m\u001b[0m\u001b[1;33m\u001b[0m\u001b[0m\n\u001b[0;32m    181\u001b[0m     \"\"\"\n\u001b[1;32m--> 182\u001b[1;33m     y_type, y_true, y_pred, multioutput = _check_reg_targets(\n\u001b[0m\u001b[0;32m    183\u001b[0m         y_true, y_pred, multioutput)\n\u001b[0;32m    184\u001b[0m     \u001b[0mcheck_consistent_length\u001b[0m\u001b[1;33m(\u001b[0m\u001b[0my_true\u001b[0m\u001b[1;33m,\u001b[0m \u001b[0my_pred\u001b[0m\u001b[1;33m,\u001b[0m \u001b[0msample_weight\u001b[0m\u001b[1;33m)\u001b[0m\u001b[1;33m\u001b[0m\u001b[1;33m\u001b[0m\u001b[0m\n",
      "\u001b[1;32mC:\\tools\\Anaconda3\\lib\\site-packages\\sklearn\\metrics\\_regression.py\u001b[0m in \u001b[0;36m_check_reg_targets\u001b[1;34m(y_true, y_pred, multioutput, dtype)\u001b[0m\n\u001b[0;32m     86\u001b[0m         \u001b[0mthe\u001b[0m \u001b[0mdtype\u001b[0m \u001b[0margument\u001b[0m \u001b[0mpassed\u001b[0m \u001b[0mto\u001b[0m \u001b[0mcheck_array\u001b[0m\u001b[1;33m.\u001b[0m\u001b[1;33m\u001b[0m\u001b[1;33m\u001b[0m\u001b[0m\n\u001b[0;32m     87\u001b[0m     \"\"\"\n\u001b[1;32m---> 88\u001b[1;33m     \u001b[0mcheck_consistent_length\u001b[0m\u001b[1;33m(\u001b[0m\u001b[0my_true\u001b[0m\u001b[1;33m,\u001b[0m \u001b[0my_pred\u001b[0m\u001b[1;33m)\u001b[0m\u001b[1;33m\u001b[0m\u001b[1;33m\u001b[0m\u001b[0m\n\u001b[0m\u001b[0;32m     89\u001b[0m     \u001b[0my_true\u001b[0m \u001b[1;33m=\u001b[0m \u001b[0mcheck_array\u001b[0m\u001b[1;33m(\u001b[0m\u001b[0my_true\u001b[0m\u001b[1;33m,\u001b[0m \u001b[0mensure_2d\u001b[0m\u001b[1;33m=\u001b[0m\u001b[1;32mFalse\u001b[0m\u001b[1;33m,\u001b[0m \u001b[0mdtype\u001b[0m\u001b[1;33m=\u001b[0m\u001b[0mdtype\u001b[0m\u001b[1;33m)\u001b[0m\u001b[1;33m\u001b[0m\u001b[1;33m\u001b[0m\u001b[0m\n\u001b[0;32m     90\u001b[0m     \u001b[0my_pred\u001b[0m \u001b[1;33m=\u001b[0m \u001b[0mcheck_array\u001b[0m\u001b[1;33m(\u001b[0m\u001b[0my_pred\u001b[0m\u001b[1;33m,\u001b[0m \u001b[0mensure_2d\u001b[0m\u001b[1;33m=\u001b[0m\u001b[1;32mFalse\u001b[0m\u001b[1;33m,\u001b[0m \u001b[0mdtype\u001b[0m\u001b[1;33m=\u001b[0m\u001b[0mdtype\u001b[0m\u001b[1;33m)\u001b[0m\u001b[1;33m\u001b[0m\u001b[1;33m\u001b[0m\u001b[0m\n",
      "\u001b[1;32mC:\\tools\\Anaconda3\\lib\\site-packages\\sklearn\\utils\\validation.py\u001b[0m in \u001b[0;36mcheck_consistent_length\u001b[1;34m(*arrays)\u001b[0m\n\u001b[0;32m    317\u001b[0m     \u001b[0muniques\u001b[0m \u001b[1;33m=\u001b[0m \u001b[0mnp\u001b[0m\u001b[1;33m.\u001b[0m\u001b[0munique\u001b[0m\u001b[1;33m(\u001b[0m\u001b[0mlengths\u001b[0m\u001b[1;33m)\u001b[0m\u001b[1;33m\u001b[0m\u001b[1;33m\u001b[0m\u001b[0m\n\u001b[0;32m    318\u001b[0m     \u001b[1;32mif\u001b[0m \u001b[0mlen\u001b[0m\u001b[1;33m(\u001b[0m\u001b[0muniques\u001b[0m\u001b[1;33m)\u001b[0m \u001b[1;33m>\u001b[0m \u001b[1;36m1\u001b[0m\u001b[1;33m:\u001b[0m\u001b[1;33m\u001b[0m\u001b[1;33m\u001b[0m\u001b[0m\n\u001b[1;32m--> 319\u001b[1;33m         raise ValueError(\"Found input variables with inconsistent numbers of\"\n\u001b[0m\u001b[0;32m    320\u001b[0m                          \" samples: %r\" % [int(l) for l in lengths])\n\u001b[0;32m    321\u001b[0m \u001b[1;33m\u001b[0m\u001b[0m\n",
      "\u001b[1;31mValueError\u001b[0m: Found input variables with inconsistent numbers of samples: [11, 55]"
     ]
    }
   ],
   "source": [
    "print(\"Polynomial Regression performance:\")\n",
    "print(\"Mean absolute error =\", round(sm.mean_absolute_error(y, y_predict_poly), 2))\n",
    "print(\"Mean squared error =\", round(sm.mean_squared_error(y, y_predict_poly), 2))\n",
    "print(\"Median absolute error =\", round(sm.median_absolute_error(y, y_predict_poly), 2))\n",
    "print(\"Explain variance score =\", round(sm.explained_variance_score(y, y_predict_poly), 2))"
   ]
  },
  {
   "cell_type": "markdown",
   "id": "d94e2566",
   "metadata": {},
   "source": [
    "***"
   ]
  },
  {
   "cell_type": "markdown",
   "id": "671d3328",
   "metadata": {},
   "source": [
    "# Trying Sigmoidal model"
   ]
  },
  {
   "cell_type": "markdown",
   "id": "87ce8a4f",
   "metadata": {},
   "source": [
    "## Building the model"
   ]
  },
  {
   "cell_type": "code",
   "execution_count": 31,
   "id": "f3345bd5",
   "metadata": {},
   "outputs": [],
   "source": [
    "x1, y1 = (df[\"Year\"].values, df[\"Value\"].values)"
   ]
  },
  {
   "cell_type": "code",
   "execution_count": 32,
   "id": "186cb9ec",
   "metadata": {},
   "outputs": [],
   "source": [
    "def sigmoid(x, Beta_1, Beta_2):\n",
    "    res = 1 / (1+ np.exp(-Beta_1*(x-Beta_2)))\n",
    "    return res"
   ]
  },
  {
   "cell_type": "code",
   "execution_count": 33,
   "id": "61a2e6ff",
   "metadata": {},
   "outputs": [
    {
     "data": {
      "text/plain": [
       "[<matplotlib.lines.Line2D at 0x1bb31621760>]"
      ]
     },
     "execution_count": 33,
     "metadata": {},
     "output_type": "execute_result"
    },
    {
     "data": {
      "image/png": "[encoded data removed]",
      "text/plain": [
       "<Figure size 432x288 with 1 Axes>"
      ]
     },
     "metadata": {
      "needs_background": "light"
     },
     "output_type": "display_data"
    }
   ],
   "source": [
    "beta_1 = 0.10\n",
    "beta_2 = 1990\n",
    "\n",
    "#logistic function\n",
    "y_pred = sigmoid(x1, beta_1, beta_2)\n",
    "\n",
    "#print(y_pred)\n",
    "#plot initial prediction against datapoints\n",
    "plt.plot(x1, (y_pred*15000000000000.))\n",
    "plt.plot(x1, y1, 'ro')"
   ]
  },
  {
   "cell_type": "markdown",
   "id": "93f631f9",
   "metadata": {},
   "source": [
    "## Normalize the data"
   ]
  },
  {
   "cell_type": "code",
   "execution_count": 51,
   "id": "afcaf266",
   "metadata": {},
   "outputs": [],
   "source": [
    "x_norm = x1/max(x1)\n",
    "y_norm = y1/max(y1)"
   ]
  },
  {
   "cell_type": "code",
   "execution_count": 35,
   "id": "9d956374",
   "metadata": {},
   "outputs": [
    {
     "name": "stdout",
     "output_type": "stream",
     "text": [
      " beta_1 = 690.451712, beta_2 = 0.997207\n"
     ]
    }
   ],
   "source": [
    "from scipy.optimize import curve_fit\n",
    "\n",
    "popt, pcov = curve_fit(sigmoid, x_norm, y_norm)\n",
    "#print the final parameters\n",
    "print(\" beta_1 = %f, beta_2 = %f\" % (popt[0], popt[1]))"
   ]
  },
  {
   "cell_type": "code",
   "execution_count": 54,
   "id": "9be3ec6a",
   "metadata": {},
   "outputs": [
    {
     "name": "stderr",
     "output_type": "stream",
     "text": [
      "C:\\Users\\Nmtur\\AppData\\Local\\Temp/ipykernel_10340/3541874635.py:6: UserWarning: color is redundantly defined by the 'color' keyword argument and the fmt string \"ro\" (-> color='r'). The keyword argument will take precedence.\n",
      "  plt.plot(x_norm, y_norm, 'ro', color='r')\n"
     ]
    },
    {
     "data": {
      "image/png": "[encoded data removed]",
      "text/plain": [
       "<Figure size 864x576 with 1 Axes>"
      ]
     },
     "metadata": {
      "needs_background": "light"
     },
     "output_type": "display_data"
    }
   ],
   "source": [
    "# Plotting result\n",
    "#x1 = x1/max(x1)\n",
    "\n",
    "plt.figure(figsize=(12,8))\n",
    "y = sigmoid(x1, *popt)\n",
    "plt.plot(x_norm, y_norm, 'ro', color='r')\n",
    "plt.plot(x1, y, linewidth=3.0)\n",
    "plt.ylabel('GDP')\n",
    "plt.xlabel('Year')\n",
    "plt.show()"
   ]
  },
  {
   "cell_type": "code",
   "execution_count": null,
   "id": "c6b43099",
   "metadata": {},
   "outputs": [],
   "source": []
  },
  {
   "cell_type": "code",
   "execution_count": 40,
   "id": "46904125",
   "metadata": {},
   "outputs": [
    {
     "name": "stdout",
     "output_type": "stream",
     "text": [
      "Mean absolute error: 0.02\n",
      "Residual sum of squares (MSE): 0.00\n",
      "R2-score: 0.64\n"
     ]
    }
   ],
   "source": [
    "# write your code here\n",
    "msk = np.random.rand(len(df)) < 0.8\n",
    "train_x = x_norm[msk]\n",
    "test_x = x_norm[~msk]\n",
    "train_y = y_norm[msk]\n",
    "test_y = y_norm[~msk]\n",
    "\n",
    "# build the model using train set\n",
    "popt, pcov = curve_fit(sigmoid, train_x, train_y)\n",
    "\n",
    "# predict using test set\n",
    "y_hat = sigmoid(test_x, *popt)\n",
    "\n",
    "# evaluation\n",
    "print(\"Mean absolute error: %.2f\" % np.mean(np.absolute(y_hat - test_y)))\n",
    "print(\"Residual sum of squares (MSE): %.2f\" % np.mean((y_hat - test_y) ** 2))\n",
    "from sklearn.metrics import r2_score\n",
    "print(\"R2-score: %.2f\" % r2_score(y_hat , test_y) )"
   ]
  },
  {
   "cell_type": "code",
   "execution_count": 47,
   "id": "7a0d6a78",
   "metadata": {},
   "outputs": [
    {
     "name": "stdout",
     "output_type": "stream",
     "text": [
      "Polynomial Regression performance:\n",
      "Mean absolute error = 0.03\n",
      "Mean squared error = 0.0\n",
      "Median absolute error = 0.02\n",
      "Explain variance score = 0.98\n",
      "0.97\n"
     ]
    }
   ],
   "source": [
    "print(\"Polynomial Regression performance:\")\n",
    "print(\"Mean absolute error =\", round(sm.mean_absolute_error(y, y_norm), 2))\n",
    "print(\"Mean squared error =\", round(sm.mean_squared_error(y, y_norm), 2))\n",
    "print(\"Median absolute error =\", round(sm.median_absolute_error(y, y_norm), 2))\n",
    "print(\"Explain variance score =\", round(sm.explained_variance_score(y, y_norm), 2))\n",
    "print(round(sm.r2_score(y, y_norm),2))"
   ]
  },
  {
   "cell_type": "code",
   "execution_count": null,
   "id": "e358828e",
   "metadata": {},
   "outputs": [],
   "source": []
  }
 ],
 "metadata": {
  "kernelspec": {
   "display_name": "Python 3 (ipykernel)",
   "language": "python",
   "name": "python3"
  },
  "language_info": {
   "codemirror_mode": {
    "name": "ipython",
    "version": 3
   },
   "file_extension": ".py",
   "mimetype": "text/x-python",
   "name": "python",
   "nbconvert_exporter": "python",
   "pygments_lexer": "ipython3",
   "version": "3.9.7"
  }
 },
 "nbformat": 4,
 "nbformat_minor": 5
}
